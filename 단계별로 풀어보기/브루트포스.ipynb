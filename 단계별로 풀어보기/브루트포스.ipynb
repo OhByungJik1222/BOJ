{
 "cells": [
  {
   "cell_type": "markdown",
   "id": "795c45fe",
   "metadata": {},
   "source": [
    "1018번 체스판 다시 칠하기 - 브루트포스  <span style=\"color:red\">오답</style>\n",
    " - 문제 잘못 읽음 (8X8로 자르는 부분 생략함)"
   ]
  },
  {
   "cell_type": "code",
   "execution_count": 2,
   "id": "2c06c7c9-d3dd-429c-aef6-18f6d75f2ab2",
   "metadata": {},
   "outputs": [
    {
     "name": "stdout",
     "output_type": "stream",
     "text": [
      "1\n"
     ]
    }
   ],
   "source": [
    "n, m = map(int, input().split())\n",
    "\n",
    "board = []\n",
    "for i in range(n):\n",
    "    board.append(input())\n",
    "\n",
    "ans = []\n",
    "for i in range(n - 7):\n",
    "    for j in range(m - 7):\n",
    "        b_cnt = 0\n",
    "        w_cnt = 0\n",
    "        for k in range(i, i + 8):\n",
    "            for l in range(j, j + 8):\n",
    "                if (k + l) % 2 == 0:\n",
    "                    if board[k][l] != \"B\":\n",
    "                        b_cnt += 1\n",
    "                    else:\n",
    "                        w_cnt += 1\n",
    "                else:\n",
    "                    if board[k][l] != \"W\":\n",
    "                        b_cnt += 1\n",
    "                    else:\n",
    "                        w_cnt += 1\n",
    "        ans.append(b_cnt)\n",
    "        ans.append(w_cnt)\n",
    "\n",
    "print(min(ans))"
   ]
  },
  {
   "cell_type": "markdown",
   "id": "380f7cba",
   "metadata": {},
   "source": [
    "1436번 영화감독 숌 - 브루트포스 <span style=\"color:red\">오답</style>\n",
    " - 백준 내 제출 참고"
   ]
  },
  {
   "cell_type": "code",
   "execution_count": 1,
   "id": "f3d56727",
   "metadata": {},
   "outputs": [
    {
     "name": "stdout",
     "output_type": "stream",
     "text": [
      "26666\n"
     ]
    }
   ],
   "source": [
    "n = int(input())\n",
    "\n",
    "ans = 0\n",
    "num = 666\n",
    "while True:\n",
    "    if '666' in str(num):\n",
    "        ans += 1\n",
    "    if ans == n:\n",
    "        break\n",
    "    num += 1\n",
    "\n",
    "print(num)\n"
   ]
  },
  {
   "cell_type": "markdown",
   "id": "8ea07747",
   "metadata": {},
   "source": [
    "2839번 설탕 배달 - 브루트포스 <span style=\"color:blue\">정답</style>"
   ]
  },
  {
   "cell_type": "code",
   "execution_count": 8,
   "id": "dba4e975",
   "metadata": {},
   "outputs": [
    {
     "name": "stdout",
     "output_type": "stream",
     "text": [
      "1000\n"
     ]
    }
   ],
   "source": [
    "n = int(input())\n",
    "\n",
    "ans = []\n",
    "for n_5 in range(0, 1001):  \n",
    "    n_3 = 0\n",
    "    while True:\n",
    "        if 5*n_5 + 3*n_3 == n:\n",
    "            ans.append(n_3 + n_5)\n",
    "            break\n",
    "        if 5*n_5 + 3*n_3 > n:\n",
    "            break\n",
    "        n_3 += 1\n",
    "\n",
    "    \n",
    "print(min(ans) if len(ans) != 0 else -1)\n",
    "\n"
   ]
  }
 ],
 "metadata": {
  "kernelspec": {
   "display_name": "Python 3 (ipykernel)",
   "language": "python",
   "name": "python3"
  },
  "language_info": {
   "codemirror_mode": {
    "name": "ipython",
    "version": 3
   },
   "file_extension": ".py",
   "mimetype": "text/x-python",
   "name": "python",
   "nbconvert_exporter": "python",
   "pygments_lexer": "ipython3",
   "version": "3.12.3"
  }
 },
 "nbformat": 4,
 "nbformat_minor": 5
}
