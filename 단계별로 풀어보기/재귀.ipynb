{
 "cells": [
  {
   "cell_type": "markdown",
   "metadata": {},
   "source": [
    "27433번 팩토리얼2 <spean style=\"color:blue\">정답</style>"
   ]
  },
  {
   "cell_type": "code",
   "execution_count": null,
   "metadata": {},
   "outputs": [],
   "source": [
    "def factorial(n):\n",
    "    if n <= 1:\n",
    "        return 1\n",
    "    return n * factorial(n - 1)\n",
    "\n",
    "n = int(input())\n",
    "print(factorial(n))"
   ]
  },
  {
   "cell_type": "markdown",
   "metadata": {},
   "source": [
    "10870번 피보나치 수5 <spean style=\"color:blue\">정답</style>"
   ]
  },
  {
   "cell_type": "code",
   "execution_count": null,
   "metadata": {},
   "outputs": [],
   "source": [
    "def fibonacci(n):\n",
    "    if n == 0:\n",
    "        return 0\n",
    "    elif n == 1:\n",
    "        return 1\n",
    "    return fibonacci(n - 1) + fibonacci(n - 2)\n",
    "\n",
    "n = int(input())\n",
    "print(fibonacci(n))"
   ]
  },
  {
   "cell_type": "markdown",
   "metadata": {},
   "source": [
    "25501번 재귀의 귀재 <spean style=\"color:blue\">정답</style>"
   ]
  },
  {
   "cell_type": "code",
   "execution_count": null,
   "metadata": {},
   "outputs": [],
   "source": [
    "'''def recursion(s, l, r, cnt):\n",
    "    cnt += 1\n",
    "    if l >= r: \n",
    "        return 1, cnt\n",
    "    elif s[l] != s[r]: \n",
    "        return 0, cnt\n",
    "    else: \n",
    "        return recursion(s, l + 1, r - 1, cnt)\n",
    "\n",
    "def is_palindrom(s, cnt):\n",
    "    return recursion(s, 0, len(s) - 1, cnt)\n",
    "\n",
    "n = int(input())\n",
    "\n",
    "ans = []\n",
    "call = []\n",
    "for i in range(n):\n",
    "    word = input()\n",
    "    a, c = is_palindrom(word, 0)\n",
    "    ans.append(a)\n",
    "    call.append(c)\n",
    "\n",
    "for i in range(n):\n",
    "    print(ans[i], call[i])'''\n",
    "\n",
    "N = int(input())\n",
    "\n",
    "def recursion(s, left, right, cnt):\n",
    "    cnt += 1\n",
    "    if left >= right:\n",
    "        return 1, cnt\n",
    "    elif s[left] != s[right]:\n",
    "        return 0, cnt\n",
    "    else:\n",
    "        return recursion(s, left+1, right-1, cnt)\n",
    "def isPalindrome(s):\n",
    "    cnt = 0\n",
    "    return recursion(s, 0, len(s)-1, cnt)\n",
    "\n",
    "for i in range(N):\n",
    "    print(*isPalindrome(input()))"
   ]
  },
  {
   "cell_type": "markdown",
   "metadata": {},
   "source": [
    "24060번 알고리즘 수업 - 병합 정렬 1 <spean style=\"color:red\">오답</style>\n",
    " - 전역변수, 지역변수 개념 이해하기\n",
    " - 또는 기존 merge_sort함수도 사용가능"
   ]
  },
  {
   "cell_type": "code",
   "execution_count": null,
   "metadata": {},
   "outputs": [],
   "source": [
    "def merge_sort(arr, left, right):\n",
    "    if left < right:\n",
    "        mid = (left + right) // 2\n",
    "        merge_sort(arr, left, mid)\n",
    "        merge_sort(arr, mid + 1, right)\n",
    "        merge(arr, left, mid, right)\n",
    "\n",
    "def merge(arr, left, mid, right):\n",
    "    global iter, num\n",
    "\n",
    "    i = left\n",
    "    j = mid + 1\n",
    "    tmp = []\n",
    "    while i <= mid and j <= right:\n",
    "        if arr[i] <= arr[j]:\n",
    "            tmp.append(arr[i])\n",
    "            i += 1\n",
    "        else:\n",
    "            tmp.append(arr[j])\n",
    "            j += 1\n",
    "\n",
    "    while i <= mid:\n",
    "        tmp.append(arr[i])\n",
    "        i += 1\n",
    "\n",
    "    while j <= right:\n",
    "        tmp.append(arr[j])\n",
    "        j += 1\n",
    "\n",
    "    i = left\n",
    "    t = 0\n",
    "    while i <= right:\n",
    "        arr[i] = tmp[t]\n",
    "        iter += 1\n",
    "        if iter == k:\n",
    "            num = arr[i]\n",
    "            break\n",
    "        i += 1\n",
    "        t += 1\n",
    "\n",
    "n, k = map(int, input().split())\n",
    "arr = list(map(int, input().split()))\n",
    "iter = 0\n",
    "num = -1\n",
    "merge_sort(arr, 0, len(arr) - 1)\n",
    "print(num)\n"
   ]
  },
  {
   "cell_type": "markdown",
   "metadata": {},
   "source": [
    "4779번 칸토어 집합 <spean style=\"color:blue\">정답</style>\n",
    " - 문자열의 덧셈으로도 구현가능"
   ]
  },
  {
   "cell_type": "code",
   "execution_count": 18,
   "metadata": {},
   "outputs": [
    {
     "name": "stdout",
     "output_type": "stream",
     "text": [
      "-\n",
      "- -\n",
      "- -   - -\n",
      "- -   - -         - -   - -\n",
      "-\n",
      "- -\n",
      "- -   - -\n",
      "- -   - -         - -   - -\n",
      "- -   - -         - -   - -                           - -   - -         - -   - -\n"
     ]
    },
    {
     "data": {
      "text/plain": [
       "'\\ndef cantor(n):\\n    if n == 1:\\n        return \"-\"\\n\\n    side = cantor(n // 3)\\n    cantor_res = side + \" \" * (n // 3) + side\\n\\n    return cantor_res\\n\\n\\nwhile True:\\n    try:\\n        N = int(input())\\n        print(cantor(3**N))\\n    except:\\n        break\\n'"
      ]
     },
     "execution_count": 18,
     "metadata": {},
     "output_type": "execute_result"
    }
   ],
   "source": [
    "def cantor(arr, start, end):\n",
    "    if end >= 3:\n",
    "        left = end // 3\n",
    "        right = end // 3 * 2\n",
    "        slide_len = right - left\n",
    "        cnt = 0\n",
    "        for i in range(start, len(arr), slide_len):\n",
    "            if cnt % 2 == 1:\n",
    "                for j in range(i, slide_len + i): \n",
    "                   arr[j] = \" \"\n",
    "            cnt += 1\n",
    "        cantor(arr, 0, left)\n",
    "    return\n",
    "\n",
    "while True:\n",
    "    try:\n",
    "        num = int(input())\n",
    "        tmp = [\"-\" for _ in range(3 ** num)]\n",
    "        cantor(tmp, 0, len(tmp))\n",
    "        print(''.join(tmp))\n",
    "    except:\n",
    "        break\n",
    "    \n",
    "'''\n",
    "def cantor(n):\n",
    "    if n == 1:\n",
    "        return \"-\"\n",
    "\n",
    "    side = cantor(n // 3)\n",
    "    cantor_res = side + \" \" * (n // 3) + side\n",
    "\n",
    "    return cantor_res\n",
    "\n",
    "\n",
    "while True:\n",
    "    try:\n",
    "        N = int(input())\n",
    "        print(cantor(3**N))\n",
    "    except:\n",
    "        break\n",
    "'''"
   ]
  },
  {
   "cell_type": "markdown",
   "metadata": {},
   "source": [
    "2447번 별 찍기 - 10 <spean style=\"color:blue\">정답</style>\n",
    " - 문제 및 내가 작성한 코드 이해하기"
   ]
  },
  {
   "cell_type": "code",
   "execution_count": null,
   "metadata": {},
   "outputs": [
    {
     "name": "stdout",
     "output_type": "stream",
     "text": [
      "***************************\n",
      "* ** ** ** ** ** ** ** ** *\n",
      "***************************\n",
      "***   ******   ******   ***\n",
      "* *   * ** *   * ** *   * *\n",
      "***   ******   ******   ***\n",
      "***************************\n",
      "* ** ** ** ** ** ** ** ** *\n",
      "***************************\n",
      "*********         *********\n",
      "* ** ** *         * ** ** *\n",
      "*********         *********\n",
      "***   ***         ***   ***\n",
      "* *   * *         * *   * *\n",
      "***   ***         ***   ***\n",
      "*********         *********\n",
      "* ** ** *         * ** ** *\n",
      "*********         *********\n",
      "***************************\n",
      "* ** ** ** ** ** ** ** ** *\n",
      "***************************\n",
      "***   ******   ******   ***\n",
      "* *   * ** *   * ** *   * *\n",
      "***   ******   ******   ***\n",
      "***************************\n",
      "* ** ** ** ** ** ** ** ** *\n",
      "***************************\n"
     ]
    }
   ],
   "source": [
    "''' 처음 작성한 코드드\n",
    "def point_star(n):\n",
    "    cnt = n\n",
    "    if n == 3:\n",
    "        smallest_star = [[\"*\" for _ in range(n)] for _ in range(n)]\n",
    "        smallest_star[1][1] = \" \"\n",
    "        return smallest_star\n",
    "\n",
    "    smaller_star = point_star(n // 3)\n",
    "    ans = [[\"\" for _ in range(cnt)] for _ in range(cnt)]\n",
    "    for i in range(cnt):\n",
    "        for j in range(cnt):\n",
    "            ans[i][j] = smaller_star[i//3][j//3]\n",
    "            if i % 3 == 1 and j % 3 == 1:\n",
    "                ans[i][j] = \" \"\n",
    "    return ans\n",
    "\n",
    "n = int(input())\n",
    "arr = point_star(n)\n",
    "for i in range(n):\n",
    "    for j in range(n):\n",
    "        print(arr[i][j], end=\"\")\n",
    "    print()\n",
    "'''\n",
    "'''\n",
    "1. n * n 사각형 시작\n",
    "2. 중간에 n // 3 * n // 3 만큼 구멍 뚫기\n",
    "3. n // 3 * n // 3 사각형 만들고 중간에 (n // 3) // 3 * (n // 3) // 3 만큼 구멍 뚫기\n",
    "4. 모든 과정을 1까지 반복복\n",
    "'''\n",
    "def point_star(n):\n",
    "    len = n // 3\n",
    "    if len == 1:\n",
    "        smallest_sqr = [[\"*\" for _ in range(n)] for _ in range(n)]\n",
    "        smallest_sqr[len][len] = \" \"\n",
    "        return smallest_sqr\n",
    "    \n",
    "    smaller_sqr = point_star(len)\n",
    "\n",
    "    sqr = [[\"\" for _ in range(n)] for _ in range(n)]\n",
    "    for i in range(0, n, len):\n",
    "        for j in range(i, i + len):\n",
    "            sqr[i][j] = smaller_sqr[i // 3][j // 3]\n",
    "    return sqr\n",
    "            \n",
    "\n",
    "n = int(input())\n",
    "ans = point_star(n)\n",
    "for i in range(n):\n",
    "    for j in range(n):\n",
    "        print(arr[i][j], end=\"\")\n",
    "    print()\n"
   ]
  },
  {
   "cell_type": "markdown",
   "metadata": {},
   "source": [
    "11729번 하노이 탑 이동 순서 <spean style=\"color:red\">오답</style>\n",
    " - 문제 제출 실패\n",
    " - 너무 어렵게 생각하지 말고 기본 개념만 생각하기 (이게 핵심)"
   ]
  },
  {
   "cell_type": "code",
   "execution_count": 17,
   "metadata": {},
   "outputs": [
    {
     "name": "stdout",
     "output_type": "stream",
     "text": [
      "7\n",
      "1 3\n",
      "1 2\n",
      "3 2\n",
      "1 3\n",
      "2 1\n",
      "2 3\n",
      "1 3\n"
     ]
    }
   ],
   "source": [
    "'''\n",
    "def hanoi_tower(n, start, end):\n",
    "    if n == 1:\n",
    "        print(start, end)\n",
    "        return\n",
    "    \n",
    "    hanoi_tower(n - 1, start, 6 - start - end)\n",
    "    print(start, end)\n",
    "    hanoi_tower(n - 1, 6 - start - end, end)\n",
    "\n",
    "n = int(input())\n",
    "print(2 ** n - 1)\n",
    "hanoi_tower(n, 1, 3)\n",
    "'''\n",
    "'''\n",
    "1. n - 1 만큼 남은 자리에 옮김\n",
    "2. 하나 남은 고리를 3으로 이동\n",
    "3. n - 1을 3으로 이동\n",
    "'''\n",
    "\n",
    "def hanoi_tower(n, start, end):\n",
    "    if n == 1:\n",
    "        print(start, end)\n",
    "        return\n",
    "    \n",
    "    hanoi_tower(n - 1, start, 6 - start -end)\n",
    "    print(start, end)\n",
    "    hanoi_tower(n - 1, 6 - start - end, end)\n",
    "\n",
    "n = int(input())\n",
    "print(2 ** n - 1)\n",
    "hanoi_tower(n, 1, 3)"
   ]
  }
 ],
 "metadata": {
  "kernelspec": {
   "display_name": "base",
   "language": "python",
   "name": "python3"
  },
  "language_info": {
   "codemirror_mode": {
    "name": "ipython",
    "version": 3
   },
   "file_extension": ".py",
   "mimetype": "text/x-python",
   "name": "python",
   "nbconvert_exporter": "python",
   "pygments_lexer": "ipython3",
   "version": "3.12.3"
  }
 },
 "nbformat": 4,
 "nbformat_minor": 2
}
