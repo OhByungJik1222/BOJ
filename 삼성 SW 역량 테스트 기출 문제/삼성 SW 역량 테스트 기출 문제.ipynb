{
 "cells": [
  {
   "cell_type": "markdown",
   "id": "b1606241",
   "metadata": {},
   "source": [
    "13460번 구슬 탈출 2 <span style=\"color:green\"></span>"
   ]
  },
  {
   "cell_type": "code",
   "execution_count": null,
   "id": "ab91a978",
   "metadata": {},
   "outputs": [],
   "source": []
  }
 ],
 "metadata": {
  "language_info": {
   "name": "python"
  }
 },
 "nbformat": 4,
 "nbformat_minor": 5
}
