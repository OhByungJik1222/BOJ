{
 "cells": [
  {
   "cell_type": "markdown",
   "id": "35227434",
   "metadata": {},
   "source": [
    "###  **뤼카의 정리 (Lucas' Theorem)**\n",
    "\n",
    "소수 $p$와 음이 아닌 정수 $n, m$에 대하여  \n",
    "$$\n",
    "\\ n = n_k n_{k-1} \\dots n_0 \\\n",
    "$$\n",
    "$$  \n",
    "\\ m = m_k m_{k-1} \\dots m_0 \\  \n",
    "$$\n",
    "\n",
    "를 기수 $p$ 진법으로 나타낸다고 하면,  \n",
    "\n",
    "$$\n",
    "\\binom{n}{m} \\equiv \\prod_{i=0}^{k} \\binom{n_i}{m_i} \\pmod{p}\n",
    "$$\n",
    "\n",
    "단, $\\binom{n_i}{m_i} = 0 \\ if \\ n_i < m_i$"
   ]
  },
  {
   "cell_type": "markdown",
   "id": "99d80369",
   "metadata": {},
   "source": [
    "11402번 이항 계수 4 <span style=\"color:green\">성공</span> - 2025.10.27"
   ]
  },
  {
   "cell_type": "code",
   "execution_count": null,
   "id": "a1c2b193",
   "metadata": {},
   "outputs": [],
   "source": [
    "# 뤼카의 정리 (Lucas' Theorem)\n",
    "n, k, m = map(int, input().split())\n",
    "\n",
    "n_m = []\n",
    "k_m = []\n",
    "while n:\n",
    "    n_m.append(n % m)\n",
    "    k_m.append(k % m)\n",
    "\n",
    "    n //= m\n",
    "    k //= m\n",
    "\n",
    "max_n = max(n_m)\n",
    "dp = [[1 for _ in range(max_n + 1)] for _ in range(max_n + 1)]\n",
    "for i in range(2, max_n + 1):\n",
    "    for j in range(1, i):\n",
    "        dp[i][j] = (dp[i - 1][j - 1] + dp[i - 1][j]) % m\n",
    "\n",
    "ans = 1\n",
    "for i in range(len(k_m)):\n",
    "    if n_m[i] < k_m[i]:\n",
    "        print(0)\n",
    "        break\n",
    "    ans *= dp[n_m[i]][k_m[i]]\n",
    "    ans %= m\n",
    "else:\n",
    "    print(ans)"
   ]
  },
  {
   "cell_type": "markdown",
   "id": "708ab92e",
   "metadata": {},
   "source": [
    "11439번 이항 계수 5 <span style=\"color:green\"></span> - 2025.10.28"
   ]
  },
  {
   "cell_type": "code",
   "execution_count": null,
   "id": "9781e1cb",
   "metadata": {},
   "outputs": [],
   "source": []
  }
 ],
 "metadata": {
  "kernelspec": {
   "display_name": "base",
   "language": "python",
   "name": "python3"
  },
  "language_info": {
   "codemirror_mode": {
    "name": "ipython",
    "version": 3
   },
   "file_extension": ".py",
   "mimetype": "text/x-python",
   "name": "python",
   "nbconvert_exporter": "python",
   "pygments_lexer": "ipython3",
   "version": "3.12.3"
  }
 },
 "nbformat": 4,
 "nbformat_minor": 5
}
