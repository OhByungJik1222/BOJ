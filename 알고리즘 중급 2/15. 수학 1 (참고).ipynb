{
 "cells": [
  {
   "cell_type": "markdown",
   "id": "35227434",
   "metadata": {},
   "source": [
    "###  **뤼카의 정리 (Lucas' Theorem)**\n",
    "\n",
    "소수 $p$와 음이 아닌 정수 $n, m$에 대하여  \n",
    "$$\n",
    "\\ n = n_k n_{k-1} \\dots n_0 \\\n",
    "$$\n",
    "$$  \n",
    "\\ m = m_k m_{k-1} \\dots m_0 \\  \n",
    "$$\n",
    "\n",
    "를 기수 $p$ 진법으로 나타낸다고 하면,  \n",
    "\n",
    "$$\n",
    "\\binom{n}{m} \\equiv \\prod_{i=0}^{k} \\binom{n_i}{m_i} \\pmod{p}\n",
    "$$\n",
    "\n",
    "단, $\\binom{n_i}{m_i} = 0 \\ if \\ n_i < m_i$"
   ]
  },
  {
   "cell_type": "markdown",
   "id": "dbcccdc9",
   "metadata": {},
   "source": [
    "---"
   ]
  },
  {
   "cell_type": "markdown",
   "id": "0a8f64a0",
   "metadata": {},
   "source": [
    "### **르장드르 공식 (Legendre's Formula)**\n",
    "\n",
    "소수 $p$가 있을 때, $n!$에서 $p$의 지수 $v_p(n!)$는\n",
    "\n",
    "$$\n",
    "v_p(n!) = \\sum_{i=1}^{\\infty} \\left\\lfloor \\frac{n}{p^i} \\right\\rfloor\n",
    "$$\n",
    "\n",
    "$nCk = \\binom{n}{k}$의 소인수 $p$ 지수는\n",
    "\n",
    "$$\n",
    "v_p\\left(\\binom{n}{k}\\right) = v_p(n!) - v_p(k!) - v_p((n-k)!)\n",
    "$$\n",
    "\n",
    "따라서 소수 $p$별로 지수를 구하면 이항계수를 소수 거듭제곱의 곱으로 표현할 수 있다.\n",
    "\n",
    "$$\n",
    "\\binom{n}{k} = \\prod_{p \\le n} p^{\\,v_p(\\binom{n}{k})}\n",
    "$$"
   ]
  },
  {
   "cell_type": "markdown",
   "id": "99d80369",
   "metadata": {},
   "source": [
    "11402번 이항 계수 4 <span style=\"color:green\">성공</span> - 2025.10.27"
   ]
  },
  {
   "cell_type": "code",
   "execution_count": null,
   "id": "a1c2b193",
   "metadata": {},
   "outputs": [],
   "source": [
    "# 뤼카의 정리 (Lucas' Theorem)\n",
    "n, k, m = map(int, input().split())\n",
    "\n",
    "n_m = []\n",
    "k_m = []\n",
    "while n:\n",
    "    n_m.append(n % m)\n",
    "    k_m.append(k % m)\n",
    "\n",
    "    n //= m\n",
    "    k //= m\n",
    "\n",
    "max_n = max(n_m)\n",
    "dp = [[1 for _ in range(max_n + 1)] for _ in range(max_n + 1)]\n",
    "for i in range(2, max_n + 1):\n",
    "    for j in range(1, i):\n",
    "        dp[i][j] = (dp[i - 1][j - 1] + dp[i - 1][j]) % m\n",
    "\n",
    "ans = 1\n",
    "for i in range(len(k_m)):\n",
    "    if n_m[i] < k_m[i]:\n",
    "        print(0)\n",
    "        break\n",
    "    ans *= dp[n_m[i]][k_m[i]]\n",
    "    ans %= m\n",
    "else:\n",
    "    print(ans)"
   ]
  },
  {
   "cell_type": "markdown",
   "id": "708ab92e",
   "metadata": {},
   "source": [
    "11439번 이항 계수 5 <span style=\"color:red\">실패</span> - 2025.10.28"
   ]
  },
  {
   "cell_type": "code",
   "execution_count": null,
   "id": "9781e1cb",
   "metadata": {},
   "outputs": [],
   "source": [
    "# 르장드르 공식 (Legendre's Formula)\n",
    "from collections import defaultdict\n",
    "\n",
    "def seive_of_eratosthenes(n):\n",
    "    is_prime = [0] * 2 + [1] * (n - 1)\n",
    "    for i in range(2, int(n**0.5) + 1):\n",
    "        if is_prime[i]:\n",
    "            for j in range(i**2, n + 1, i):\n",
    "                is_prime[j] = 0\n",
    "    return [i for i in range(n + 1) if is_prime[i]]\n",
    "\n",
    "def pow(p, e):\n",
    "    if e == 0:\n",
    "        return 1\n",
    "    \n",
    "    half = pow(p, e//2)\n",
    "    half = half**2 % m\n",
    "\n",
    "    if e % 2 == 1:\n",
    "        half = half * p % m\n",
    "    return half\n",
    "\n",
    "n, k, m = map(int, input().split())\n",
    "\n",
    "primes = seive_of_eratosthenes(n)\n",
    "fact = defaultdict(int)\n",
    "for prime in primes: # 르장드르 공식 사용 (핵심)\n",
    "    i = prime\n",
    "    while i <= n:\n",
    "        fact[prime] += (n//i - k//i - (n - k)//i)\n",
    "        i *= prime\n",
    "\n",
    "ans = 1\n",
    "for prime, exp in fact.items(): # 거듭제곱\n",
    "    ans *= pow(prime, exp)\n",
    "    ans %= m\n",
    "print(ans)"
   ]
  },
  {
   "cell_type": "markdown",
   "id": "38b5cfdb",
   "metadata": {},
   "source": [
    "11689번 GCD(n, k) = 1 <span style=\"color:green\"></span> - 2025.10.29"
   ]
  },
  {
   "cell_type": "code",
   "execution_count": null,
   "id": "0f17056b",
   "metadata": {},
   "outputs": [],
   "source": []
  }
 ],
 "metadata": {
  "kernelspec": {
   "display_name": "base",
   "language": "python",
   "name": "python3"
  },
  "language_info": {
   "codemirror_mode": {
    "name": "ipython",
    "version": 3
   },
   "file_extension": ".py",
   "mimetype": "text/x-python",
   "name": "python",
   "nbconvert_exporter": "python",
   "pygments_lexer": "ipython3",
   "version": "3.12.3"
  }
 },
 "nbformat": 4,
 "nbformat_minor": 5
}
