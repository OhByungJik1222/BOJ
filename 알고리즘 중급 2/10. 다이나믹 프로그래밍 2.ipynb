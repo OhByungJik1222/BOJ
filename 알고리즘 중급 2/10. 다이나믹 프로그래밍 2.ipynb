{
 "cells": [
  {
   "cell_type": "markdown",
   "id": "00bcb11b",
   "metadata": {},
   "source": [
    "11048번 이동하기 <span style=\"color:green\">성공</span> - 2025.09.19"
   ]
  },
  {
   "cell_type": "code",
   "execution_count": null,
   "id": "b9d4ec08",
   "metadata": {},
   "outputs": [],
   "source": [
    "n, m = map(int, input().split())\n",
    "graph = [list(map(int, input().split())) for _ in range(n)]\n",
    "dp = [[0 for _ in range(m + 1)] for _ in range(n + 1)]\n",
    "dp[1][1] = graph[0][0]\n",
    "\n",
    "for i in range(1, n + 1):\n",
    "    for j in range(1, m + 1):\n",
    "        dp[i][j] = max(dp[i][j],\n",
    "                       graph[i - 1][j - 1] + dp[i][j - 1],\n",
    "                       graph[i - 1][j - 1] + dp[i - 1][j],\n",
    "                       graph[i - 1][j - 1] + dp[i - 1][j - 1])\n",
    "print(dp[n][m])"
   ]
  },
  {
   "cell_type": "markdown",
   "id": "62f0ff81",
   "metadata": {},
   "source": [
    "11060번 점프 점프 <span style=\"color:green\">성공</span> - 2025.09.20"
   ]
  },
  {
   "cell_type": "code",
   "execution_count": null,
   "id": "341c84c8",
   "metadata": {},
   "outputs": [],
   "source": [
    "# BFS\n",
    "from collections import deque\n",
    "\n",
    "def bfs():\n",
    "    q = deque()\n",
    "    q.append([0, 0])\n",
    "\n",
    "    while q:\n",
    "        x, cnt = q.popleft()\n",
    "\n",
    "        for dx in range(maze[x], -1, -1):\n",
    "            nx = x + dx\n",
    "            if nx >= n - 1:\n",
    "                return cnt + 1 if dx != 0 else cnt\n",
    "            \n",
    "            if visited[nx] == 0:\n",
    "                visited[nx] = 1\n",
    "                q.append([nx, cnt + 1])\n",
    "    return -1\n",
    "\n",
    "n = int(input())\n",
    "maze = list(map(int, input().split()))\n",
    "visited = [0 for _ in range(n)]\n",
    "visited[0] = 1\n",
    "\n",
    "print(bfs())"
   ]
  },
  {
   "cell_type": "code",
   "execution_count": null,
   "id": "c09369f5",
   "metadata": {},
   "outputs": [],
   "source": [
    "# DP\n",
    "n = int(input())\n",
    "maze = list(map(int, input().split()))\n",
    "dp = [n + 1 for _ in range(n)]\n",
    "dp[0] = 0\n",
    "\n",
    "for i in range(n):\n",
    "    for j in range(1, maze[i] + 1):\n",
    "        if i + j < n:\n",
    "            dp[i + j] = min(dp[i] + 1, dp[i + j])\n",
    "\n",
    "if dp[n - 1] == n + 1:\n",
    "    print(-1)\n",
    "else:\n",
    "    print(dp[n - 1])"
   ]
  },
  {
   "cell_type": "markdown",
   "id": "42b4bb88",
   "metadata": {},
   "source": [
    "15486번 퇴사 2 <span style=\"color:green\">성공</span> - 2025.09.21"
   ]
  },
  {
   "cell_type": "code",
   "execution_count": null,
   "id": "e26806ae",
   "metadata": {},
   "outputs": [],
   "source": [
    "n = int(input())\n",
    "schedules = []\n",
    "for _ in range(n):\n",
    "    day, pay = map(int, input().split())\n",
    "    schedules.append([day, pay])\n",
    "\n",
    "dp = [0 for _ in range(n + 1)]\n",
    "ans = 0\n",
    "for i in range(n):\n",
    "    dp[i] = max(dp[i], dp[i - 1])\n",
    "\n",
    "    day, pay = schedules[i]\n",
    "\n",
    "    if i + day > n:\n",
    "        continue\n",
    "\n",
    "    dp[i + day] = max(dp[i + day], dp[i] + schedules[i][1])\n",
    "\n",
    "print(max(dp))"
   ]
  },
  {
   "cell_type": "markdown",
   "id": "b0a46d9e",
   "metadata": {},
   "source": [
    "10942번 팰린드롬? <span style=\"color:green\">성공</span> - 2025.09.22"
   ]
  },
  {
   "cell_type": "code",
   "execution_count": null,
   "id": "0fa0bc85",
   "metadata": {},
   "outputs": [],
   "source": [
    "# import sys\n",
    "# input = sys.stdin.readline\n",
    "\n",
    "n = int(input())\n",
    "num = list(map(int, input().split()))\n",
    "m = int(input())\n",
    "\n",
    "dp = [[0 for _ in range(n)] for _ in range(n)]\n",
    "for i in range(n):\n",
    "    dp[i][i] = 1\n",
    "\n",
    "start = 0\n",
    "end = 0\n",
    "for i in range(n):\n",
    "    for j in range(n - 1, i, -1):\n",
    "        s = i\n",
    "        e = j\n",
    "        if dp[s][e] == 1:\n",
    "            continue\n",
    "        \n",
    "        flag = True\n",
    "        while s < e:\n",
    "            if num[s] != num[e]:\n",
    "                flag = False\n",
    "                break\n",
    "            s += 1\n",
    "            e -= 1\n",
    "        if flag:\n",
    "            s = i\n",
    "            e = j\n",
    "            while s < e:\n",
    "                dp[s][e] = 1\n",
    "                s += 1\n",
    "                e -= 1\n",
    "\n",
    "# for i in range(n):\n",
    "#     print(*dp[i])\n",
    "\n",
    "for _ in range(m):\n",
    "    s, e = map(int, input().split())\n",
    "\n",
    "    print(dp[s - 1][e - 1])"
   ]
  },
  {
   "cell_type": "markdown",
   "id": "69664f77",
   "metadata": {},
   "source": [
    "15989번 1, 2, 3 더하기 4 <span style=\"color:green\"></span> - 2025.09.23"
   ]
  },
  {
   "cell_type": "code",
   "execution_count": null,
   "id": "da4b7cf8",
   "metadata": {},
   "outputs": [],
   "source": []
  }
 ],
 "metadata": {
  "kernelspec": {
   "display_name": "base",
   "language": "python",
   "name": "python3"
  },
  "language_info": {
   "codemirror_mode": {
    "name": "ipython",
    "version": 3
   },
   "file_extension": ".py",
   "mimetype": "text/x-python",
   "name": "python",
   "nbconvert_exporter": "python",
   "pygments_lexer": "ipython3",
   "version": "3.12.3"
  }
 },
 "nbformat": 4,
 "nbformat_minor": 5
}
