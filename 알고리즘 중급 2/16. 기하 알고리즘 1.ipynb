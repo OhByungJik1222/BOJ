{
 "cells": [
  {
   "cell_type": "markdown",
   "id": "b3227d6c",
   "metadata": {},
   "source": [
    "### **CCW (Counter Clock Wise)**\n",
    "\n",
    "$$\n",
    "CCW(A, B, C) = (x_2 - x_1)(y_3 - y_1) - (y_2 - y_1)(x_3 - x_1)\n",
    "$$\n",
    "$$\n",
    "\\begin{cases}\n",
    "CCW(A, B, C) > 0 & \\text{반시계 방향 (Counter Clock Wise)} \\\\\n",
    "CCW(A, B, C) < 0 & \\text{시계 방향 (Clock Wise)} \\\\\n",
    "CCW(A, B, C) = 0 & \\text{일직선상 (Collinear)}\n",
    "\\end{cases}\n",
    "$$\n",
    "$$\n",
    "Area = \\frac{1}{2}|(x_1y_2-y_1x_2) + (x_2y_3-y_2x_3) + \\dots + (x_ny_1-y_nx_1)|\n",
    "$$\n"
   ]
  },
  {
   "cell_type": "markdown",
   "id": "aa00a758",
   "metadata": {},
   "source": [
    "11758번 CCW <span style=\"color:green\">성공</span> - 2025.10.31"
   ]
  },
  {
   "cell_type": "code",
   "execution_count": null,
   "id": "0ec278bc",
   "metadata": {},
   "outputs": [],
   "source": [
    "def ccw():\n",
    "    return (x2 - x1) * (y3 - y1) - (x3 - x1) * (y2 - y1)\n",
    "\n",
    "x1, y1 = map(int, input().split())\n",
    "x2, y2 = map(int, input().split())\n",
    "x3, y3 = map(int, input().split())\n",
    "\n",
    "dir = ccw()\n",
    "if dir == 0: print(0)\n",
    "elif dir > 0: print(1)\n",
    "elif dir < 0: print(-1)"
   ]
  },
  {
   "cell_type": "markdown",
   "id": "7768ceb4",
   "metadata": {},
   "source": [
    "2166번 다각형의 면적 <span style=\"color:green\">성공</span> - 2025.11.01"
   ]
  },
  {
   "cell_type": "code",
   "execution_count": null,
   "id": "7e72b738",
   "metadata": {},
   "outputs": [],
   "source": [
    "n = int(input())\n",
    "coords = [list(map(int, input().split())) for _ in range(n)]\n",
    "\n",
    "ans = 0\n",
    "for i in range(n - 1):\n",
    "    x1, y1 = coords[i]\n",
    "    x2, y2 = coords[i + 1]\n",
    "\n",
    "    ans += (x1 * y2 - y1 * x2)\n",
    "ans += (coords[-1][0] * coords[0][1] - coords[-1][1] * coords[0][0])\n",
    "print(abs(round(ans / 2, 2)))"
   ]
  },
  {
   "cell_type": "markdown",
   "id": "5a3e1ad7",
   "metadata": {},
   "source": [
    "17386번 선분 교차 1 <span style=\"color:green\"></span> - 2025.11.02"
   ]
  },
  {
   "cell_type": "code",
   "execution_count": null,
   "id": "b0bc61c2",
   "metadata": {},
   "outputs": [],
   "source": []
  }
 ],
 "metadata": {
  "kernelspec": {
   "display_name": "base",
   "language": "python",
   "name": "python3"
  },
  "language_info": {
   "codemirror_mode": {
    "name": "ipython",
    "version": 3
   },
   "file_extension": ".py",
   "mimetype": "text/x-python",
   "name": "python",
   "nbconvert_exporter": "python",
   "pygments_lexer": "ipython3",
   "version": "3.12.3"
  }
 },
 "nbformat": 4,
 "nbformat_minor": 5
}
