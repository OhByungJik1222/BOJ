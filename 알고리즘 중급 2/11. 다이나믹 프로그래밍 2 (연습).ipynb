{
 "cells": [
  {
   "cell_type": "markdown",
   "id": "7bd436b8",
   "metadata": {},
   "source": [
    "2293번 동전 1 <span style=\"color:red\">실패</span> - 2025.09.29"
   ]
  },
  {
   "cell_type": "code",
   "execution_count": null,
   "id": "18abefd1",
   "metadata": {},
   "outputs": [],
   "source": [
    "# 동전을 순회하면서 해당 동전 하나를 더해 만들 수 있는 경우의 수를 구한다.\n",
    "# 만약 1, 2, 5가 주어졌다면\n",
    "# 앞에서 부터 동전 1 하나를 추가해서 만들 수 있는 경우의 수,\n",
    "# 동전 2 하나를 추가해서 만들 수 있는 경우의 수,\n",
    "# 동전 5 하나를 추가해서 만들 수 있는 경우의 수를 더하는것\n",
    "# 따라서 dp[n] = dp[n - coin], (coin <= n <= k)\n",
    "n, k = map(int, input().split())\n",
    "coins = []\n",
    "for _ in range(n):\n",
    "    coin = int(input())\n",
    "    if coin <= k:\n",
    "        coins.append(coin)\n",
    "coins.sort()\n",
    "\n",
    "dp = [0 for _ in range(k + 1)]\n",
    "dp[0] = 1\n",
    "for coin in coins:\n",
    "    for i in range(coin, k + 1):\n",
    "        dp[i] += dp[i - coin]\n",
    "print(dp[-1])"
   ]
  },
  {
   "cell_type": "markdown",
   "id": "827f393c",
   "metadata": {},
   "source": [
    "2294번 동전 2 <span style=\"color:green\">성공</span> - 2025.09.30"
   ]
  },
  {
   "cell_type": "code",
   "execution_count": null,
   "metadata": {},
   "outputs": [],
   "source": [
    "# import sys\n",
    "# input = sys.stdin.readline\n",
    "\n",
    "n, k = map(int, input().split())\n",
    "coins = []\n",
    "for _ in range(n):\n",
    "    coin = int(input())\n",
    "    if coin <= k:\n",
    "        coins.append(coin)\n",
    "coins.sort()\n",
    "\n",
    "dp = [float('inf') for _ in range(k + 1)]\n",
    "dp[0] = 0\n",
    "for i in range(1, k + 1):\n",
    "    for coin in coins:\n",
    "        if coin > i:\n",
    "            continue\n",
    "        dp[i] = min(dp[i], dp[i - coin] + 1)\n",
    "print(dp[-1] if dp[-1] != float('inf') else -1)"
   ]
  },
  {
   "cell_type": "markdown",
   "id": "485f7fce",
   "metadata": {},
   "source": [
    "11058번 크리보드 <span style=\"color:green\"></span> - 2025.10.01"
   ]
  },
  {
   "cell_type": "code",
   "execution_count": null,
   "id": "923c61fd",
   "metadata": {},
   "outputs": [],
   "source": []
  }
 ],
 "metadata": {
  "kernelspec": {
   "display_name": "base",
   "language": "python",
   "name": "python3"
  },
  "language_info": {
   "codemirror_mode": {
    "name": "ipython",
    "version": 3
   },
   "file_extension": ".py",
   "mimetype": "text/x-python",
   "name": "python",
   "nbconvert_exporter": "python",
   "pygments_lexer": "ipython3",
   "version": "3.12.3"
  }
 },
 "nbformat": 4,
 "nbformat_minor": 5
}
