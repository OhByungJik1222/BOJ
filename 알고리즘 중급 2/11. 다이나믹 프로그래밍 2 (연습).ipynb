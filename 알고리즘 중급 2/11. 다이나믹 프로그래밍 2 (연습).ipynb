{
 "cells": [
  {
   "cell_type": "markdown",
   "id": "7bd436b8",
   "metadata": {},
   "source": [
    "2293번 동전 1 <span style=\"color:red\">실패</span> - 2025.09.29"
   ]
  },
  {
   "cell_type": "code",
   "execution_count": null,
   "id": "18abefd1",
   "metadata": {},
   "outputs": [],
   "source": [
    "# 동전을 순회하면서 해당 동전 하나를 더해 만들 수 있는 경우의 수를 구한다.\n",
    "# 만약 1, 2, 5가 주어졌다면\n",
    "# 앞에서 부터 동전 1 하나를 추가해서 만들 수 있는 경우의 수,\n",
    "# 동전 2 하나를 추가해서 만들 수 있는 경우의 수,\n",
    "# 동전 5 하나를 추가해서 만들 수 있는 경우의 수를 더하는것\n",
    "# 따라서 dp[n] = dp[n - coin], (coin <= n <= k)\n",
    "n, k = map(int, input().split())\n",
    "coins = []\n",
    "for _ in range(n):\n",
    "    coin = int(input())\n",
    "    if coin <= k:\n",
    "        coins.append(coin)\n",
    "coins.sort()\n",
    "\n",
    "dp = [0 for _ in range(k + 1)]\n",
    "dp[0] = 1\n",
    "for coin in coins:\n",
    "    for i in range(coin, k + 1):\n",
    "        dp[i] += dp[i - coin]\n",
    "print(dp[-1])"
   ]
  },
  {
   "cell_type": "markdown",
   "id": "827f393c",
   "metadata": {},
   "source": [
    "2294번 동전 2 <span style=\"color:green\">성공</span> - 2025.09.30"
   ]
  },
  {
   "cell_type": "code",
   "execution_count": null,
   "metadata": {},
   "outputs": [],
   "source": [
    "# import sys\n",
    "# input = sys.stdin.readline\n",
    "\n",
    "n, k = map(int, input().split())\n",
    "coins = []\n",
    "for _ in range(n):\n",
    "    coin = int(input())\n",
    "    if coin <= k:\n",
    "        coins.append(coin)\n",
    "coins.sort()\n",
    "\n",
    "dp = [float('inf') for _ in range(k + 1)]\n",
    "dp[0] = 0\n",
    "for i in range(1, k + 1):\n",
    "    for coin in coins:\n",
    "        if coin > i:\n",
    "            continue\n",
    "        dp[i] = min(dp[i], dp[i - coin] + 1)\n",
    "print(dp[-1] if dp[-1] != float('inf') else -1)"
   ]
  },
  {
   "cell_type": "markdown",
   "id": "485f7fce",
   "metadata": {},
   "source": [
    "11058번 크리보드 <span style=\"color:red\">실패</span> - 2025.10.01"
   ]
  },
  {
   "cell_type": "code",
   "execution_count": null,
   "id": "923c61fd",
   "metadata": {},
   "outputs": [],
   "source": [
    "n = int(input())\n",
    "\n",
    "# 그냥 A만 i번 누르는 경우\n",
    "dp = [i for i in range(n + 1)]\n",
    "for i in range(1, n + 1):\n",
    "    # CA, CC 이후에 CV 여러번 하는 경우 (최소 3번은 남아야 가능)\n",
    "    for j in range(1, i - 2):\n",
    "        dp[i] = max(dp[i], dp[j] * (i - j - 1))\n",
    "print(dp[-1])"
   ]
  },
  {
   "cell_type": "markdown",
   "id": "9df8348a",
   "metadata": {},
   "source": [
    "1890번 점프 <span style=\"color:red\">실패</span> - 2025.10.02"
   ]
  },
  {
   "cell_type": "code",
   "execution_count": null,
   "id": "e7c9360b",
   "metadata": {},
   "outputs": [],
   "source": [
    "n = int(input())\n",
    "graph = [list(map(int, input().split())) for _ in range(n)]\n",
    "dp = [[0 for _ in range(n)] for _ in range(n)]\n",
    "dp[0][0] = 1\n",
    "\n",
    "dx = [0, 1]\n",
    "dy = [1, 0]\n",
    "\n",
    "for x in range(n):\n",
    "    for y in range(n):\n",
    "        if graph[x][y] != 0:\n",
    "            for i in range(2):\n",
    "                nx = x + dx[i] * graph[x][y]\n",
    "                ny = y + dy[i] * graph[x][y]\n",
    "\n",
    "                if nx < n and ny < n:\n",
    "                    dp[nx][ny] += dp[x][y]\n",
    "print(dp[n - 1][n - 1])"
   ]
  },
  {
   "cell_type": "markdown",
   "id": "d0bb9489",
   "metadata": {},
   "source": [
    "11049번 행렬 곱셈 순서 <span style=\"color:red\">실패</span> - 2025.10.03"
   ]
  },
  {
   "cell_type": "code",
   "execution_count": null,
   "id": "719137fe",
   "metadata": {},
   "outputs": [],
   "source": [
    "# dp[i][j]: i번째 행렬에서 j번째 행렬까지 곱할 때 필요한 최소 연산 횟수\n",
    "n = int(input())\n",
    "matrix = [list(map(int, input().split())) for _ in range(n)]\n",
    "dp = [[0 for _ in range(n)] for _ in range(n)]\n",
    "\n",
    "for length in range(1, n):\n",
    "    for i in range(n - length):\n",
    "        j = i + length\n",
    "        dp[i][j] = float('inf')\n",
    "        for k in range(i, j):\n",
    "            cost = dp[i][k] + dp[k + 1][j] + matrix[i][0] * matrix[k][1] * matrix[j][1]\n",
    "            dp[i][j] = min(dp[i][j], cost)\n",
    "            # for ii in range(n):\n",
    "            #     print(*dp[ii])\n",
    "print(dp[0][n - 1])"
   ]
  },
  {
   "cell_type": "markdown",
   "id": "9758e4b6",
   "metadata": {},
   "source": [
    "5557번 1학년 <span style=\"color:green\">성공</span> - 2025.10.04"
   ]
  },
  {
   "cell_type": "code",
   "execution_count": null,
   "id": "1ed87b28",
   "metadata": {},
   "outputs": [],
   "source": [
    "# 1495번 기타리스트 문제와 유사한 문제\n",
    "n = int(input())\n",
    "num = list(map(int, input().split()))\n",
    "arr = num[:-1]\n",
    "ans = num[-1]\n",
    "\n",
    "dp = [[0 for _ in range(n - 1)] for _ in range(21)]\n",
    "dp[arr[0]][0] = 1\n",
    "\n",
    "for i in range(1, n - 1):\n",
    "    for j in range(21):\n",
    "        if dp[j][i - 1] != 0:\n",
    "            if j - arr[i] >= 0:\n",
    "                dp[j - arr[i]][i] += dp[j][i - 1]\n",
    "            if j + arr[i] <= 20:\n",
    "                dp[j + arr[i]][i] += dp[j][i - 1]\n",
    "print(dp[ans][n - 2])"
   ]
  },
  {
   "cell_type": "markdown",
   "id": "1ed93017",
   "metadata": {},
   "source": [
    "12969번 ABC <span style=\"color:green\"></span> - 2025.10.05"
   ]
  },
  {
   "cell_type": "code",
   "execution_count": null,
   "id": "910c60ec",
   "metadata": {},
   "outputs": [],
   "source": []
  }
 ],
 "metadata": {
  "kernelspec": {
   "display_name": "base",
   "language": "python",
   "name": "python3"
  },
  "language_info": {
   "codemirror_mode": {
    "name": "ipython",
    "version": 3
   },
   "file_extension": ".py",
   "mimetype": "text/x-python",
   "name": "python",
   "nbconvert_exporter": "python",
   "pygments_lexer": "ipython3",
   "version": "3.12.3"
  }
 },
 "nbformat": 4,
 "nbformat_minor": 5
}
