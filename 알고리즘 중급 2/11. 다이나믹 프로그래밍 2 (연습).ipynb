{
 "cells": [
  {
   "cell_type": "markdown",
   "id": "7bd436b8",
   "metadata": {},
   "source": [
    "2293번 동전 1 <span style=\"color:red\">실패</span> - 2025.09.29"
   ]
  },
  {
   "cell_type": "code",
   "execution_count": null,
   "id": "18abefd1",
   "metadata": {},
   "outputs": [],
   "source": [
    "# 동전을 순회하면서 해당 동전 하나를 더해 만들 수 있는 경우의 수를 구한다.\n",
    "# 만약 1, 2, 5가 주어졌다면\n",
    "# 앞에서 부터 동전 1 하나를 추가해서 만들 수 있는 경우의 수,\n",
    "# 동전 2 하나를 추가해서 만들 수 있는 경우의 수,\n",
    "# 동전 5 하나를 추가해서 만들 수 있는 경우의 수를 더하는것\n",
    "# 따라서 dp[n] = dp[n - coin], (coin <= n <= k)\n",
    "n, k = map(int, input().split())\n",
    "coins = []\n",
    "for _ in range(n):\n",
    "    coin = int(input())\n",
    "    if coin <= k:\n",
    "        coins.append(coin)\n",
    "coins.sort()\n",
    "\n",
    "dp = [0 for _ in range(k + 1)]\n",
    "dp[0] = 1\n",
    "for coin in coins:\n",
    "    for i in range(coin, k + 1):\n",
    "        dp[i] += dp[i - coin]\n",
    "print(dp[-1])"
   ]
  },
  {
   "cell_type": "markdown",
   "id": "827f393c",
   "metadata": {},
   "source": [
    "2294번 동전 2 <span style=\"color:green\">성공</span> - 2025.09.30"
   ]
  },
  {
   "cell_type": "code",
   "execution_count": null,
   "metadata": {},
   "outputs": [],
   "source": [
    "# import sys\n",
    "# input = sys.stdin.readline\n",
    "\n",
    "n, k = map(int, input().split())\n",
    "coins = []\n",
    "for _ in range(n):\n",
    "    coin = int(input())\n",
    "    if coin <= k:\n",
    "        coins.append(coin)\n",
    "coins.sort()\n",
    "\n",
    "dp = [float('inf') for _ in range(k + 1)]\n",
    "dp[0] = 0\n",
    "for i in range(1, k + 1):\n",
    "    for coin in coins:\n",
    "        if coin > i:\n",
    "            continue\n",
    "        dp[i] = min(dp[i], dp[i - coin] + 1)\n",
    "print(dp[-1] if dp[-1] != float('inf') else -1)"
   ]
  },
  {
   "cell_type": "markdown",
   "id": "485f7fce",
   "metadata": {},
   "source": [
    "11058번 크리보드 <span style=\"color:red\">실패</span> - 2025.10.01"
   ]
  },
  {
   "cell_type": "code",
   "execution_count": null,
   "id": "923c61fd",
   "metadata": {},
   "outputs": [],
   "source": [
    "n = int(input())\n",
    "\n",
    "# 그냥 A만 i번 누르는 경우\n",
    "dp = [i for i in range(n + 1)]\n",
    "for i in range(1, n + 1):\n",
    "    # CA, CC 이후에 CV 여러번 하는 경우 (최소 3번은 남아야 가능)\n",
    "    for j in range(1, i - 2):\n",
    "        dp[i] = max(dp[i], dp[j] * (i - j - 1))\n",
    "print(dp[-1])"
   ]
  },
  {
   "cell_type": "markdown",
   "id": "9df8348a",
   "metadata": {},
   "source": [
    "1890번 점프 <span style=\"color:red\">실패</span> - 2025.10.02"
   ]
  },
  {
   "cell_type": "code",
   "execution_count": null,
   "id": "e7c9360b",
   "metadata": {},
   "outputs": [],
   "source": [
    "n = int(input())\n",
    "graph = [list(map(int, input().split())) for _ in range(n)]\n",
    "dp = [[0 for _ in range(n)] for _ in range(n)]\n",
    "dp[0][0] = 1\n",
    "\n",
    "dx = [0, 1]\n",
    "dy = [1, 0]\n",
    "\n",
    "for x in range(n):\n",
    "    for y in range(n):\n",
    "        if graph[x][y] != 0:\n",
    "            for i in range(2):\n",
    "                nx = x + dx[i] * graph[x][y]\n",
    "                ny = y + dy[i] * graph[x][y]\n",
    "\n",
    "                if nx < n and ny < n:\n",
    "                    dp[nx][ny] += dp[x][y]\n",
    "print(dp[n - 1][n - 1])"
   ]
  },
  {
   "cell_type": "markdown",
   "id": "d0bb9489",
   "metadata": {},
   "source": [
    "11049번 행렬 곱셈 순서 <span style=\"color:red\">실패</span> - 2025.10.03"
   ]
  },
  {
   "cell_type": "code",
   "execution_count": null,
   "id": "719137fe",
   "metadata": {},
   "outputs": [],
   "source": [
    "# dp[i][j]: i번째 행렬에서 j번째 행렬까지 곱할 때 필요한 최소 연산 횟수\n",
    "n = int(input())\n",
    "matrix = [list(map(int, input().split())) for _ in range(n)]\n",
    "dp = [[0 for _ in range(n)] for _ in range(n)]\n",
    "\n",
    "for length in range(1, n):\n",
    "    for i in range(n - length):\n",
    "        j = i + length\n",
    "        dp[i][j] = float('inf')\n",
    "        for k in range(i, j):\n",
    "            cost = dp[i][k] + dp[k + 1][j] + matrix[i][0] * matrix[k][1] * matrix[j][1]\n",
    "            dp[i][j] = min(dp[i][j], cost)\n",
    "            # for ii in range(n):\n",
    "            #     print(*dp[ii])\n",
    "print(dp[0][n - 1])"
   ]
  },
  {
   "cell_type": "markdown",
   "id": "9758e4b6",
   "metadata": {},
   "source": [
    "5557번 1학년 <span style=\"color:green\">성공</span> - 2025.10.04"
   ]
  },
  {
   "cell_type": "code",
   "execution_count": null,
   "id": "1ed87b28",
   "metadata": {},
   "outputs": [],
   "source": [
    "# 1495번 기타리스트 문제와 유사한 문제\n",
    "n = int(input())\n",
    "num = list(map(int, input().split()))\n",
    "arr = num[:-1]\n",
    "ans = num[-1]\n",
    "\n",
    "dp = [[0 for _ in range(n - 1)] for _ in range(21)]\n",
    "dp[arr[0]][0] = 1\n",
    "\n",
    "for i in range(1, n - 1):\n",
    "    for j in range(21):\n",
    "        if dp[j][i - 1] != 0:\n",
    "            if j - arr[i] >= 0:\n",
    "                dp[j - arr[i]][i] += dp[j][i - 1]\n",
    "            if j + arr[i] <= 20:\n",
    "                dp[j + arr[i]][i] += dp[j][i - 1]\n",
    "print(dp[ans][n - 2])"
   ]
  },
  {
   "cell_type": "markdown",
   "id": "1ed93017",
   "metadata": {},
   "source": [
    "12969번 ABC <span style=\"color:red\">실패</span> - 2025.10.05"
   ]
  },
  {
   "cell_type": "code",
   "execution_count": null,
   "id": "910c60ec",
   "metadata": {},
   "outputs": [],
   "source": [
    "# DP\n",
    "n, k = map(int, input().split())\n",
    "dp = [[[[-1 for _ in range(k + 1)] for _ in range(n + 1)] for _ in range(n + 1)] for _ in range(n + 1)]\n",
    "dp[0][0][0][0] = 0\n",
    "\n",
    "for a in range(n + 1):\n",
    "    for b in range(n + 1):\n",
    "        for c in range(n + 1):\n",
    "            for pairs in range(k + 1):\n",
    "                if dp[a][b][c][pairs] == -1:\n",
    "                    continue\n",
    "\n",
    "                length = a + b + c\n",
    "                if length == n:\n",
    "                    continue\n",
    "\n",
    "                if dp[a + 1][b][c][pairs] == -1:\n",
    "                    dp[a + 1][b][c][pairs] = 0\n",
    "                \n",
    "                if pairs + a <= k and dp[a][b + 1][c][pairs + a] == -1:\n",
    "                    dp[a][b + 1][c][pairs + a] = 1\n",
    "\n",
    "                if pairs + a + b <= k and dp[a][b][c + 1][pairs + a + b] == -1:\n",
    "                    dp[a][b][c + 1][pairs + a + b] = 2\n",
    "\n",
    "ans_a, ans_b, ans_c = -1, -1, -1\n",
    "is_exist = False\n",
    "for a in range(n + 1):\n",
    "    for b in range(n + 1):\n",
    "        for c in range(n + 1):\n",
    "            if a + b + c == n and dp[a][b][c][k] != -1:\n",
    "                is_exist = True\n",
    "                ans_a, ans_b, ans_c = a, b, c\n",
    "                break\n",
    "        if is_exist:\n",
    "            break\n",
    "\n",
    "if not is_exist:\n",
    "    print(-1)\n",
    "else:\n",
    "    ans = []\n",
    "    pairs = k\n",
    "    while ans_a > 0 or ans_b > 0 or ans_c > 0:\n",
    "        prev = dp[ans_a][ans_b][ans_c][pairs]\n",
    "        if prev == 0:\n",
    "            ans_a -= 1\n",
    "            ans.append('A')\n",
    "        elif prev == 1:\n",
    "            pairs -= ans_a\n",
    "            ans_b -= 1\n",
    "            ans.append('B')\n",
    "        elif prev == 2:\n",
    "            pairs -= (ans_a + ans_b)\n",
    "            ans_c -= 1\n",
    "            ans.append('C')\n",
    "    print(''.join(reversed(ans)))"
   ]
  },
  {
   "cell_type": "code",
   "execution_count": null,
   "id": "ae717759",
   "metadata": {},
   "outputs": [],
   "source": [
    "# DFS\n",
    "def dfs(s, a, b, c, cnt):\n",
    "    global ans\n",
    "\n",
    "    if ans is not None:\n",
    "        return\n",
    "    \n",
    "    if (a, b, c, cnt) in visited:\n",
    "        return\n",
    "    \n",
    "    if cnt == k:\n",
    "        ans = s + (n - (a + b + c)) * 'A'\n",
    "\n",
    "    if cnt > k or a + b + c >= n:\n",
    "        return\n",
    "    \n",
    "    dfs(s + 'A', a + 1, b, c, cnt)\n",
    "    dfs(s + 'B', a, b + 1, c, cnt + a)\n",
    "    dfs(s + 'C', a, b, c + 1, cnt + a + b)\n",
    "    visited.add((a, b, c, cnt))\n",
    "\n",
    "n, k = map(int, input().split())\n",
    "\n",
    "visited = set()\n",
    "ans = None\n",
    "dfs('', 0, 0, 0, 0)\n",
    "print(ans if ans else -1)"
   ]
  },
  {
   "cell_type": "markdown",
   "id": "2cbe5f52",
   "metadata": {},
   "source": [
    "14238번 출근 기록 <span style=\"color:green\">성공</span> - 2025.10.06"
   ]
  },
  {
   "cell_type": "code",
   "execution_count": null,
   "id": "71e97689",
   "metadata": {},
   "outputs": [],
   "source": [
    "# 처음에는 visited에 string 전체를 저장하는 방식으로 구현하였지만 메모리 초과\n",
    "# 이후 맨 끝 첫번째, 두번째 알파벳만 저장하는 방식으로 수정\n",
    "import sys\n",
    "\n",
    "def dfs(a, b, c, last_1, last_2):\n",
    "    if (a, b, c, last_1, last_2) in visited:\n",
    "        return\n",
    "    visited.add((a, b, c, last_1, last_2))\n",
    "\n",
    "    if a == a_cnt and b == b_cnt and c == c_cnt:\n",
    "        print(''.join(ans))\n",
    "        sys.exit()\n",
    "\n",
    "    if a < a_cnt:\n",
    "        ans.append('A')\n",
    "        dfs(a + 1, b, c, 'A', last_1)\n",
    "        ans.pop()\n",
    "    \n",
    "    if b < b_cnt and last_1 != 'B':\n",
    "        ans.append('B')\n",
    "        dfs(a, b + 1, c, 'B', last_1)\n",
    "        ans.pop()\n",
    "\n",
    "    if c < c_cnt and last_1 != 'C' and last_2 != 'C':\n",
    "        ans.append('C')\n",
    "        dfs(a, b, c + 1, 'C', last_1)\n",
    "        ans.pop()\n",
    "\n",
    "s = input()\n",
    "a_cnt = s.count('A')\n",
    "b_cnt = s.count('B')\n",
    "c_cnt = s.count('C')\n",
    "\n",
    "visited = set()\n",
    "ans = []\n",
    "dfs(0, 0, 0, '', '')\n",
    "print(-1)"
   ]
  },
  {
   "cell_type": "markdown",
   "id": "2c91a8d4",
   "metadata": {},
   "source": [
    "12026번 BOJ 거리 <span style=\"color:green\">성공</span> - 2025.10.07"
   ]
  },
  {
   "cell_type": "code",
   "execution_count": null,
   "id": "43564a5e",
   "metadata": {},
   "outputs": [],
   "source": [
    "n = int(input())\n",
    "block = input()\n",
    "\n",
    "dp = [float('inf') for _ in range(n)]\n",
    "dp[0] = 0\n",
    "\n",
    "for i in range(n - 1):\n",
    "    curr = block[i]\n",
    "    for j in range(i + 1, n):\n",
    "        if curr == 'B' and block[j] == 'O':\n",
    "            dp[j] = min(dp[j], dp[i] + (j - i)**2)\n",
    "        \n",
    "        if curr == 'O' and block[j] == 'J':\n",
    "            dp[j] = min(dp[j], dp[i] + (j - i)**2)\n",
    "\n",
    "        if curr == 'J' and block[j] == 'B':\n",
    "            dp[j] = min(dp[j], dp[i] + (j - i)**2)\n",
    "print(dp[-1] if dp[-1] != float('inf') else -1)"
   ]
  },
  {
   "cell_type": "markdown",
   "id": "1b46e69b",
   "metadata": {},
   "source": [
    "12996번 Acka <span style=\"color:red\">실패</span> - 2025.10.08"
   ]
  },
  {
   "cell_type": "code",
   "execution_count": null,
   "id": "a990fced",
   "metadata": {},
   "outputs": [],
   "source": [
    "# dp[s][d][k][h]: s개의 곡을 배정했을 때 각 사람이 (d, k, h) 곡을 부른 경우의 수\n",
    "MOD = 1_000_000_007\n",
    "\n",
    "s_cnt, d_cnt, k_cnt, h_cnt = map(int, input().split())\n",
    "\n",
    "# 곡마다 부를 수 있는 사람의 경우의 수\n",
    "choices = [[1, 0, 0], [0, 1, 0], [0, 0, 1], [1, 1, 0],\n",
    "           [1, 0, 1], [0, 1, 1], [1, 1, 1]]\n",
    "\n",
    "dp = [[[[0 for _ in range(h_cnt + 1)] for _ in range(k_cnt + 1)] for _ in range(d_cnt + 1)] for _ in range(s_cnt + 1)]\n",
    "dp[0][0][0][0] = 1\n",
    "\n",
    "for s in range(s_cnt): # 곡 하나씩 추가\n",
    "    for d in range(d_cnt + 1):\n",
    "        for k in range(k_cnt + 1):\n",
    "            for h in range(h_cnt + 1):\n",
    "                cnt = dp[s][d][k][h]\n",
    "                if cnt == 0:\n",
    "                    continue\n",
    "\n",
    "                for dd, dk, dh in choices:\n",
    "                    nd = d + dd\n",
    "                    nk = k + dk\n",
    "                    nh = h + dh\n",
    "\n",
    "                    if nd <= d_cnt and nk <= k_cnt and nh <= h_cnt:\n",
    "                        next = dp[s + 1][nd][nk][nh]\n",
    "                        dp[s + 1][nd][nk][nh] = (next + cnt) % MOD\n",
    "print(dp[s_cnt][d_cnt][k_cnt][h_cnt] % MOD)"
   ]
  },
  {
   "cell_type": "markdown",
   "id": "0612641e",
   "metadata": {},
   "source": [
    "2281번 데스노트 <span style=\"color:red\">실패</span> - 2025.10.09"
   ]
  },
  {
   "cell_type": "code",
   "execution_count": null,
   "id": "519d6489",
   "metadata": {},
   "outputs": [],
   "source": [
    "n, m = map(int, input().split())\n",
    "names = [int(input()) for _ in range(n)]\n",
    "\n",
    "dp = [[-1 for _ in range(m + 1)] for _ in range(n)]\n",
    "dp[0][names[0]] = 0\n",
    "\n",
    "for i in range(n - 1):\n",
    "    for j in range(1, m + 1):\n",
    "        if dp[i][j] != -1:\n",
    "            if j + 1 + names[i + 1] <= m:\n",
    "                dp[i + 1][j + names[i + 1] + 1] = dp[i][j]\n",
    "            if dp[i + 1][names[i + 1]] != -1:\n",
    "                dp[i + 1][names[i + 1]] = min(dp[i + 1][names[i + 1]], dp[i][j] + (m - j)**2)\n",
    "            else:\n",
    "                dp[i + 1][names[i + 1]] = dp[i][j] + (m - j)**2\n",
    "\n",
    "ans = float('inf')\n",
    "for i in range(1, m + 1):\n",
    "    if dp[n - 1][i] != -1:\n",
    "        ans = min(ans, dp[n - 1][i])\n",
    "print(ans)"
   ]
  },
  {
   "cell_type": "markdown",
   "id": "8dbdf750",
   "metadata": {},
   "source": [
    "3012번 올바른 괄호 문자열 <span style=\"color:red\">실패</span> - 2025.10.10"
   ]
  },
  {
   "cell_type": "code",
   "execution_count": null,
   "metadata": {},
   "outputs": [],
   "source": [
    "MOD = 100_000\n",
    "\n",
    "# 괄호 매칭 가능 여부 확인\n",
    "def pair(left, right):\n",
    "    pairs = [('(', ')'), ('[', ']'), ('{', '}')]\n",
    "\n",
    "    if left == '?' and right == '?':\n",
    "        return 3\n",
    "    elif left == '?':\n",
    "        return 1 if right in ')]}' else 0\n",
    "    elif right == '?':\n",
    "        return 1 if left in '([{' else 0\n",
    "    else:\n",
    "        return 1 if (left, right) in pairs else 0\n",
    "\n",
    "n = int(input())\n",
    "s = input()\n",
    "\n",
    "# dp[l][r] = s[l:r + 1]이 올바른 괄호 문자열이 되는 경우의 수\n",
    "dp = [[0 for _ in range(n)] for _ in range(n)]\n",
    "for length in range(2, n + 1, 2): # 괄호 문자열은 짝수 길이만 가능\n",
    "    for l in range(0, n - length + 1):\n",
    "        r = l + length - 1\n",
    "        total = 0\n",
    "        # l번째를 여는 괄호로, k번째를 닫는 괄호로 매칭\n",
    "        for k in range(l + 1, r + 1, 2):\n",
    "            pair_cnt = pair(s[l], s[k])\n",
    "            if pair_cnt:\n",
    "                left = dp[l + 1][k - 1] if k - 1 >= l + 1 else 1\n",
    "                right = dp[k + 1][r] if k + 1 <= r else 1\n",
    "                total += pair_cnt * left * right\n",
    "        dp[l][r] = total\n",
    "ans = dp[0][n - 1]\n",
    "print(ans if ans < MOD else f\"{dp[0][n - 1] % MOD:05d}\")"
   ]
  },
  {
   "cell_type": "markdown",
   "id": "776b0247",
   "metadata": {},
   "source": [
    "2616번 소형기관차 <span style=\"color:green\">성공</span> - 2025.10.11"
   ]
  },
  {
   "cell_type": "code",
   "execution_count": null,
   "id": "0714caad",
   "metadata": {},
   "outputs": [],
   "source": [
    "n = int(input())\n",
    "trains = list(map(int, input().split()))\n",
    "m = int(input())\n",
    "\n",
    "p_sum = [sum(trains[0:m])]\n",
    "for i in range(1, n - m + 1):\n",
    "    p_sum.append(p_sum[-1] - trains[i - 1] + trains[i + m - 1])\n",
    "\n",
    "# dp[i][j]: i + 1개의 기차만 사용해서 0 ~ j번 객차들 중 i + 1개를 선택했을때 최대값 \n",
    "dp = [[-1 for _ in range(len(p_sum))] for _ in range(3)]\n",
    "dp[0] = p_sum[:] # 기차 1개\n",
    "\n",
    "# 기차 2개\n",
    "curr_max = dp[0][0]\n",
    "for i in range(m, len(p_sum)):\n",
    "    curr_max = max(curr_max, dp[0][i - m])\n",
    "    dp[1][i] = max(curr_max + dp[0][i], dp[1][i - 1])\n",
    "\n",
    "# 기차 3개\n",
    "curr_max = dp[1][m]\n",
    "for i in range(2 * m, len(p_sum)):\n",
    "    curr_max = max(curr_max, dp[1][i - m])\n",
    "    dp[2][i] = max(curr_max + dp[0][i], dp[2][i - 1])\n",
    "print(dp[2][-1])"
   ]
  },
  {
   "cell_type": "markdown",
   "id": "51cc4a57",
   "metadata": {},
   "source": [
    "1413번 박스 안의 열쇠 <span style=\"color:red\">실패</span> - 2025.10.12"
   ]
  },
  {
   "cell_type": "code",
   "execution_count": null,
   "id": "7da9161a",
   "metadata": {},
   "outputs": [],
   "source": [
    "def gcd(a, b):\n",
    "    while b:\n",
    "        a, b = b, a % b\n",
    "    return a\n",
    "\n",
    "n, m = map(int, input().split())\n",
    "\n",
    "# 1종 스털링 수 S1[n][k]\n",
    "# 1부터 n까지의 원소로 만들수 있는 순열 중 사이클이 정확이 k개인 경우의 수\n",
    "# ex. n = 3 이고, 폭탄이 1개만 주어졌을 때 가능한 경우\n",
    "# (1)(2)(3) -> 개수: 3\n",
    "# (12)(3)   -> 개수: 2\n",
    "# (13)(2)   -> 개수: 2\n",
    "# (23)(1)   -> 개수: 2\n",
    "# (123)     -> 개수: 1 ✅\n",
    "# (132)     -> 개수: 1 ✅\n",
    "# 여기서 중요한 점은 \"사이클\" 이므로 (123)과 (231), (312)는 동일한 것으로 간주함\n",
    "# (1 -> 2 -> 3 -> 1) == (2 -> 3 -> 1 -> 2) == (3 -> 1 -> 2 -> 3) \n",
    "# S1(3, 1) = 2\n",
    "# S1(3, 2) = 3\n",
    "# S1(3, 3) = 1\n",
    "S1 = [[0 for _ in range(n + 1)] for _ in range(n + 1)]\n",
    "S1[0][0] = 1\n",
    "for i in range(1, n + 1):\n",
    "    for j in range(1, i + 1):\n",
    "        S1[i][j] = S1[i - 1][j - 1] + (i - 1) * S1[i - 1][j]\n",
    "\n",
    "# 전체 경우의 수 n!\n",
    "fact = 1\n",
    "for i in range(1, n + 1):\n",
    "    fact *= i\n",
    "\n",
    "# 생성한 사이클 중 사이클 개수가 폭탄 개수보다 작거나 같은 경우 (성공한 경우)\n",
    "success = sum(S1[n][k] for k in range(1, m + 1))\n",
    "\n",
    "# 성공한 사이클 경우의 수 / 전체 경우의 수\n",
    "g = gcd(success, fact)\n",
    "print(f'{success // g}/{fact // g}')"
   ]
  },
  {
   "cell_type": "markdown",
   "id": "12fd9491",
   "metadata": {},
   "source": [
    "10564번 팔굽혀펴기 <span style=\"color:green\"></span> - 2025.10.13"
   ]
  },
  {
   "cell_type": "code",
   "execution_count": null,
   "id": "766900cc",
   "metadata": {},
   "outputs": [],
   "source": []
  }
 ],
 "metadata": {
  "kernelspec": {
   "display_name": "base",
   "language": "python",
   "name": "python3"
  },
  "language_info": {
   "codemirror_mode": {
    "name": "ipython",
    "version": 3
   },
   "file_extension": ".py",
   "mimetype": "text/x-python",
   "name": "python",
   "nbconvert_exporter": "python",
   "pygments_lexer": "ipython3",
   "version": "3.12.3"
  }
 },
 "nbformat": 4,
 "nbformat_minor": 5
}
