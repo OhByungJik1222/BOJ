{
 "cells": [
  {
   "cell_type": "markdown",
   "id": "8ac9fbdc",
   "metadata": {},
   "source": [
    "9935번 문자열 폭발 <span style=\"color:red\">실패</span> - 2025.08.20"
   ]
  },
  {
   "cell_type": "code",
   "execution_count": null,
   "id": "d8e30290",
   "metadata": {},
   "outputs": [],
   "source": [
    "# 입력 s의 문자를 하나씩 스택에 넣고\n",
    "# 스택의 끝에서부터 폭발 문자열의 길이만큼 검사\n",
    "# 만약 폭발 문자열과 같다면 그 부분 삭제\n",
    "# 추가와 삭제를 동시에 진행하여 단일 for문으로 해결가능\n",
    "s = list(input())\n",
    "blast = list(input())\n",
    "\n",
    "stack = []\n",
    "for word in s:\n",
    "    stack.append(word)\n",
    "    if stack[len(stack) - len(blast):len(stack)] == blast:\n",
    "        for _ in range(len(blast)):\n",
    "            stack.pop()\n",
    "\n",
    "if stack:\n",
    "    print(*stack, sep='')\n",
    "else:\n",
    "    print('FRULA')"
   ]
  },
  {
   "cell_type": "markdown",
   "id": "ec4dc52e",
   "metadata": {},
   "source": [
    "6549번 히스토그램에서 가장 큰 직사각형 <span style=\"color:red\">실패</span> - 2025.08.21"
   ]
  },
  {
   "cell_type": "code",
   "execution_count": null,
   "id": "0b600dac",
   "metadata": {},
   "outputs": [],
   "source": [
    "# 분할 정복 풀이\n",
    "# 히스토그램을 중간 기준으로 왼쪽, 오른쪽으로 크기가 1 또는 2가 될때까지 나눈다.\n",
    "# 제일 작은 단위가 되면 그 범위에서 가장 큰 직사각형 return\n",
    "# 왼쪽과 오른쪽에서 각각 가장 큰 직사각형을 합친다.\n",
    "# 이때 고려하지 못한 중간을 이어서 더 큰 직사각형을 만들 가능성이 존재하기 때문에\n",
    "# 합칠때 왼쪽 경계에서 왼쪽 히스토그램의 높이가 더 낮다면 현재 높이를 낮추고\n",
    "# left ~ right까지를 폭으로 해서 직사각형 넓이 갱신\n",
    "# 이후 똑같은 작업을 한번 더해주는데,\n",
    "# 이 이유는 첫번째 while문 조건에서 다음과 같이\n",
    "# start <= left and right <= end (and) 조건으로 되어있어\n",
    "# 왼쪽 또는 오른쪽을 더 탐색할 수 있음에도 중지 될 수 있기 때문에\n",
    "# 최적해를 찾아주기 위해 양쪽에 대해 한번씩 더 진행해준다.\n",
    "def divide_and_conquer(hist, start, end):\n",
    "    if end == start:\n",
    "        return hist[end]\n",
    "    elif end - start == 1:\n",
    "        if hist[end] < hist[start]:\n",
    "            return max(2 * hist[end], hist[start])\n",
    "        else:\n",
    "            return max(2 * hist[start], hist[end])\n",
    "        \n",
    "    mid = (start + end) // 2\n",
    "    left_hist = divide_and_conquer(hist, start, mid)\n",
    "    right_hist = divide_and_conquer(hist, mid + 1, end)\n",
    "\n",
    "    left = mid - 1\n",
    "    right = mid + 1\n",
    "\n",
    "    mid_hist = hist[mid]\n",
    "    h = hist[mid]\n",
    "    while start <= left and right <= end:\n",
    "        if hist[left] < hist[right]:\n",
    "            if hist[right] < h:\n",
    "                h = hist[right]\n",
    "            mid_hist = max(mid_hist, h * (right - left))\n",
    "            right += 1\n",
    "        else:\n",
    "            if hist[left] < h:\n",
    "                h = hist[left]\n",
    "            mid_hist = max(mid_hist, h * (right - left))\n",
    "            left -= 1\n",
    "\n",
    "    while start <= left:\n",
    "        if hist[left] < h:\n",
    "            h = hist[left]\n",
    "        mid_hist = max(mid_hist, h * (right - left))\n",
    "        left -= 1\n",
    "    \n",
    "    while right <= end:\n",
    "        if hist[right] < h:\n",
    "            h = hist[right]\n",
    "        mid_hist = max(mid_hist, h * (right - left))\n",
    "        right += 1\n",
    "\n",
    "    return max(left_hist, right_hist, mid_hist)\n",
    "\n",
    "\n",
    "while True:\n",
    "    hist = list(map(int, input().split()))\n",
    "\n",
    "    if hist[0] == 0: break\n",
    "\n",
    "    n = hist[0]\n",
    "\n",
    "    print(divide_and_conquer(hist, 1, n))"
   ]
  },
  {
   "cell_type": "code",
   "execution_count": null,
   "id": "a23db5d8",
   "metadata": {},
   "outputs": [],
   "source": [
    "# 스택 풀이\n",
    "while True:\n",
    "    hist = list(map(int, input().split()))\n",
    "\n",
    "    if hist[0] == 0: break\n",
    "\n",
    "    stack = []\n",
    "    n = hist[0]\n",
    "    max_hist = 0\n",
    "    for i in range(1, n + 1):\n",
    "        if len(stack) == 0:\n",
    "            stack.append((i, hist[i]))\n",
    "        else:\n",
    "            while stack and stack[-1][1] > hist[i]:\n",
    "                tmp = stack.pop()\n",
    "                if not stack:\n",
    "                    w = i - 1\n",
    "                else:\n",
    "                    w = i - stack[-1][0] - 1\n",
    "                max_hist = max(max_hist, tmp[1] * w)\n",
    "            stack.append((i, hist[i]))\n",
    "\n",
    "    while stack:\n",
    "        tmp = stack.pop()\n",
    "        if not stack:\n",
    "            w = n\n",
    "        else:\n",
    "            w = n - stack[-1][0]\n",
    "        max_hist = max(max_hist, tmp[1] * w)\n",
    "    print(max_hist)"
   ]
  },
  {
   "cell_type": "markdown",
   "id": "1a71d1b0",
   "metadata": {},
   "source": [
    "3015번 오아시스 재결합 <span style=\"color:green\"></span> - 2025.08.22"
   ]
  },
  {
   "cell_type": "code",
   "execution_count": null,
   "id": "ee459798",
   "metadata": {},
   "outputs": [],
   "source": []
  }
 ],
 "metadata": {
  "kernelspec": {
   "display_name": "base",
   "language": "python",
   "name": "python3"
  },
  "language_info": {
   "codemirror_mode": {
    "name": "ipython",
    "version": 3
   },
   "file_extension": ".py",
   "mimetype": "text/x-python",
   "name": "python",
   "nbconvert_exporter": "python",
   "pygments_lexer": "ipython3",
   "version": "3.12.3"
  }
 },
 "nbformat": 4,
 "nbformat_minor": 5
}
