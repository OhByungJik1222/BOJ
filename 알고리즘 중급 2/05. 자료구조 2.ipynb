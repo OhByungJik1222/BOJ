{
 "cells": [
  {
   "cell_type": "markdown",
   "id": "8ac9fbdc",
   "metadata": {},
   "source": [
    "9935번 문자열 폭발 <span style=\"color:red\">실패</span> - 2025.08.20"
   ]
  },
  {
   "cell_type": "code",
   "execution_count": null,
   "id": "d8e30290",
   "metadata": {},
   "outputs": [],
   "source": [
    "# 입력 s의 문자를 하나씩 스택에 넣고\n",
    "# 스택의 끝에서부터 폭발 문자열의 길이만큼 검사\n",
    "# 만약 폭발 문자열과 같다면 그 부분 삭제\n",
    "# 추가와 삭제를 동시에 진행하여 단일 for문으로 해결가능\n",
    "s = list(input())\n",
    "blast = list(input())\n",
    "\n",
    "stack = []\n",
    "for word in s:\n",
    "    stack.append(word)\n",
    "    if stack[len(stack) - len(blast):len(stack)] == blast:\n",
    "        for _ in range(len(blast)):\n",
    "            stack.pop()\n",
    "\n",
    "if stack:\n",
    "    print(*stack, sep='')\n",
    "else:\n",
    "    print('FRULA')"
   ]
  },
  {
   "cell_type": "markdown",
   "id": "ec4dc52e",
   "metadata": {},
   "source": [
    "6549번 히스토그램에서 가장 큰 직사각형 <span style=\"color:green\"></span> - 2025.08.21"
   ]
  },
  {
   "cell_type": "code",
   "execution_count": null,
   "id": "0b600dac",
   "metadata": {},
   "outputs": [],
   "source": []
  }
 ],
 "metadata": {
  "kernelspec": {
   "display_name": "base",
   "language": "python",
   "name": "python3"
  },
  "language_info": {
   "codemirror_mode": {
    "name": "ipython",
    "version": 3
   },
   "file_extension": ".py",
   "mimetype": "text/x-python",
   "name": "python",
   "nbconvert_exporter": "python",
   "pygments_lexer": "ipython3",
   "version": "3.12.3"
  }
 },
 "nbformat": 4,
 "nbformat_minor": 5
}
