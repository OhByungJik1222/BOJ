{
 "cells": [
  {
   "cell_type": "markdown",
   "id": "97ca6cce",
   "metadata": {},
   "source": [
    "16968번 차량 번호판 1 <span style=\"color:green\"></span> - 2025.07.04"
   ]
  },
  {
   "cell_type": "code",
   "execution_count": null,
   "id": "29512412",
   "metadata": {},
   "outputs": [],
   "source": []
  }
 ],
 "metadata": {
  "language_info": {
   "name": "python"
  }
 },
 "nbformat": 4,
 "nbformat_minor": 5
}
