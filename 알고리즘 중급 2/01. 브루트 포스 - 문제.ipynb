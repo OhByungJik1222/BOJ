{
 "cells": [
  {
   "cell_type": "markdown",
   "id": "390fb958",
   "metadata": {},
   "source": [
    "16968번 차량 번호판 1 <span style=\"color:green\">성공</span> - 2025.07.04"
   ]
  },
  {
   "cell_type": "code",
   "execution_count": null,
   "id": "29512412",
   "metadata": {},
   "outputs": [],
   "source": [
    "alph = input()\n",
    "alph += ' '\n",
    "\n",
    "ans = 1\n",
    "prev_alph = alph[0]\n",
    "d_cnt = 0\n",
    "c_cnt = 0\n",
    "for i in alph:\n",
    "    if i != prev_alph:\n",
    "        if prev_alph == 'd':\n",
    "            tmp = 10\n",
    "            for _ in range(d_cnt - 1):\n",
    "                tmp *= 9\n",
    "            d_cnt = 0\n",
    "        elif prev_alph == 'c':\n",
    "            tmp = 26\n",
    "            for _ in range(c_cnt - 1):\n",
    "                tmp *= 25\n",
    "            c_cnt = 0\n",
    "        ans *= tmp\n",
    "        prev_alph = i\n",
    "    if i == 'd':\n",
    "        d_cnt += 1\n",
    "    elif i == 'c':\n",
    "        c_cnt += 1\n",
    "\n",
    "print(ans)"
   ]
  },
  {
   "cell_type": "markdown",
   "id": "81d5eec0",
   "metadata": {},
   "source": [
    "16917번 양념 반 후라이드 반 <span style=\"color:green\">성공</span> - 2025.07.05"
   ]
  },
  {
   "cell_type": "code",
   "execution_count": null,
   "id": "5d5dd4b8",
   "metadata": {},
   "outputs": [],
   "source": [
    "a, b, c, x, y = map(int, input().split())\n",
    "whole_price = a * x + b * y\n",
    "half_price = min((x - min(x, y)) * a + (y - min(x, y)) * b + min(x, y) * c * 2,\n",
    "                 max(x, y) * c * 2)\n",
    "print(min(whole_price, half_price))"
   ]
  },
  {
   "cell_type": "markdown",
   "id": "4e8c3677",
   "metadata": {},
   "source": [
    "16922번 로마 숫자 만들기 <span style=\"color:green\">성공</span> - 2025.07.06"
   ]
  },
  {
   "cell_type": "code",
   "execution_count": null,
   "id": "6927b880",
   "metadata": {},
   "outputs": [],
   "source": [
    "def dfs(depth, start):\n",
    "    global idx\n",
    "\n",
    "    if depth == n:\n",
    "        ans[idx] = 1\n",
    "        return\n",
    "    \n",
    "    for i in range(start, 4):\n",
    "        idx += num[i]\n",
    "        dfs(depth + 1, i)\n",
    "        idx -= num[i]\n",
    "\n",
    "n = int(input())\n",
    "num = [1, 5, 10, 50]\n",
    "ans = [0 for _ in range(1001)] # 최대 50 x 20 = 1000\n",
    "idx = 0\n",
    "\n",
    "dfs(0, 0)\n",
    "\n",
    "print(sum(ans))"
   ]
  },
  {
   "cell_type": "markdown",
   "id": "5fd2fa9e",
   "metadata": {},
   "source": [
    "16924번 십자가 찾기 <span style=\"color:green\">성공</span> - 2025.07.07"
   ]
  },
  {
   "cell_type": "code",
   "execution_count": null,
   "id": "c7d88e6a",
   "metadata": {},
   "outputs": [],
   "source": [
    "# 1. 먼저 입력으로 주어진 격자판에서 *을 만나면 그 점을 중심으로 십자가 그려보기 (십자가 길이 1 시작)\n",
    "# 2. 이때 그리기 전에 범위가 격자판을 벗어나는지, 그 위치도 *인지 판단\n",
    "# 3. 상하좌우 모두 *라면 이제 빈 격자판에 십자가 그리고 정답에 추가\n",
    "# 4. 이후 길이를 또 늘려서 1 ~ 3번 반복\n",
    "# 5. 못그리는 경우를 만나면 다시 원래 격자판 탐색\n",
    "# 6. 마지막에 원래 격자판과 내가 그린 격자판이 같다면 정답 출력\n",
    "# 7. 마지막에 웒래 격자판과 내가 그린 격자판이 다르다면 -1 출력\n",
    "def check(x, y, length):\n",
    "    for i in range(4):\n",
    "        nx = x + dx[i] * length\n",
    "        ny = y + dy[i] * length\n",
    "\n",
    "        if 0 <= nx < n and 0 <= ny < m and arr[nx][ny] == '*':\n",
    "            pass\n",
    "        else:\n",
    "            return True\n",
    "    return False\n",
    "\n",
    "def draw(x, y, length):\n",
    "    for i in range(4):\n",
    "        nx = x + dx[i] * length\n",
    "        ny = y + dy[i] * length\n",
    "\n",
    "        empty_arr[nx][ny] = '*'\n",
    "\n",
    "n, m = map(int, input().split())\n",
    "arr = [list(input()) for _ in range(n)]\n",
    "empty_arr = [['.' for _ in range(m)] for _ in range(n)]\n",
    "ans = []\n",
    "\n",
    "dx = [-1, 1, 0, 0]\n",
    "dy = [0, 0, -1, 1]\n",
    "\n",
    "for i in range(n):\n",
    "    for j in range(m):\n",
    "        if arr[i][j] == '*':\n",
    "            length = 1\n",
    "            break_flag = False\n",
    "            while True:\n",
    "                break_flag = check(i, j, length)\n",
    "\n",
    "                if break_flag:\n",
    "                    break\n",
    "                else:\n",
    "                    ans.append([i + 1, j + 1, length])\n",
    "                    empty_arr[i][j] = '*'\n",
    "                    draw(i, j, length)\n",
    "                    length += 1\n",
    "\n",
    "for i in range(n):\n",
    "    if arr[i] != empty_arr[i]:\n",
    "        print(-1)\n",
    "        break\n",
    "else:\n",
    "    print(len(ans))\n",
    "    for i in range(len(ans)):\n",
    "        print(*ans[i])"
   ]
  },
  {
   "cell_type": "markdown",
   "id": "63f48e81",
   "metadata": {},
   "source": [
    "16936번 나3곱2 <span style=\"color:green\"></span> - 2025.07.08"
   ]
  },
  {
   "cell_type": "code",
   "execution_count": null,
   "id": "961e6dbe",
   "metadata": {},
   "outputs": [],
   "source": []
  }
 ],
 "metadata": {
  "kernelspec": {
   "display_name": "base",
   "language": "python",
   "name": "python3"
  },
  "language_info": {
   "codemirror_mode": {
    "name": "ipython",
    "version": 3
   },
   "file_extension": ".py",
   "mimetype": "text/x-python",
   "name": "python",
   "nbconvert_exporter": "python",
   "pygments_lexer": "ipython3",
   "version": "3.12.3"
  }
 },
 "nbformat": 4,
 "nbformat_minor": 5
}
