{
 "cells": [
  {
   "cell_type": "markdown",
   "id": "c794fe7e",
   "metadata": {},
   "source": [
    "16916번 부분 문자열 <span style=\"color:green\"></span> - 2025.09.01"
   ]
  },
  {
   "cell_type": "code",
   "execution_count": null,
   "id": "26b94823",
   "metadata": {},
   "outputs": [],
   "source": []
  }
 ],
 "metadata": {
  "language_info": {
   "name": "python"
  }
 },
 "nbformat": 4,
 "nbformat_minor": 5
}
