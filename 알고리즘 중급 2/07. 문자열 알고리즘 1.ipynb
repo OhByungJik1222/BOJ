{
 "cells": [
  {
   "cell_type": "markdown",
   "id": "687b9c7c",
   "metadata": {},
   "source": [
    "## **KMP (Knuth-Morris-Pratt)**"
   ]
  },
  {
   "cell_type": "code",
   "execution_count": null,
   "id": "31d789ce",
   "metadata": {},
   "outputs": [],
   "source": [
    "# kmp_table\n",
    "pattern = 'ababbab'\n",
    "\n",
    "table = [0 for _ in range(len(pattern))]\n",
    "i = 0\n",
    "for j in range(1, len(pattern)):\n",
    "    while i > 0 and pattern[i] != pattern[j]:\n",
    "        i = table[i - 1]\n",
    "\n",
    "    if pattern[i] == pattern[j]:\n",
    "        i += 1\n",
    "        table[j] = i\n",
    "print(table)\n",
    "# [0, 0, 1, 2, 0, 1, 2]"
   ]
  },
  {
   "cell_type": "code",
   "execution_count": null,
   "id": "af271075",
   "metadata": {},
   "outputs": [],
   "source": [
    "# kmp\n",
    "def kmp(all_string, pattern):\n",
    "    #kmp_table\n",
    "    table = [0 for _ in range(len(pattern))]\n",
    "    i = 0\n",
    "    for j in range(1, len(pattern)):\n",
    "        while i > 0 and pattern[i] != pattern[j]:\n",
    "            i = table[i - 1]\n",
    "\n",
    "        if pattern[i] == pattern[j]:\n",
    "            i += 1\n",
    "            table[j] = i\n",
    "\n",
    "    # kmp\n",
    "    result = []\n",
    "    i = 0\n",
    "    for j in range(len(all_string)):\n",
    "        while i > 0 and pattern[i] != all_string[j]:\n",
    "            i = table[i - 1]\n",
    "\n",
    "        if pattern[i] == all_string[j]:\n",
    "            i += 1\n",
    "            if i == len(pattern):\n",
    "                result.append(j - i + 1)\n",
    "                i = table[i - 1]\n",
    "\n",
    "    return result\n",
    "\n",
    "print(kmp('xabxxbaxbaxbaxbaxabxbaxbabx', 'abx')) # [1, 17, 24]\n",
    "print(kmp('abababab', 'abab')) # [0, 2, 4]"
   ]
  },
  {
   "cell_type": "markdown",
   "id": "c794fe7e",
   "metadata": {},
   "source": [
    "16916번 부분 문자열 <span style=\"color:green\">성공</span> - 2025.09.01"
   ]
  },
  {
   "cell_type": "code",
   "execution_count": null,
   "id": "26b94823",
   "metadata": {},
   "outputs": [],
   "source": [
    "s = input()\n",
    "p = input()\n",
    "\n",
    "if p in s:\n",
    "    print(1)\n",
    "else:\n",
    "    print(0)"
   ]
  },
  {
   "cell_type": "markdown",
   "id": "cfd5d411",
   "metadata": {},
   "source": [
    "1786번 찾기 <span style=\"color:green\">성공</span> - 2025.09.02"
   ]
  },
  {
   "cell_type": "code",
   "execution_count": null,
   "id": "c8e85a4d",
   "metadata": {},
   "outputs": [],
   "source": [
    "def kmp(t, p):\n",
    "    table = [0 for _ in range(len(p))]\n",
    "    i = 0\n",
    "    for j in range(1, len(p)):\n",
    "        while i > 0 and p[i] != p[j]:\n",
    "            i = table[i - 1]\n",
    "\n",
    "        if p[i] == p[j]:\n",
    "            i += 1\n",
    "            table[j] = i\n",
    "\n",
    "    i = 0\n",
    "    for j in range(len(t)):\n",
    "        while i > 0 and p[i] != t[j]:\n",
    "            i = table[i - 1]\n",
    "\n",
    "        if p[i] == t[j]:\n",
    "            i += 1\n",
    "            if i == len(p):\n",
    "                ans.append(j - i + 2)\n",
    "                i = table[i - 1]\n",
    "\n",
    "t = input()\n",
    "p = input()\n",
    "\n",
    "ans = []\n",
    "kmp(t, p)\n",
    "print(len(ans))\n",
    "print(*ans)"
   ]
  },
  {
   "cell_type": "markdown",
   "id": "176ecba2",
   "metadata": {},
   "source": [
    "1305번 광고 <span style=\"color:green\">성공</span> - 2025.09.03"
   ]
  },
  {
   "cell_type": "code",
   "execution_count": null,
   "id": "69cf846d",
   "metadata": {},
   "outputs": [],
   "source": [
    "def kmp_table(p):\n",
    "    table = [0 for _ in range(len(p))]\n",
    "    i = 0\n",
    "    for j in range(1, len(p)):\n",
    "        while i > 0 and p[i] != p[j]:\n",
    "            i = table[i - 1]\n",
    "        \n",
    "        if p[i] == p[j]:\n",
    "            i += 1\n",
    "            table[j] = i\n",
    "    return table\n",
    "\n",
    "l = int(input())\n",
    "s = input()\n",
    "\n",
    "print(l - kmp_table(s)[-1])"
   ]
  },
  {
   "cell_type": "markdown",
   "id": "0994f841",
   "metadata": {},
   "source": [
    "1701번 Cubeditor <span style=\"color:green\">성공</span> - 2025.09.04"
   ]
  },
  {
   "cell_type": "code",
   "execution_count": null,
   "id": "2d5edb7d",
   "metadata": {},
   "outputs": [],
   "source": [
    "def kmp(t, p):\n",
    "    table = [0 for _ in range(len(p))]\n",
    "    i = 0\n",
    "    for j in range(1, len(p)):\n",
    "        while i > 0 and p[i] != p[j]:\n",
    "            i = table[i - 1]\n",
    "\n",
    "        if p[i] == p[j]:\n",
    "            i += 1\n",
    "            table[j] = i\n",
    "\n",
    "    result = []\n",
    "    i = 0\n",
    "    for j in range(len(t)):\n",
    "        while i > 0 and p[i] != t[j]:\n",
    "            i = table[i - 1]\n",
    "\n",
    "        if p[i] == t[j]:\n",
    "            i += 1\n",
    "            if i == len(p):\n",
    "                result.append(j - i + 2)\n",
    "                i = table[i - 1]\n",
    "    return len(result)\n",
    "\n",
    "s = input()\n",
    "\n",
    "ans = 0\n",
    "for i in range(1, len(s)):\n",
    "    cursor = 0\n",
    "    flag = False\n",
    "    while cursor + i <= len(s):\n",
    "        if kmp(s, s[cursor:cursor + i]) >= 2:\n",
    "            flag = True\n",
    "            ans = max(ans, i)\n",
    "            break\n",
    "        cursor += 1\n",
    "    \n",
    "    if not flag:\n",
    "        break\n",
    "print(ans)"
   ]
  },
  {
   "cell_type": "markdown",
   "id": "8eda9525",
   "metadata": {},
   "source": [
    "14425번 문자열 집합 <span style=\"color:green\">성공</span> - 2025.09.05"
   ]
  },
  {
   "cell_type": "code",
   "execution_count": null,
   "id": "1cb306a8",
   "metadata": {},
   "outputs": [],
   "source": [
    "import sys\n",
    "input = sys.stdin.readline\n",
    "\n",
    "n, m = map(int, input().split())\n",
    "word = set()\n",
    "for _ in range(n):\n",
    "    word.add(input())\n",
    "\n",
    "ans = 0\n",
    "for _ in range(m):\n",
    "    if input() in word:\n",
    "        ans += 1\n",
    "print(ans)"
   ]
  },
  {
   "cell_type": "markdown",
   "id": "60e07921",
   "metadata": {},
   "source": [
    "14426번 접두사 찾기 <span style=\"color:green\"></span> - 2025.09.06"
   ]
  },
  {
   "cell_type": "code",
   "execution_count": null,
   "id": "3da87764",
   "metadata": {},
   "outputs": [],
   "source": []
  },
  {
   "cell_type": "markdown",
   "id": "644802f1",
   "metadata": {},
   "source": [
    "13505번 두 수 XOR <span style=\"color:green\"></span> - 2025.09.07"
   ]
  },
  {
   "cell_type": "code",
   "execution_count": null,
   "id": "8506f5d1",
   "metadata": {},
   "outputs": [],
   "source": []
  }
 ],
 "metadata": {
  "kernelspec": {
   "display_name": "base",
   "language": "python",
   "name": "python3"
  },
  "language_info": {
   "codemirror_mode": {
    "name": "ipython",
    "version": 3
   },
   "file_extension": ".py",
   "mimetype": "text/x-python",
   "name": "python",
   "nbconvert_exporter": "python",
   "pygments_lexer": "ipython3",
   "version": "3.12.3"
  }
 },
 "nbformat": 4,
 "nbformat_minor": 5
}
