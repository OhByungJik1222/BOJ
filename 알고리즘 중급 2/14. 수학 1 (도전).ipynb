{
 "cells": [
  {
   "cell_type": "markdown",
   "id": "f6803b1f",
   "metadata": {},
   "source": [
    "1016번 제곱 ㄴㄴ 수 <span style=\"color:red\">실패</span> - 2025.10.26"
   ]
  },
  {
   "cell_type": "code",
   "execution_count": null,
   "id": "8633bf06",
   "metadata": {},
   "outputs": [],
   "source": [
    "lower_bound, upper_bound = map(int, input().split())\n",
    "\n",
    "ans = upper_bound - lower_bound + 1\n",
    "visited = [1 for _ in range(upper_bound - lower_bound + 1)]\n",
    "for i in range(2, int(upper_bound**0.5) + 1):\n",
    "    for j in range((lower_bound//(i**2)) * (i**2), upper_bound + 1, i**2):\n",
    "        if j - lower_bound >= 0 and visited[j - lower_bound]:\n",
    "            ans -= 1\n",
    "            visited[j - lower_bound] = 0\n",
    "print(ans)"
   ]
  }
 ],
 "metadata": {
  "kernelspec": {
   "display_name": "base",
   "language": "python",
   "name": "python3"
  },
  "language_info": {
   "codemirror_mode": {
    "name": "ipython",
    "version": 3
   },
   "file_extension": ".py",
   "mimetype": "text/x-python",
   "name": "python",
   "nbconvert_exporter": "python",
   "pygments_lexer": "ipython3",
   "version": "3.12.3"
  }
 },
 "nbformat": 4,
 "nbformat_minor": 5
}
