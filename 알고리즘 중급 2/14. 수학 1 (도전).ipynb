{
 "cells": [
  {
   "cell_type": "markdown",
   "id": "f6803b1f",
   "metadata": {},
   "source": [
    "1016번 제곱 ㄴㄴ 수 <span style=\"color:green\"></span> - 2025.10.25"
   ]
  },
  {
   "cell_type": "code",
   "execution_count": null,
   "id": "8633bf06",
   "metadata": {},
   "outputs": [],
   "source": []
  }
 ],
 "metadata": {
  "language_info": {
   "name": "python"
  }
 },
 "nbformat": 4,
 "nbformat_minor": 5
}
