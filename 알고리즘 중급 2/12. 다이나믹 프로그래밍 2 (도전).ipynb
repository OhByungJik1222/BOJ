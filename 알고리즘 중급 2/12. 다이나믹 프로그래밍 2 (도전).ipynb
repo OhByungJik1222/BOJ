{
 "cells": [
  {
   "cell_type": "markdown",
   "id": "e38c005e",
   "metadata": {},
   "source": [
    "12872번 플레이리스트 <span style=\"color:red\">실패</span> - 2025.10.16"
   ]
  },
  {
   "cell_type": "code",
   "execution_count": null,
   "id": "095f860e",
   "metadata": {},
   "outputs": [],
   "source": [
    "MOD = 1_000_000_007\n",
    "\n",
    "n, m, p = map(int, input().split())\n",
    "\n",
    "# dp[j][i]: i개의 곡으로 구성된 플레이리스트에서 j개의 서로 다른 곳이 사용된 경우의 수\n",
    "# i: 현재 플레이리스트 길이 (전체 곡 수)\n",
    "# j: 지금까지 사용된 고유한 노래 수\n",
    "dp = [[0 for _ in range(p + 1)] for _ in range(n + 1)]\n",
    "dp[0][0] = 1\n",
    "\n",
    "for i in range(1, p + 1):\n",
    "    for j in range(1, n + 1):\n",
    "        # 새 노래를 추가하는 경우\n",
    "        # 이전까지 (i - 1)개의 곡 중 (j - 1)개의 서로 다른 곡을 사용했다면\n",
    "        # 새로운 노래 1곡을 추가할 수 있는 방법은 (n - (j - 1))가지\n",
    "        # 총 n개의 노래 중 (j - 1)개의 노래를 사용했으므로 (n - (j - 1))\n",
    "        dp[j][i] += dp[j - 1][i - 1] * (n - (j - 1))\n",
    "\n",
    "        # 이미 들었던 노래를 추가하는 경우\n",
    "        # m개의 간격 제한이 있으므로 최근 m개 노래는 재사용 불가\n",
    "        # 가능한 재사용 노래의 개수는 (j - m)가지\n",
    "        # 이미 사용한 노래 j개 중 최근 m개의 노래는 사용하지 못하므로 (j - m)\n",
    "        if j > m:\n",
    "            dp[j][i] += dp[j][i - 1] * (j - m)\n",
    "        dp[j][i] %= MOD\n",
    "print(dp[n][p])"
   ]
  },
  {
   "cell_type": "markdown",
   "id": "778a032e",
   "metadata": {},
   "source": [
    "1767번 N-Rook II <span style=\"color:green\"></span> - 2025.10.17"
   ]
  },
  {
   "cell_type": "code",
   "execution_count": null,
   "id": "a76f7362",
   "metadata": {},
   "outputs": [],
   "source": []
  }
 ],
 "metadata": {
  "kernelspec": {
   "display_name": "base",
   "language": "python",
   "name": "python3"
  },
  "language_info": {
   "codemirror_mode": {
    "name": "ipython",
    "version": 3
   },
   "file_extension": ".py",
   "mimetype": "text/x-python",
   "name": "python",
   "nbconvert_exporter": "python",
   "pygments_lexer": "ipython3",
   "version": "3.12.3"
  }
 },
 "nbformat": 4,
 "nbformat_minor": 5
}
