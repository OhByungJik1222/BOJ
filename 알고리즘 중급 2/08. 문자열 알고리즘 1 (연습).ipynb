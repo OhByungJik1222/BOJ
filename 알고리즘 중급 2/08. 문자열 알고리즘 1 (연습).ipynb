{
 "cells": [
  {
   "cell_type": "markdown",
   "id": "b0af1bf4",
   "metadata": {},
   "source": [
    "12104번 순환 순열 <span style=\"color:green\">성공</span> - 2025.09.10"
   ]
  },
  {
   "cell_type": "code",
   "execution_count": null,
   "id": "463fb344",
   "metadata": {},
   "outputs": [],
   "source": [
    "# 굳이 시간 오래 걸리게 반복문 돌면서 순환 순열 만들 필요 x\n",
    "# 그냥 b에 b[:len(b) - 1]을 붙힌 문자열의 부분 문자열 중 a가 몇개 있는지 찾으면됨\n",
    "# ex. a = 101, b = 101\n",
    "# b의 순환순열 = [101, 011, 110]\n",
    "# 이는 10110에 모두 포함 되어 있으므로 붙힌 문자열과 a를 kmp\n",
    "def kmp(all_string, pattern):\n",
    "    table = [0 for _ in range(len(pattern))]\n",
    "    i = 0\n",
    "    for j in range(1, len(pattern)):\n",
    "        while i > 0 and pattern[i] != pattern[j]:\n",
    "            i = table[i - 1]\n",
    "\n",
    "        if pattern[i] == pattern[j]:\n",
    "            i += 1\n",
    "            table[j] = i\n",
    "\n",
    "    result = []\n",
    "    i = 0\n",
    "    for j in range(len(all_string)):\n",
    "        while i > 0 and pattern[i] != all_string[j]:\n",
    "            i = table[i - 1]\n",
    "\n",
    "        if pattern[i] == all_string[j]:\n",
    "            i += 1\n",
    "            if i == len(pattern):\n",
    "                result.append(j - i + 1)\n",
    "                i = table[i - 1]\n",
    "\n",
    "    return result\n",
    "\n",
    "a = input()\n",
    "b = input()\n",
    "b += b[:len(b) - 1]\n",
    "\n",
    "print(len(kmp(b, a)))"
   ]
  },
  {
   "cell_type": "markdown",
   "id": "530e473d",
   "metadata": {},
   "source": [
    "13506번 카멜레온 부분 문자열 <span style=\"color:green\"></span> - 2025.09.11"
   ]
  },
  {
   "cell_type": "code",
   "execution_count": null,
   "id": "9ac83861",
   "metadata": {},
   "outputs": [],
   "source": []
  }
 ],
 "metadata": {
  "kernelspec": {
   "display_name": "base",
   "language": "python",
   "name": "python3"
  },
  "language_info": {
   "codemirror_mode": {
    "name": "ipython",
    "version": 3
   },
   "file_extension": ".py",
   "mimetype": "text/x-python",
   "name": "python",
   "nbconvert_exporter": "python",
   "pygments_lexer": "ipython3",
   "version": "3.12.3"
  }
 },
 "nbformat": 4,
 "nbformat_minor": 5
}
