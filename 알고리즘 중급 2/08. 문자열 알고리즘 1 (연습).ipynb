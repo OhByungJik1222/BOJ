{
 "cells": [
  {
   "cell_type": "markdown",
   "id": "b0af1bf4",
   "metadata": {},
   "source": [
    "12104번 순환 순열 <span style=\"color:green\"></span> - 2025.09.10"
   ]
  },
  {
   "cell_type": "code",
   "execution_count": null,
   "id": "463fb344",
   "metadata": {},
   "outputs": [],
   "source": []
  }
 ],
 "metadata": {
  "language_info": {
   "name": "python"
  }
 },
 "nbformat": 4,
 "nbformat_minor": 5
}
