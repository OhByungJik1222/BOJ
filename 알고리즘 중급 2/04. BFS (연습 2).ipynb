{
 "cells": [
  {
   "cell_type": "markdown",
   "id": "0e1306b6",
   "metadata": {},
   "source": [
    "16956번 늑대와 양 <span style=\"color:green\">성공</span> - 2025.08.07"
   ]
  },
  {
   "cell_type": "code",
   "execution_count": null,
   "id": "38dd33d2",
   "metadata": {},
   "outputs": [],
   "source": [
    "r, c = map(int, input().split())\n",
    "graph = [list(input()) for _ in range(r)]\n",
    "\n",
    "sheep_pos = []\n",
    "for i in range(r):\n",
    "    for j in range(c):\n",
    "        if graph[i][j] == 'S':\n",
    "            sheep_pos.append([i, j])\n",
    "\n",
    "dx = [-1, 1, 0, 0]\n",
    "dy = [0, 0, -1, 1]\n",
    "\n",
    "safe = True\n",
    "for x, y in sheep_pos:\n",
    "    for i in range(4):\n",
    "        nx = x + dx[i]\n",
    "        ny = y + dy[i]\n",
    "\n",
    "        if 0 <= nx < r and 0 <= ny < c:\n",
    "            if graph[nx][ny] == 'W':\n",
    "                safe = False\n",
    "            elif graph[nx][ny] == '.':\n",
    "                graph[nx][ny] = 'D'\n",
    "    if not safe:\n",
    "        print(0)\n",
    "        break\n",
    "if safe:\n",
    "    print(1)\n",
    "    for i in range(r):\n",
    "        print(*graph[i], sep='')"
   ]
  },
  {
   "cell_type": "markdown",
   "id": "14010516",
   "metadata": {},
   "source": [
    "5014번 스타트링크 <span style=\"color:green\"></span> - 2025.08.08"
   ]
  },
  {
   "cell_type": "code",
   "execution_count": null,
   "id": "37556304",
   "metadata": {},
   "outputs": [],
   "source": [
    "from collections import deque\n",
    "\n",
    "def bfs(floor):\n",
    "    visited[floor] = 1\n",
    "    q = deque()\n",
    "    q.append([s, 0])\n",
    "    \n",
    "    while q:\n",
    "        curr, cnt = q.popleft()\n",
    "\n",
    "        if curr == g:\n",
    "            return cnt\n",
    "\n",
    "        for i in [u, -d]:\n",
    "            next = curr + i\n",
    "\n",
    "            if 0 < next <= f and visited[next] == 0:\n",
    "                visited[next] = 1\n",
    "                q.append([next, cnt + 1])\n",
    "    return 'use the stairs'\n",
    "\n",
    "f, s, g, u, d = map(int, input().split())\n",
    "visited = [0 for _ in range(f + 1)]\n",
    "\n",
    "print(bfs(s))"
   ]
  },
  {
   "cell_type": "markdown",
   "id": "ff2e2764",
   "metadata": {},
   "source": [
    "9376번 탈옥 <span style=\"color:green\"></span> - 2025.08.09"
   ]
  },
  {
   "cell_type": "code",
   "execution_count": null,
   "id": "1feb6b28",
   "metadata": {},
   "outputs": [],
   "source": []
  }
 ],
 "metadata": {
  "kernelspec": {
   "display_name": "base",
   "language": "python",
   "name": "python3"
  },
  "language_info": {
   "codemirror_mode": {
    "name": "ipython",
    "version": 3
   },
   "file_extension": ".py",
   "mimetype": "text/x-python",
   "name": "python",
   "nbconvert_exporter": "python",
   "pygments_lexer": "ipython3",
   "version": "3.12.3"
  }
 },
 "nbformat": 4,
 "nbformat_minor": 5
}
