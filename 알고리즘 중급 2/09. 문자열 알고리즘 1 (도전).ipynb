{
 "cells": [
  {
   "cell_type": "markdown",
   "id": "ac536125",
   "metadata": {},
   "source": [
    "10538번 빅 픽쳐 <span style=\"color:green\"></span> - 2025.09.18"
   ]
  },
  {
   "cell_type": "code",
   "execution_count": null,
   "id": "dee8c2cf",
   "metadata": {},
   "outputs": [],
   "source": []
  }
 ],
 "metadata": {
  "language_info": {
   "name": "python"
  }
 },
 "nbformat": 4,
 "nbformat_minor": 5
}
