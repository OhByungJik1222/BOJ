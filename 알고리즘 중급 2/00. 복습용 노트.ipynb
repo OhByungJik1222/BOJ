{
 "cells": [
  {
   "cell_type": "code",
   "execution_count": 15,
   "id": "1a439f8a",
   "metadata": {},
   "outputs": [
    {
     "name": "stdout",
     "output_type": "stream",
     "text": [
      "13\n"
     ]
    }
   ],
   "source": [
    "n = int(input())\n",
    "graph = [list(map(int, input().split())) for _ in range(n)]\n",
    "graph[0][1] = 1\n",
    "\n",
    "dp_horizontal = [[0 for _ in range(n)] for _ in range(n)]\n",
    "dp_vertical = [[0 for _ in range(n)] for _ in range(n)]\n",
    "dp_diagonal = [[0 for _ in range(n)] for _ in range(n)]\n",
    "\n",
    "dp_horizontal[0][1] = 1\n",
    "for i in range(n):\n",
    "    for j in range(1, n):\n",
    "        if graph[i][j] == 0:\n",
    "            if 0 <= j - 1:\n",
    "                dp_horizontal[i][j] += dp_horizontal[i][j - 1]\n",
    "                if 0 <= i - 1:\n",
    "                    dp_horizontal[i][j] += dp_diagonal[i][j - 1]\n",
    "            \n",
    "            if 0 <= i - 1:\n",
    "                dp_vertical[i][j] += dp_vertical[i - 1][j]\n",
    "                if 0 <= j - 1:\n",
    "                    dp_vertical[i][j] += dp_diagonal[i - 1][j]\n",
    "\n",
    "            if 0 <= i - 1 and 0 <= j - 1:\n",
    "                if graph[i][j - 1] == 0 and graph[i - 1][j] == 0:\n",
    "                    dp_diagonal[i][j] += dp_horizontal[i - 1][j - 1]\n",
    "                    dp_diagonal[i][j] += dp_vertical[i - 1][j - 1]\n",
    "                    dp_diagonal[i][j] += dp_diagonal[i - 1][j - 1]\n",
    "                    \n",
    "print(dp_horizontal[n - 1][n - 1] + dp_vertical[n - 1][n - 1] + dp_diagonal[n - 1][n - 1])"
   ]
  },
  {
   "cell_type": "code",
   "execution_count": null,
   "id": "a6fb7aa6",
   "metadata": {},
   "outputs": [],
   "source": [
    "'''\n",
    "\n",
    "'''"
   ]
  }
 ],
 "metadata": {
  "kernelspec": {
   "display_name": "base",
   "language": "python",
   "name": "python3"
  },
  "language_info": {
   "codemirror_mode": {
    "name": "ipython",
    "version": 3
   },
   "file_extension": ".py",
   "mimetype": "text/x-python",
   "name": "python",
   "nbconvert_exporter": "python",
   "pygments_lexer": "ipython3",
   "version": "3.12.3"
  }
 },
 "nbformat": 4,
 "nbformat_minor": 5
}
