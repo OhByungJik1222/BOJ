{
 "cells": [
  {
   "cell_type": "code",
   "execution_count": 25,
   "id": "1a439f8a",
   "metadata": {},
   "outputs": [
    {
     "name": "stdout",
     "output_type": "stream",
     "text": [
      "2\n"
     ]
    }
   ],
   "source": [
    "from collections import deque\n",
    "\n",
    "def bfs():\n",
    "    q = deque()\n",
    "    q.append([sticks[0], sticks[1], sticks[2], 0])\n",
    "\n",
    "    visited = set()\n",
    "    visited.add(tuple(sticks[:]))\n",
    "    while q:\n",
    "        stick_a, stick_b, stick_c, cnt = q.popleft()\n",
    "\n",
    "        if check(stick_a, stick_b, stick_c):\n",
    "            return cnt\n",
    "        \n",
    "        if len(stick_a) != 0:\n",
    "            next_b = stick_b + stick_a[-1]\n",
    "            next_a = stick_a[:-1]\n",
    "\n",
    "            if (next_a, next_b, stick_c) not in visited:\n",
    "                q.append([next_a, next_b, stick_c, cnt + 1])\n",
    "                visited.add((next_a, next_b, stick_c))\n",
    "\n",
    "            next_c = stick_c + stick_a[-1]\n",
    "            next_a = stick_a[:-1]\n",
    "\n",
    "            if (next_a, stick_b, next_c) not in visited:\n",
    "                q.append([next_a, stick_b, next_c, cnt + 1])\n",
    "                visited.add((next_a, stick_b, next_c))\n",
    "\n",
    "        if len(stick_b) != 0:\n",
    "            next_a = stick_a + stick_b[-1]\n",
    "            next_b = stick_b[:-1]\n",
    "\n",
    "            if (next_a, next_b, stick_c) not in visited:\n",
    "                q.append([next_a, next_b, stick_c, cnt + 1])\n",
    "                visited.add((next_a, next_b, stick_c))\n",
    "\n",
    "            next_c = stick_c + stick_b[-1]\n",
    "            next_b = stick_b[:-1]\n",
    "\n",
    "            if (stick_a, next_b, next_c) not in visited:\n",
    "                q.append([stick_a, next_b, next_c, cnt + 1])\n",
    "                visited.add((stick_a, next_b, next_c))\n",
    "\n",
    "        if len(stick_c) != 0:\n",
    "            next_a = stick_a + stick_c[-1]\n",
    "            next_c = stick_c[:-1]\n",
    "\n",
    "            if (next_a, stick_b, next_c) not in visited:\n",
    "                q.append([next_a, stick_b, next_c, cnt + 1])\n",
    "                visited.add((next_a, stick_b, next_c))\n",
    "\n",
    "            next_b = stick_b + stick_c[-1]\n",
    "            next_c = stick_c[:-1]\n",
    "\n",
    "            if (stick_a, next_b, next_c) not in visited:\n",
    "                q.append([stick_a, next_b, next_c, cnt + 1])\n",
    "                visited.add((stick_a, next_b, next_c))\n",
    "\n",
    "def check(stick_a, stick_b, stick_c):\n",
    "    tmp = 0\n",
    "    for disc in stick_a:\n",
    "        if disc == 'A':\n",
    "            tmp += 1\n",
    "    if tmp != a_cnt:\n",
    "        return False\n",
    "    \n",
    "    tmp = 0\n",
    "    for disc in stick_b:\n",
    "        if disc == 'B':\n",
    "            tmp += 1\n",
    "    if tmp != b_cnt:\n",
    "        return False\n",
    "    \n",
    "    tmp = 0\n",
    "    for disc in stick_c:\n",
    "        if disc == 'C':\n",
    "            tmp += 1\n",
    "    if tmp != c_cnt:\n",
    "        return False\n",
    "    \n",
    "    return True\n",
    "\n",
    "sticks = []\n",
    "for _ in range(3):\n",
    "    stick = input().split()\n",
    "    if stick[0] != '0':\n",
    "        sticks.append(stick[1])\n",
    "    else:\n",
    "        sticks.append('')\n",
    "\n",
    "a_cnt = 0\n",
    "b_cnt = 0\n",
    "c_cnt = 0\n",
    "for stick in sticks:\n",
    "    for disc in stick:\n",
    "        if disc == 'A':\n",
    "            a_cnt += 1\n",
    "        elif disc == 'B':\n",
    "            b_cnt += 1\n",
    "        elif disc == 'C':\n",
    "            c_cnt += 1\n",
    "\n",
    "print(bfs())"
   ]
  },
  {
   "cell_type": "code",
   "execution_count": 14,
   "id": "a6fb7aa6",
   "metadata": {},
   "outputs": [
    {
     "data": {
      "text/plain": [
       "'ABCsdf'"
      ]
     },
     "execution_count": 14,
     "metadata": {},
     "output_type": "execute_result"
    }
   ],
   "source": [
    "a = 'ABCsdfa'\n",
    "a[:-1]"
   ]
  }
 ],
 "metadata": {
  "kernelspec": {
   "display_name": "base",
   "language": "python",
   "name": "python3"
  },
  "language_info": {
   "codemirror_mode": {
    "name": "ipython",
    "version": 3
   },
   "file_extension": ".py",
   "mimetype": "text/x-python",
   "name": "python",
   "nbconvert_exporter": "python",
   "pygments_lexer": "ipython3",
   "version": "3.12.3"
  }
 },
 "nbformat": 4,
 "nbformat_minor": 5
}
