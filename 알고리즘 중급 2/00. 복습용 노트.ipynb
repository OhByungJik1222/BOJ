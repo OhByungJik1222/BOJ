{
 "cells": [
  {
   "cell_type": "code",
   "execution_count": null,
   "id": "1a439f8a",
   "metadata": {},
   "outputs": [],
   "source": [
    "def dfs(depth):\n",
    "    if depth == k:\n",
    "        rotate()\n",
    "        return\n",
    "\n",
    "    for i in range(k):\n",
    "        if i not in tmp:\n",
    "            tmp.append(i)\n",
    "            dfs(depth + 1)\n",
    "            tmp.pop()\n",
    "\n",
    "def rotate():\n",
    "    global ans\n",
    "\n",
    "    tmp_graph = [graph[i][:] for i in range(n)]\n",
    "\n",
    "    for idx in tmp:\n",
    "        r, c, s = coord[idx]\n",
    "\n",
    "        for i in range(1, s + 1):\n",
    "            prev_num = tmp_graph[r - i + 1][c - i]\n",
    "            for j in range(c - i, c + i + 1):\n",
    "                curr_num = tmp_graph[r - i][j]\n",
    "                tmp_graph[r - i][j] = prev_num\n",
    "                prev_num = curr_num\n",
    "            \n",
    "            for j in range(r - i + 1, r + i + 1):\n",
    "                curr_num = tmp_graph[j][c + i]\n",
    "                tmp_graph[j][c + i] = prev_num\n",
    "                prev_num = curr_num\n",
    "\n",
    "            for j in range(c + i - 1, c - i - 1, -1):\n",
    "                curr_num = tmp_graph[r + i][j]\n",
    "                tmp_graph[r + i][j] = prev_num\n",
    "                prev_num = curr_num\n",
    "\n",
    "            for j in range(r + i - 1, r - i, -1):\n",
    "                curr_num = tmp_graph[j][c - i]\n",
    "                tmp_graph[j][c - i] = prev_num\n",
    "                prev_num = curr_num\n",
    "            \n",
    "    for i in range(n):\n",
    "        ans = min(ans, sum(tmp_graph[i]))\n",
    "\n",
    "n, m, k = map(int, input().split())\n",
    "graph = [list(map(int, input().split())) for _ in range(n)]\n",
    "coord = []\n",
    "for _ in range(k):\n",
    "    r, c, s = map(int, input().split())\n",
    "    coord.append([r - 1, c - 1, s])\n",
    "\n",
    "ans = float('inf')\n",
    "tmp = []\n",
    "dfs(0)\n",
    "\n",
    "print(ans)"
   ]
  },
  {
   "cell_type": "code",
   "execution_count": null,
   "id": "2499e037",
   "metadata": {},
   "outputs": [],
   "source": [
    "'''\n",
    "\n",
    "'''"
   ]
  }
 ],
 "metadata": {
  "kernelspec": {
   "display_name": "base",
   "language": "python",
   "name": "python3"
  },
  "language_info": {
   "codemirror_mode": {
    "name": "ipython",
    "version": 3
   },
   "file_extension": ".py",
   "mimetype": "text/x-python",
   "name": "python",
   "nbconvert_exporter": "python",
   "pygments_lexer": "ipython3",
   "version": "3.12.3"
  }
 },
 "nbformat": 4,
 "nbformat_minor": 5
}
