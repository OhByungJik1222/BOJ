{
 "cells": [
  {
   "cell_type": "code",
   "execution_count": null,
   "id": "1a439f8a",
   "metadata": {},
   "outputs": [],
   "source": [
    "from collections import deque\n",
    "\n",
    "def bfs():\n",
    "    q = deque()\n",
    "    for x in range(n):\n",
    "        for y in range(m):\n",
    "            if graph[x][y] == 1:\n",
    "                visited[x][y] = 0\n",
    "                q.append([x, y])\n",
    "\n",
    "    while q:\n",
    "        x, y = q.popleft()\n",
    "\n",
    "        for i in range(8):\n",
    "            nx = x + dx[i]\n",
    "            ny = y + dy[i]\n",
    "\n",
    "            if 0 <= nx < n and 0 <= ny < m:\n",
    "                if visited[nx][ny] >= visited[x][y] + 1:\n",
    "                    visited[nx][ny] = visited[x][y] + 1\n",
    "                    q.append([nx, ny])\n",
    "\n",
    "n, m = map(int, input().split())\n",
    "graph = [list(map(int, input().split())) for _ in range(n)]\n",
    "visited = [[-1 for _ in range(m)] for _ in range(n)]\n",
    "\n",
    "dx = [-1, -1, 0, 1, 1, 1, 0, -1]\n",
    "dy = [0, 1, 1, 1, 0, -1, -1, -1]\n",
    "\n",
    "bfs()\n",
    "\n",
    "ans = 0\n",
    "for i in range(n):\n",
    "        ans = max(ans, max(visited[i]))\n",
    "print(ans)"
   ]
  },
  {
   "cell_type": "code",
   "execution_count": null,
   "id": "a6fb7aa6",
   "metadata": {},
   "outputs": [],
   "source": [
    "'''\n",
    "\n",
    "'''"
   ]
  }
 ],
 "metadata": {
  "kernelspec": {
   "display_name": "base",
   "language": "python",
   "name": "python3"
  },
  "language_info": {
   "codemirror_mode": {
    "name": "ipython",
    "version": 3
   },
   "file_extension": ".py",
   "mimetype": "text/x-python",
   "name": "python",
   "nbconvert_exporter": "python",
   "pygments_lexer": "ipython3",
   "version": "3.12.3"
  }
 },
 "nbformat": 4,
 "nbformat_minor": 5
}
