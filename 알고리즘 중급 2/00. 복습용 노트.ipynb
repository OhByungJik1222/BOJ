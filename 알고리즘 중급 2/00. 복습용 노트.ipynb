{
 "cells": [
  {
   "cell_type": "code",
   "execution_count": null,
   "id": "1a439f8a",
   "metadata": {},
   "outputs": [],
   "source": [
    "from collections import deque\n",
    "\n",
    "def bfs(x, y):\n",
    "    q = deque()\n",
    "    q.append([x, y])\n",
    "\n",
    "    visited = [[0 for _ in range(m)] for _ in range(n)]\n",
    "    visited[x][y] = 1\n",
    "\n",
    "    cnt = 1\n",
    "    while q:\n",
    "        x, y = q.popleft()\n",
    "\n",
    "        for i in range(4):\n",
    "            nx = x + dx[i]\n",
    "            ny = y + dy[i]\n",
    "\n",
    "            if 0 <= nx < n and 0 <= ny < m and graph[nx][ny] == 1 and visited[nx][ny] == 0:\n",
    "                visited[nx][ny] = 1\n",
    "                cnt += 1\n",
    "                q.append([nx, ny])\n",
    "    return cnt\n",
    "\n",
    "n, m = map(int, input().split())\n",
    "graph = [list(map(int, input().split())) for _ in range(n)]\n",
    "\n",
    "dx = [-1, 1, 0, 0]\n",
    "dy = [0, 0, -1, 1]\n",
    "\n",
    "pos = []\n",
    "for i in range(n):\n",
    "    for j in range(m):\n",
    "        if graph[i][j] == 1:\n",
    "            pos.append([i, j])\n",
    "\n",
    "ans = 0\n",
    "checked = [[0 for _ in range(m)] for _ in range(n)]\n",
    "for x, y in pos:\n",
    "    for i in range(4):\n",
    "        nx = x + dx[i]\n",
    "        ny = y + dy[i]\n",
    "\n",
    "        if 0 <= nx < n and 0 <= ny < m and graph[nx][ny] == 0 and checked[nx][ny] == 0:\n",
    "            checked[nx][ny] = 1\n",
    "            graph[nx][ny] = 1\n",
    "            ans = max(ans, bfs(nx, ny))\n",
    "            graph[nx][ny] = 0\n",
    "print(ans)"
   ]
  },
  {
   "cell_type": "code",
   "execution_count": null,
   "id": "a6fb7aa6",
   "metadata": {},
   "outputs": [],
   "source": [
    "'''\n",
    "\n",
    "'''"
   ]
  }
 ],
 "metadata": {
  "kernelspec": {
   "display_name": "base",
   "language": "python",
   "name": "python3"
  },
  "language_info": {
   "codemirror_mode": {
    "name": "ipython",
    "version": 3
   },
   "file_extension": ".py",
   "mimetype": "text/x-python",
   "name": "python",
   "nbconvert_exporter": "python",
   "pygments_lexer": "ipython3",
   "version": "3.12.3"
  }
 },
 "nbformat": 4,
 "nbformat_minor": 5
}
