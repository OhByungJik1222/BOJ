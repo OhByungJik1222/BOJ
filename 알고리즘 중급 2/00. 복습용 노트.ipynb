{
 "cells": [
  {
   "cell_type": "code",
   "execution_count": null,
   "id": "1a439f8a",
   "metadata": {},
   "outputs": [],
   "source": [
    "from collections import deque\n",
    "\n",
    "def bfs(start):\n",
    "    q = deque()\n",
    "    q.append(start)\n",
    "\n",
    "    while q:\n",
    "        curr = q.popleft()\n",
    "\n",
    "        for i in range(3):\n",
    "            if curr[i] == 0:\n",
    "                continue\n",
    "            for j in range(3):\n",
    "                next = curr[:]\n",
    "                if i == j or next[j] == v[j]:\n",
    "                    continue\n",
    "\n",
    "                if next[i] + next[j] <= v[j]:\n",
    "                    next[j] += next[i]\n",
    "                    next[i] = 0\n",
    "                elif next[i] + next[j] > v[j]:\n",
    "                    next[i] -= (v[j] - next[j])\n",
    "                    next[j] = v[j]\n",
    "\n",
    "                if tuple(next) not in visited:\n",
    "                    q.append(next)\n",
    "                    visited.add(tuple(next))\n",
    "\n",
    "v = list(map(int, input().split()))\n",
    "\n",
    "visited = set()\n",
    "bfs([0, 0, v[2]])\n",
    "\n",
    "ans = set()\n",
    "for a, b, c in visited:\n",
    "    if a == 0:\n",
    "        ans.add(c)\n",
    "print(*sorted(list(ans)))"
   ]
  },
  {
   "cell_type": "code",
   "execution_count": null,
   "id": "a6fb7aa6",
   "metadata": {},
   "outputs": [],
   "source": [
    "'''\n",
    "\n",
    "'''"
   ]
  }
 ],
 "metadata": {
  "kernelspec": {
   "display_name": "base",
   "language": "python",
   "name": "python3"
  },
  "language_info": {
   "codemirror_mode": {
    "name": "ipython",
    "version": 3
   },
   "file_extension": ".py",
   "mimetype": "text/x-python",
   "name": "python",
   "nbconvert_exporter": "python",
   "pygments_lexer": "ipython3",
   "version": "3.12.3"
  }
 },
 "nbformat": 4,
 "nbformat_minor": 5
}
