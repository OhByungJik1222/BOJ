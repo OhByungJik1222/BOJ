{
 "cells": [
  {
   "cell_type": "code",
   "execution_count": 3,
   "id": "1a439f8a",
   "metadata": {},
   "outputs": [
    {
     "name": "stdout",
     "output_type": "stream",
     "text": [
      "use the stairs\n"
     ]
    }
   ],
   "source": [
    "from collections import deque\n",
    "\n",
    "def bfs(s):\n",
    "    q = deque()\n",
    "    q.append([s, 0])\n",
    "\n",
    "    visited[s] = 1\n",
    "\n",
    "    while q:\n",
    "        s, cnt = q.popleft()\n",
    "\n",
    "        if s == g:\n",
    "            return cnt\n",
    "\n",
    "        for btn in (u, -d):\n",
    "            ns = s + btn\n",
    "\n",
    "            if ns > 0 and ns <= f and visited[ns] == 0:\n",
    "                visited[ns] = 1\n",
    "                q.append([ns, cnt + 1])\n",
    "    return \"use the stairs\"\n",
    "\n",
    "f, s, g, u, d = map(int, input().split())\n",
    "\n",
    "visited = [0 for _ in range(f + 1)]\n",
    "\n",
    "print(bfs(s))"
   ]
  },
  {
   "cell_type": "code",
   "execution_count": null,
   "id": "a6fb7aa6",
   "metadata": {},
   "outputs": [],
   "source": [
    "'''\n",
    "\n",
    "'''"
   ]
  }
 ],
 "metadata": {
  "kernelspec": {
   "display_name": "base",
   "language": "python",
   "name": "python3"
  },
  "language_info": {
   "codemirror_mode": {
    "name": "ipython",
    "version": 3
   },
   "file_extension": ".py",
   "mimetype": "text/x-python",
   "name": "python",
   "nbconvert_exporter": "python",
   "pygments_lexer": "ipython3",
   "version": "3.12.3"
  }
 },
 "nbformat": 4,
 "nbformat_minor": 5
}
