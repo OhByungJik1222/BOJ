{
 "cells": [
  {
   "cell_type": "code",
   "execution_count": 11,
   "id": "1a439f8a",
   "metadata": {},
   "outputs": [
    {
     "name": "stdout",
     "output_type": "stream",
     "text": [
      "49\n",
      "-1\n",
      "8\n",
      "4\n",
      "9\n"
     ]
    }
   ],
   "source": [
    "from collections import deque\n",
    "\n",
    "def bfs(x, y, start_num):\n",
    "    q = deque()\n",
    "    q.append([x, y, 0])\n",
    "\n",
    "    visited = [[0 for _ in range(w)] for _ in range(h)]\n",
    "    visited[x][y] = 1\n",
    "    while q:\n",
    "        x, y, cnt = q.popleft()\n",
    "\n",
    "        if type(graph[x][y]) == int:\n",
    "            spot_dist[start_num][graph[x][y]] = cnt\n",
    "\n",
    "        for i in range(4):\n",
    "            nx = x + dx[i]\n",
    "            ny = y + dy[i]\n",
    "\n",
    "            if 0 <= nx < h and 0 <= ny < w and graph[nx][ny] != 'x' and visited[nx][ny] == 0:\n",
    "                visited[nx][ny] = 1\n",
    "                q.append([nx, ny, cnt + 1])\n",
    "\n",
    "def dfs(curr, cnt, depth):\n",
    "    global ans\n",
    "\n",
    "    if depth == num - 1:\n",
    "        ans = min(ans, cnt)\n",
    "        return\n",
    "    \n",
    "    for next in range(num):\n",
    "        if visited[next] == 0:\n",
    "            visited[next] = 1\n",
    "            dfs(next, cnt + spot_dist[curr][next], depth + 1)\n",
    "            visited[next] = 0\n",
    "\n",
    "dx = [-1, 1, 0, 0]\n",
    "dy = [0, 0, -1, 1]\n",
    "\n",
    "while True:\n",
    "    w, h = map(int, input().split())\n",
    "    if w == 0 and h == 0: break\n",
    "    graph = [list(input()) for _ in range(h)]\n",
    "\n",
    "    spots = []\n",
    "    num = 1\n",
    "    for i in range(h):\n",
    "        for j in range(w):\n",
    "            if graph[i][j] == 'o':\n",
    "                spots.append([i, j])\n",
    "                graph[i][j] = 0\n",
    "            if graph[i][j] == '*':\n",
    "                spots.append([i, j])\n",
    "                graph[i][j] = num\n",
    "                num += 1\n",
    "\n",
    "    spot_dist = [[float('inf') for _ in range(num)] for _ in range(num)]\n",
    "    for spot in spots:\n",
    "        x, y = spot\n",
    "        start_num = graph[x][y]\n",
    "        spot_dist[start_num][start_num] = 0\n",
    "        bfs(x, y, start_num)\n",
    "    \n",
    "    ans = float('inf')\n",
    "    visited = [0 for _ in range(num)]\n",
    "    visited[0] = 1\n",
    "    dfs(0, 0, 0)\n",
    "\n",
    "    if ans == float('inf'):\n",
    "        print(-1)\n",
    "    else:\n",
    "        print(ans)"
   ]
  },
  {
   "cell_type": "code",
   "execution_count": null,
   "id": "a6fb7aa6",
   "metadata": {},
   "outputs": [],
   "source": [
    "a = 1\n",
    "type(a) == str"
   ]
  }
 ],
 "metadata": {
  "kernelspec": {
   "display_name": "base",
   "language": "python",
   "name": "python3"
  },
  "language_info": {
   "codemirror_mode": {
    "name": "ipython",
    "version": 3
   },
   "file_extension": ".py",
   "mimetype": "text/x-python",
   "name": "python",
   "nbconvert_exporter": "python",
   "pygments_lexer": "ipython3",
   "version": "3.12.3"
  }
 },
 "nbformat": 4,
 "nbformat_minor": 5
}
