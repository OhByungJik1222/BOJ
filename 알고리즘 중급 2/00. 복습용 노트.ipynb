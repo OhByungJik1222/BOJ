{
 "cells": [
  {
   "cell_type": "code",
   "execution_count": 47,
   "id": "1a439f8a",
   "metadata": {},
   "outputs": [
    {
     "name": "stdout",
     "output_type": "stream",
     "text": [
      "5\n"
     ]
    }
   ],
   "source": [
    "from collections import deque\n",
    "\n",
    "def bfs(a):\n",
    "    q = deque()\n",
    "    q.append([a, 0])\n",
    "\n",
    "    visited = set()\n",
    "    visited.add(a)\n",
    "\n",
    "    while q:\n",
    "        a, cnt = q.popleft()\n",
    "\n",
    "        if int(a) == int(b):\n",
    "            return cnt + 1\n",
    "        \n",
    "        na = a + '1'\n",
    "        if na not in visited and int(na) <= int(b):\n",
    "            visited.add(na)\n",
    "            q.append([na, cnt + 1])\n",
    "        \n",
    "        na = str(int(a) * 2)\n",
    "        if na not in visited and int(na) <= int(b):\n",
    "            visited.add(na)\n",
    "            q.append([na, cnt + 1])\n",
    "    return -1\n",
    "\n",
    "\n",
    "a, b = input().split()\n",
    "\n",
    "print(bfs(a))"
   ]
  },
  {
   "cell_type": "code",
   "execution_count": null,
   "id": "a6fb7aa6",
   "metadata": {},
   "outputs": [],
   "source": [
    "'''\n",
    "\n",
    "'''"
   ]
  }
 ],
 "metadata": {
  "kernelspec": {
   "display_name": "base",
   "language": "python",
   "name": "python3"
  },
  "language_info": {
   "codemirror_mode": {
    "name": "ipython",
    "version": 3
   },
   "file_extension": ".py",
   "mimetype": "text/x-python",
   "name": "python",
   "nbconvert_exporter": "python",
   "pygments_lexer": "ipython3",
   "version": "3.12.3"
  }
 },
 "nbformat": 4,
 "nbformat_minor": 5
}
