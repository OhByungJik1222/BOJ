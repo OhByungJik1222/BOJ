{
 "cells": [
  {
   "cell_type": "code",
   "execution_count": null,
   "id": "1a439f8a",
   "metadata": {},
   "outputs": [
    {
     "name": "stdout",
     "output_type": "stream",
     "text": [
      "10\n"
     ]
    }
   ],
   "source": [
    "n, s = map(int, input().split())\n",
    "arr = list(map(int, input().split()))\n",
    "\n",
    "if sum(arr) < s:\n",
    "    ans = 0\n",
    "else:\n",
    "    tmp = arr[0]\n",
    "    left = 0\n",
    "    right = 0\n",
    "    ans = n\n",
    "    while left <= right:\n",
    "        if tmp >= s:\n",
    "            ans = min(ans, right - left + 1)\n",
    "            tmp -= arr[left]\n",
    "            left += 1\n",
    "        else:\n",
    "            right += 1\n",
    "            if right == n:\n",
    "                break\n",
    "            tmp += arr[right]\n",
    "print(ans)"
   ]
  },
  {
   "cell_type": "code",
   "execution_count": null,
   "id": "a6fb7aa6",
   "metadata": {},
   "outputs": [],
   "source": [
    "'''\n",
    "\n",
    "'''"
   ]
  }
 ],
 "metadata": {
  "kernelspec": {
   "display_name": "base",
   "language": "python",
   "name": "python3"
  },
  "language_info": {
   "codemirror_mode": {
    "name": "ipython",
    "version": 3
   },
   "file_extension": ".py",
   "mimetype": "text/x-python",
   "name": "python",
   "nbconvert_exporter": "python",
   "pygments_lexer": "ipython3",
   "version": "3.12.3"
  }
 },
 "nbformat": 4,
 "nbformat_minor": 5
}
