{
 "cells": [
  {
   "cell_type": "code",
   "execution_count": null,
   "id": "1a439f8a",
   "metadata": {},
   "outputs": [],
   "source": [
    "r, c = map(int, input().split())\n",
    "graph = [list(input()) for _ in range(r)]\n",
    "\n",
    "dx = [-1, 1, 0, 0]\n",
    "dy = [0, 0, -1, 1]\n",
    "\n",
    "flag = True\n",
    "for i in range(c):\n",
    "    for j in range(r):\n",
    "        if graph[j][i] == 'S':\n",
    "            for k in range(4):\n",
    "                nx = i + dx[k]\n",
    "                ny = j + dy[k]\n",
    "\n",
    "                if 0 <= nx < r and 0 <= ny < c:\n",
    "                    if graph[nx][ny] == 'W':\n",
    "                        flag = False\n",
    "                    elif graph[nx][ny] == '.':\n",
    "                        graph[nx][ny] = 'D'\n",
    "if flag:\n",
    "    print(1)\n",
    "    for i in range(c):\n",
    "        print(*graph[i], sep='')\n",
    "else:\n",
    "    print(0)"
   ]
  },
  {
   "cell_type": "code",
   "execution_count": null,
   "id": "a6fb7aa6",
   "metadata": {},
   "outputs": [],
   "source": [
    "'''\n",
    "\n",
    "'''"
   ]
  }
 ],
 "metadata": {
  "kernelspec": {
   "display_name": "base",
   "language": "python",
   "name": "python3"
  },
  "language_info": {
   "codemirror_mode": {
    "name": "ipython",
    "version": 3
   },
   "file_extension": ".py",
   "mimetype": "text/x-python",
   "name": "python",
   "nbconvert_exporter": "python",
   "pygments_lexer": "ipython3",
   "version": "3.12.3"
  }
 },
 "nbformat": 4,
 "nbformat_minor": 5
}
