{
 "cells": [
  {
   "cell_type": "code",
   "execution_count": null,
   "id": "1a439f8a",
   "metadata": {},
   "outputs": [],
   "source": [
    "def seive_of_erastothenes(n):\n",
    "    if n == 1:\n",
    "        return [0]\n",
    "    is_prime = [1 for _ in range(n + 1)]\n",
    "    for i in range(2, int(n**0.5) + 1):\n",
    "        if is_prime[i]:\n",
    "            for j in range(i**2, n + 1, i):\n",
    "                is_prime[j] = 0\n",
    "    return [i for i in range(2, n + 1) if is_prime[i]]\n",
    "\n",
    "n = int(input())\n",
    "primes = seive_of_erastothenes(n)\n",
    "\n",
    "ans = 0\n",
    "left = 0\n",
    "right = 0\n",
    "tmp = primes[0]\n",
    "while left <= right:\n",
    "    if tmp >= n:\n",
    "        if tmp == n:\n",
    "            ans += 1\n",
    "        tmp -= primes[left]\n",
    "        left += 1\n",
    "    else:\n",
    "        right += 1\n",
    "        if right >= len(primes):\n",
    "            break\n",
    "        tmp += primes[right]\n",
    "print(ans)"
   ]
  },
  {
   "cell_type": "code",
   "execution_count": null,
   "id": "a6fb7aa6",
   "metadata": {},
   "outputs": [],
   "source": [
    "'''\n",
    "\n",
    "'''"
   ]
  }
 ],
 "metadata": {
  "kernelspec": {
   "display_name": "base",
   "language": "python",
   "name": "python3"
  },
  "language_info": {
   "codemirror_mode": {
    "name": "ipython",
    "version": 3
   },
   "file_extension": ".py",
   "mimetype": "text/x-python",
   "name": "python",
   "nbconvert_exporter": "python",
   "pygments_lexer": "ipython3",
   "version": "3.12.3"
  }
 },
 "nbformat": 4,
 "nbformat_minor": 5
}
