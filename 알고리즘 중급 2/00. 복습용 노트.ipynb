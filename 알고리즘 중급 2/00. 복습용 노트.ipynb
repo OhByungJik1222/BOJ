{
 "cells": [
  {
   "cell_type": "code",
   "execution_count": null,
   "id": "1a439f8a",
   "metadata": {},
   "outputs": [],
   "source": [
    "from collections import defaultdict\n",
    "\n",
    "t = int(input())\n",
    "n = int(input())\n",
    "a = list(map(int, input().split()))\n",
    "m = int(input())\n",
    "b = list(map(int, input().split()))\n",
    "\n",
    "p_sum_a = [0] + a[:]\n",
    "for i in range(1, n + 1):\n",
    "    p_sum_a[i] += p_sum_a[i - 1]\n",
    "\n",
    "p_sum_b = [0] + b[:]\n",
    "for i in range(1, m + 1):\n",
    "    p_sum_b[i] += p_sum_b[i - 1]\n",
    "\n",
    "cnt = defaultdict(int)\n",
    "for i in range(n):\n",
    "    for j in range(i + 1, n + 1):\n",
    "        cnt[p_sum_a[j] - p_sum_a[i]] += 1\n",
    "\n",
    "ans = 0\n",
    "for i in range(m):\n",
    "    for j in range(i + 1, m + 1):\n",
    "        ans += cnt[t - (p_sum_b[j] - p_sum_b[i])]\n",
    "\n",
    "print(ans)\n"
   ]
  },
  {
   "cell_type": "code",
   "execution_count": null,
   "id": "a6fb7aa6",
   "metadata": {},
   "outputs": [],
   "source": [
    "'''\n",
    "\n",
    "'''"
   ]
  }
 ],
 "metadata": {
  "kernelspec": {
   "display_name": "base",
   "language": "python",
   "name": "python3"
  },
  "language_info": {
   "codemirror_mode": {
    "name": "ipython",
    "version": 3
   },
   "file_extension": ".py",
   "mimetype": "text/x-python",
   "name": "python",
   "nbconvert_exporter": "python",
   "pygments_lexer": "ipython3",
   "version": "3.12.3"
  }
 },
 "nbformat": 4,
 "nbformat_minor": 5
}
