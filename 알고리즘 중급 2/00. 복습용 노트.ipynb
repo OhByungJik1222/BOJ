{
 "cells": [
  {
   "cell_type": "code",
   "execution_count": null,
   "id": "1a439f8a",
   "metadata": {},
   "outputs": [
    {
     "name": "stdout",
     "output_type": "stream",
     "text": [
      "4\n"
     ]
    }
   ],
   "source": [
    "from collections import deque\n",
    "\n",
    "MONKEY = 1\n",
    "HORSE = 2\n",
    "\n",
    "def bfs():\n",
    "    q = deque()\n",
    "    q.append([0, 0, 0, 0])\n",
    "\n",
    "\n",
    "    visited[0][0] = 0\n",
    "    while q:\n",
    "        x, y, cnt, move = q.popleft()\n",
    "\n",
    "        if x == h - 1 and y == w - 1:\n",
    "            return move\n",
    "\n",
    "        for animal in [MONKEY, HORSE]:\n",
    "            if animal == MONKEY:\n",
    "                for i in range(4):\n",
    "                    nx = x + monkey_dx[i]\n",
    "                    ny = y + monkey_dy[i]\n",
    "\n",
    "                    if 0 <= nx < h and 0 <= ny < w and graph[nx][ny] == 0:\n",
    "                        if visited[nx][ny] > cnt:\n",
    "                            visited[nx][ny] = cnt\n",
    "                            q.append([nx, ny, cnt, move + 1])\n",
    "                            \n",
    "            elif animal == HORSE and cnt < k:\n",
    "                for i in range(8):\n",
    "                    nx = x + horse_dx[i]\n",
    "                    ny = y + horse_dy[i]\n",
    "\n",
    "                    if 0 <= nx < h and 0 <= ny < w and graph[nx][ny] == 0:\n",
    "                        if visited[nx][ny] > cnt + 1:\n",
    "                            visited[nx][ny] = cnt + 1\n",
    "                            q.append([nx, ny, cnt + 1, move + 1])\n",
    "    return -1\n",
    "\n",
    "k = int(input())\n",
    "w, h = map(int, input().split())\n",
    "graph = [list(map(int, input().split())) for _ in range(h)]\n",
    "visited = [[k + 1 for _ in range(w)] for _ in range(h)]\n",
    "\n",
    "monkey_dx = [-1, 1, 0, 0]\n",
    "monkey_dy = [0, 0, -1, 1]\n",
    "\n",
    "horse_dx = [-2, -1, 1, 2, 2, 1, -1, -2]\n",
    "horse_dy = [1, 2, 2, 1, -1, -2, -2, -1]\n",
    "\n",
    "print(bfs())"
   ]
  },
  {
   "cell_type": "code",
   "execution_count": null,
   "id": "a6fb7aa6",
   "metadata": {},
   "outputs": [],
   "source": [
    "'''\n",
    "\n",
    "'''"
   ]
  }
 ],
 "metadata": {
  "kernelspec": {
   "display_name": "base",
   "language": "python",
   "name": "python3"
  },
  "language_info": {
   "codemirror_mode": {
    "name": "ipython",
    "version": 3
   },
   "file_extension": ".py",
   "mimetype": "text/x-python",
   "name": "python",
   "nbconvert_exporter": "python",
   "pygments_lexer": "ipython3",
   "version": "3.12.3"
  }
 },
 "nbformat": 4,
 "nbformat_minor": 5
}
