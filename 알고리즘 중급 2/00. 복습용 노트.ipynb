{
 "cells": [
  {
   "cell_type": "code",
   "execution_count": null,
   "id": "1a439f8a",
   "metadata": {},
   "outputs": [],
   "source": [
    "n = int(input())\n",
    "a_arr = []\n",
    "b_arr = []\n",
    "c_arr = []\n",
    "d_arr = []\n",
    "for _ in range(n):\n",
    "    a, b, c, d = map(int, input().split())\n",
    "    a_arr.append(a)\n",
    "    b_arr.append(b)\n",
    "    c_arr.append(c)\n",
    "    d_arr.append(d)\n",
    "\n",
    "cnt = dict()\n",
    "for i in range(n):\n",
    "    for j in range(n):\n",
    "        if a_arr[i] + b_arr[j] not in cnt.keys():\n",
    "            cnt[a_arr[i] + b_arr[j]] = 1\n",
    "        else:\n",
    "            cnt[a_arr[i] + b_arr[j]] += 1\n",
    "\n",
    "ans = 0\n",
    "for i in range(n):\n",
    "    for j in range(n):\n",
    "        if -(c_arr[i] + d_arr[j]) not in cnt.keys():\n",
    "            pass\n",
    "        else:\n",
    "            ans += cnt[-(c_arr[i] + d_arr[j])]\n",
    "print(ans)"
   ]
  },
  {
   "cell_type": "code",
   "execution_count": null,
   "id": "a6fb7aa6",
   "metadata": {},
   "outputs": [],
   "source": [
    "'''\n",
    "\n",
    "'''"
   ]
  }
 ],
 "metadata": {
  "kernelspec": {
   "display_name": "base",
   "language": "python",
   "name": "python3"
  },
  "language_info": {
   "codemirror_mode": {
    "name": "ipython",
    "version": 3
   },
   "file_extension": ".py",
   "mimetype": "text/x-python",
   "name": "python",
   "nbconvert_exporter": "python",
   "pygments_lexer": "ipython3",
   "version": "3.12.3"
  }
 },
 "nbformat": 4,
 "nbformat_minor": 5
}
