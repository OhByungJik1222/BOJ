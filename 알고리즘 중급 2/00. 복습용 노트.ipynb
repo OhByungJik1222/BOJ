{
 "cells": [
  {
   "cell_type": "code",
   "execution_count": 12,
   "id": "1a439f8a",
   "metadata": {},
   "outputs": [
    {
     "name": "stdout",
     "output_type": "stream",
     "text": [
      "10\n"
     ]
    }
   ],
   "source": [
    "from collections import deque\n",
    "\n",
    "def bfs(x, y):\n",
    "    q = deque()\n",
    "    q.append([x, y])\n",
    "\n",
    "    while q:\n",
    "        x, y = q.popleft()\n",
    "\n",
    "        for i in range(4):\n",
    "            nx = x + dx[i]\n",
    "            ny = y + dy[i]\n",
    "\n",
    "            if 0 <= nx < n and 0 <= ny < m and visited[nx][ny] == 0:\n",
    "                if graph[nx][ny] == 2:\n",
    "                    visited[nx][ny] = 1\n",
    "                    q.append([nx, ny])\n",
    "                    group.append([nx, ny])\n",
    "\n",
    "def check():\n",
    "    global ans\n",
    "\n",
    "    cnt = 0\n",
    "    for group in groups:\n",
    "        ans_flag = True\n",
    "        for x, y in group:\n",
    "            for i in range(4):\n",
    "                nx = x + dx[i]\n",
    "                ny = y + dy[i]\n",
    "\n",
    "                if 0 <= nx < n and 0 <= ny < m and tmp[nx][ny] == 0:\n",
    "                    ans_flag = False\n",
    "\n",
    "        if ans_flag:\n",
    "            cnt += len(group)\n",
    "    \n",
    "    ans = max(ans, cnt)\n",
    "\n",
    "n, m = map(int, input().split())\n",
    "graph = [list(map(int, input().split())) for _ in range(n)]\n",
    "\n",
    "blank_pos = []\n",
    "for i in range(n):\n",
    "    for j in range(m):\n",
    "        if graph[i][j] == 0:\n",
    "            blank_pos.append([i, j])\n",
    "\n",
    "dx = [-1, 1, 0, 0]\n",
    "dy = [0, 0, -1, 1]\n",
    "\n",
    "groups = []\n",
    "visited = [[0 for _ in range(m)] for _ in range(n)]\n",
    "for i in range(n):\n",
    "    for j in range(m):\n",
    "        if graph[i][j] == 2 and visited[i][j] == 0:\n",
    "            group = [[i, j]]\n",
    "            visited[i][j] = 1\n",
    "            bfs(i, j)\n",
    "            groups.append(group)\n",
    "\n",
    "ans = 0\n",
    "for i in range(len(blank_pos) - 1):\n",
    "    for j in range(i + 1, len(blank_pos)):\n",
    "        tmp = [graph[i][:] for i in range(n)]\n",
    "\n",
    "        x1, y1 = blank_pos[i]\n",
    "        x2, y2 = blank_pos[j]\n",
    "\n",
    "        tmp[x1][y1] = 1\n",
    "        tmp[x2][y2] = 1\n",
    "\n",
    "        check()\n",
    "print(ans)"
   ]
  },
  {
   "cell_type": "code",
   "execution_count": null,
   "id": "a6fb7aa6",
   "metadata": {},
   "outputs": [],
   "source": [
    "'''\n",
    "\n",
    "'''"
   ]
  }
 ],
 "metadata": {
  "kernelspec": {
   "display_name": "base",
   "language": "python",
   "name": "python3"
  },
  "language_info": {
   "codemirror_mode": {
    "name": "ipython",
    "version": 3
   },
   "file_extension": ".py",
   "mimetype": "text/x-python",
   "name": "python",
   "nbconvert_exporter": "python",
   "pygments_lexer": "ipython3",
   "version": "3.12.3"
  }
 },
 "nbformat": 4,
 "nbformat_minor": 5
}
