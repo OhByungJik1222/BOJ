{
 "cells": [
  {
   "cell_type": "markdown",
   "id": "52a3ca23",
   "metadata": {},
   "source": [
    "### **피사노 주기 (Pisano Period)**\n",
    "\n",
    "- 개념: 피보나치 수를 어떤 수 K로 나눌 때, 나머지는 항상 주기를 가지게 되는데 이를 피사노 주기라고 함.\n",
    "\n",
    "- 성질: 주기의 길이를 P라고 하면 N번째 피보나치 수를 M으로 나눈 나머지는 N % P번째 피보나치 수를 M으로 나눈 나머지와 같다.\n",
    "$$\n",
    "F_N\\;mod\\;M\\;=\\;F_{(N\\;mod\\;P)}\\;mod\\;M\n",
    "$$\n",
    "$$\n",
    "P\\;=\\;15\\;\\times\\;10^{(k\\;-\\;1)},\\;\\;when\\;M\\;=\\;10^{k},\\;\\;(k\\;>\\;2)\n",
    "$$"
   ]
  },
  {
   "cell_type": "markdown",
   "id": "2fc73518",
   "metadata": {},
   "source": [
    "### **도가뉴 항등식을 활용한 피보나치 항 계산**\n",
    "$$\n",
    "F_{2n}\\;=\\;F_n(F_{n+1}\\;+\\;F_{n-1})\\;=\\;{F_n}^2\\;+\\;2F_nF_{n-1}\n",
    "$$\n",
    "$$\n",
    "F_{2n-1}\\;=\\;{F_n}^2\\;+\\;{F_{n-1}}^2\n",
    "$$"
   ]
  },
  {
   "cell_type": "markdown",
   "id": "0f51c900",
   "metadata": {},
   "source": [
    "1629번 곱셈 <span style=\"color:green\">성공</span> - 2025.10.18"
   ]
  },
  {
   "cell_type": "code",
   "execution_count": null,
   "id": "bae055a8",
   "metadata": {},
   "outputs": [],
   "source": [
    "def pow(num1, num2):\n",
    "    if num2 == 0:\n",
    "        return 1\n",
    "\n",
    "    num1 = pow(num1, num2 // 2)\n",
    "\n",
    "    if num2 % 2 == 0:\n",
    "        return num1 * num1 % c\n",
    "    else:\n",
    "        return num1 * num1 * a % c\n",
    "\n",
    "a, b, c = map(int, input().split())\n",
    "\n",
    "print(pow(a, b))"
   ]
  },
  {
   "cell_type": "markdown",
   "id": "77e96498",
   "metadata": {},
   "source": [
    "10830번 행렬 제곱 <span style=\"color:green\">성공</span> - 2025.10.19"
   ]
  },
  {
   "cell_type": "code",
   "execution_count": null,
   "id": "49e9edb0",
   "metadata": {},
   "outputs": [],
   "source": [
    "MOD = 1000\n",
    "\n",
    "def pow(mat, num):\n",
    "    res = [[0 for _ in range(n)] for _ in range(n)]\n",
    "    if num == 0:\n",
    "        for i in range(n):\n",
    "            res[i][i] = 1\n",
    "        return res\n",
    "    \n",
    "    mat = pow(mat, num // 2)\n",
    "\n",
    "    if num % 2 == 0:\n",
    "        for i in range(n):\n",
    "            for j in range(n):\n",
    "                cnt = 0\n",
    "                for k in range(n):\n",
    "                    cnt += (mat[i][k] * mat[k][j]) % MOD\n",
    "                    cnt %= MOD\n",
    "                    res[i][j] = cnt\n",
    "        return res\n",
    "    else:\n",
    "        tmp = [[0 for _ in range(n)] for _ in range(n)]\n",
    "        for i in range(n):\n",
    "            for j in range(n):\n",
    "                cnt = 0\n",
    "                for k in range(n):\n",
    "                    cnt += (mat[i][k] * mat[k][j]) % MOD\n",
    "                    cnt %= MOD\n",
    "                    tmp[i][j] = cnt\n",
    "\n",
    "        for i in range(n):\n",
    "            for j in range(n):\n",
    "                cnt = 0\n",
    "                for k in range(n):\n",
    "                    cnt += (tmp[i][k] * matrix[k][j]) % MOD\n",
    "                    cnt %= MOD\n",
    "                    res[i][j] = cnt\n",
    "        return res\n",
    "\n",
    "n, b = map(int, input().split())\n",
    "matrix = [list(map(int, input().split())) for _ in range(n)]\n",
    "\n",
    "ans = pow(matrix, b)\n",
    "for i in range(n):\n",
    "    print(*ans[i])"
   ]
  },
  {
   "cell_type": "markdown",
   "id": "692e0b9c",
   "metadata": {},
   "source": [
    "2747번 피보나치 수 <span style=\"color:green\">성공</span> - 2025.10.20"
   ]
  },
  {
   "cell_type": "code",
   "execution_count": null,
   "id": "263ce68c",
   "metadata": {},
   "outputs": [],
   "source": [
    "n = int(input())\n",
    "\n",
    "dp = [0, 1]\n",
    "for i in range(2, n + 1):\n",
    "    dp.append(dp[i - 1] + dp[i - 2])\n",
    "print(dp[n])"
   ]
  },
  {
   "cell_type": "markdown",
   "id": "6f8aefec",
   "metadata": {},
   "source": [
    "2748번 피보나치 수 2 <span style=\"color:green\">성공</span> - 2025.10.21"
   ]
  },
  {
   "cell_type": "code",
   "execution_count": null,
   "id": "8a3ce65c",
   "metadata": {},
   "outputs": [],
   "source": [
    "n = int(input())\n",
    "\n",
    "dp = [0, 1]\n",
    "for i in range(2, n + 1):\n",
    "    dp.append(dp[i - 1] + dp[i - 2])\n",
    "print(dp[n])"
   ]
  },
  {
   "cell_type": "markdown",
   "id": "7377f6a1",
   "metadata": {},
   "source": [
    "2749번 피보나치 수 3 <span style=\"color:green\">성공</span> - 2025.10.22"
   ]
  },
  {
   "cell_type": "code",
   "execution_count": null,
   "id": "5430b8eb",
   "metadata": {},
   "outputs": [],
   "source": [
    "MOD = 1_000_000\n",
    "\n",
    "n = int(input())\n",
    "p = 15 * 10**5\n",
    "new_n = n % p\n",
    "\n",
    "dp = [0, 1]\n",
    "for i in range(2, new_n + 1):\n",
    "    dp.append((dp[i - 1] + dp[i - 2]) % MOD)\n",
    "print(dp[new_n])"
   ]
  },
  {
   "cell_type": "markdown",
   "id": "70192ab8",
   "metadata": {},
   "source": [
    "11444번 피보나치 수 6 <span style=\"color:green\">성공</span> - 2025.10.23"
   ]
  },
  {
   "cell_type": "code",
   "execution_count": null,
   "id": "ce9ae568",
   "metadata": {},
   "outputs": [],
   "source": [
    "from collections import defaultdict\n",
    "\n",
    "MOD = 1_000_000_007\n",
    "\n",
    "def fibo(num):\n",
    "    if num == 0:\n",
    "        return 0\n",
    "    if num == 1:\n",
    "        return 1\n",
    "    \n",
    "    if num % 2 == 0:\n",
    "        if dp[num//2]:\n",
    "            fibo1 = dp[num//2]\n",
    "        else:\n",
    "            fibo1 = fibo(num//2)\n",
    "            dp[num//2] = fibo1\n",
    "        if dp[num//2 - 1]:\n",
    "            fibo2 = dp[num//2 - 1]\n",
    "        else:\n",
    "            fibo2 = fibo(num//2 - 1)\n",
    "            dp[num//2 - 1] = fibo2\n",
    "        return (fibo1**2 + 2 * fibo1 * fibo2) % MOD\n",
    "    \n",
    "    else:\n",
    "        if dp[num//2 + 1]:\n",
    "            fibo1 = dp[num//2 + 1]\n",
    "        else:\n",
    "            fibo1 = fibo(num//2 + 1)\n",
    "            dp[num//2 + 1] = fibo1\n",
    "        if dp[num//2]:\n",
    "            fibo2 = dp[num//2]\n",
    "        else:\n",
    "            fibo2 = fibo(num//2)\n",
    "            dp[num//2] = fibo2\n",
    "        return (fibo1**2 + fibo2**2) % MOD\n",
    "\n",
    "n = int(input())\n",
    "\n",
    "dp = defaultdict(int)\n",
    "\n",
    "print(fibo(n) % MOD)"
   ]
  },
  {
   "cell_type": "markdown",
   "id": "2a965556",
   "metadata": {},
   "source": [
    "11051번 이항 계수 2 <span style=\"color:green\">성공</span> - 2025.10.24"
   ]
  },
  {
   "cell_type": "code",
   "execution_count": null,
   "id": "e3fccb9b",
   "metadata": {},
   "outputs": [],
   "source": [
    "# 파스칼 삼각형\n",
    "# if n = 5, k = 2\n",
    "#           01\n",
    "#         01  01\n",
    "#       01  02  01\n",
    "#     01  03  03  01\n",
    "#   01  04  06  04  01\n",
    "# 01  05 \"10\" 10  05  01  \n",
    "MOD = 10007\n",
    "\n",
    "n, k = map(int, input().split())\n",
    "\n",
    "dp = [[1 for _ in range(n + 1)] for _ in range(n + 1)]\n",
    "for i in range(1, n + 1):\n",
    "    for j in range(1, i):\n",
    "        dp[i][j] = (dp[i - 1][j - 1] + dp[i - 1][j]) % MOD\n",
    "print(dp[n][k])"
   ]
  },
  {
   "cell_type": "markdown",
   "id": "076cc0f0",
   "metadata": {},
   "source": [
    "17436번 소수의 배수 <span style=\"color:green\">성공</span> - 2025.10.25"
   ]
  },
  {
   "cell_type": "code",
   "execution_count": null,
   "id": "faa36986",
   "metadata": {},
   "outputs": [],
   "source": [
    "# 포함 배제의 원리\n",
    "def dfs(x, depth):\n",
    "    global ans\n",
    "    \n",
    "    if cnt == depth:\n",
    "        tmp = 1\n",
    "        for prime in primes:\n",
    "            tmp *= prime\n",
    "\n",
    "        if cnt % 2 == 0:\n",
    "            ans -= (m // tmp)\n",
    "        else:\n",
    "            ans += (m // tmp)\n",
    "        return\n",
    "\n",
    "    for i in range(x, n):\n",
    "        primes.append(num[i])\n",
    "        dfs(i + 1, depth + 1)\n",
    "        primes.pop()\n",
    "\n",
    "n, m = map(int, input().split())\n",
    "num = list(map(int, input().split()))\n",
    "num.sort()\n",
    "\n",
    "ans = 0\n",
    "for cnt in range(1, n + 1):\n",
    "    primes = []\n",
    "    dfs(0, 0)\n",
    "print(ans)"
   ]
  }
 ],
 "metadata": {
  "kernelspec": {
   "display_name": "base",
   "language": "python",
   "name": "python3"
  },
  "language_info": {
   "codemirror_mode": {
    "name": "ipython",
    "version": 3
   },
   "file_extension": ".py",
   "mimetype": "text/x-python",
   "name": "python",
   "nbconvert_exporter": "python",
   "pygments_lexer": "ipython3",
   "version": "3.12.3"
  }
 },
 "nbformat": 4,
 "nbformat_minor": 5
}
