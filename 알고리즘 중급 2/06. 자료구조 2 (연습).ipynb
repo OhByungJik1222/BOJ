{
 "cells": [
  {
   "cell_type": "markdown",
   "id": "1ca40d81",
   "metadata": {},
   "source": [
    "3111번 검열 <span style=\"color:red\">실패</span> - 2025.08.29"
   ]
  },
  {
   "cell_type": "code",
   "execution_count": null,
   "id": "4314d766",
   "metadata": {},
   "outputs": [],
   "source": [
    "import sys\n",
    "input = sys.stdin.readline\n",
    "\n",
    "a = input().rstrip()\n",
    "t = input().rstrip()\n",
    "a = list(a)\n",
    "reversed_a = list(reversed(a))\n",
    "len_a = len(a)\n",
    "\n",
    "front = []\n",
    "back = []\n",
    "\n",
    "fidx = 0\n",
    "bidx = len(t) - 1\n",
    "flag = True\n",
    "while fidx <= bidx:\n",
    "    if flag:\n",
    "        front.append(t[fidx])\n",
    "        fidx += 1\n",
    "        if front[-len_a:] == a:\n",
    "            front[-len_a:] = []\n",
    "            # front = front[:-len_a]\n",
    "            flag = False\n",
    "    else:\n",
    "        back.append(t[bidx])\n",
    "        bidx -= 1\n",
    "        if back[-len_a:] == reversed_a:\n",
    "            back[-len_a:] = []\n",
    "            # back = back[:-len_a]\n",
    "            flag = True\n",
    "\n",
    "while back:\n",
    "    front.append(back.pop())\n",
    "\n",
    "    if front[-len_a:] == a:\n",
    "        front[-len_a:] = []\n",
    "        # front = front[-len_a:]\n",
    "print(''.join(front))"
   ]
  },
  {
   "cell_type": "markdown",
   "id": "f75f9ba0",
   "metadata": {},
   "source": [
    "16909번 카드 구매하기 3 <span style=\"color:green\"></span> - 2025.08.30"
   ]
  },
  {
   "cell_type": "code",
   "execution_count": null,
   "id": "4b817af1",
   "metadata": {},
   "outputs": [],
   "source": []
  }
 ],
 "metadata": {
  "kernelspec": {
   "display_name": "base",
   "language": "python",
   "name": "python3"
  },
  "language_info": {
   "codemirror_mode": {
    "name": "ipython",
    "version": 3
   },
   "file_extension": ".py",
   "mimetype": "text/x-python",
   "name": "python",
   "nbconvert_exporter": "python",
   "pygments_lexer": "ipython3",
   "version": "3.12.3"
  }
 },
 "nbformat": 4,
 "nbformat_minor": 5
}
