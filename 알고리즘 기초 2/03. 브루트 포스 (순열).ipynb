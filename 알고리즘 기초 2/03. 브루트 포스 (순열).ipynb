{
 "cells": [
  {
   "cell_type": "markdown",
   "metadata": {},
   "source": [
    "10972번 다음 순열 <span style=\"color:red\">실패</span> - 2025.03.17 *\n",
    " - 일반적인 순열 알고리즘은 시간복잡도 O(n!) - 따라서 다른 방식으로 접근해야함"
   ]
  },
  {
   "cell_type": "code",
   "execution_count": null,
   "metadata": {},
   "outputs": [
    {
     "name": "stdout",
     "output_type": "stream",
     "text": [
      "[2, 1, 4, 5, 3]\n",
      "[2, 1, 4] [5, 3]\n",
      "2 1 4 3 5\n"
     ]
    }
   ],
   "source": [
    "import sys\n",
    "\n",
    "n = int(input())\n",
    "a = list(map(int, input().split()))\n",
    "\n",
    "for i in range(n - 1, 0, -1):\n",
    "    if a[i - 1] < a[i]:\n",
    "        target = i - 1\n",
    "        break\n",
    "else:\n",
    "    print(-1)\n",
    "    sys.exit()\n",
    "\n",
    "for i in range(n - 1, 0, -1):\n",
    "    if a[target] < a[i]:\n",
    "        a[target], a[i] = a[i], a[target]\n",
    "        a = a[:target + 1] + sorted(a[target + 1:])\n",
    "        print(*a)\n",
    "        break"
   ]
  },
  {
   "cell_type": "markdown",
   "metadata": {},
   "source": [
    "19073번 이전 순열 <span style=\"color:green\">성공</span> - 2025.03.17\n",
    " - 이전 문제(다음 순열)과 마찬가지로 순열의 패턴을 파악하는 문제"
   ]
  },
  {
   "cell_type": "code",
   "execution_count": null,
   "metadata": {},
   "outputs": [],
   "source": [
    "import sys\n",
    "\n",
    "n = int(input())\n",
    "a = list(map(int, input().split()))\n",
    "\n",
    "for i in range(n - 1, 0, -1):\n",
    "    if a[i - 1] > a[i]:\n",
    "        target = i - 1\n",
    "        break\n",
    "else:\n",
    "    print(-1)\n",
    "    sys.exit()\n",
    "\n",
    "for i in range(n - 1, 0, -1):\n",
    "    if a[target] > a[i]:\n",
    "        a[target], a[i] = a[i], a[target]\n",
    "        temp = sorted(a[target + 1:])\n",
    "        a = a[:target + 1] + sorted(a[target + 1:], reverse=True)\n",
    "        print(*a)\n",
    "        break"
   ]
  },
  {
   "cell_type": "markdown",
   "metadata": {},
   "source": [
    "19074번 모든 순열 <span style=\"color:green\">성공</span> - 2025.03.17"
   ]
  },
  {
   "cell_type": "code",
   "execution_count": null,
   "metadata": {},
   "outputs": [],
   "source": [
    "def perm(ary, k):\n",
    "    def backtrack(permutation):\n",
    "        if len(permutation) == k:\n",
    "            result.append(permutation[:])\n",
    "            return\n",
    "        for i in range(len(ary)):\n",
    "            if ary[i] not in permutation:\n",
    "                permutation.append(ary[i])\n",
    "                backtrack(permutation)\n",
    "                permutation.pop()\n",
    "    result = []\n",
    "    backtrack([])\n",
    "    return result\n",
    "\n",
    "n = int(input())\n",
    "ary = [i for i in range(1, n + 1)]\n",
    "ans = perm(ary, n)\n",
    "\n",
    "for data in ans:\n",
    "    print(*data)"
   ]
  },
  {
   "cell_type": "markdown",
   "metadata": {},
   "source": [
    "10819번 차이를 최대로 <span style=\"color:green\">성공</span> - 2025.03.18"
   ]
  },
  {
   "cell_type": "code",
   "execution_count": null,
   "metadata": {},
   "outputs": [],
   "source": [
    "# 중복값이 들어갈 수 있음을 고려해야함\n",
    "# 입력값의 범위가 15663번과 다르게 -100~100 이므로 check변수를 0이 아닌 101로 초기화\n",
    "# but, check 없을땐 len(perm_list) = 120, 있을 땐 60 인데 시간은 왜 더 많이 걸리는가?\n",
    "\n",
    "def perm(ary, k):\n",
    "    def backtrack(permutation):\n",
    "        check = 101\n",
    "        if len(permutation) == k:\n",
    "            result.append(permutation[:])\n",
    "            return\n",
    "        for i in range(len(ary)):\n",
    "            if check != ary[i] and visited[i] == False:\n",
    "                permutation.append(ary[i])\n",
    "                visited[i] = True\n",
    "                check = ary[i]\n",
    "                backtrack(permutation)\n",
    "                permutation.pop()\n",
    "                visited[i] = False\n",
    "    visited = [False for _ in range(k)]\n",
    "    result = []\n",
    "    backtrack([])\n",
    "    return result\n",
    "\n",
    "n = int(input())\n",
    "ary = list(map(int, input().split()))\n",
    "\n",
    "perm_list = perm(ary, n)\n",
    "ans = 0\n",
    "for data in perm_list:\n",
    "    temp = 0\n",
    "    for i in range(1, n):\n",
    "        temp += abs(data[i - 1] - data[i])\n",
    "    ans = max(ans, temp)\n",
    "\n",
    "print(ans)"
   ]
  },
  {
   "cell_type": "markdown",
   "metadata": {},
   "source": [
    "10971번 외판원 순회 2 <span style=\"color:red\">실패</span> - 2025.03.18"
   ]
  },
  {
   "cell_type": "code",
   "execution_count": null,
   "metadata": {},
   "outputs": [],
   "source": [
    "import sys\n",
    "\n",
    "def dfs(now, depth, sum):\n",
    "    global ans\n",
    "\n",
    "    if depth == n - 1 and w[now][start] != 0:\n",
    "        ans = min(ans, sum + w[now][start])\n",
    "        return\n",
    "        \n",
    "    for next in range(n):\n",
    "        if not visited[next] and w[now][next] != 0:\n",
    "            visited[next] = True\n",
    "            dfs(next, depth + 1, sum + w[now][next])\n",
    "            visited[next] = False\n",
    "\n",
    "n = int(input())\n",
    "w = [list(map(int, input().split())) for _ in range(n)]\n",
    "visited = [False for _ in range(n)]\n",
    "ans = sys.maxsize\n",
    "\n",
    "for i in range(n):\n",
    "    start = i\n",
    "    visited[start] = True\n",
    "    dfs(start, 0, 0)\n",
    "    visited[start] = False\n",
    "\n",
    "print(ans)"
   ]
  },
  {
   "cell_type": "markdown",
   "metadata": {},
   "source": [
    "6603번 로또 <span style=\"color:green\">성공</span> - 2025.03.19"
   ]
  },
  {
   "cell_type": "code",
   "execution_count": null,
   "metadata": {},
   "outputs": [],
   "source": [
    "def dfs(depth, idx):\n",
    "    if depth == 6:\n",
    "        print(*ans)\n",
    "        return\n",
    "    for i in range(idx, k):\n",
    "        ans.append(s[i])\n",
    "        dfs(depth + 1, i + 1)\n",
    "        ans.pop()\n",
    "\n",
    "while True:\n",
    "    ary = list(map(int, input().split()))\n",
    "    k = ary[0]\n",
    "    s = ary[1:]\n",
    "    ans = []\n",
    "    dfs(0, 0)\n",
    "    if k == 0:\n",
    "        break\n",
    "    print()"
   ]
  }
 ],
 "metadata": {
  "kernelspec": {
   "display_name": "base",
   "language": "python",
   "name": "python3"
  },
  "language_info": {
   "codemirror_mode": {
    "name": "ipython",
    "version": 3
   },
   "file_extension": ".py",
   "mimetype": "text/x-python",
   "name": "python",
   "nbconvert_exporter": "python",
   "pygments_lexer": "ipython3",
   "version": "3.12.3"
  }
 },
 "nbformat": 4,
 "nbformat_minor": 2
}
