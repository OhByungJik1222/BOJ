{
 "cells": [
  {
   "cell_type": "code",
   "execution_count": null,
   "metadata": {},
   "outputs": [],
   "source": [
    "from collections import deque\n",
    "\n",
    "def bfs():\n",
    "    q = deque()\n",
    "    q.append(n)\n",
    "    dist[n] = 0\n",
    "\n",
    "    while q:\n",
    "        x = q.popleft()\n",
    "\n",
    "        if x == k:\n",
    "            print(dist[k])\n",
    "            return\n",
    "        \n",
    "        for nx in (x + x, x + 1, x - 1):\n",
    "            if 0 <= nx < 100001 and dist[nx] == -1:\n",
    "                if nx == x + x:\n",
    "                    dist[nx] = dist[x]\n",
    "                    q.appendleft(nx)\n",
    "                else:\n",
    "                    dist[nx] = dist[x] + 1\n",
    "                    q.append(nx)\n",
    "\n",
    "n, k = map(int, input().split())\n",
    "dist = [-1 for _ in range(100001)]\n",
    "\n",
    "bfs()"
   ]
  },
  {
   "cell_type": "code",
   "execution_count": null,
   "metadata": {},
   "outputs": [],
   "source": [
    "'''\n",
    "\n",
    "'''"
   ]
  }
 ],
 "metadata": {
  "kernelspec": {
   "display_name": "base",
   "language": "python",
   "name": "python3"
  },
  "language_info": {
   "codemirror_mode": {
    "name": "ipython",
    "version": 3
   },
   "file_extension": ".py",
   "mimetype": "text/x-python",
   "name": "python",
   "nbconvert_exporter": "python",
   "pygments_lexer": "ipython3",
   "version": "3.12.3"
  }
 },
 "nbformat": 4,
 "nbformat_minor": 2
}
