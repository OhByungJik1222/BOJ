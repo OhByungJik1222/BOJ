{
 "cells": [
  {
   "cell_type": "code",
   "execution_count": 6,
   "metadata": {},
   "outputs": [
    {
     "name": "stdout",
     "output_type": "stream",
     "text": [
      "ABDCEFG\n",
      "DBAECFG\n",
      "DBEGFCA"
     ]
    }
   ],
   "source": [
    "def preorder(node):\n",
    "    print(node, end='')\n",
    "    if tree[node][0] != None:\n",
    "        preorder(tree[node][0])\n",
    "    if tree[node][1] != None:\n",
    "        preorder(tree[node][1])\n",
    "\n",
    "def inorder(node):\n",
    "    if tree[node][0] != None:\n",
    "        inorder(tree[node][0])\n",
    "    print(node, end='')\n",
    "    if tree[node][1] != None:\n",
    "        inorder(tree[node][1])\n",
    "\n",
    "def postorder(node):\n",
    "    if tree[node][0] != None:\n",
    "        postorder(tree[node][0])\n",
    "    if tree[node][1] != None:\n",
    "        postorder(tree[node][1])\n",
    "    print(node, end='')\n",
    "\n",
    "\n",
    "n = int(input())\n",
    "tree = {}\n",
    "for _ in range(n):\n",
    "    node, left, right = input().split()\n",
    "    if left == '.':\n",
    "        left = None\n",
    "    if right == '.':\n",
    "        right = None\n",
    "    tree[node] = [left, right]\n",
    "\n",
    "preorder('A')\n",
    "print()\n",
    "inorder('A')\n",
    "print()\n",
    "postorder('A')"
   ]
  },
  {
   "cell_type": "code",
   "execution_count": null,
   "metadata": {},
   "outputs": [],
   "source": [
    "'''\n",
    "\n",
    "'''"
   ]
  }
 ],
 "metadata": {
  "kernelspec": {
   "display_name": "tf_gpu",
   "language": "python",
   "name": "tf_gpu"
  },
  "language_info": {
   "codemirror_mode": {
    "name": "ipython",
    "version": 3
   },
   "file_extension": ".py",
   "mimetype": "text/x-python",
   "name": "python",
   "nbconvert_exporter": "python",
   "pygments_lexer": "ipython3",
   "version": "3.8.20"
  }
 },
 "nbformat": 4,
 "nbformat_minor": 2
}
