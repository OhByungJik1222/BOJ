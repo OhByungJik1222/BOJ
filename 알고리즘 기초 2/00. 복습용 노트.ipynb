{
 "cells": [
  {
   "cell_type": "code",
   "execution_count": null,
   "metadata": {},
   "outputs": [
    {
     "name": "stdout",
     "output_type": "stream",
     "text": [
      "3 18\n"
     ]
    }
   ],
   "source": [
    "# 이진 트리를 돌면서 번호를 매겨준다.\n",
    "def dfs(start, level):\n",
    "    global max_level\n",
    "\n",
    "    visited[start] = True\n",
    "    tree[start][3] = level\n",
    "    max_level = max(max_level, level)\n",
    "\n",
    "    for next in range(2):\n",
    "        if not visited[tree[start][next]]:\n",
    "            dfs(tree[start][next], level + 1)\n",
    "\n",
    "# 이진트리를 돌면서 트리의 깊이를 매겨준다.\n",
    "def inorder(node):\n",
    "    global order\n",
    "\n",
    "    if node:\n",
    "        inorder(tree[node][0])\n",
    "        tree[node][4] = order\n",
    "        order += 1\n",
    "        inorder(tree[node][1])\n",
    "\n",
    "n = int(input())\n",
    "tree = [[0, 0, 0, 0, 0] for _ in range(n + 1)] # left, right, parent, level, width\n",
    "for _ in range(n):\n",
    "    node, left, right = map(int, input().split())\n",
    "    if left == -1:\n",
    "        left = 0\n",
    "    if right == -1:\n",
    "        right = 0\n",
    "    tree[node][0] = left\n",
    "    tree[node][1] = right\n",
    "    tree[left][2] = node\n",
    "    tree[right][2] = node\n",
    "\n",
    "# 루트 번호 찾기 (부모가 없은 노드가 루트이므로)\n",
    "for i in range(1, n + 1):\n",
    "    if tree[i][2] == 0:\n",
    "        root = i\n",
    "\n",
    "# 깊이의 최대치 찾기\n",
    "visited = [False for _ in range(n + 1)]\n",
    "visited[0] = True\n",
    "max_level = 0\n",
    "dfs(root, 1)\n",
    "\n",
    "# 노드에 순서 매기기\n",
    "order = 1\n",
    "inorder(root)\n",
    "\n",
    "# 각 레벨의 너비를 구하기 위해 각 노드가 해당하는 깊이에 해당 노드의 너비를 append\n",
    "level_width = [[] for _ in range(max_level + 1)]\n",
    "for i in range(1, n + 1):\n",
    "    level_width[tree[i][3]].append(tree[i][4])\n",
    "\n",
    "ans = []\n",
    "for i in range(1, max_level + 1):\n",
    "    ans.append(max(level_width[i]) - min(level_width[i]))\n",
    "\n",
    "print(ans.index(max(ans)) + 1, max(ans) + 1)"
   ]
  },
  {
   "cell_type": "code",
   "execution_count": null,
   "metadata": {},
   "outputs": [],
   "source": [
    "'''\n",
    "\n",
    "'''"
   ]
  }
 ],
 "metadata": {
  "kernelspec": {
   "display_name": "tf_gpu",
   "language": "python",
   "name": "tf_gpu"
  },
  "language_info": {
   "codemirror_mode": {
    "name": "ipython",
    "version": 3
   },
   "file_extension": ".py",
   "mimetype": "text/x-python",
   "name": "python",
   "nbconvert_exporter": "python",
   "pygments_lexer": "ipython3",
   "version": "3.8.20"
  }
 },
 "nbformat": 4,
 "nbformat_minor": 2
}
