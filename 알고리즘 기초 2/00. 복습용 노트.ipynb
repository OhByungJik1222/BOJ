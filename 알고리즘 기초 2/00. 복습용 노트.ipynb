{
 "cells": [
  {
   "cell_type": "code",
   "execution_count": null,
   "metadata": {},
   "outputs": [],
   "source": [
    "import sys\n",
    "sys.setrecursionlimit(10**6)\n",
    "\n",
    "def dfs(start, weight):\n",
    "    global max_node, max_weight\n",
    "\n",
    "    if weight > max_weight:\n",
    "        max_weight = weight\n",
    "        max_node = start\n",
    "        \n",
    "    for child in tree[start]:\n",
    "        if not visited[child[0]]:\n",
    "            visited[child[0]] = True\n",
    "            dfs(child[0], weight + child[1])\n",
    "\n",
    "v = int(input())\n",
    "tree = [[] for _ in range(v + 1)]\n",
    "for _ in range(v):\n",
    "    node = list(map(int, input().split()))\n",
    "    for i in range(1, len(node) - 1, 2):\n",
    "        tree[node[0]].append([node[i], node[i + 1]])\n",
    "\n",
    "max_node = 0\n",
    "max_weight = 0\n",
    "visited = [False for _ in range(v + 1)]\n",
    "visited[1] = True\n",
    "dfs(1, 0)\n",
    "\n",
    "max_weight = 0\n",
    "visited = [False for _ in range(v + 1)]\n",
    "visited[max_node] = True\n",
    "dfs(max_node, 0)\n",
    "print(max_weight)"
   ]
  },
  {
   "cell_type": "code",
   "execution_count": null,
   "metadata": {},
   "outputs": [],
   "source": [
    "'''\n",
    "\n",
    "'''"
   ]
  }
 ],
 "metadata": {
  "kernelspec": {
   "display_name": "base",
   "language": "python",
   "name": "python3"
  },
  "language_info": {
   "codemirror_mode": {
    "name": "ipython",
    "version": 3
   },
   "file_extension": ".py",
   "mimetype": "text/x-python",
   "name": "python",
   "nbconvert_exporter": "python",
   "pygments_lexer": "ipython3",
   "version": "3.12.3"
  }
 },
 "nbformat": 4,
 "nbformat_minor": 2
}
