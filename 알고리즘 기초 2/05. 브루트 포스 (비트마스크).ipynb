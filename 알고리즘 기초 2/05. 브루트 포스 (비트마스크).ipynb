{
 "cells": [
  {
   "cell_type": "markdown",
   "metadata": {},
   "source": [
    "11723번 집합 <span style=\"color:green\">성공</span> - 2025.03.25\n",
    " - https://coarmok.tistory.com/entry/%ED%8C%8C%EC%9D%B4%EC%8D%ACpython-%EB%B0%B1%EC%A4%80-11723%EB%B2%88-%EB%B9%84%ED%8A%B8%EB%A7%88%EC%8A%A4%ED%82%B9"
   ]
  },
  {
   "cell_type": "code",
   "execution_count": null,
   "metadata": {},
   "outputs": [],
   "source": [
    "import sys\n",
    "# input = sys.stdin.readline\n",
    "\n",
    "n = int(input())\n",
    "s = [0 for _ in range(21)]\n",
    "\n",
    "for _ in range(n):\n",
    "    command = list(input().split())\n",
    "\n",
    "    if command[0] == 'add':\n",
    "        s[int(command[1])] = 1\n",
    "    elif command[0] == 'remove':\n",
    "        s[int(command[1])] = 0\n",
    "    elif command[0] == 'check':\n",
    "        print(s[int(command[1])])\n",
    "    elif command[0] == 'toggle':\n",
    "        s[int(command[1])] = 0 if s[int(command[1])] else 1\n",
    "    elif command[0] == 'all':\n",
    "        s = [1 for _ in range(21)]\n",
    "    elif command[0] == 'empty':\n",
    "        s = [0 for _ in range(21)]"
   ]
  },
  {
   "cell_type": "markdown",
   "metadata": {},
   "source": [
    "1182번 부분수열의 합 <span style=\"color:green\">성공</span> - 2025.03.26"
   ]
  },
  {
   "cell_type": "code",
   "execution_count": null,
   "metadata": {},
   "outputs": [],
   "source": [
    "# 부분수열을 뽑는 문제.\n",
    "# 1. 1~20(max) 까지의 부분 수열(조합)을 모두 뽑으면 시간복잡도가 너무 커진다.\n",
    "# 2. 따라서 n 크기의 비트마스크를 생성하여 True인 값만 더해주면 된다.\n",
    "# 3. 이때 값은 True or False 두개임으로 n크기의 중복순열을 만들면 된다.\n",
    "# 4. 이때 주의할 점으론 모두 False이고 s가 0이라면, ans가 0이 아닐때 -1을 해주어야한다.\n",
    "# 4-1. 모두 False일 땐 합이 0인데, s가 0이라면 ans += 1 되기 때문\n",
    "# 4-2. ans가 0이라면 만족하는 부분수열이 없다는 것 때문에 -1을 해주면 안된다.\n",
    "\n",
    "def dfs(depth):\n",
    "    global ans\n",
    "\n",
    "    if depth == n:\n",
    "        sum = 0\n",
    "        for i in range(n):\n",
    "            if mask[i]:\n",
    "                sum += arr[i]\n",
    "        if sum == s:\n",
    "            ans += 1\n",
    "        return\n",
    "\n",
    "    for tf in flag:\n",
    "        mask.append(i)\n",
    "        dfs(depth + 1)\n",
    "        mask.pop()\n",
    "\n",
    "n, s = map(int, input().split())\n",
    "arr = list(map(int, input().split()))\n",
    "flag = [False, True]\n",
    "mask = []\n",
    "ans = 0\n",
    "\n",
    "dfs(0)\n",
    "\n",
    "print(ans - 1 if ans != 0 and s == 0 else ans)"
   ]
  },
  {
   "attachments": {
    "image.png": {
     "image/png": "[encoded data removed]"
    }
   },
   "cell_type": "markdown",
   "metadata": {},
   "source": [
    "14391번 종이 조각 <span style=\"color:red\">실패</span> - 2025.03.27*\n",
    " - 가로로 이어지면 1, 세로로 이어지면 0\n",
    "\n",
    " ![image.png](attachment:image.png)"
   ]
  },
  {
   "cell_type": "code",
   "execution_count": null,
   "metadata": {},
   "outputs": [],
   "source": [
    "# https://jemarque.tistory.com/entry/%EC%95%8C%EA%B3%A0%EB%A6%AC%EC%A6%98-%EB%B9%84%ED%8A%B8%EB%A7%88%EC%8A%A4%ED%82%B9\n",
    "# https://jemarque.tistory.com/entry/%EB%B0%B1%EC%A4%80python-14391%EB%B2%88-%EC%A2%85%EC%9D%B4%EC%A1%B0%EA%B0%81\n",
    "# https://lagooni.tistory.com/entry/%EB%B0%B1%EC%A4%80-%EC%A2%85%EC%9D%B4-%EC%A1%B0%EA%B0%81-14391%EB%B2%88-Python-Bitmasking\n",
    "\n",
    "def solve():\n",
    "    ans = 0\n",
    "    # 비트마스크로 경우의 수 모두 따져보기\n",
    "    for mask in range(1 << (n * m)):\n",
    "        # print(mask) 0 ~ 2^(n*m) \n",
    "        sum = 0\n",
    "        # 가로 합\n",
    "        for i in range(n):\n",
    "            h_sum = 0\n",
    "            for j in range(m):\n",
    "                idx = i * m + j # 4, 4 일 때, idx = 0~15\n",
    "                if mask & (1 << idx) != 0: # 가로일 때\n",
    "                    h_sum = h_sum * 10 + paper[i][j]\n",
    "                else: # 세로일 때 초기화\n",
    "                    sum += h_sum\n",
    "                    h_sum = 0\n",
    "            sum += h_sum\n",
    "        #세로 합\n",
    "        for j in range(m):\n",
    "            v_sum = 0\n",
    "            for i in range(n):\n",
    "                idx = i * m + j\n",
    "                if mask & (1 << idx) == 0: # 세로일 때\n",
    "                    v_sum = v_sum * 10 + paper[i][j]\n",
    "                else: # 가로 일 때 초기화\n",
    "                    sum += v_sum\n",
    "                    v_sum = 0\n",
    "\n",
    "            sum += v_sum\n",
    "        ans = max(ans, sum)\n",
    "    return ans\n",
    "\n",
    "n, m = map(int, input().split())\n",
    "paper = [list(map(int, input())) for _ in range(n)]\n",
    "print(solve())\n",
    "\n",
    "# 처음 풀이에 대한 반례\n",
    "# 4 4\n",
    "# 1000\n",
    "# 0001\n",
    "# 0000\n",
    "# 1000 -> 2010"
   ]
  }
 ],
 "metadata": {
  "kernelspec": {
   "display_name": "base",
   "language": "python",
   "name": "python3"
  },
  "language_info": {
   "codemirror_mode": {
    "name": "ipython",
    "version": 3
   },
   "file_extension": ".py",
   "mimetype": "text/x-python",
   "name": "python",
   "nbconvert_exporter": "python",
   "pygments_lexer": "ipython3",
   "version": "3.12.3"
  }
 },
 "nbformat": 4,
 "nbformat_minor": 2
}
