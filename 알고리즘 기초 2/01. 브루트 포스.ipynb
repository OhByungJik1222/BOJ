{
 "cells": [
  {
   "cell_type": "markdown",
   "metadata": {},
   "source": [
    " # <span style=\"font-weight:bold\">브루트 포스(Brute Force)</style>\n",
    "  - <span style=\"color:red;font-weight:bold\">가능한 모든 경우의 수를 검사</span>하여 결과를 찾아내는 방식으로 동작 (100% 정확성 보장)\n",
    "  - 메모리 효율면에서 매우 비효율적이고, 알고리즘 실행시간이 매우 오래걸린다.\n",
    "  - 문제의 크기가 크거나 최적해를 빠르게 찾아야 할 때에는 다른 알고리즘 사용\n",
    "  - <span style=\"color:red;font-weight:bold\">복잡한 구현</span>이 핵심\n",
    "\n",
    " #### <span style=\"font-weight:bold\">사용조건</span>\n",
    "  1. 문제의 입력 크기가 작을 때 - <span style=\"color:red;font-weight:bold\">가능한 모든 경우의 수</span>를 하나씩 시도함으로 실행시간이 길어질 수도 있음.\n",
    "  2. 해결해야 할 문제가 작은 경우 - <span style=\"color:red;font-weight:bold\">문제가 작은 범위</span>에 국한되어 있다면 브루트 포스 활용가능\n",
    "  3. 최적해를 찾는 문제 - <span style=\"color:red;font-weight:bold\">모든 가능한 해</span>를 확인하고 비교함으로써 최적해를 찾을 수 있음.\n",
    "  4. 부분 해답을 찾는 문제 - 부분 해답을 찾은 후, 이를 <span style=\"color:red;font-weight:bold\">결합</span>하여 최종 해답을 얻을 수 있다.\n",
    "  5. 문제의 구조가 간단한 경우 - 복잡한 알고리즘이나 데이터 구조가 필요하지 않고, <span style=\"color:red;font-weight:bold\">간단한</span> 반복문과 조건문으로 문제 해결 가능"
   ]
  },
  {
   "cell_type": "markdown",
   "metadata": {},
   "source": [
    "2309번 일곱 난쟁이 <span style=\"color:green\">성공</span> - 2025.03.12"
   ]
  },
  {
   "cell_type": "code",
   "execution_count": null,
   "metadata": {},
   "outputs": [],
   "source": [
    "import itertools\n",
    "\n",
    "h = [int(input()) for _ in range(9)]\n",
    "\n",
    "for i in itertools.combinations(h, 7):\n",
    "    if sum(i) == 100:\n",
    "        for j in sorted(i):\n",
    "            print(j)\n",
    "        break"
   ]
  },
  {
   "cell_type": "markdown",
   "metadata": {},
   "source": [
    "3085번 사탕 게임 <span style=\"color:red\">실패</span> - 2025.03.12\n",
    " - 연속하는 사탕 개수를 셀 때 색깔은 중요 X -> 색깔이 달라지면 cnt = 1로 초기화\n",
    " - 구현실패, <span style=\"color:red\">a, b = b, a</span> -> 이 구문 기억하기!"
   ]
  },
  {
   "cell_type": "code",
   "execution_count": null,
   "metadata": {},
   "outputs": [],
   "source": [
    "def count_candy():\n",
    "    max_cnt = 1\n",
    "    for i in range(n):\n",
    "        cnt = 1\n",
    "        for j in range(1, n):\n",
    "            if ary[i][j] == ary[i][j - 1]:\n",
    "                cnt += 1\n",
    "            else:\n",
    "                cnt = 1\n",
    "            max_cnt = max(cnt, max_cnt)\n",
    "        cnt = 1\n",
    "        for j in range(1, n):\n",
    "            if ary[j][i] == ary[j - 1][i]:\n",
    "                cnt += 1\n",
    "            else:\n",
    "                cnt = 1\n",
    "            max_cnt = max(cnt, max_cnt)\n",
    "    return max_cnt\n",
    "\n",
    "n = int(input())\n",
    "ary = [list(input()) for _ in range(n)]\n",
    "ans = 1\n",
    "\n",
    "for i in range(n):\n",
    "    for j in range(n):\n",
    "        if j + 1 < n and ary[i][j] != ary[i][j + 1]: # 오른쪽 swap\n",
    "            ary[i][j], ary[i][j + 1] = ary[i][j + 1], ary[i][j]\n",
    "            ans = max(ans, count_candy())\n",
    "            ary[i][j], ary[i][j + 1] = ary[i][j + 1], ary[i][j]\n",
    "\n",
    "        if i + 1 < n and ary[i][j] != ary[i + 1][j]: # 아래쪽 swap\n",
    "            ary[i][j], ary[i + 1][j] = ary[i + 1][j], ary[i][j]\n",
    "            ans = max(ans, count_candy())\n",
    "            ary[i][j], ary[i + 1][j] = ary[i + 1][j], ary[i][j]\n",
    "print(ans)"
   ]
  },
  {
   "cell_type": "markdown",
   "metadata": {},
   "source": [
    "1476번 날짜 계산 <span style=\"color:green\">성공</span> - 2025.03.13 *"
   ]
  },
  {
   "cell_type": "code",
   "execution_count": null,
   "metadata": {},
   "outputs": [],
   "source": [
    "e, s, m = map(int, input().split())\n",
    "\n",
    "t_e = 0\n",
    "t_s = 0\n",
    "t_m = 0\n",
    "ans = 0\n",
    "\n",
    "while True:\n",
    "    t_e += 1\n",
    "    t_s += 1\n",
    "    t_m += 1\n",
    "    ans += 1\n",
    "\n",
    "    if t_e > 15:\n",
    "        t_e = 1\n",
    "    if t_s > 28:\n",
    "        t_s = 1\n",
    "    if t_m > 19:\n",
    "        t_m = 1\n",
    "    if t_e == e and t_s == s and t_m == m:\n",
    "        break\n",
    "\n",
    "print(ans)"
   ]
  },
  {
   "cell_type": "markdown",
   "metadata": {},
   "source": [
    "1107번 리모컨 <span style=\"color:green\">성공</span> - 2025.03.13"
   ]
  },
  {
   "cell_type": "code",
   "execution_count": null,
   "metadata": {},
   "outputs": [],
   "source": [
    "# 1. 0부터 999999까지 1중 for문으로 반복\n",
    "# 2. 반복하면서 뽑은 i 리스트로 바꿔서 못쓰는 버튼이 있는지 검사 (있으면 break)\n",
    "# 3. 이때 i의 자릿수(len(list_i)) 만큼 temp에 +(만약 i==958 면 ans += 3)\n",
    "# 4. temp += abs(목표채널 - i) -> 이게 +버튼 -버튼 누르는 횟수\n",
    "# 5. 이렇게 반복하면서 ans = min(ans, temp) 비교하면서 ans찾기\n",
    "\n",
    "# 최적화한 코드\n",
    "n = int(input())\n",
    "m = int(input())\n",
    "bnt = []\n",
    "if m != 0:\n",
    "    bnt = list(map(int, input().split()))\n",
    "ans = abs(n - 100)\n",
    "\n",
    "for channel in range(1000000):\n",
    "    for num in str(channel):\n",
    "        if int(num) in bnt:\n",
    "            break\n",
    "    else:\n",
    "        ans = min(ans, len(str(channel)) + abs(n - channel))\n",
    "\n",
    "print(ans)"
   ]
  },
  {
   "cell_type": "markdown",
   "metadata": {},
   "source": [
    "14500번 테트로미노 <span style=\"color:green\">성공</span> - 2025.03.14\n",
    " - 추후 DFS, BFS 학습 시 다시 풀어보기"
   ]
  },
  {
   "cell_type": "code",
   "execution_count": null,
   "metadata": {},
   "outputs": [],
   "source": [
    "# 1. 2 * 3 모양 (0, 1) 기준으로 범위지정 후 num과 num의 좌우반전 배열에 돌리기\n",
    "# 2. 3 * 2 모양 (0, 2) 기준으로 범위지정 후 num과 num의 상하반전 배열에 돌리기\n",
    "# 3. 1 * 4 모양 (0, 3) 기준으로 범위지정 후 num 배열에 돌리기\n",
    "# 4. 4 * 1 모양 (0, 0) 기준으로 범위지정 후 num 배열에 돌리기\n",
    "# 5. 2 * 2 모양 (0, 1) 기준으로 범위지정 후 num 배열에 돌리기\n",
    "# 6. 각 단계 수행하며 최댓값 저장\n",
    "\n",
    "n, m = map(int, input().split())\n",
    "num = [list(map(int, input().split())) for _ in range(n)]\n",
    "udnum = num[::-1]\n",
    "lrnum = [num[i][::-1] for i in range(n)]\n",
    "ans = 0\n",
    "\n",
    "for i in range(n - 2): # 2*3\n",
    "    for j in range(1, m):\n",
    "        temp = []\n",
    "        temp.append(num[i][j - 1] + num[i][j] + num[i + 1][j] + num[i + 2][j])\n",
    "        temp.append(lrnum[i][j - 1] + lrnum[i][j] + lrnum[i + 1][j] + lrnum[i + 2][j]) \n",
    "        temp.append(num[i + 1][j - 1] + num[i][j] + num[i + 1][j] + num[i + 2][j])\n",
    "        temp.append(lrnum[i + 1][j - 1] + lrnum[i][j] + lrnum[i + 1][j] + lrnum[i + 2][j]) \n",
    "        temp.append(num[i + 2][j - 1] + num[i][j] + num[i + 1][j] + num[i + 2][j])\n",
    "        temp.append(lrnum[i + 2][j - 1] + lrnum[i][j] + lrnum[i + 1][j] + lrnum[i + 2][j])\n",
    "        temp.append(num[i + 1][j - 1] + num[i + 2][j - 1] + num[i][j] + num[i + 1][j])\n",
    "        temp.append(lrnum[i + 1][j - 1] + lrnum[i + 2][j - 1] + lrnum[i][j] + lrnum[i + 1][j])\n",
    "        ans = max(ans, max(temp))\n",
    "for i in range(n - 1): # 3*2\n",
    "    for j in range(2, m):\n",
    "        temp = []\n",
    "        temp.append(num[i][j - 2] + num[i][j - 1] + num[i][j] + num[i + 1][j])\n",
    "        temp.append(udnum[i][j - 2] + udnum[i][j - 1] + udnum[i][j] + udnum[i + 1][j])\n",
    "        temp.append(num[i][j - 2] + num[i][j - 1] + num[i + 1][j - 1] + num[i][j])\n",
    "        temp.append(udnum[i][j - 2] + udnum[i][j - 1] + udnum[i + 1][j - 1] + udnum[i][j])\n",
    "        temp.append(num[i][j - 2] + num[i + 1][j - 2] + num[i][j - 1] + num[i][j])\n",
    "        temp.append(udnum[i][j - 2] + udnum[i + 1][j - 2] + udnum[i][j - 1] + udnum[i][j])\n",
    "        temp.append(num[i + 1][j - 2] + num[i + 1][j - 1] + num[i][j - 1] + num[i][j])\n",
    "        temp.append(udnum[i + 1][j - 2] + udnum[i + 1][j - 1] + udnum[i][j - 1] + udnum[i][j])\n",
    "        ans = max(ans, max(temp))\n",
    "for i in range(n): # 1*4\n",
    "    for j in range(3, m):\n",
    "        ans = max(ans, num[i][j - 3] + num[i][j - 2] + num[i][j - 1] + num[i][j])\n",
    "for i in range(n - 3): # 4*1\n",
    "    for j in range(m):\n",
    "        ans = max(ans, num[i][j] + num[i + 1][j] + num[i + 2][j] + num[i + 3][j])\n",
    "for i in range(n - 1): # 2*2\n",
    "    for j in range(1, m):\n",
    "        ans = max(ans, num[i][j - 1] + num[i][j] + num[i + 1][j - 1] + num[i + 1][j])\n",
    "\n",
    "print(ans)"
   ]
  },
  {
   "cell_type": "markdown",
   "metadata": {},
   "source": [
    "6064번 카잉 달력 <span style=\"color:red\">실패</span> - 2025.03.14 *\n",
    " - 중국인의 나머지 정리 (Chinese Remainder Theorem, CRT) 이해하기"
   ]
  },
  {
   "cell_type": "code",
   "execution_count": null,
   "metadata": {},
   "outputs": [],
   "source": [
    "def calculate(m, n, x, y):\n",
    "    k = x\n",
    "    while k <= m * n: #k의 범위는 m*n을 넘을 수 없음\n",
    "        if (k - x) % m == 0 and (k - y) % n == 0:\n",
    "            return k\n",
    "        k += m # k-x가 m의 배수이고 k는 x로 초기화 했기때문에 m만 더해준다.\n",
    "    return -1\n",
    "\n",
    "t = int(input())\n",
    "\n",
    "for _ in range(t):\n",
    "    m, n, x, y = map(int, input().split())\n",
    "    print(calculate(m, n, x, y))"
   ]
  },
  {
   "cell_type": "markdown",
   "metadata": {},
   "source": [
    "1748번 수 이어 쓰기 1 <span style=\"color:green\">성공</span> - 2025.03.15"
   ]
  },
  {
   "cell_type": "code",
   "execution_count": null,
   "metadata": {},
   "outputs": [],
   "source": [
    "n = int(input())\n",
    "num_len = len(str(n))\n",
    "\n",
    "ans = 0\n",
    "base = 0\n",
    "for i in range(1, num_len):\n",
    "    base = base * 10 + 9\n",
    "    ans += (base - 10**(i - 1) + 1) * i\n",
    "\n",
    "ans += (n - 10**(num_len - 1) + 1) * num_len\n",
    "print(ans)"
   ]
  },
  {
   "cell_type": "markdown",
   "metadata": {},
   "source": [
    "9095번 1, 2, 3 더하기 <span style=\"color:green\">성공</span> - 2025.03.15"
   ]
  },
  {
   "cell_type": "code",
   "execution_count": null,
   "metadata": {},
   "outputs": [],
   "source": [
    "t = int(input())\n",
    "n = [int(input()) for _ in range(t)]\n",
    "dp = [1, 1, 2]\n",
    "\n",
    "for i in range(3, max(n) + 1):\n",
    "    dp.append(dp[i - 1] + dp[i - 2] + dp[i - 3])\n",
    "\n",
    "for i in range(t):\n",
    "    print(dp[n[i]])"
   ]
  }
 ],
 "metadata": {
  "kernelspec": {
   "display_name": "base",
   "language": "python",
   "name": "python3"
  },
  "language_info": {
   "codemirror_mode": {
    "name": "ipython",
    "version": 3
   },
   "file_extension": ".py",
   "mimetype": "text/x-python",
   "name": "python",
   "nbconvert_exporter": "python",
   "pygments_lexer": "ipython3",
   "version": "3.12.3"
  }
 },
 "nbformat": 4,
 "nbformat_minor": 4
}
