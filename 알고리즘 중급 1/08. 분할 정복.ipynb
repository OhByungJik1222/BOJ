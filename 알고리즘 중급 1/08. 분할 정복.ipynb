{
 "cells": [
  {
   "cell_type": "markdown",
   "id": "e2291f4c",
   "metadata": {},
   "source": []
  },
  {
   "cell_type": "markdown",
   "id": "c54e8943",
   "metadata": {},
   "source": [
    "10815번 숫자 카드 <span style=\"color:green\">성공</span> - 2025.06.08"
   ]
  },
  {
   "cell_type": "code",
   "execution_count": null,
   "id": "c794942e",
   "metadata": {},
   "outputs": [],
   "source": [
    "def binary_search(target):\n",
    "    start = 0\n",
    "    end = len(n_card) - 1\n",
    "\n",
    "    while start <= end:\n",
    "        mid = (start + end) // 2\n",
    "\n",
    "        if n_card[mid] == target:\n",
    "            return 1\n",
    "        elif n_card[mid] > target:\n",
    "            end = mid - 1\n",
    "        else:\n",
    "            start = mid + 1\n",
    "    return 0\n",
    "\n",
    "n = int(input())\n",
    "n_card = list(map(int, input().split()))\n",
    "m = int(input())\n",
    "m_card = list(map(int, input().split()))\n",
    "n_card.sort()\n",
    "\n",
    "ans = []\n",
    "for i in range(m):\n",
    "    ans.append(binary_search(m_card[i]))\n",
    "print(*ans)"
   ]
  },
  {
   "cell_type": "markdown",
   "id": "45a26446",
   "metadata": {},
   "source": [
    "10816번 숫자 카드 2 <span style=\"color:green\">성공</span> - 2025.06.09"
   ]
  },
  {
   "cell_type": "code",
   "execution_count": null,
   "id": "049e2d9e",
   "metadata": {},
   "outputs": [],
   "source": [
    "n = int(input())\n",
    "n_card = list(map(int, input().split()))\n",
    "m = int(input())\n",
    "m_card = list(map(int, input().split()))\n",
    "\n",
    "cards = [0 for _ in range(20000001)]\n",
    "for num in n_card:\n",
    "    cards[num] += 1\n",
    "\n",
    "ans = []\n",
    "for num in m_card:\n",
    "    ans.append(cards[num])\n",
    "print(*ans)"
   ]
  },
  {
   "cell_type": "markdown",
   "id": "e66060b6",
   "metadata": {},
   "source": [
    "11728번 배열 합치기 <span style=\"color:green\">성공</span> - 2025.06.10"
   ]
  },
  {
   "cell_type": "code",
   "execution_count": null,
   "id": "ca7bad95",
   "metadata": {},
   "outputs": [],
   "source": [
    "n, m = map(int, input().split())\n",
    "n_ary = list(map(int, input().split()))\n",
    "m_ary = list(map(int, input().split()))\n",
    "n_ary.extend(m_ary)\n",
    "print(*sorted(n_ary))"
   ]
  }
 ],
 "metadata": {
  "kernelspec": {
   "display_name": "base",
   "language": "python",
   "name": "python3"
  },
  "language_info": {
   "codemirror_mode": {
    "name": "ipython",
    "version": 3
   },
   "file_extension": ".py",
   "mimetype": "text/x-python",
   "name": "python",
   "nbconvert_exporter": "python",
   "pygments_lexer": "ipython3",
   "version": "3.12.3"
  }
 },
 "nbformat": 4,
 "nbformat_minor": 5
}
