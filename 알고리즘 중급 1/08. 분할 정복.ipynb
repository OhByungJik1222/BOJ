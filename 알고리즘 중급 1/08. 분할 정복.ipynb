{
 "cells": [
  {
   "cell_type": "markdown",
   "id": "c54e8943",
   "metadata": {},
   "source": [
    "10815번 숫자 카드 <span style=\"color:green\"></span> - 2025.06.08"
   ]
  },
  {
   "cell_type": "code",
   "execution_count": null,
   "id": "c794942e",
   "metadata": {},
   "outputs": [],
   "source": []
  }
 ],
 "metadata": {
  "language_info": {
   "name": "python"
  }
 },
 "nbformat": 4,
 "nbformat_minor": 5
}
