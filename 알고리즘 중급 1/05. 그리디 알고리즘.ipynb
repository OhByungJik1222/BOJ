{
 "cells": [
  {
   "cell_type": "markdown",
   "id": "2e9ec872",
   "metadata": {},
   "source": [
    "11047번 동전 0 <span style=\"color:green\">성공</span> - 2025.05.20"
   ]
  },
  {
   "cell_type": "code",
   "execution_count": null,
   "id": "6572e156",
   "metadata": {},
   "outputs": [],
   "source": [
    "n, k = map(int, input().split())\n",
    "coin = []\n",
    "for _ in range(n):\n",
    "    coin.append(int(input()))\n",
    "\n",
    "ans = 0\n",
    "sum = 0\n",
    "for i in range(n - 1, -1, -1):\n",
    "    if sum == k:\n",
    "        break\n",
    "\n",
    "    if k - sum < coin[i]:\n",
    "        continue\n",
    "    else:\n",
    "        while k - sum >= coin[i]:\n",
    "            sum += coin[i]\n",
    "            ans += 1\n",
    "\n",
    "print(ans)"
   ]
  },
  {
   "cell_type": "markdown",
   "id": "9cc18556",
   "metadata": {},
   "source": [
    "1931번 회의실 배정 <span style=\"color:red\">실패</span> - 2025.05.21"
   ]
  },
  {
   "cell_type": "code",
   "execution_count": null,
   "id": "b5f2a143",
   "metadata": {},
   "outputs": [],
   "source": [
    "# 회의를 최대한 많이 진행하기 위해서는\n",
    "# 1. 회의가 일찍 끝나는 순으로 정렬\n",
    "# 1-1. 만약 끝나는 시간이 같은 경우 -> 회의 시작 시간 순으로 정렬 (ex.시작시간 == 끝시간)\n",
    "# 2. i번째 회의 끝나는 시간 <= i+1번째 회의 시작 시간\n",
    "# 그리디 알고리즘을 사용할 수 있는 이유 : 회의 시작 시간은 반드시 끝시간보다 작거나 같기때문\n",
    "import sys\n",
    "# input = sys.stdin.readline\n",
    "\n",
    "n = int(input())\n",
    "meetings = [list(map(int, input().split())) for _ in range(n)]\n",
    "meetings.sort(lambda x : (x[1], x[0]))\n",
    "\n",
    "ans = 0\n",
    "time = 0\n",
    "for start, end in meetings:\n",
    "    if end <= start:\n",
    "        ans += 1\n",
    "        time = end\n",
    "\n",
    "print(ans)"
   ]
  },
  {
   "cell_type": "markdown",
   "id": "03c4a1a5",
   "metadata": {},
   "source": [
    "11399번 ATM <span style=\"color:green\">성공</span> - 2025.05.22"
   ]
  },
  {
   "cell_type": "code",
   "execution_count": null,
   "id": "2f67f32c",
   "metadata": {},
   "outputs": [],
   "source": [
    "n = int(input())\n",
    "time = list(map(int, input().split()))\n",
    "time.sort()\n",
    "\n",
    "for i in range(1, n):\n",
    "    time[i] += time[i - 1]\n",
    "\n",
    "print(sum(time))"
   ]
  },
  {
   "cell_type": "markdown",
   "id": "90e500a1",
   "metadata": {},
   "source": [
    "1080번 행렬 <span style=\"color:green\">성공</span> - 2025.05.23"
   ]
  },
  {
   "cell_type": "code",
   "execution_count": null,
   "id": "69affedc",
   "metadata": {},
   "outputs": [],
   "source": [
    "# 문제의 목적은 \"최소 횟수\"로 A를 B로 바꾸는 것\n",
    "# -> A에서 어떤 칸이 0인데 B에서 이 칸이 1이라면 반드시 뒤집어야함\n",
    "# 또한, 연산의 특성 상, 2번 이상 뒤집는 것은 의미 X -> 2번 뒤집으면 원래대로 돌아옴\n",
    "# 따라서 반드시 뒤집어야하는 칸이 있다면 바꾼다.\n",
    "# 왜 끝까지 확인하지 않고 -2까지만 확인하는지? \n",
    "# 한칸이라도 다른 칸이 있다면 반드시 뒤집어야하고,\n",
    "# 같은 3X3에서 어떤 칸이 다르기에 뒤집은 것이므로\n",
    "# 같은 3X3내에서 다른 칸이 다르다면 가준이 되는 칸도 바뀌므로 의미 X\n",
    "def toggle(x, y):\n",
    "    for i in range(x, x + 3):\n",
    "        for j in range(y, y + 3):\n",
    "            if a[i][j] == 0:\n",
    "                a[i][j] = 1\n",
    "            else:\n",
    "                a[i][j] = 0\n",
    "\n",
    "n, m = map(int, input().split())\n",
    "a = [list(map(int, input())) for _ in range(n)]\n",
    "b = [list(map(int, input())) for _ in range(n)]\n",
    "\n",
    "ans = 0\n",
    "for i in range(n - 2):\n",
    "    for j in range(m - 2):\n",
    "        if a[i][j] != b[i][j]:\n",
    "            toggle(i, j)\n",
    "            ans += 1\n",
    "\n",
    "if a == b:\n",
    "    print(ans)\n",
    "else:\n",
    "    print(-1)"
   ]
  },
  {
   "cell_type": "markdown",
   "id": "5404fd67",
   "metadata": {},
   "source": [
    "2138번 전구와 스위치 <span style=\"color:red\">실패</span> - 2025.05.24"
   ]
  },
  {
   "cell_type": "code",
   "execution_count": null,
   "id": "e91af8bf",
   "metadata": {},
   "outputs": [],
   "source": [
    "def toggle(i):\n",
    "    if tmp[i] == 0: tmp[i] = 1\n",
    "    else: tmp[i] = 0\n",
    "\n",
    "n = int(input())\n",
    "a = list(map(int, input()))\n",
    "b = list(map(int, input()))\n",
    "\n",
    "ans = 0\n",
    "tmp = a[:]\n",
    "for i in range(1, n):\n",
    "    if i != n - 1:\n",
    "        if tmp[i - 1] != b[i - 1]:\n",
    "            for j in range(i - 1, i + 2):\n",
    "                toggle(j)\n",
    "            ans += 1\n",
    "    elif i == n - 1:\n",
    "        if tmp[i - 1] != b[i - 1]:\n",
    "            for j in range(i - 1, i + 1):\n",
    "                toggle(j)\n",
    "            ans += 1\n",
    "\n",
    "if tmp == b:\n",
    "    print(ans)\n",
    "else:\n",
    "    ans = 1\n",
    "    tmp = a[:]\n",
    "    for i in range(2):\n",
    "        toggle(i)\n",
    "    \n",
    "    for i in range(1, n):\n",
    "        if i != n - 1:\n",
    "            if tmp[i - 1] != b[i - 1]:\n",
    "                for j in range(i - 1, i + 2):\n",
    "                    toggle(j)\n",
    "                ans += 1\n",
    "        elif i == n - 1:\n",
    "            if tmp[i - 1] != b[i - 1]:\n",
    "                for j in range(i - 1, i + 1):\n",
    "                    toggle(j)\n",
    "                ans += 1\n",
    "    \n",
    "    if tmp == b:\n",
    "        print(ans)\n",
    "    else:\n",
    "        print(-1)\n"
   ]
  },
  {
   "cell_type": "markdown",
   "id": "97d6c5a4",
   "metadata": {},
   "source": [
    "1285번 동전 뒤집기 <span style=\"color:red\">실패</span> - 2025.05.25"
   ]
  },
  {
   "cell_type": "code",
   "execution_count": null,
   "id": "f0fb9dab",
   "metadata": {},
   "outputs": [],
   "source": [
    "# 브루트포스 + 비트마스크로 해결!\n",
    "# 만약 n = 3이라면 000 ~ 111까지 비트가 1인 행을 뒤집은 뒤,\n",
    "# T가 많은 열을 뒤집은 뒤, T개수 세기\n",
    "# 이때 다음과 같은 식을 사용하면 -> min(t_cnt, n - t_cnt)\n",
    "# 일일이 열에 대해 뒤집지 않고도 T의 개수를 셀 수 있음.\n",
    "n = int(input())\n",
    "coin = [list(input()) for _ in range(n)]\n",
    "ans = n**2 + 1\n",
    "\n",
    "for bit in range(1 << n):\n",
    "    tmp = [coin[i][:] for i in range(n)]\n",
    "    for i in range(n):\n",
    "        if bit & (1 << i):\n",
    "            for j in range(n):\n",
    "                if tmp[i][j] == 'H':\n",
    "                    tmp[i][j] = 'T'\n",
    "                else:\n",
    "                    tmp[i][j] = 'H'\n",
    "    \n",
    "    t_cnt = 0\n",
    "    for i in range(n):\n",
    "        cnt = 0\n",
    "        for j in range(n):\n",
    "            if tmp[j][i] == 'T':\n",
    "                cnt += 1\n",
    "        t_cnt += min(cnt, n - cnt)\n",
    "    ans = min(ans, t_cnt)\n",
    "\n",
    "print(ans)"
   ]
  },
  {
   "cell_type": "markdown",
   "id": "ab90dd38",
   "metadata": {},
   "source": [
    "1202번 보석 도둑 <span style=\"color:red\">실패</span> - 2025.05.26"
   ]
  },
  {
   "cell_type": "code",
   "execution_count": null,
   "id": "713b27c5",
   "metadata": {},
   "outputs": [],
   "source": [
    "import sys\n",
    "import heapq\n",
    "# input = sys.stdin.readline\n",
    "\n",
    "n, k = map(int, input().split())\n",
    "jewels = [list(map(int, input().split())) for _ in range(n)]\n",
    "bags = [int(input()) for _ in range(k)]\n",
    "jewels.sort()\n",
    "bags.sort()\n",
    "\n",
    "ans = 0\n",
    "tmp = [] \n",
    "for bag in bags:\n",
    "    while jewels and jewels[0][0] <= bag:\n",
    "        heapq.heappush(tmp, -jewels[0][1])\n",
    "        heapq.heappop(jewels)\n",
    "    if tmp:\n",
    "        ans -= heapq.heappop(tmp)\n",
    "print(ans)"
   ]
  },
  {
   "cell_type": "markdown",
   "id": "82b13c84",
   "metadata": {},
   "source": [
    "2109번 순회강연 <span style=\"color:green\"></span> - 2025.05.27"
   ]
  },
  {
   "cell_type": "code",
   "execution_count": null,
   "id": "efc2aa30",
   "metadata": {},
   "outputs": [],
   "source": [
    "import sys\n",
    "# input = sys.stdin.readline\n",
    "\n",
    "n = int(input())\n",
    "courses = [list(map(int, input().split())) for _ in range(n)]\n",
    "courses.sort(key=lambda x : [x[0], -x[1]])\n",
    "\n",
    "schedule = [0 for _ in range(10001)]\n",
    "while courses:\n",
    "    p, d = courses.pop()\n",
    "\n",
    "    for i in range(d, 0, -1):\n",
    "        if schedule[i] < p:\n",
    "            schedule[i] = p\n",
    "            break\n",
    "print(sum(schedule))"
   ]
  },
  {
   "cell_type": "markdown",
   "id": "fce7c4cb",
   "metadata": {},
   "source": [
    "12015번 가장 긴 증가하는 부분 수열 2 <span style=\"color:green\"></span> - 2025.05.28"
   ]
  },
  {
   "cell_type": "code",
   "execution_count": null,
   "id": "50c03b44",
   "metadata": {},
   "outputs": [],
   "source": []
  }
 ],
 "metadata": {
  "kernelspec": {
   "display_name": "base",
   "language": "python",
   "name": "python3"
  },
  "language_info": {
   "codemirror_mode": {
    "name": "ipython",
    "version": 3
   },
   "file_extension": ".py",
   "mimetype": "text/x-python",
   "name": "python",
   "nbconvert_exporter": "python",
   "pygments_lexer": "ipython3",
   "version": "3.12.3"
  }
 },
 "nbformat": 4,
 "nbformat_minor": 5
}
