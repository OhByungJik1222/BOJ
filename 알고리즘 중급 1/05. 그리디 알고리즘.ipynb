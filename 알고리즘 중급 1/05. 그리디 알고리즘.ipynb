{
 "cells": [
  {
   "cell_type": "markdown",
   "id": "2e9ec872",
   "metadata": {},
   "source": [
    "11047번 동전 0 <span style=\"color:green\">성공</span> - 2025.05.20"
   ]
  },
  {
   "cell_type": "code",
   "execution_count": null,
   "id": "6572e156",
   "metadata": {},
   "outputs": [],
   "source": [
    "n, k = map(int, input().split())\n",
    "coin = []\n",
    "for _ in range(n):\n",
    "    coin.append(int(input()))\n",
    "\n",
    "ans = 0\n",
    "sum = 0\n",
    "for i in range(n - 1, -1, -1):\n",
    "    if sum == k:\n",
    "        break\n",
    "\n",
    "    if k - sum < coin[i]:\n",
    "        continue\n",
    "    else:\n",
    "        while k - sum >= coin[i]:\n",
    "            sum += coin[i]\n",
    "            ans += 1\n",
    "\n",
    "print(ans)"
   ]
  },
  {
   "cell_type": "markdown",
   "id": "9cc18556",
   "metadata": {},
   "source": [
    "1931번 회의실 배정 <span style=\"color:green\"></span> - 2025.05.21"
   ]
  },
  {
   "cell_type": "code",
   "execution_count": null,
   "id": "b5f2a143",
   "metadata": {},
   "outputs": [],
   "source": []
  }
 ],
 "metadata": {
  "kernelspec": {
   "display_name": "base",
   "language": "python",
   "name": "python3"
  },
  "language_info": {
   "codemirror_mode": {
    "name": "ipython",
    "version": 3
   },
   "file_extension": ".py",
   "mimetype": "text/x-python",
   "name": "python",
   "nbconvert_exporter": "python",
   "pygments_lexer": "ipython3",
   "version": "3.12.3"
  }
 },
 "nbformat": 4,
 "nbformat_minor": 5
}
