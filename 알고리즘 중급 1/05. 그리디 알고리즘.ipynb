{
 "cells": [
  {
   "cell_type": "markdown",
   "id": "2e9ec872",
   "metadata": {},
   "source": [
    "11047번 동전 0 <span style=\"color:green\">성공</span> - 2025.05.20"
   ]
  },
  {
   "cell_type": "code",
   "execution_count": null,
   "id": "6572e156",
   "metadata": {},
   "outputs": [],
   "source": [
    "n, k = map(int, input().split())\n",
    "coin = []\n",
    "for _ in range(n):\n",
    "    coin.append(int(input()))\n",
    "\n",
    "ans = 0\n",
    "sum = 0\n",
    "for i in range(n - 1, -1, -1):\n",
    "    if sum == k:\n",
    "        break\n",
    "\n",
    "    if k - sum < coin[i]:\n",
    "        continue\n",
    "    else:\n",
    "        while k - sum >= coin[i]:\n",
    "            sum += coin[i]\n",
    "            ans += 1\n",
    "\n",
    "print(ans)"
   ]
  },
  {
   "cell_type": "markdown",
   "id": "9cc18556",
   "metadata": {},
   "source": [
    "1931번 회의실 배정 <span style=\"color:red\">실패</span> - 2025.05.21"
   ]
  },
  {
   "cell_type": "code",
   "execution_count": null,
   "id": "b5f2a143",
   "metadata": {},
   "outputs": [],
   "source": [
    "# 회의를 최대한 많이 진행하기 위해서는\n",
    "# 1. 회의가 일찍 끝나는 순으로 정렬\n",
    "# 1-1. 만약 끝나는 시간이 같은 경우 -> 회의 시작 시간 순으로 정렬 (ex.시작시간 == 끝시간)\n",
    "# 2. i번째 회의 끝나는 시간 <= i+1번째 회의 시작 시간\n",
    "# 그리디 알고리즘을 사용할 수 있는 이유 : 회의 시작 시간은 반드시 끝시간보다 작거나 같기때문\n",
    "import sys\n",
    "# input = sys.stdin.readline\n",
    "\n",
    "n = int(input())\n",
    "meetings = [list(map(int, input().split())) for _ in range(n)]\n",
    "meetings.sort(lambda x : (x[1], x[0]))\n",
    "\n",
    "ans = 0\n",
    "time = 0\n",
    "for start, end in meetings:\n",
    "    if end <= start:\n",
    "        ans += 1\n",
    "        time = end\n",
    "\n",
    "print(ans)"
   ]
  },
  {
   "cell_type": "markdown",
   "id": "03c4a1a5",
   "metadata": {},
   "source": [
    "11399번 ATM <span style=\"color:green\">성공</span> - 2025.05.22"
   ]
  },
  {
   "cell_type": "code",
   "execution_count": null,
   "id": "2f67f32c",
   "metadata": {},
   "outputs": [],
   "source": [
    "n = int(input())\n",
    "time = list(map(int, input().split()))\n",
    "time.sort()\n",
    "\n",
    "for i in range(1, n):\n",
    "    time[i] += time[i - 1]\n",
    "\n",
    "print(sum(time))"
   ]
  },
  {
   "cell_type": "markdown",
   "id": "90e500a1",
   "metadata": {},
   "source": [
    "1080번 행렬 <span style=\"color:green\">성공</span> - 2025.05.23"
   ]
  },
  {
   "cell_type": "code",
   "execution_count": null,
   "id": "69affedc",
   "metadata": {},
   "outputs": [
    {
     "name": "stdout",
     "output_type": "stream",
     "text": [
      "1\n"
     ]
    }
   ],
   "source": [
    "def toggle(x, y):\n",
    "    for i in range(x, x + 3):\n",
    "        for j in range(y, y + 3):\n",
    "            if a[i][j] == 0:\n",
    "                a[i][j] = 1\n",
    "            else:\n",
    "                a[i][j] = 0\n",
    "\n",
    "n, m = map(int, input().split())\n",
    "a = [list(map(int, input())) for _ in range(n)]\n",
    "b = [list(map(int, input())) for _ in range(n)]\n",
    "\n",
    "ans = 0\n",
    "for i in range(n - 2):\n",
    "    for j in range(m - 2):\n",
    "        if a[i][j] != b[i][j]:\n",
    "            toggle(i, j)\n",
    "            ans += 1\n",
    "\n",
    "if a == b:\n",
    "    print(ans)\n",
    "else:\n",
    "    print(-1)"
   ]
  }
 ],
 "metadata": {
  "kernelspec": {
   "display_name": "base",
   "language": "python",
   "name": "python3"
  },
  "language_info": {
   "codemirror_mode": {
    "name": "ipython",
    "version": 3
   },
   "file_extension": ".py",
   "mimetype": "text/x-python",
   "name": "python",
   "nbconvert_exporter": "python",
   "pygments_lexer": "ipython3",
   "version": "3.12.3"
  }
 },
 "nbformat": 4,
 "nbformat_minor": 5
}
