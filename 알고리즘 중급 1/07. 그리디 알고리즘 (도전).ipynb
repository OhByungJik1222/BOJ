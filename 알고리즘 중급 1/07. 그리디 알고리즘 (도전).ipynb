{
 "cells": [
  {
   "cell_type": "markdown",
   "id": "1e440971",
   "metadata": {},
   "source": [
    "1201번 NMK <span style=\"color:green\">성공</span> - 2025.06.05"
   ]
  },
  {
   "cell_type": "code",
   "execution_count": null,
   "id": "fad15299",
   "metadata": {},
   "outputs": [],
   "source": [
    "n, m, k = map(int, input().split())\n",
    "ans = [0 for _ in range(m * k)]\n",
    "num = [i for i in range(1, n + 1)]\n",
    "\n",
    "if len(ans) < n:\n",
    "    print(-1)\n",
    "else:\n",
    "    for i in range(k - 1, m * k, k):\n",
    "        ans[i] = num.pop(0)\n",
    "        # print(ans)\n",
    "    if k != 1 and not num:\n",
    "        print(-1)\n",
    "    else:\n",
    "        cursor = m - 1\n",
    "        while num:\n",
    "            for i in range(k * cursor, k * (cursor + 1) - 1):\n",
    "                if num:\n",
    "                    ans[i] = num.pop()\n",
    "                    # print(ans)\n",
    "                    last_index = i\n",
    "\n",
    "            if cursor == m - 1 and ans[last_index + 1] == 0:\n",
    "                print(-1)\n",
    "                break\n",
    "            cursor -= 1\n",
    "        else:\n",
    "            for i in ans:\n",
    "                if i != 0:\n",
    "                    print(i, end=' ')"
   ]
  },
  {
   "cell_type": "markdown",
   "id": "87288720",
   "metadata": {},
   "source": [
    "2873번 롤러코스터 <span style=\"color:green\"></span> - 2025.06.06"
   ]
  },
  {
   "cell_type": "code",
   "execution_count": null,
   "id": "bbddcda8",
   "metadata": {},
   "outputs": [],
   "source": [
    "import sys\n",
    "# input = sys.stdin.readline\n",
    "# sys.setrecursionlimit(10**6)\n",
    "\n",
    "def dfs(cnt, pos, x, y):\n",
    "    global ans_cnt, ans\n",
    "\n",
    "    if x == r - 1 and y == c - 1:\n",
    "        if cnt > ans_cnt:\n",
    "            ans_cnt = cnt\n",
    "            ans = pos\n",
    "        return\n",
    "    \n",
    "    for i in range(4):\n",
    "        nx = x + dx[i]\n",
    "        ny = y + dy[i]\n",
    "        n_move = pos + move[i]\n",
    "        if 0 <= nx < r and 0 <= ny < c and visited[nx][ny] == 0:\n",
    "            visited[nx][ny] = 1\n",
    "            dfs(cnt + joy[nx][ny], n_move, nx, ny)\n",
    "            visited[nx][ny] = 0\n",
    "\n",
    "r, c = map(int, input().split())\n",
    "joy = [list(map(int, input().split())) for _ in range(r)]\n",
    "visited = [[0 for _ in range(c)] for _ in range(r)]\n",
    "visited[0][0] = 1\n",
    "\n",
    "dx = [-1, 1, 0, 0]\n",
    "dy = [0, 0, -1, 1]\n",
    "move = ['U', 'D', 'L', 'R']\n",
    "\n",
    "ans_cnt = 0\n",
    "ans = ''\n",
    "\n",
    "dfs(joy[0][0], '', 0, 0)\n",
    "\n",
    "print(ans)"
   ]
  },
  {
   "cell_type": "markdown",
   "id": "ccce9bd5",
   "metadata": {},
   "source": [
    "12919번 A와 B 2 <span style=\"color:green\"></span> - 2025.06.07"
   ]
  },
  {
   "cell_type": "code",
   "execution_count": null,
   "id": "0ebaa281",
   "metadata": {},
   "outputs": [],
   "source": []
  }
 ],
 "metadata": {
  "kernelspec": {
   "display_name": "base",
   "language": "python",
   "name": "python3"
  },
  "language_info": {
   "codemirror_mode": {
    "name": "ipython",
    "version": 3
   },
   "file_extension": ".py",
   "mimetype": "text/x-python",
   "name": "python",
   "nbconvert_exporter": "python",
   "pygments_lexer": "ipython3",
   "version": "3.12.3"
  }
 },
 "nbformat": 4,
 "nbformat_minor": 5
}
