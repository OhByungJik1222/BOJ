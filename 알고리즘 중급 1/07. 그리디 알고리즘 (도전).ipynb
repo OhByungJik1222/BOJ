{
 "cells": [
  {
   "cell_type": "markdown",
   "id": "1e440971",
   "metadata": {},
   "source": [
    "1201번 NMK <span style=\"color:green\">성공</span> - 2025.06.05"
   ]
  },
  {
   "cell_type": "code",
   "execution_count": null,
   "id": "fad15299",
   "metadata": {},
   "outputs": [],
   "source": [
    "n, m, k = map(int, input().split())\n",
    "ans = [0 for _ in range(m * k)]\n",
    "num = [i for i in range(1, n + 1)]\n",
    "\n",
    "if len(ans) < n:\n",
    "    print(-1)\n",
    "else:\n",
    "    for i in range(k - 1, m * k, k):\n",
    "        ans[i] = num.pop(0)\n",
    "        # print(ans) n = 13, m = 5, k = 4 일 때\n",
    "        # 0 0 0 1 0 0 0 2 0 0 0 3 0 0 0 4 0 0 0 5\n",
    "    if k != 1 and not num:\n",
    "        print(-1)\n",
    "    else:\n",
    "        cursor = m - 1\n",
    "        while num:\n",
    "            for i in range(k * cursor, k * (cursor + 1) - 1):\n",
    "                if num:\n",
    "                    ans[i] = num.pop()\n",
    "                    # print(ans) n = 13, m = 5, k = 4 일 때\n",
    "                    # 0 0 0 1 0 0 0 2 7 6 0 3 10 9 8 4 13 12 11 5\n",
    "                    last_index = i\n",
    "\n",
    "            if cursor == m - 1 and ans[last_index + 1] == 0:\n",
    "                print(-1)\n",
    "                break\n",
    "            cursor -= 1\n",
    "        else:\n",
    "            for i in ans:\n",
    "                if i != 0:\n",
    "                    print(i, end=' ')"
   ]
  },
  {
   "cell_type": "markdown",
   "id": "87288720",
   "metadata": {},
   "source": [
    "2873번 롤러코스터 <span style=\"color:red\">실패</span> - 2025.06.06"
   ]
  },
  {
   "cell_type": "code",
   "execution_count": null,
   "id": "bbddcda8",
   "metadata": {},
   "outputs": [],
   "source": [
    "import sys\n",
    "# input = sys.stdin.readline\n",
    "\n",
    "r, c = map(int, input().split())\n",
    "joy = [list(map(int, input().split())) for _ in range(r)]\n",
    "\n",
    "if r % 2 == 1:\n",
    "    print(('R' * (c - 1) + 'D' + 'L' * (c - 1) + 'D') * (r // 2) + 'R' * (c - 1))\n",
    "elif c % 2 == 1:\n",
    "    print(('D' * (r - 1) + 'R' + 'U' * (r - 1) + 'R') * (c // 2) + 'D' * (r - 1))\n",
    "elif r % 2 == 0 and c % 2 == 0:\n",
    "    min_joy = 1000\n",
    "    pos = [-1, -1]\n",
    "\n",
    "    for i in range(r):\n",
    "        if i % 2 == 0:\n",
    "            for j in range(1, c, 2):\n",
    "                if min_joy > joy[i][j]:\n",
    "                    min_joy = joy[i][j]\n",
    "                    pos = [i, j]\n",
    "        else:\n",
    "            for j in range(0, c, 2):\n",
    "                if min_joy > joy[i][j]:\n",
    "                    min_joy = joy[i][j]\n",
    "                    pos = [i, j]\n",
    "\n",
    "    ans = ('D' * (r - 1) + 'R' + 'U' * (r - 1) + 'R') * (pos[1] // 2)\n",
    "    x = 2 * (pos[1] // 2)\n",
    "    y = 0\n",
    "    xbound = x + 1\n",
    "\n",
    "    while x != xbound or y != r - 1:\n",
    "        if x < xbound and [y, xbound] != pos:\n",
    "            x += 1\n",
    "            ans += 'R'\n",
    "        elif x == xbound and [y, xbound - 1] != pos:\n",
    "            x -= 1\n",
    "            ans += 'L'\n",
    "        if y != r - 1:\n",
    "            y += 1\n",
    "            ans += 'D'\n",
    "    \n",
    "    ans += ('R' + 'U' * (r - 1) + 'R' + 'D' * (r - 1)) * ((c - pos[1] - 1) // 2)\n",
    "\n",
    "    print(ans)"
   ]
  },
  {
   "cell_type": "markdown",
   "id": "ccce9bd5",
   "metadata": {},
   "source": [
    "12919번 A와 B 2 <span style=\"color:green\">성공</span> - 2025.06.07"
   ]
  },
  {
   "cell_type": "code",
   "execution_count": null,
   "id": "0ebaa281",
   "metadata": {},
   "outputs": [],
   "source": [
    "import sys\n",
    "\n",
    "def dfs(word ,depth):\n",
    "    if depth == len(s):\n",
    "        if word == s:\n",
    "            print(1)\n",
    "            sys.exit()\n",
    "        return\n",
    "    \n",
    "    if word[0] == 'B' and word[-1] != 'A':\n",
    "        next = word[::-1][:depth - 1]\n",
    "        dfs(next, depth - 1)\n",
    "    elif word[0] != 'B' and word[-1] == 'A':\n",
    "        next = word[:depth - 1]\n",
    "        dfs(next, depth - 1)\n",
    "    elif word[0] == 'B' and word[-1] == 'A':\n",
    "        next = word[::-1][:depth - 1]\n",
    "        dfs(next, depth - 1)\n",
    "        next = word[:depth - 1]\n",
    "        dfs(next, depth - 1)\n",
    "\n",
    "s = input()\n",
    "t = input()\n",
    "\n",
    "dfs(t, len(t))\n",
    "\n",
    "print(0)"
   ]
  }
 ],
 "metadata": {
  "kernelspec": {
   "display_name": "base",
   "language": "python",
   "name": "python3"
  },
  "language_info": {
   "codemirror_mode": {
    "name": "ipython",
    "version": 3
   },
   "file_extension": ".py",
   "mimetype": "text/x-python",
   "name": "python",
   "nbconvert_exporter": "python",
   "pygments_lexer": "ipython3",
   "version": "3.12.3"
  }
 },
 "nbformat": 4,
 "nbformat_minor": 5
}
