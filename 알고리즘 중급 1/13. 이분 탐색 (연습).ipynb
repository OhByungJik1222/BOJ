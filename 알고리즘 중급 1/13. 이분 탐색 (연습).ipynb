{
 "cells": [
  {
   "cell_type": "markdown",
   "id": "f650781b",
   "metadata": {},
   "source": [
    "2343번 기타 레슨 <span style=\"color:green\">성공</span> - 2025.06.29"
   ]
  },
  {
   "cell_type": "code",
   "execution_count": null,
   "id": "427bc8ad",
   "metadata": {},
   "outputs": [],
   "source": [
    "def binary_search():\n",
    "    # 블루레이 하나의 길이는 최소한 영상의 길이의 최대보다 같거나 커야한다.\n",
    "    start = max(lectures)\n",
    "    # 블루레이 하나의 길이는 모든 영상의 길이의 합보다 클 순 없다.\n",
    "    end = sum(lectures)\n",
    "\n",
    "    ans = 0\n",
    "    while start <= end:\n",
    "        mid = (start + end) // 2\n",
    "\n",
    "        blue_ray = 0\n",
    "        cnt = 0\n",
    "        for lecture in lectures:\n",
    "            cnt += lecture\n",
    "            # 하나의 블루레이 길이가 mid보다 작다면 pass\n",
    "            if cnt < mid:\n",
    "                pass\n",
    "            # 하나의 블루레이 길이가 mid와 같다면 블루레이 하나 추가\n",
    "            elif cnt == mid:\n",
    "                cnt = 0\n",
    "                blue_ray += 1\n",
    "            # 하나의 블루레이 길이가 mid보다 크다면 블루레이 하나 추가하고 다시 더함\n",
    "            elif cnt > mid:\n",
    "                cnt = 0\n",
    "                cnt += lecture\n",
    "                blue_ray += 1\n",
    "        \n",
    "        # 만약 하나의 블루레이 길이가 0이 아니라면 블루레이 하나 추가\n",
    "        if cnt != 0 and cnt <= mid:\n",
    "            blue_ray += 1\n",
    "\n",
    "        # 완성된 블루레이 개수가 더 많다면 블루레이 길이를 늘려준다.\n",
    "        if blue_ray > m:\n",
    "            start = mid + 1\n",
    "        # 완성된 블루레이 개수가 더 적다면 블루레이 길이를 줄여준다.\n",
    "        # 완성된 블루레이 개수가 같다면 블루레이 길이를 줄여준다.\n",
    "        # (위 경우는 길이를 더 줄일 수 있는 가능성이 있으므로)\n",
    "        elif blue_ray <= m:\n",
    "            ans = mid\n",
    "            end = mid - 1\n",
    "    return ans\n",
    "        \n",
    "n, m = map(int, input().split())\n",
    "lectures = list(map(int, input().split()))\n",
    "\n",
    "print(binary_search())"
   ]
  },
  {
   "cell_type": "markdown",
   "id": "7d23f988",
   "metadata": {},
   "source": [
    "13397번 구간 나누기 2 <span style=\"color:red\">실패</span> - 2025.06.30"
   ]
  },
  {
   "cell_type": "code",
   "execution_count": null,
   "id": "453b43d7",
   "metadata": {},
   "outputs": [],
   "source": [
    "# mid를 각 구간의 최대값의 최솟값으로 설정\n",
    "# 설정한 mid에 대해 구간을 나눈다.\n",
    "# 만약 나눠진 구간이 m보다 많다면 mid를 증가시킨다. (최소값이 작은 것이므로)\n",
    "# 만약 나눠진 구간이 m보다 적다면 mid를 감소시킨다. (최소값을 찾기 위해)\n",
    "def binary_search():\n",
    "    start = 0\n",
    "    end = max(num) - min(num)\n",
    "    \n",
    "    ans = 0\n",
    "    while start <= end:\n",
    "        mid = (start + end) // 2\n",
    "\n",
    "        cnt = binning(mid)\n",
    "\n",
    "        if cnt <= m:\n",
    "            ans = mid\n",
    "            end = mid - 1\n",
    "        else:\n",
    "            start = mid + 1\n",
    "    return ans\n",
    "\n",
    "def binning(min_num):\n",
    "    cnt = 0\n",
    "    start_idx = 0\n",
    "    end_idx = 1\n",
    "\n",
    "    while start_idx + end_idx <= n:\n",
    "        tmp_max = max(num[start_idx:start_idx + end_idx])\n",
    "        tmp_min = min(num[start_idx:start_idx + end_idx])\n",
    "        if tmp_max - tmp_min > min_num:\n",
    "            cnt += 1\n",
    "            start_idx = start_idx + end_idx - 1\n",
    "            end_idx = 1\n",
    "        else:\n",
    "            end_idx += 1\n",
    "    return cnt + 1\n",
    "\n",
    "\n",
    "n, m = map(int, input().split())\n",
    "num = list(map(int, input().split()))\n",
    "\n",
    "print(binary_search())"
   ]
  },
  {
   "cell_type": "markdown",
   "id": "ebbca40f",
   "metadata": {},
   "source": [
    "1981번 배열에서 이동 <span style=\"color:green\"></span> - 2025.07.01"
   ]
  },
  {
   "cell_type": "code",
   "execution_count": null,
   "id": "da2dc70d",
   "metadata": {},
   "outputs": [],
   "source": [
    "# 최대값과 최소값의 차를 mid로 두고\n",
    "# 이진탐색 실행하는데,\n",
    "# 이때 BFS or 백트래킹 (이건 하면서 써봐야할 듯)\n",
    "# 그리고 (n, n)에 하나라도 도착 성공했다면 mid를 줄인다 (최대 - 최소의 최솟값을 찾기 위해)\n",
    "# 만약 도착 못했다면 mid를 증가시킨다. (답은 찾아야하니까)\n",
    "# start는 무조건 0 end는 모든 배열의 max - min으로 두고 시작하면 될듯 ?\n",
    "# 하나라도 도착하면 바로 BFS or 백트래킹 종료시켜야하니까 BFS가 구현하기 쉽지않을까?"
   ]
  }
 ],
 "metadata": {
  "kernelspec": {
   "display_name": "base",
   "language": "python",
   "name": "python3"
  },
  "language_info": {
   "codemirror_mode": {
    "name": "ipython",
    "version": 3
   },
   "file_extension": ".py",
   "mimetype": "text/x-python",
   "name": "python",
   "nbconvert_exporter": "python",
   "pygments_lexer": "ipython3",
   "version": "3.12.3"
  }
 },
 "nbformat": 4,
 "nbformat_minor": 5
}
