{
 "cells": [
  {
   "cell_type": "markdown",
   "id": "f650781b",
   "metadata": {},
   "source": [
    "2343번 기타 레슨 <span style=\"color:green\">성공</span> - 2025.06.29"
   ]
  },
  {
   "cell_type": "code",
   "execution_count": null,
   "id": "427bc8ad",
   "metadata": {},
   "outputs": [],
   "source": [
    "def binary_search():\n",
    "    # 블루레이 하나의 길이는 최소한 영상의 길이의 최대보다 같거나 커야한다.\n",
    "    start = max(lectures)\n",
    "    # 블루레이 하나의 길이는 모든 영상의 길이의 합보다 클 순 없다.\n",
    "    end = sum(lectures)\n",
    "\n",
    "    ans = 0\n",
    "    while start <= end:\n",
    "        mid = (start + end) // 2\n",
    "\n",
    "        blue_ray = 0\n",
    "        cnt = 0\n",
    "        for lecture in lectures:\n",
    "            cnt += lecture\n",
    "            # 하나의 블루레이 길이가 mid보다 작다면 pass\n",
    "            if cnt < mid:\n",
    "                pass\n",
    "            # 하나의 블루레이 길이가 mid와 같다면 블루레이 하나 추가\n",
    "            elif cnt == mid:\n",
    "                cnt = 0\n",
    "                blue_ray += 1\n",
    "            # 하나의 블루레이 길이가 mid보다 크다면 블루레이 하나 추가하고 다시 더함\n",
    "            elif cnt > mid:\n",
    "                cnt = 0\n",
    "                cnt += lecture\n",
    "                blue_ray += 1\n",
    "        \n",
    "        # 만약 하나의 블루레이 길이가 0이 아니라면 블루레이 하나 추가\n",
    "        if cnt != 0 and cnt <= mid:\n",
    "            blue_ray += 1\n",
    "\n",
    "        # 완성된 블루레이 개수가 더 많다면 블루레이 길이를 늘려준다.\n",
    "        if blue_ray > m:\n",
    "            start = mid + 1\n",
    "        # 완성된 블루레이 개수가 더 적다면 블루레이 길이를 줄여준다.\n",
    "        # 완성된 블루레이 개수가 같다면 블루레이 길이를 줄여준다.\n",
    "        # (위 경우는 길이를 더 줄일 수 있는 가능성이 있으므로)\n",
    "        elif blue_ray <= m:\n",
    "            ans = mid\n",
    "            end = mid - 1\n",
    "    return ans\n",
    "        \n",
    "n, m = map(int, input().split())\n",
    "lectures = list(map(int, input().split()))\n",
    "\n",
    "print(binary_search())"
   ]
  },
  {
   "cell_type": "markdown",
   "id": "7d23f988",
   "metadata": {},
   "source": [
    "13397번 구간 나누기 2 <span style=\"color:green\"></span> - 2025.06.30"
   ]
  },
  {
   "cell_type": "code",
   "execution_count": null,
   "id": "453b43d7",
   "metadata": {},
   "outputs": [],
   "source": [
    "def binary_search():\n",
    "    start = 0\n",
    "    end = max(num) - min(num)\n",
    "\n",
    "    while start <= end:\n",
    "        mid = (start + end) // 2\n",
    "\n",
    "        \n",
    "\n",
    "n, m = map(int, input().split())\n",
    "num = list(map(int, input().split()))\n",
    "\n",
    "print(binary_search())"
   ]
  }
 ],
 "metadata": {
  "kernelspec": {
   "display_name": "base",
   "language": "python",
   "name": "python3"
  },
  "language_info": {
   "codemirror_mode": {
    "name": "ipython",
    "version": 3
   },
   "file_extension": ".py",
   "mimetype": "text/x-python",
   "name": "python",
   "nbconvert_exporter": "python",
   "pygments_lexer": "ipython3",
   "version": "3.12.3"
  }
 },
 "nbformat": 4,
 "nbformat_minor": 5
}
