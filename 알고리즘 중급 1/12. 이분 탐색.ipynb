{
 "cells": [
  {
   "cell_type": "markdown",
   "id": "837d020e",
   "metadata": {},
   "source": [
    "1790번 수 이어 쓰기 2 <span style=\"color:red\">실패</span> - 2025.06.22"
   ]
  },
  {
   "cell_type": "code",
   "execution_count": null,
   "id": "71c26e86",
   "metadata": {},
   "outputs": [],
   "source": [
    "# 한 자리수 : 9개 ➟ 9개\n",
    "# 두 자리수 : 90개 ➟ 90*2 ➟ 180개  \n",
    "# 세 자리수 : 900개 ➟ 900*3 ➟ 2700개\n",
    "n, k = map(int, input().split())\n",
    "\n",
    "start = 0\n",
    "digit = 1\n",
    "nine = 9\n",
    "\n",
    "while k > nine * digit:\n",
    "    k -= digit * nine\n",
    "    start += nine\n",
    "    nine *= 10\n",
    "    digit += 1\n",
    "\n",
    "ans = start + 1 + (k - 1) // digit\n",
    "\n",
    "if ans > n:\n",
    "    print(-1)\n",
    "else:\n",
    "    print(str(ans)[(k - 1) % digit])"
   ]
  },
  {
   "cell_type": "markdown",
   "id": "a8af9356",
   "metadata": {},
   "source": [
    "1654번 랜선 자르기 <span style=\"color:green\">성공</span> - 2025.06.23"
   ]
  },
  {
   "cell_type": "code",
   "execution_count": null,
   "id": "41498a10",
   "metadata": {},
   "outputs": [],
   "source": [
    "import sys\n",
    "# input = sys.stdin.readline\n",
    "\n",
    "def binary_search():\n",
    "    start = 1\n",
    "    end = lines[-1]\n",
    "\n",
    "    while start <= end:\n",
    "        mid = (start + end) // 2\n",
    "\n",
    "        cnt = 0\n",
    "        for line in lines:\n",
    "            while mid <= line:\n",
    "                line -= mid\n",
    "                cnt += 1\n",
    "        \n",
    "        if cnt < k:\n",
    "            end = mid - 1\n",
    "        else:\n",
    "            start = mid + 1\n",
    "    return end\n",
    "\n",
    "n, k = map(int, input().split())\n",
    "lines = [int(input()) for _ in range(n)]\n",
    "lines.sort()\n",
    "\n",
    "print(binary_search())"
   ]
  },
  {
   "cell_type": "markdown",
   "id": "9fb85f36",
   "metadata": {},
   "source": [
    "2805번 나무 자르기 <span style=\"color:red\">실패</span> - 2025.06.24"
   ]
  },
  {
   "cell_type": "code",
   "execution_count": null,
   "id": "6f19fa25",
   "metadata": {},
   "outputs": [],
   "source": [
    "def binary_search():\n",
    "    start = 1\n",
    "    end = woods[-1]\n",
    "\n",
    "    while start <= end:\n",
    "        mid = (start + end) // 2\n",
    "\n",
    "        h_sum = 0\n",
    "        for h in woods:\n",
    "            if h >= mid:\n",
    "                h_sum += h - mid\n",
    "\n",
    "        if h_sum >= m:\n",
    "            start = mid + 1\n",
    "        else:\n",
    "            end = mid - 1\n",
    "    return end\n",
    "\n",
    "n, m = map(int, input().split())\n",
    "woods = list(map(int, input().split()))\n",
    "woods.sort()\n",
    "\n",
    "print(binary_search())"
   ]
  },
  {
   "cell_type": "markdown",
   "id": "e21b35aa",
   "metadata": {},
   "source": [
    "2110번 공유기 설치 <span style=\"color:red\">실패</span> - 2025.06.25"
   ]
  },
  {
   "cell_type": "code",
   "execution_count": null,
   "id": "d149e5c6",
   "metadata": {},
   "outputs": [],
   "source": [
    "import sys\n",
    "input = sys.stdin.readline\n",
    "\n",
    "def binary_search():\n",
    "    start = 1\n",
    "    end = house[-1] - house[0]\n",
    "\n",
    "    while start <= end:\n",
    "        mid = (start + end) // 2\n",
    "\n",
    "        cnt = 1\n",
    "        prev = house[0]\n",
    "        for i in range(1, n):\n",
    "            if house[i] - prev >= mid:\n",
    "                cnt += 1\n",
    "                prev = house[i]\n",
    "        \n",
    "        if cnt >= c:\n",
    "            ans = mid\n",
    "            start = mid + 1\n",
    "        else:\n",
    "            end = mid - 1\n",
    "    return ans\n",
    "\n",
    "n, c = map(int, input().split())\n",
    "house = [int(input()) for _ in range(n)]\n",
    "house.sort()\n",
    "\n",
    "print(binary_search())"
   ]
  },
  {
   "cell_type": "markdown",
   "id": "5c3fe758",
   "metadata": {},
   "source": [
    "1939번 중량제한 <span style=\"color:red\">실패</span> - 2025.06.26"
   ]
  },
  {
   "cell_type": "code",
   "execution_count": null,
   "id": "a8df07f6",
   "metadata": {},
   "outputs": [],
   "source": [
    "import sys\n",
    "import heapq\n",
    "input = sys.stdin.readline\n",
    "\n",
    "def dijkstra(start, end):\n",
    "    q = []\n",
    "    heapq.heappush(q, (0, start))\n",
    "\n",
    "    while q:\n",
    "        dist, now = heapq.heappop(q)\n",
    "        dist *= -1\n",
    "\n",
    "        if now == end:\n",
    "            print(dist)\n",
    "            break\n",
    "\n",
    "        if distance[now] > dist:\n",
    "            continue\n",
    "\n",
    "        for i in graph[now]:\n",
    "            if dist == 0:\n",
    "                distance[i[1]] = i[0]\n",
    "                heapq.heappush(q, (-distance[i[1]], i[1]))\n",
    "            elif distance[i[1]] < i[0] and distance[i[1]] < dist:\n",
    "                distance[i[1]] = min(dist, i[0])\n",
    "                heapq.heappush(q, (-distance[i[1]], i[1]))\n",
    "\n",
    "n, m = map(int, input().split())\n",
    "graph = [[] for _ in range(n + 1)]\n",
    "for _ in range(m):\n",
    "    a, b, c = map(int, input().split())\n",
    "    graph[a].append((c, b))\n",
    "    graph[b].append((c, a))\n",
    "\n",
    "for i in range(1, n + 1):\n",
    "    graph[i].sort(reverse=True)\n",
    "\n",
    "distance = [0 for _ in range(n + 1)]\n",
    "start, end = map(int, input().split())\n",
    "\n",
    "dijkstra(start, end)"
   ]
  },
  {
   "cell_type": "markdown",
   "id": "39513626",
   "metadata": {},
   "source": [
    "2022번 사다리 <span style=\"color:green\">성공</span> - 2025.06.27"
   ]
  },
  {
   "cell_type": "code",
   "execution_count": null,
   "id": "809c097f",
   "metadata": {},
   "outputs": [],
   "source": [
    "# 그림 그리면서 천천히 생각해보기...\n",
    "# 문제에 1e-3 오차까지 괜찮다고 나와있으니\n",
    "# 이거 실수라서 직전 mid값과 현재 mid값을 \n",
    "# 소수점 4자리에서 반올림한 값이 같다면 return (아니면 시간초과)\n",
    "# 각 x, y선이 건물과 이루는 높이를 구하고 (각 삼각형의 높이)\n",
    "# 이 두 높이의 비율을 사용해 밑변 기준 교차점을 구한다.\n",
    "def binary_search():\n",
    "    start = 0\n",
    "    end = min(x, y)\n",
    "    prev_mid = -1\n",
    "\n",
    "    while start <= end:\n",
    "        mid = (start + end) / 2\n",
    "\n",
    "        xh = (x**2 - mid**2)**0.5\n",
    "        yh = (y**2 - mid**2)**0.5\n",
    "\n",
    "        cross_point = mid * xh / (xh + yh)\n",
    "\n",
    "        tmp_h = round(((y * cross_point / mid)**2 - cross_point**2)**0.5, 3)\n",
    "\n",
    "        if tmp_h == c or prev_mid == round(mid, 3):\n",
    "            return round(mid, 3)\n",
    "        elif tmp_h < c:\n",
    "            end = mid\n",
    "            prev_mid = round(mid, 3)\n",
    "        elif tmp_h > c:\n",
    "            start = mid\n",
    "            prev_mid = round(mid, 3)\n",
    "\n",
    "x, y, c = map(float, input().split())\n",
    "\n",
    "print(f'{binary_search():.3f}')"
   ]
  },
  {
   "cell_type": "markdown",
   "id": "fe6e6c5a",
   "metadata": {},
   "source": [
    "11664번 선분과 점 <span style=\"color:green\">성공</span> - 2025.06.28\n",
    "\n",
    "$$Heron's\\;Formula$$\n",
    "$$\n",
    "S = \\sqrt{s(s - a)(s - b)(s - c)}, s = \\frac{a + b + c}{2}\n",
    "$$"
   ]
  },
  {
   "cell_type": "code",
   "execution_count": null,
   "id": "47d3696c",
   "metadata": {},
   "outputs": [],
   "source": [
    "def calculate_len(x1, x2, y1, y2, z1, z2):\n",
    "    return ((x1 - x2)**2 + (y1 - y2)**2 + (z1 - z2)**2)**0.5\n",
    "\n",
    "def calculate_area(len1, len2, len3):\n",
    "    s = (len1 + len2 + len3) / 2\n",
    "    return (s * (s - len1) * (s - len2) * (s - len3))**0.5\n",
    "\n",
    "ax, ay, az, bx, by, bz, cx, cy, cz = map(int, input().split())\n",
    "len_ab = calculate_len(ax, bx, ay, by, az, bz)\n",
    "len_ac = calculate_len(ax, cx, ay, cy, az, cz)\n",
    "len_bc = calculate_len(bx, cx, by, cy, bz, cz)\n",
    "\n",
    "if round(len_bc**2, 6) > round(len_ab**2, 6) + round(len_ac**2, 6):\n",
    "    print(f'{len_ac:.10f}')\n",
    "elif round(len_ac**2, 6) > round(len_ab**2, 6) + round(len_bc**2, 6):\n",
    "    print(f'{len_bc:.10f}')\n",
    "else:\n",
    "    area = calculate_area(len_ab, len_ac, len_bc)\n",
    "    print(f'{(2 * area / len_ab):.10f}')"
   ]
  }
 ],
 "metadata": {
  "kernelspec": {
   "display_name": "base",
   "language": "python",
   "name": "python3"
  },
  "language_info": {
   "codemirror_mode": {
    "name": "ipython",
    "version": 3
   },
   "file_extension": ".py",
   "mimetype": "text/x-python",
   "name": "python",
   "nbconvert_exporter": "python",
   "pygments_lexer": "ipython3",
   "version": "3.12.3"
  }
 },
 "nbformat": 4,
 "nbformat_minor": 5
}
