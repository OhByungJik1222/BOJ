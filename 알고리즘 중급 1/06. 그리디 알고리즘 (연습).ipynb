{
 "cells": [
  {
   "cell_type": "markdown",
   "id": "cc53a9ec",
   "metadata": {},
   "source": [
    "1541번 잃어버린 괄호 <span style=\"color:green\">성공</span> - 2025.05.29"
   ]
  },
  {
   "cell_type": "code",
   "execution_count": null,
   "id": "a512e123",
   "metadata": {},
   "outputs": [],
   "source": [
    "s = input()\n",
    "\n",
    "if len(s) == 1:\n",
    "    print(int(s))\n",
    "else:\n",
    "    num = []\n",
    "    oper = []\n",
    "\n",
    "    tmp = ''\n",
    "    for i in range(len(s)):\n",
    "        if s[i] == '+' or s[i] == '-':\n",
    "            oper.append(s[i])\n",
    "            num.append(int(tmp))\n",
    "            tmp = ''\n",
    "        else:\n",
    "            tmp += s[i]\n",
    "    num.append(int(tmp))\n",
    "\n",
    "    for i in range(len(oper)):\n",
    "        if oper[i] == '-':\n",
    "            print(sum(num[:i + 1]) - sum(num[i + 1:]))\n",
    "            break\n",
    "    else:\n",
    "        print(sum(num))"
   ]
  },
  {
   "cell_type": "markdown",
   "id": "ce4e59b2",
   "metadata": {},
   "source": [
    "1744번 수 묶기 <span style=\"color:green\">성공</span> - 2025.05.30"
   ]
  },
  {
   "cell_type": "code",
   "execution_count": null,
   "id": "55da3303",
   "metadata": {},
   "outputs": [],
   "source": [
    "import sys\n",
    "# input = sys.stdin.readline\n",
    "\n",
    "n = int(input())\n",
    "minus = []\n",
    "plus = []\n",
    "for _ in range(n):\n",
    "    num = int(input())\n",
    "    if num <= 0:\n",
    "        minus.append(num)\n",
    "    else:\n",
    "        plus.append(num)\n",
    "minus.sort(reverse=True)\n",
    "plus.sort()\n",
    "\n",
    "ans = []\n",
    "while plus:\n",
    "    a = plus.pop()\n",
    "\n",
    "    if a == 1:\n",
    "        ans.append(a)\n",
    "        continue\n",
    "\n",
    "    if plus:\n",
    "        b = plus.pop()\n",
    "        if b == 1:\n",
    "            ans.append(a)\n",
    "            ans.append(b)\n",
    "            continue\n",
    "        ans.append(a * b)\n",
    "    else:\n",
    "        ans.append(a)\n",
    "\n",
    "while minus:\n",
    "    tmp = minus.pop()\n",
    "\n",
    "    if minus:\n",
    "        ans.append(tmp * minus.pop())\n",
    "    else:\n",
    "        ans.append(tmp)\n",
    "\n",
    "print(sum(ans))"
   ]
  },
  {
   "cell_type": "markdown",
   "id": "d93c70e1",
   "metadata": {},
   "source": [
    "2875번 대회 or 인턴 <span style=\"color:green\">성공</span> - 2025.05.31"
   ]
  },
  {
   "cell_type": "code",
   "execution_count": null,
   "id": "3f1ef43c",
   "metadata": {},
   "outputs": [],
   "source": [
    "n, m, k = map(int, input().split())\n",
    "\n",
    "ans = 0\n",
    "for i in range(k + 1):\n",
    "    ig = i\n",
    "    ib = k - i\n",
    "\n",
    "    ng = n - ig\n",
    "    nb = m - ib\n",
    "\n",
    "    if ng < 2 or nb < 1:\n",
    "        continue\n",
    "\n",
    "    ans = max(ans, min(ng//2, nb))\n",
    "\n",
    "print(ans)"
   ]
  },
  {
   "cell_type": "markdown",
   "id": "3c4d7e25",
   "metadata": {},
   "source": [
    "10610번 30 <span style=\"color:red\">실패</span> - 2025.06.01\n",
    "\n",
    "$(a + b)\\mod 3 = ((a \\mod 3) + (b \\mod 3)) \\mod 3$\n",
    "\n",
    "$10^k \\mod 3 = 1$\n",
    "\n",
    "$123 \\mod 3 = (1 \\times (100 \\mod 3) + 2 \\times (10 \\mod 3) + (3 \\mod 3)) \\mod 3$\n",
    "\n",
    "$ 123 \\mod 3 = (1 + 2 + 3) \\mod 3 = 6 \\mod 3$"
   ]
  },
  {
   "cell_type": "code",
   "execution_count": null,
   "id": "f207bfc4",
   "metadata": {},
   "outputs": [],
   "source": [
    "# 3의 배수인 수의 각 자리의 합 또한 3의 배수이다.\n",
    "n = sorted(list(map(int, input())), reverse=True)\n",
    "\n",
    "if 0 not in n or sum(n) % 3 != 0:\n",
    "    print(-1)\n",
    "else:\n",
    "    print(*n, sep='')"
   ]
  },
  {
   "cell_type": "markdown",
   "id": "40a49af0",
   "metadata": {},
   "source": [
    "1783번 병든 나이트 <span style=\"color:red\">실패</span> - 2025.06.02"
   ]
  },
  {
   "cell_type": "code",
   "execution_count": null,
   "id": "d17befa5",
   "metadata": {},
   "outputs": [],
   "source": [
    "# n과 m에따라 모든 경우의 수를 세보는 것이 풀이법이었다...\n",
    "n, m = map(int, input().split())\n",
    "\n",
    "if n == 1:\n",
    "    print(1)\n",
    "elif n == 2:\n",
    "    print(min(4, (m + 1)//2))\n",
    "elif n >= 3 and m < 7:\n",
    "    print(min(4, m))\n",
    "else:\n",
    "    print(m - 2)"
   ]
  },
  {
   "cell_type": "markdown",
   "id": "66199323",
   "metadata": {},
   "source": [
    "12970번 AB <span style=\"color:green\"></span> - 2025.06.03"
   ]
  },
  {
   "cell_type": "code",
   "execution_count": null,
   "id": "05329b9b",
   "metadata": {},
   "outputs": [],
   "source": []
  }
 ],
 "metadata": {
  "kernelspec": {
   "display_name": "base",
   "language": "python",
   "name": "python3"
  },
  "language_info": {
   "codemirror_mode": {
    "name": "ipython",
    "version": 3
   },
   "file_extension": ".py",
   "mimetype": "text/x-python",
   "name": "python",
   "nbconvert_exporter": "python",
   "pygments_lexer": "ipython3",
   "version": "3.12.3"
  }
 },
 "nbformat": 4,
 "nbformat_minor": 5
}
