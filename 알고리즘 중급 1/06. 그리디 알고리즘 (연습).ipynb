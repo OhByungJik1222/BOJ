{
 "cells": [
  {
   "cell_type": "markdown",
   "id": "cc53a9ec",
   "metadata": {},
   "source": [
    "1541번 잃어버린 괄호 <span style=\"color:green\">성공</span> - 2025.05.29"
   ]
  },
  {
   "cell_type": "code",
   "execution_count": null,
   "id": "a512e123",
   "metadata": {},
   "outputs": [],
   "source": [
    "s = input()\n",
    "\n",
    "if len(s) == 1:\n",
    "    print(int(s))\n",
    "else:\n",
    "    num = []\n",
    "    oper = []\n",
    "\n",
    "    tmp = ''\n",
    "    for i in range(len(s)):\n",
    "        if s[i] == '+' or s[i] == '-':\n",
    "            oper.append(s[i])\n",
    "            num.append(int(tmp))\n",
    "            tmp = ''\n",
    "        else:\n",
    "            tmp += s[i]\n",
    "    num.append(int(tmp))\n",
    "\n",
    "    for i in range(len(oper)):\n",
    "        if oper[i] == '-':\n",
    "            print(sum(num[:i + 1]) - sum(num[i + 1:]))\n",
    "            break\n",
    "    else:\n",
    "        print(sum(num))"
   ]
  },
  {
   "cell_type": "markdown",
   "id": "ce4e59b2",
   "metadata": {},
   "source": [
    "1744번 수 묶기 <span style=\"color:green\">성공</span> - 2025.05.30"
   ]
  },
  {
   "cell_type": "code",
   "execution_count": null,
   "id": "55da3303",
   "metadata": {},
   "outputs": [],
   "source": [
    "import sys\n",
    "# input = sys.stdin.readline\n",
    "\n",
    "n = int(input())\n",
    "minus = []\n",
    "plus = []\n",
    "for _ in range(n):\n",
    "    num = int(input())\n",
    "    if num <= 0:\n",
    "        minus.append(num)\n",
    "    else:\n",
    "        plus.append(num)\n",
    "minus.sort(reverse=True)\n",
    "plus.sort()\n",
    "\n",
    "ans = []\n",
    "while plus:\n",
    "    a = plus.pop()\n",
    "\n",
    "    if a == 1:\n",
    "        ans.append(a)\n",
    "        continue\n",
    "\n",
    "    if plus:\n",
    "        b = plus.pop()\n",
    "        if b == 1:\n",
    "            ans.append(a)\n",
    "            ans.append(b)\n",
    "            continue\n",
    "        ans.append(a * b)\n",
    "    else:\n",
    "        ans.append(a)\n",
    "\n",
    "while minus:\n",
    "    tmp = minus.pop()\n",
    "\n",
    "    if minus:\n",
    "        ans.append(tmp * minus.pop())\n",
    "    else:\n",
    "        ans.append(tmp)\n",
    "\n",
    "print(sum(ans))"
   ]
  },
  {
   "cell_type": "markdown",
   "id": "d93c70e1",
   "metadata": {},
   "source": [
    "2875번 대회 or 인턴 <span style=\"color:green\"></span> - 2025.05.31"
   ]
  },
  {
   "cell_type": "code",
   "execution_count": null,
   "id": "3f1ef43c",
   "metadata": {},
   "outputs": [],
   "source": []
  }
 ],
 "metadata": {
  "kernelspec": {
   "display_name": "base",
   "language": "python",
   "name": "python3"
  },
  "language_info": {
   "codemirror_mode": {
    "name": "ipython",
    "version": 3
   },
   "file_extension": ".py",
   "mimetype": "text/x-python",
   "name": "python",
   "nbconvert_exporter": "python",
   "pygments_lexer": "ipython3",
   "version": "3.12.3"
  }
 },
 "nbformat": 4,
 "nbformat_minor": 5
}
