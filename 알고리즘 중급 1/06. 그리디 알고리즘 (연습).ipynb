{
 "cells": [
  {
   "cell_type": "markdown",
   "id": "cc53a9ec",
   "metadata": {},
   "source": [
    "1541번 잃어버린 괄호 <span style=\"color:green\">성공</span> - 2025.05.29"
   ]
  },
  {
   "cell_type": "code",
   "execution_count": null,
   "id": "a512e123",
   "metadata": {},
   "outputs": [],
   "source": [
    "s = input()\n",
    "\n",
    "if len(s) == 1:\n",
    "    print(int(s))\n",
    "else:\n",
    "    num = []\n",
    "    oper = []\n",
    "\n",
    "    tmp = ''\n",
    "    for i in range(len(s)):\n",
    "        if s[i] == '+' or s[i] == '-':\n",
    "            oper.append(s[i])\n",
    "            num.append(int(tmp))\n",
    "            tmp = ''\n",
    "        else:\n",
    "            tmp += s[i]\n",
    "    num.append(int(tmp))\n",
    "\n",
    "    for i in range(len(oper)):\n",
    "        if oper[i] == '-':\n",
    "            print(sum(num[:i + 1]) - sum(num[i + 1:]))\n",
    "            break\n",
    "    else:\n",
    "        print(sum(num))"
   ]
  },
  {
   "cell_type": "markdown",
   "id": "ce4e59b2",
   "metadata": {},
   "source": [
    "1744번 수 묶기 <span style=\"color:green\">성공</span> - 2025.05.30"
   ]
  },
  {
   "cell_type": "code",
   "execution_count": null,
   "id": "55da3303",
   "metadata": {},
   "outputs": [],
   "source": [
    "n = int(input())\n",
    "\n",
    "plus = []\n",
    "minus = []\n",
    "ans = 0\n",
    "for _ in range(n):\n",
    "    num = int(input())\n",
    "    if num > 1:\n",
    "        plus.append(num)\n",
    "    elif num == 1:\n",
    "        ans += 1\n",
    "    elif num < 1:\n",
    "        minus.append(num)\n",
    "plus.sort()\n",
    "minus.sort(reverse=True)\n",
    "\n",
    "while len(plus) > 1:\n",
    "    a = plus.pop()\n",
    "    b = plus.pop()\n",
    "    ans += a * b\n",
    "if plus:\n",
    "    ans += plus.pop()\n",
    "\n",
    "while len(minus) > 1:\n",
    "    a = minus.pop()\n",
    "    b = minus.pop()\n",
    "    ans += a * b\n",
    "if minus:\n",
    "    ans += minus.pop()\n",
    "\n",
    "print(ans)"
   ]
  },
  {
   "cell_type": "markdown",
   "id": "d93c70e1",
   "metadata": {},
   "source": [
    "2875번 대회 or 인턴 <span style=\"color:green\">성공</span> - 2025.05.31"
   ]
  },
  {
   "cell_type": "code",
   "execution_count": null,
   "id": "3f1ef43c",
   "metadata": {},
   "outputs": [],
   "source": [
    "n, m, k = map(int, input().split())\n",
    "\n",
    "ans = 0\n",
    "for i in range(k + 1):\n",
    "    girls = n - i\n",
    "    boys = m - (k - i)\n",
    "\n",
    "    ans = max(ans, min(girls//2, boys))\n",
    "print(ans)"
   ]
  },
  {
   "cell_type": "markdown",
   "id": "3c4d7e25",
   "metadata": {},
   "source": [
    "10610번 30 <span style=\"color:red\">실패</span> - 2025.06.01\n",
    "\n",
    "$(a + b)\\mod 3 = ((a \\mod 3) + (b \\mod 3)) \\mod 3$\n",
    "\n",
    "$10^k \\mod 3 = 1$\n",
    "\n",
    "$123 \\mod 3 = (1 \\times (100 \\mod 3) + 2 \\times (10 \\mod 3) + (3 \\mod 3)) \\mod 3$\n",
    "\n",
    "$ 123 \\mod 3 = (1 + 2 + 3) \\mod 3 = 6 \\mod 3$"
   ]
  },
  {
   "cell_type": "code",
   "execution_count": null,
   "id": "f207bfc4",
   "metadata": {},
   "outputs": [],
   "source": [
    "# 3의 배수인 수의 각 자리의 합 또한 3의 배수이다.\n",
    "n = sorted(list(map(int, input())), reverse=True)\n",
    "\n",
    "if 0 not in n or sum(n) % 3 != 0:\n",
    "    print(-1)\n",
    "else:\n",
    "    print(*n, sep='')"
   ]
  },
  {
   "cell_type": "markdown",
   "id": "40a49af0",
   "metadata": {},
   "source": [
    "1783번 병든 나이트 <span style=\"color:red\">실패</span> - 2025.06.02"
   ]
  },
  {
   "cell_type": "code",
   "execution_count": null,
   "id": "d17befa5",
   "metadata": {},
   "outputs": [],
   "source": [
    "# n과 m에따라 모든 경우의 수를 세보는 것이 풀이법이었다...\n",
    "n, m = map(int, input().split())\n",
    "\n",
    "if n == 1:\n",
    "    print(1)\n",
    "elif n == 2:\n",
    "    print(min(4, (m + 1)//2))\n",
    "elif n >= 3 and m < 7:\n",
    "    print(min(4, m))\n",
    "else:\n",
    "    print(m - 2)"
   ]
  },
  {
   "cell_type": "markdown",
   "id": "66199323",
   "metadata": {},
   "source": [
    "12970번 AB <span style=\"color:green\">성공</span> - 2025.06.03"
   ]
  },
  {
   "cell_type": "code",
   "execution_count": null,
   "id": "05329b9b",
   "metadata": {},
   "outputs": [],
   "source": [
    "n, k = map(int, input().split())\n",
    "ans = ['B' for _ in range(n)]\n",
    "break_point = ['A' for _ in range(n)]\n",
    "\n",
    "cursor = n - 1\n",
    "while ans != break_point:\n",
    "    if cursor == n - 1:\n",
    "        ans[cursor] = 'A'\n",
    "    else:\n",
    "        ans[cursor] = 'A'\n",
    "        ans[cursor + 1] = 'B'\n",
    "    cursor -= 1\n",
    "\n",
    "    if cursor < 0 or ans[cursor] == 'A':\n",
    "        cursor = n - 1\n",
    "\n",
    "    cnt = 0\n",
    "    for i in range(n):\n",
    "        if ans[i] == 'A':\n",
    "            for j in range(i + 1, n):\n",
    "                if ans[j] == 'B': cnt += 1\n",
    "\n",
    "    if cnt == k:\n",
    "        print(*ans, sep='')\n",
    "        break\n",
    "\n",
    "    # print(ans, cnt)\n",
    "\n",
    "else:\n",
    "    print(-1)"
   ]
  },
  {
   "cell_type": "markdown",
   "id": "2a5ecbe8",
   "metadata": {},
   "source": [
    "12904번 A와 B <span style=\"color:green\">성공</span> - 2025.06.04"
   ]
  },
  {
   "cell_type": "code",
   "execution_count": null,
   "id": "1c108943",
   "metadata": {},
   "outputs": [],
   "source": [
    "# s에서 t로 가는 것이 아닌 t에서 s로 가는 문제\n",
    "# t의 마지막이 'A'라면 A연산 반대로(마지막 'A'만 빼기)\n",
    "# t의 마지막이 'B'라면 B연산 반대로(마지막 'B'를 빼고 문자열 뒤집기)\n",
    "# 처음에 완탐으로 해결하려 했지만 메모리, 시간초과...\n",
    "s = input()\n",
    "t = input()\n",
    "\n",
    "while t:\n",
    "    if t[-1] == 'A':\n",
    "        t = t[:len(t) - 1]\n",
    "    elif t[-1] == 'B':\n",
    "        t = t[:len(t) - 1][::-1]\n",
    "\n",
    "    if len(t) == len(s):\n",
    "        if t == s:\n",
    "            print(1)\n",
    "        else:\n",
    "            print(0)\n",
    "        break"
   ]
  }
 ],
 "metadata": {
  "kernelspec": {
   "display_name": "base",
   "language": "python",
   "name": "python3"
  },
  "language_info": {
   "codemirror_mode": {
    "name": "ipython",
    "version": 3
   },
   "file_extension": ".py",
   "mimetype": "text/x-python",
   "name": "python",
   "nbconvert_exporter": "python",
   "pygments_lexer": "ipython3",
   "version": "3.12.3"
  }
 },
 "nbformat": 4,
 "nbformat_minor": 5
}
