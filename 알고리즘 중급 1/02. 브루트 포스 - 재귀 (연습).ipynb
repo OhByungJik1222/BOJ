{
 "cells": [
  {
   "cell_type": "markdown",
   "id": "98a32f2e",
   "metadata": {},
   "source": [
    "14225번 부분수열의 합 <span style=\"color:green\">성공</span> - 2025.04.23"
   ]
  },
  {
   "cell_type": "code",
   "execution_count": null,
   "id": "ff2ca649",
   "metadata": {},
   "outputs": [],
   "source": [
    "import sys\n",
    "sys.setrecursionlimit(10**6)\n",
    "\n",
    "def dfs(depth):\n",
    "    if depth == n:\n",
    "        tmp = 0\n",
    "        for i in range(n):\n",
    "            if mask[i]:\n",
    "                tmp += s[i]\n",
    "        sum_list.append(tmp)\n",
    "        return\n",
    "    \n",
    "    for bit in tf:\n",
    "        mask.append(bit)\n",
    "        dfs(depth + 1)\n",
    "        mask.pop()\n",
    "\n",
    "n = int(input())\n",
    "s = list(map(int, input().split()))\n",
    "tf = [False, True]\n",
    "\n",
    "sum_list = []\n",
    "mask = []\n",
    "dfs(0)\n",
    "\n",
    "sum_list = list(set(sorted(sum_list)))\n",
    "\n",
    "ans = 0\n",
    "while ans < len(sum_list) and ans == sum_list[ans]:\n",
    "    ans += 1\n",
    "\n",
    "print(ans)"
   ]
  },
  {
   "cell_type": "markdown",
   "id": "41d048f4",
   "metadata": {},
   "source": [
    "15658번 연산자 끼워넣기 (2) <span style=\"color:green\">성공</span> - 2025.04.24"
   ]
  },
  {
   "cell_type": "code",
   "execution_count": null,
   "id": "965552ac",
   "metadata": {},
   "outputs": [],
   "source": [
    "def dfs(depth):\n",
    "    global ans_max, ans_min\n",
    "\n",
    "    if depth == n - 1:\n",
    "        tmp_sum = check_sum()\n",
    "        ans_max = max(ans_max, tmp_sum)\n",
    "        ans_min = min(ans_min, tmp_sum)\n",
    "        return\n",
    "    \n",
    "    prev_oper = ''\n",
    "    for i in range(len(oper_list)):\n",
    "        if prev_oper != oper_list[i] and not visited[i]:\n",
    "            visited[i] = True\n",
    "            prev_oper = oper_list[i]\n",
    "            tmp.append(oper_list[i])\n",
    "            dfs(depth + 1)\n",
    "            visited[i] = False\n",
    "            tmp.pop()\n",
    "\n",
    "def check_sum():\n",
    "    x = a[0]\n",
    "    for i in range(len(tmp)):\n",
    "        if tmp[i] == '+':\n",
    "            x += a[i + 1]\n",
    "        elif tmp[i] == '-':\n",
    "            x -= a[i + 1]\n",
    "        elif tmp[i] == '*':\n",
    "            x *= a[i + 1]\n",
    "        elif tmp[i] == '/':\n",
    "            x = int(x / a[i + 1])\n",
    "    return x\n",
    "\n",
    "n = int(input())\n",
    "a = list(map(int, input().split()))\n",
    "oper_cnt = list(map(int, input().split()))\n",
    "oper = ['+', '-', '*', '/']\n",
    "oper_list = []\n",
    "for i in range(4):\n",
    "    for j in range(oper_cnt[i]):\n",
    "        oper_list.append(oper[i])\n",
    "visited = [False for _ in range(len(oper_list))]\n",
    "\n",
    "ans_max = -1e10\n",
    "ans_min = 1e10\n",
    "tmp = []\n",
    "dfs(0)\n",
    "\n",
    "print(ans_max)\n",
    "print(ans_min)"
   ]
  },
  {
   "cell_type": "markdown",
   "id": "3a1fff47",
   "metadata": {},
   "source": [
    "16197번 두 동전 <span style=\"color:green\"></span> - 2025.04.25"
   ]
  },
  {
   "cell_type": "code",
   "execution_count": null,
   "id": "c18a200b",
   "metadata": {},
   "outputs": [],
   "source": []
  }
 ],
 "metadata": {
  "kernelspec": {
   "display_name": "base",
   "language": "python",
   "name": "python3"
  },
  "language_info": {
   "codemirror_mode": {
    "name": "ipython",
    "version": 3
   },
   "file_extension": ".py",
   "mimetype": "text/x-python",
   "name": "python",
   "nbconvert_exporter": "python",
   "pygments_lexer": "ipython3",
   "version": "3.12.3"
  }
 },
 "nbformat": 4,
 "nbformat_minor": 5
}
