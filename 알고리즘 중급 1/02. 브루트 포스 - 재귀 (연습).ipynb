{
 "cells": [
  {
   "cell_type": "markdown",
   "id": "98a32f2e",
   "metadata": {},
   "source": [
    "14225번 부분수열의 합 <span style=\"color:green\">성공</span> - 2025.04.23"
   ]
  },
  {
   "cell_type": "code",
   "execution_count": null,
   "id": "ff2ca649",
   "metadata": {},
   "outputs": [],
   "source": [
    "import sys\n",
    "sys.setrecursionlimit(10**6)\n",
    "\n",
    "def dfs(depth):\n",
    "    if depth == n:\n",
    "        tmp = 0\n",
    "        for i in range(n):\n",
    "            if mask[i]:\n",
    "                tmp += s[i]\n",
    "        sum_list.append(tmp)\n",
    "        return\n",
    "    \n",
    "    for bit in tf:\n",
    "        mask.append(bit)\n",
    "        dfs(depth + 1)\n",
    "        mask.pop()\n",
    "\n",
    "n = int(input())\n",
    "s = list(map(int, input().split()))\n",
    "tf = [False, True]\n",
    "\n",
    "sum_list = []\n",
    "mask = []\n",
    "dfs(0)\n",
    "\n",
    "sum_list = list(set(sorted(sum_list)))\n",
    "\n",
    "ans = 0\n",
    "while ans < len(sum_list) and ans == sum_list[ans]:\n",
    "    ans += 1\n",
    "\n",
    "print(ans)"
   ]
  },
  {
   "cell_type": "markdown",
   "id": "41d048f4",
   "metadata": {},
   "source": [
    "15658번 연산자 끼워넣기 (2) <span style=\"color:green\"></span> - 2025.04.24"
   ]
  },
  {
   "cell_type": "code",
   "execution_count": null,
   "id": "965552ac",
   "metadata": {},
   "outputs": [],
   "source": []
  }
 ],
 "metadata": {
  "kernelspec": {
   "display_name": "base",
   "language": "python",
   "name": "python3"
  },
  "language_info": {
   "codemirror_mode": {
    "name": "ipython",
    "version": 3
   },
   "file_extension": ".py",
   "mimetype": "text/x-python",
   "name": "python",
   "nbconvert_exporter": "python",
   "pygments_lexer": "ipython3",
   "version": "3.12.3"
  }
 },
 "nbformat": 4,
 "nbformat_minor": 5
}
