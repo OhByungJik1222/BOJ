{
 "cells": [
  {
   "cell_type": "markdown",
   "id": "8c38743c",
   "metadata": {},
   "source": [
    "1780번 종이의 개수 <span style=\"color:green\">성공</span> - 2025.06.11"
   ]
  },
  {
   "cell_type": "code",
   "execution_count": null,
   "id": "e404959f",
   "metadata": {},
   "outputs": [],
   "source": [
    "def cut(start_x, start_y, size):\n",
    "    if size == 1:\n",
    "        ans[paper[start_x][start_y]] += 1\n",
    "        return\n",
    "    if check_same(start_x, start_y, size):\n",
    "        ans[paper[start_x][start_y]] += 1\n",
    "        return\n",
    "    else:\n",
    "        for i in range(3):\n",
    "            for j in range(3):\n",
    "                cut(start_x + i * size//3, start_y + j * size//3, size//3)\n",
    "    \n",
    "def check_same(start_x, start_y, size):\n",
    "    start_num = paper[start_x][start_y]\n",
    "    for i in range(start_x, start_x + size):\n",
    "        for j in range(start_y, start_y + size):\n",
    "            if paper[i][j] != start_num:\n",
    "                return False\n",
    "    return True\n",
    "\n",
    "n = int(input())\n",
    "paper = [list(map(int, input().split())) for _ in range(n)]\n",
    "\n",
    "ans = [0, 0, 0]\n",
    "cut(0, 0, n)\n",
    "print(ans[-1], ans[0], ans[1], sep='\\n')"
   ]
  },
  {
   "cell_type": "markdown",
   "id": "8e0dddb2",
   "metadata": {},
   "source": [
    "2263번 트리의 순회 <span style=\"color:red\">실패</span> - 2025.06.12"
   ]
  },
  {
   "cell_type": "code",
   "execution_count": 1,
   "id": "6d768d53",
   "metadata": {},
   "outputs": [
    {
     "name": "stdout",
     "output_type": "stream",
     "text": [
      "1 2 4 3 5 6 "
     ]
    }
   ],
   "source": [
    "import sys\n",
    "sys.setrecursionlimit(10**6)\n",
    "\n",
    "def pre_order(in_left, in_right, post_left, post_right):\n",
    "    if in_left > in_right: return\n",
    "\n",
    "    # 로트 노드는 후위순회의 마지막 원소\n",
    "    root = post_order[post_right]\n",
    "    # 중위 순회는 루트 노드 우선 출력\n",
    "    print(root, end=' ')\n",
    "\n",
    "    root_idx = idx[root]\n",
    "    tmp = root_idx - in_left\n",
    "\n",
    "    # 왼쪽 노드 탐색\n",
    "    pre_order(in_left, root_idx - 1, post_left, post_left + tmp - 1)\n",
    "    # 오른쪽 노드 탐색\n",
    "    pre_order(root_idx + 1, in_right, post_left + tmp, post_right - 1)\n",
    "\n",
    "n = int(input())\n",
    "in_order = list(map(int, input().split()))\n",
    "post_order = list(map(int, input().split()))\n",
    "idx = {value: index for index, value in enumerate(in_order)}\n",
    "\n",
    "pre_order(0, n - 1, 0, n - 1)"
   ]
  },
  {
   "cell_type": "markdown",
   "id": "e778f056",
   "metadata": {},
   "source": [
    "1074번 Z <span style=\"color:green\">성공</span> - 2025.06.13"
   ]
  },
  {
   "cell_type": "code",
   "execution_count": null,
   "id": "bd602e57",
   "metadata": {},
   "outputs": [],
   "source": [
    "n, r, c = map(int, input().split())\n",
    "\n",
    "ans = 0\n",
    "n = 2**n\n",
    "while n != 1:\n",
    "    n = n//2\n",
    "    if 0 <= r < n and 0 <= c < n: # 1 사분면\n",
    "        ans += n**2 * 0\n",
    "    elif 0 <= r < n and n <= c < n * 2: # 2 사분면\n",
    "        ans += n**2 * 1\n",
    "        c -= n\n",
    "    elif n <= r < n * 2 and 0 <= c < n : # 3 사분면\n",
    "        ans += n**2 * 2\n",
    "        r -= n \n",
    "    elif n <= r < n * 2 and n <= c < n * 2: # 4 사분면\n",
    "        ans += n**2 * 3\n",
    "        r -= n \n",
    "        c -= n\n",
    "\n",
    "print(ans)"
   ]
  },
  {
   "cell_type": "markdown",
   "id": "bde258bc",
   "metadata": {},
   "source": [
    "1891번 사분면 <span style=\"color:green\">성공</span> - 2025.06.14"
   ]
  },
  {
   "cell_type": "code",
   "execution_count": null,
   "id": "f1c2e7fb",
   "metadata": {},
   "outputs": [],
   "source": [
    "# 블로그 글 쓸때 사용하기 d = 3일 때\n",
    "# 222 221 212 211 122 121 112 111\n",
    "# 223 224 213 214 123 124 113 114\n",
    "# 232 231 242 241 132 131 142 141\n",
    "# 233 234 243 244 133 134 143 144\n",
    "# 322 321 312 311 422 421 412 411\n",
    "# 323 324 313 314 423 424 413 414\n",
    "# 332 331 342 341 432 431 442 441\n",
    "# 333 334 343 344 433 434 443 444\n",
    "d, num = input().split()\n",
    "x, y = map(int, input().split())\n",
    "n = 2**(int(d))\n",
    "\n",
    "r, c = 0, 0\n",
    "for i in num:\n",
    "    n //= 2\n",
    "    if i == '1':\n",
    "        c += n\n",
    "    elif i == '2':\n",
    "        pass\n",
    "    elif i == '3':\n",
    "        r += n\n",
    "    elif i == '4':\n",
    "        r += n\n",
    "        c += n\n",
    "    \n",
    "r -= y\n",
    "c += x\n",
    "\n",
    "ans = ''\n",
    "n = 2**(int(d))\n",
    "while n != 1:\n",
    "    n //= 2\n",
    "    if 0 <= r < n and 0 <= c < n:\n",
    "        ans += '2'\n",
    "    elif 0 <= r < n and n <= c < n * 2:\n",
    "        ans += '1'\n",
    "        c -= n\n",
    "    elif n <= r < n * 2 and 0 <= c < n:\n",
    "        ans += '3'\n",
    "        r -= n\n",
    "    elif n <= r < n * 2 and n <= c < n * 2:\n",
    "        ans += '4'\n",
    "        r -= n\n",
    "        c -= n\n",
    "    else:\n",
    "        print(-1)\n",
    "        break\n",
    "else:\n",
    "    print(ans)"
   ]
  },
  {
   "cell_type": "markdown",
   "id": "c4b3571d",
   "metadata": {},
   "source": [
    "2448번 별 찍기 - 11 <span style=\"color:green\">성공</span> - 2025.06.15"
   ]
  },
  {
   "cell_type": "code",
   "execution_count": null,
   "id": "832385bb",
   "metadata": {},
   "outputs": [],
   "source": [
    "def make_star(iter):\n",
    "    for i in range(iter):\n",
    "        for j in range(w):\n",
    "            if star[i][j] == '*':\n",
    "                star[i + iter][j - iter] = '*'\n",
    "                star[i + iter][j + iter] = '*'\n",
    "\n",
    "    if iter == h//2:\n",
    "        return\n",
    "\n",
    "    make_star(iter * 2)\n",
    "\n",
    "\n",
    "n = int(input())\n",
    "w = int(n / 3 * 5 + n / 3 - 1)\n",
    "h = n\n",
    "star = [[' ' for _ in range(w)] for _ in range(h)]\n",
    "star[0][w//2] = '*'\n",
    "star[1][w//2 - 1], star[1][w//2 + 1] = '*', '*'\n",
    "for i in range(-2, 3):\n",
    "    star[2][w//2 + i] = '*'\n",
    "\n",
    "if h != 3:\n",
    "    make_star(3)\n",
    "\n",
    "for i in range(h):\n",
    "    print(*star[i], sep='')"
   ]
  },
  {
   "cell_type": "markdown",
   "id": "0bb36f10",
   "metadata": {},
   "source": [
    "1517번 버블 소트 <span style=\"color:red\">실패</span> - 2025.06.16"
   ]
  },
  {
   "cell_type": "code",
   "execution_count": null,
   "id": "bc32132c",
   "metadata": {},
   "outputs": [],
   "source": [
    "def divide(arr):\n",
    "    if len(arr) <= 1:\n",
    "        return arr\n",
    "    \n",
    "    mid = len(arr)//2\n",
    "    left = divide(arr[:mid])\n",
    "    right = divide(arr[mid:])\n",
    "\n",
    "    return merge(left, right)\n",
    "\n",
    "def merge(left, right):\n",
    "    global ans\n",
    "\n",
    "    tmp = []\n",
    "    i, j = 0, 0\n",
    "    while i < len(left) and j < len(right):\n",
    "        if left[i] <= right[j]:\n",
    "            tmp.append(left[i])\n",
    "            i += 1\n",
    "        else:\n",
    "            tmp.append(right[j])\n",
    "            j += 1\n",
    "            ans += len(left) - i\n",
    "\n",
    "    tmp.extend(left[i:])\n",
    "    tmp.extend(right[j:])\n",
    "    return tmp\n",
    "\n",
    "n = int(input())\n",
    "a = list(map(int, input().split()))\n",
    "ans = 0\n",
    "\n",
    "divide(a)\n",
    "\n",
    "print(ans)"
   ]
  }
 ],
 "metadata": {
  "kernelspec": {
   "display_name": "base",
   "language": "python",
   "name": "python3"
  },
  "language_info": {
   "codemirror_mode": {
    "name": "ipython",
    "version": 3
   },
   "file_extension": ".py",
   "mimetype": "text/x-python",
   "name": "python",
   "nbconvert_exporter": "python",
   "pygments_lexer": "ipython3",
   "version": "3.12.3"
  }
 },
 "nbformat": 4,
 "nbformat_minor": 5
}
