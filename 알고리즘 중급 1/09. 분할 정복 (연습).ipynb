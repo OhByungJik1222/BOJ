{
 "cells": [
  {
   "cell_type": "markdown",
   "id": "8c38743c",
   "metadata": {},
   "source": [
    "1780번 종이의 개수 <span style=\"color:green\">성공</span> - 2025.06.11"
   ]
  },
  {
   "cell_type": "code",
   "execution_count": null,
   "id": "e404959f",
   "metadata": {},
   "outputs": [],
   "source": [
    "def cut(x, y, l):\n",
    "    start = paper[x][y]\n",
    "    cut_small = False\n",
    "    for i in range(x, x + l):\n",
    "        for j in range(y, y + l):\n",
    "            if paper[i][j] != start:\n",
    "                cut_small = True\n",
    "                break\n",
    "        if cut_small: break\n",
    "    else:\n",
    "        ans[start + 1] += 1\n",
    "        return\n",
    "\n",
    "    l //= 3\n",
    "    for i in range(x, x + l * 3, l):\n",
    "        for j in range(y, y + l * 3, l):\n",
    "            cut(i, j, l)\n",
    "\n",
    "n = int(input())\n",
    "paper = [list(map(int, input().split())) for _ in range(n)]\n",
    "ans = [0, 0, 0] # -1, 0, 1\n",
    "\n",
    "cut(0, 0, n)\n",
    "\n",
    "print(*ans, sep='\\n')"
   ]
  },
  {
   "cell_type": "markdown",
   "id": "8e0dddb2",
   "metadata": {},
   "source": [
    "2263번 트리의 순회 <span style=\"color:red\">실패</span> - 2025.06.12"
   ]
  },
  {
   "cell_type": "code",
   "execution_count": null,
   "id": "6d768d53",
   "metadata": {},
   "outputs": [],
   "source": [
    "import sys\n",
    "sys.setrecursionlimit(10**6)\n",
    "\n",
    "def pre_order(in_left, in_right, post_left, post_right):\n",
    "    if in_left > in_right: return\n",
    "\n",
    "    root = post_order[post_right]\n",
    "    print(root, end=' ')\n",
    "\n",
    "    root_idx = idx[root]\n",
    "    tmp = root_idx - in_left\n",
    "\n",
    "    pre_order(in_left, root_idx - 1, post_left, post_left + tmp - 1)\n",
    "    pre_order(root_idx + 1, in_right, post_left + tmp, post_right - 1)\n",
    "\n",
    "n = int(input())\n",
    "in_order = list(map(int, input().split()))\n",
    "post_order = list(map(int, input().split()))\n",
    "idx = {value: index for index, value in enumerate(in_order)}\n",
    "\n",
    "pre_order(0, n - 1, 0, n - 1)"
   ]
  },
  {
   "cell_type": "markdown",
   "id": "e778f056",
   "metadata": {},
   "source": [
    "1074번 Z <span style=\"color:green\"></span> - 2025.06.13"
   ]
  },
  {
   "cell_type": "code",
   "execution_count": null,
   "id": "bd602e57",
   "metadata": {},
   "outputs": [],
   "source": [
    "n, r, c = map(int, input().split())\n",
    "\n",
    "ans = 0\n",
    "n = 2**n\n",
    "while n != 1:\n",
    "    n = n//2\n",
    "    if 0 <= r < n and 0 <= c < n: # 1 사분면\n",
    "        ans += n**2 * 0\n",
    "    elif 0 <= r < n and n <= c < n * 2: # 2 사분면\n",
    "        ans += n**2 * 1\n",
    "        c -= n\n",
    "    elif n <= r < n * 2 and 0 <= c < n : # 3 사분면\n",
    "        ans += n**2 * 2\n",
    "        r -= n \n",
    "    elif n <= r < n * 2 and n <= c < n * 2: # 4 사분면\n",
    "        ans += n**2 * 3\n",
    "        r -= n \n",
    "        c -= n\n",
    "\n",
    "print(ans)"
   ]
  },
  {
   "cell_type": "markdown",
   "id": "bde258bc",
   "metadata": {},
   "source": [
    "1891본 사분면 <span style=\"color:green\">성공</span> - 2025.06.14"
   ]
  },
  {
   "cell_type": "code",
   "execution_count": null,
   "id": "f1c2e7fb",
   "metadata": {},
   "outputs": [],
   "source": [
    "# 블로그 글 쓸때 사용하기 d = 3일 때\n",
    "# 222 221 212 211 122 121 112 111\n",
    "# 223 224 213 214 123 124 113 114\n",
    "# 232 231 242 241 132 131 142 141\n",
    "# 233 234 243 244 133 134 143 144\n",
    "# 322 321 312 311 422 421 412 411\n",
    "# 323 324 313 314 423 424 413 414\n",
    "# 332 331 342 341 432 431 442 441\n",
    "# 333 334 343 344 433 434 443 444\n",
    "d, num = input().split()\n",
    "x, y = map(int, input().split())\n",
    "n = 2**(int(d))\n",
    "\n",
    "r, c = 0, 0\n",
    "for i in num:\n",
    "    n //= 2\n",
    "    if i == '1':\n",
    "        c += n\n",
    "    elif i == '2':\n",
    "        pass\n",
    "    elif i == '3':\n",
    "        r += n\n",
    "    elif i == '4':\n",
    "        r += n\n",
    "        c += n\n",
    "    \n",
    "r -= y\n",
    "c += x\n",
    "\n",
    "ans = ''\n",
    "n = 2**(int(d))\n",
    "while n != 1:\n",
    "    n //= 2\n",
    "    if 0 <= r < n and 0 <= c < n:\n",
    "        ans += '2'\n",
    "    elif 0 <= r < n and n <= c < n * 2:\n",
    "        ans += '1'\n",
    "        c -= n\n",
    "    elif n <= r < n * 2 and 0 <= c < n:\n",
    "        ans += '3'\n",
    "        r -= n\n",
    "    elif n <= r < n * 2 and n <= c < n * 2:\n",
    "        ans += '4'\n",
    "        r -= n\n",
    "        c -= n\n",
    "    else:\n",
    "        print(-1)\n",
    "        break\n",
    "else:\n",
    "    print(ans)"
   ]
  },
  {
   "cell_type": "markdown",
   "id": "c4b3571d",
   "metadata": {},
   "source": [
    "2448번 별 찍기 - 11 <span style=\"color:green\"></span> - 2025.06.15"
   ]
  },
  {
   "cell_type": "code",
   "execution_count": null,
   "id": "832385bb",
   "metadata": {},
   "outputs": [],
   "source": []
  }
 ],
 "metadata": {
  "kernelspec": {
   "display_name": "base",
   "language": "python",
   "name": "python3"
  },
  "language_info": {
   "codemirror_mode": {
    "name": "ipython",
    "version": 3
   },
   "file_extension": ".py",
   "mimetype": "text/x-python",
   "name": "python",
   "nbconvert_exporter": "python",
   "pygments_lexer": "ipython3",
   "version": "3.12.3"
  }
 },
 "nbformat": 4,
 "nbformat_minor": 5
}
