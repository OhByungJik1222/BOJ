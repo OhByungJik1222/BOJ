{
 "cells": [
  {
   "cell_type": "markdown",
   "id": "6457dcbc",
   "metadata": {},
   "source": [
    "10825번 국영수 <span style=\"color:green\"></span> - 2025.06.19"
   ]
  },
  {
   "cell_type": "code",
   "execution_count": null,
   "id": "6acc8000",
   "metadata": {},
   "outputs": [],
   "source": []
  }
 ],
 "metadata": {
  "language_info": {
   "name": "python"
  }
 },
 "nbformat": 4,
 "nbformat_minor": 5
}
