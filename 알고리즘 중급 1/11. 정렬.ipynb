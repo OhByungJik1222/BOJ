{
 "cells": [
  {
   "cell_type": "markdown",
   "id": "fcf56e9e",
   "metadata": {},
   "source": [
    "10825번 국영수 <span style=\"color:green\">성공</span> - 2025.06.19"
   ]
  },
  {
   "cell_type": "code",
   "execution_count": null,
   "id": "b5d3ab6e",
   "metadata": {},
   "outputs": [],
   "source": [
    "import sys\n",
    "input = sys.stdin.readline\n",
    "\n",
    "n = int(input())\n",
    "students = []\n",
    "for _ in range(n):\n",
    "    name, k, e, m = input().split()\n",
    "    students.append([name, int(k), int(e), int(m)])\n",
    "students.sort(key=lambda x: [-x[1], x[2], -x[3], x[0]])\n",
    "\n",
    "for student in students:\n",
    "    print(student[0])"
   ]
  },
  {
   "cell_type": "markdown",
   "id": "32bec5f5",
   "metadata": {},
   "source": [
    "11652번 카드 <span style=\"color:green\">성공</span> - 2025.06.20"
   ]
  },
  {
   "cell_type": "code",
   "execution_count": null,
   "id": "7148d8e5",
   "metadata": {},
   "outputs": [],
   "source": [
    "import sys\n",
    "# input = sys.stdin.readline\n",
    "\n",
    "n = int(input())\n",
    "num_cnt = {}\n",
    "for _ in range(n):\n",
    "    num = int(input())\n",
    "    if num in num_cnt.keys():\n",
    "        num_cnt[num] += 1\n",
    "    else:\n",
    "        num_cnt[num] = 1\n",
    "\n",
    "ans = 0\n",
    "max_cnt = 0\n",
    "for num in num_cnt:\n",
    "    if num_cnt[num] > max_cnt:\n",
    "        max_cnt = num_cnt[num]\n",
    "        ans = num\n",
    "    elif num_cnt[num] == max_cnt:\n",
    "        ans = min(ans, num)\n",
    "print(ans)"
   ]
  },
  {
   "cell_type": "markdown",
   "id": "a07001fb",
   "metadata": {},
   "source": [
    "1377번 버블 소트 <span style=\"color:red\">실패</span> - 2025.06.21"
   ]
  },
  {
   "cell_type": "code",
   "execution_count": null,
   "id": "9af3d93d",
   "metadata": {},
   "outputs": [],
   "source": [
    "import sys\n",
    "# input = sys.stdin.readline\n",
    "\n",
    "n = int(input())\n",
    "a = []\n",
    "for i in range(n):\n",
    "    a.append((int(input()), i))\n",
    "sorted_a = sorted(a)\n",
    "\n",
    "ans = -sys.maxsize\n",
    "for i in range(n):\n",
    "    ans = max(ans, sorted_a[i][1] - a[i][1])\n",
    "print(ans + 1)"
   ]
  }
 ],
 "metadata": {
  "kernelspec": {
   "display_name": "base",
   "language": "python",
   "name": "python3"
  },
  "language_info": {
   "codemirror_mode": {
    "name": "ipython",
    "version": 3
   },
   "file_extension": ".py",
   "mimetype": "text/x-python",
   "name": "python",
   "nbconvert_exporter": "python",
   "pygments_lexer": "ipython3",
   "version": "3.12.3"
  }
 },
 "nbformat": 4,
 "nbformat_minor": 5
}
