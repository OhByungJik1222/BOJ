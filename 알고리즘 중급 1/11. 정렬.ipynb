{
 "cells": [
  {
   "cell_type": "markdown",
   "id": "6457dcbc",
   "metadata": {},
   "source": [
    "10825번 국영수 <span style=\"color:green\">성공</span> - 2025.06.19"
   ]
  },
  {
   "cell_type": "code",
   "execution_count": null,
   "id": "6acc8000",
   "metadata": {},
   "outputs": [],
   "source": [
    "import sys\n",
    "# input = sys.stdin.readline\n",
    "\n",
    "n = int(input())\n",
    "score = [list(input().split()) for _ in range(n)]\n",
    "score.sort(key=lambda x: [-int(x[1]), int(x[2]), -int(x[3]), x[0]])\n",
    "\n",
    "for i in range(n):\n",
    "    print(score[i][0])"
   ]
  },
  {
   "cell_type": "markdown",
   "id": "779af12e",
   "metadata": {},
   "source": [
    "11652번 카드 <span style=\"color:green\"></span> - 2025.06.20"
   ]
  },
  {
   "cell_type": "code",
   "execution_count": null,
   "id": "a3d95720",
   "metadata": {},
   "outputs": [],
   "source": [
    "import sys\n",
    "# input = sys.stdin.readline\n",
    "\n",
    "n = int(input())\n",
    "num_cnt = {}\n",
    "for _ in range(n):\n",
    "    num = int(input())\n",
    "    if num in num_cnt.keys():\n",
    "        num_cnt[num] += 1\n",
    "    else:\n",
    "        num_cnt[num] = 1\n",
    "\n",
    "ans = 0\n",
    "max_cnt = 0\n",
    "for num in num_cnt:\n",
    "    if num_cnt[num] > max_cnt:\n",
    "        max_cnt = num_cnt[num]\n",
    "        ans = num\n",
    "    elif num_cnt[num] == max_cnt and ans > num:\n",
    "        ans = num\n",
    "print(ans)"
   ]
  }
 ],
 "metadata": {
  "kernelspec": {
   "display_name": "base",
   "language": "python",
   "name": "python3"
  },
  "language_info": {
   "codemirror_mode": {
    "name": "ipython",
    "version": 3
   },
   "file_extension": ".py",
   "mimetype": "text/x-python",
   "name": "python",
   "nbconvert_exporter": "python",
   "pygments_lexer": "ipython3",
   "version": "3.12.3"
  }
 },
 "nbformat": 4,
 "nbformat_minor": 5
}
