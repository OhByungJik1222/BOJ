{
 "cells": [
  {
   "cell_type": "code",
   "execution_count": null,
   "metadata": {},
   "outputs": [],
   "source": [
    "def cut(start_x, start_y, size):\n",
    "    if size == 1:\n",
    "        ans[paper[start_x][start_y]] += 1\n",
    "        return\n",
    "    if check_same(start_x, start_y, size):\n",
    "        ans[paper[start_x][start_y]] += 1\n",
    "        return\n",
    "    else:\n",
    "        for i in range(3):\n",
    "            for j in range(3):\n",
    "                cut(start_x + i * size//3, start_y + j * size//3, size//3)\n",
    "    \n",
    "def check_same(start_x, start_y, size):\n",
    "    start_num = paper[start_x][start_y]\n",
    "    for i in range(start_x, start_x + size):\n",
    "        for j in range(start_y, start_y + size):\n",
    "            if paper[i][j] != start_num:\n",
    "                return False\n",
    "    return True\n",
    "\n",
    "n = int(input())\n",
    "paper = [list(map(int, input().split())) for _ in range(n)]\n",
    "\n",
    "ans = [0, 0, 0]\n",
    "cut(0, 0, n)\n",
    "print(ans[-1], ans[0], ans[1], sep='\\n')"
   ]
  }
 ],
 "metadata": {
  "kernelspec": {
   "display_name": "base",
   "language": "python",
   "name": "python3"
  },
  "language_info": {
   "codemirror_mode": {
    "name": "ipython",
    "version": 3
   },
   "file_extension": ".py",
   "mimetype": "text/x-python",
   "name": "python",
   "nbconvert_exporter": "python",
   "pygments_lexer": "ipython3",
   "version": "3.12.3"
  }
 },
 "nbformat": 4,
 "nbformat_minor": 2
}
