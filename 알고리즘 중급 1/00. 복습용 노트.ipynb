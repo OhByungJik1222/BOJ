{
 "cells": [
  {
   "cell_type": "code",
   "execution_count": null,
   "metadata": {},
   "outputs": [],
   "source": [
    "n = int(input())\n",
    "num = list(map(int, input().split()))\n",
    "m = int(input())\n",
    "cards = list(map(int, input().split()))\n",
    "\n",
    "num_cnt = [0 for _ in range(20000001)]\n",
    "for i in num:\n",
    "    num_cnt[i + 10000000] += 1\n",
    "\n",
    "ans = []\n",
    "for card in cards:\n",
    "    ans.append(num_cnt[card + 10000000])\n",
    "print(*ans)"
   ]
  }
 ],
 "metadata": {
  "kernelspec": {
   "display_name": "base",
   "language": "python",
   "name": "python3"
  },
  "language_info": {
   "codemirror_mode": {
    "name": "ipython",
    "version": 3
   },
   "file_extension": ".py",
   "mimetype": "text/x-python",
   "name": "python",
   "nbconvert_exporter": "python",
   "pygments_lexer": "ipython3",
   "version": "3.12.3"
  }
 },
 "nbformat": 4,
 "nbformat_minor": 2
}
