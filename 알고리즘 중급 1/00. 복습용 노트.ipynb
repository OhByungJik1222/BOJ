{
 "cells": [
  {
   "cell_type": "code",
   "execution_count": null,
   "metadata": {},
   "outputs": [],
   "source": [
    "from collections import deque\n",
    "\n",
    "def rgb_bfs(start_x, start_y):\n",
    "    q = deque()\n",
    "    q.append((start_x, start_y))\n",
    "    visited[start_x][start_y] = 1\n",
    "\n",
    "    while q:\n",
    "        x, y = q.popleft()\n",
    "\n",
    "        for i in range(4):\n",
    "            nx = x + dx[i]\n",
    "            ny = y + dy[i]\n",
    "\n",
    "            if 0 <= nx < n and 0 <= ny < n:\n",
    "                if visited[nx][ny] == 0 and graph[nx][ny] == graph[x][y]:\n",
    "                    visited[nx][ny] = 1\n",
    "                    q.append((nx, ny))\n",
    "\n",
    "def rg_bfs(start_x, start_y):\n",
    "    q = deque()\n",
    "    q.append((start_x, start_y))\n",
    "    visited[start_x][start_y] = 1\n",
    "\n",
    "    while q:\n",
    "        x, y = q.popleft()\n",
    "\n",
    "        for i in range(4):\n",
    "            nx = x + dx[i]\n",
    "            ny = y + dy[i]\n",
    "\n",
    "            if 0 <= nx < n and 0 <= ny < n:\n",
    "                if graph[x][y] == 'B':\n",
    "                    if visited[nx][ny] == 0 and graph[nx][ny] == 'B':\n",
    "                        visited[nx][ny] = 1\n",
    "                        q.append((nx, ny))\n",
    "                elif graph[x][y] != 'B':\n",
    "                    if visited[nx][ny] == 0 and graph[nx][ny] != 'B':\n",
    "                        visited[nx][ny] = 1\n",
    "                        q.append((nx, ny))\n",
    "\n",
    "n = int(input())\n",
    "graph = [list(input()) for _ in range(n)]\n",
    "\n",
    "dx = [-1, 1, 0, 0]\n",
    "dy = [0, 0, -1, 1]\n",
    "\n",
    "ans = 0\n",
    "visited = [[0 for _ in range(n)] for _ in range(n)]\n",
    "for i in range(n):\n",
    "    for j in range(n):\n",
    "        if visited[i][j] == 0:\n",
    "            rgb_bfs(i, j)\n",
    "            ans += 1\n",
    "print(ans, end=' ')\n",
    "\n",
    "ans = 0\n",
    "visited = [[0 for _ in range(n)] for _ in range(n)]\n",
    "for i in range(n):\n",
    "    for j in range(n):\n",
    "        if visited[i][j] == 0:\n",
    "            rg_bfs(i, j)\n",
    "            ans += 1\n",
    "print(ans)"
   ]
  },
  {
   "cell_type": "code",
   "execution_count": null,
   "metadata": {},
   "outputs": [],
   "source": [
    "'''\n",
    "\n",
    "'''"
   ]
  }
 ],
 "metadata": {
  "kernelspec": {
   "display_name": "base",
   "language": "python",
   "name": "python3"
  },
  "language_info": {
   "codemirror_mode": {
    "name": "ipython",
    "version": 3
   },
   "file_extension": ".py",
   "mimetype": "text/x-python",
   "name": "python",
   "nbconvert_exporter": "python",
   "pygments_lexer": "ipython3",
   "version": "3.12.3"
  }
 },
 "nbformat": 4,
 "nbformat_minor": 2
}
