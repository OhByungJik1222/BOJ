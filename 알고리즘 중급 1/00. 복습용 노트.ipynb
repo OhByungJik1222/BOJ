{
 "cells": [
  {
   "cell_type": "code",
   "execution_count": 4,
   "metadata": {},
   "outputs": [
    {
     "name": "stdout",
     "output_type": "stream",
     "text": [
      "5\n"
     ]
    },
    {
     "ename": "SystemExit",
     "evalue": "",
     "output_type": "error",
     "traceback": [
      "An exception has occurred, use %tb to see the full traceback.\n",
      "\u001b[1;31mSystemExit\u001b[0m\n"
     ]
    }
   ],
   "source": [
    "import sys\n",
    "from collections import deque\n",
    "\n",
    "def bfs():\n",
    "    q = deque()\n",
    "    q.append((1, 0))\n",
    "    visited[1] = True\n",
    "\n",
    "    while q:\n",
    "        pos, cnt = q.popleft()\n",
    "\n",
    "        if pos == 100:\n",
    "            print(cnt)\n",
    "            sys.exit()\n",
    "\n",
    "        for i in range(1, 7):\n",
    "            next_pos = pos + i\n",
    "            if next_pos <= 100 and not visited[next_pos] and not visited[graph[next_pos]]:\n",
    "                visited[next_pos] = True\n",
    "                visited[graph[next_pos]] = True\n",
    "                q.append((graph[next_pos], cnt + 1))\n",
    "\n",
    "u, v = map(int, input().split())\n",
    "graph = [i for i in range(101)]\n",
    "for _ in range(u + v):\n",
    "    start, end = map(int, input().split())\n",
    "    graph[start] = end\n",
    "visited = [False for _ in range(101)]\n",
    "\n",
    "bfs()"
   ]
  }
 ],
 "metadata": {
  "kernelspec": {
   "display_name": "base",
   "language": "python",
   "name": "python3"
  },
  "language_info": {
   "codemirror_mode": {
    "name": "ipython",
    "version": 3
   },
   "file_extension": ".py",
   "mimetype": "text/x-python",
   "name": "python",
   "nbconvert_exporter": "python",
   "pygments_lexer": "ipython3",
   "version": "3.12.3"
  }
 },
 "nbformat": 4,
 "nbformat_minor": 2
}
