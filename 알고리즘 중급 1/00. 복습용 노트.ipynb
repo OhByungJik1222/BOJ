{
 "cells": [
  {
   "cell_type": "code",
   "execution_count": null,
   "metadata": {},
   "outputs": [],
   "source": [
    "n = int(input())\n",
    "coin = [list(input()) for _ in range(n)]\n",
    "ans = n**2 + 1\n",
    "\n",
    "for bit in range(1 << n):\n",
    "    tmp = [coin[i][:] for i in range(n)]\n",
    "    print(bit)\n",
    "    for i in range(n):\n",
    "        if bit & (1 << i):\n",
    "            print(1<<i)\n",
    "            print()\n",
    "            for j in range(n):\n",
    "                if tmp[i][j] == 'H':\n",
    "                    tmp[i][j] = 'T'\n",
    "                else:\n",
    "                    tmp[i][j] = 'H'"
   ]
  },
  {
   "cell_type": "code",
   "execution_count": null,
   "metadata": {},
   "outputs": [],
   "source": [
    "'''\n",
    "\n",
    "'''"
   ]
  }
 ],
 "metadata": {
  "kernelspec": {
   "display_name": "base",
   "language": "python",
   "name": "python3"
  },
  "language_info": {
   "codemirror_mode": {
    "name": "ipython",
    "version": 3
   },
   "file_extension": ".py",
   "mimetype": "text/x-python",
   "name": "python",
   "nbconvert_exporter": "python",
   "pygments_lexer": "ipython3",
   "version": "3.12.3"
  }
 },
 "nbformat": 4,
 "nbformat_minor": 2
}
