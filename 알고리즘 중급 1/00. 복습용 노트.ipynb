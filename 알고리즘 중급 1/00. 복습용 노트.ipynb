{
 "cells": [
  {
   "cell_type": "code",
   "execution_count": null,
   "metadata": {},
   "outputs": [],
   "source": [
    "from collections import deque\n",
    "\n",
    "def bfs(virus): # 바이러스를 퍼뜨리는 함수\n",
    "    global ans\n",
    "\n",
    "    q = deque()\n",
    "    q.append([virus[0], virus[1]])\n",
    "\n",
    "    dx = [-1, 1, 0, 0]\n",
    "    dy = [0, 0, -1, 1]\n",
    "\n",
    "    while q:\n",
    "        x, y = q.popleft()\n",
    "\n",
    "        for i in range(4):\n",
    "            nx = x + dx[i]\n",
    "            ny = y + dy[i]\n",
    "\n",
    "            if 0 <= nx < n and 0 <= ny < m and tmp[nx][ny] == 0:\n",
    "                tmp[nx][ny] = 2\n",
    "                q.append([nx, ny])\n",
    "\n",
    "def make_wall(wall_pos): # 3개의 벽을 세우는 함수\n",
    "    tmp[wall_pos[0][0]][wall_pos[0][1]] = 1\n",
    "    tmp[wall_pos[1][0]][wall_pos[1][1]] = 1\n",
    "    tmp[wall_pos[2][0]][wall_pos[2][1]] = 1\n",
    "\n",
    "def count_safe(): # 바이러스가 퍼진 후 안전지대의 개수를 세는 함수\n",
    "    result = 0\n",
    "    for i in range(n):\n",
    "        for j in range(m):\n",
    "            if tmp[i][j] == 0:\n",
    "                result += 1\n",
    "    return result\n",
    "\n",
    "n, m = map(int, input().split())\n",
    "graph = [list(map(int, input().split())) for _ in range(n)]\n",
    "\n",
    "pos = [] # 벽을 세울 수 있는 좌표\n",
    "virus_pos = [] # 바이러스 근원지 좌표\n",
    "for i in range(n):\n",
    "    for j in range(m):\n",
    "        if graph[i][j] == 0:\n",
    "            pos.append((i, j))\n",
    "        if graph[i][j] == 2:\n",
    "            virus_pos.append((i, j))\n",
    "\n",
    "wall_pos = [] # 벽을 세울 수 있는 좌표에서 3곳을 뽑아 벽을 세울 좌표 조합\n",
    "for i in range(len(pos) - 2):\n",
    "    for j in range(i + 1, len(pos) - 1):\n",
    "        for k in range(j + 1, len(pos)):\n",
    "            wall_pos.append([pos[i], pos[j], pos[k]])\n",
    "\n",
    "ans = 0\n",
    "for i in range(len(wall_pos)): # 3개의 벽을 세울 수 있는 모든 조합에 대해 반복\n",
    "    tmp = [graph[j][:] for j in range(n)] # 원복을 위해 복사\n",
    "    make_wall(wall_pos[i]) # 벽 세우기\n",
    "\n",
    "    for virus in virus_pos:\n",
    "        bfs(virus) # 벽을 세운 후 바이러스 퍼뜨리기\n",
    "\n",
    "    ans = max(ans, count_safe()) # 안전지대 개수 세기\n",
    "\n",
    "print(ans)"
   ]
  },
  {
   "cell_type": "code",
   "execution_count": null,
   "metadata": {},
   "outputs": [],
   "source": [
    "'''\n",
    "\n",
    "'''"
   ]
  }
 ],
 "metadata": {
  "kernelspec": {
   "display_name": "tf_gpu",
   "language": "python",
   "name": "tf_gpu"
  },
  "language_info": {
   "codemirror_mode": {
    "name": "ipython",
    "version": 3
   },
   "file_extension": ".py",
   "mimetype": "text/x-python",
   "name": "python",
   "nbconvert_exporter": "python",
   "pygments_lexer": "ipython3",
   "version": "3.8.20"
  }
 },
 "nbformat": 4,
 "nbformat_minor": 2
}
