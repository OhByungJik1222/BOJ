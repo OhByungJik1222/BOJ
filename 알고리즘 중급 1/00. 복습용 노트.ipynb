{
 "cells": [
  {
   "cell_type": "code",
   "execution_count": null,
   "metadata": {},
   "outputs": [],
   "source": [
    "d, num = input().split()\n",
    "x, y = map(int, input().split())\n",
    "n = 2 ** int(d)\n",
    "\n",
    "r, c = 0, 0\n",
    "for i in num:\n",
    "    n //= 2\n",
    "    if i == '1':\n",
    "        c += n\n",
    "    elif i == '2':\n",
    "        pass\n",
    "    elif i == '3':\n",
    "        r += n\n",
    "    elif i == '4':\n",
    "        r += n\n",
    "        c += n\n",
    "        \n",
    "r -= y\n",
    "c += x\n",
    "\n",
    "ans = ''\n",
    "n = 2 ** int(d)\n",
    "while n > 1:\n",
    "    if 0 <= r < n//2 and 0 <= c < n//2:\n",
    "        ans += '2'\n",
    "    elif 0 <= r < n//2 and n//2 <= c < n:\n",
    "        ans += '1'\n",
    "        c -= n//2\n",
    "    elif n//2 <= r < n and 0 <= c < n//2:\n",
    "        ans += '3'\n",
    "        r -= n//2\n",
    "    elif n//2 <= r < n and n//2 <= c < n:\n",
    "        ans += '4'\n",
    "        r -= n//2\n",
    "        c -= n//2\n",
    "    else:\n",
    "        print(-1)\n",
    "        break\n",
    "    n //= 2\n",
    "else:\n",
    "    print(ans)"
   ]
  }
 ],
 "metadata": {
  "kernelspec": {
   "display_name": "base",
   "language": "python",
   "name": "python3"
  },
  "language_info": {
   "codemirror_mode": {
    "name": "ipython",
    "version": 3
   },
   "file_extension": ".py",
   "mimetype": "text/x-python",
   "name": "python",
   "nbconvert_exporter": "python",
   "pygments_lexer": "ipython3",
   "version": "3.12.3"
  }
 },
 "nbformat": 4,
 "nbformat_minor": 2
}
