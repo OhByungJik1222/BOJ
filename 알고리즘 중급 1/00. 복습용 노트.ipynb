{
 "cells": [
  {
   "cell_type": "code",
   "execution_count": null,
   "metadata": {},
   "outputs": [],
   "source": [
    "import sys\n",
    "from collections import deque\n",
    "\n",
    "def bfs(start_x, start_y):\n",
    "    q = deque()\n",
    "    q.append((start_x, start_y))\n",
    "\n",
    "    dx = [-2, -2, 0, 0, 2, 2]\n",
    "    dy = [-1, 1, -2, 2, -1, 1]\n",
    "\n",
    "    while q:\n",
    "        x, y = q.popleft()\n",
    "\n",
    "        if x == r2 and y == c2:\n",
    "            print(graph[x][y])\n",
    "            sys.exit()\n",
    "\n",
    "        for i in range(6):\n",
    "            nx = x + dx[i]\n",
    "            ny = y + dy[i]\n",
    "\n",
    "            if 0 <= nx < n and 0 <= ny < n and graph[nx][ny] == 0:\n",
    "                graph[nx][ny] = graph[x][y] + 1\n",
    "                q.append((nx, ny))\n",
    "\n",
    "n = int(input())\n",
    "r1, c1, r2, c2 = map(int, input().split())\n",
    "graph = [[0 for _ in range(n)] for _ in range(n)]\n",
    "\n",
    "bfs(r1, c1)\n",
    "\n",
    "print(-1)"
   ]
  },
  {
   "cell_type": "code",
   "execution_count": null,
   "metadata": {},
   "outputs": [],
   "source": [
    "'''\n",
    "dx = [-2, -2, 0, 0, 2, 2]\n",
    "dy = [-1, 1, -2, 2, -1, 1]\n",
    "'''"
   ]
  }
 ],
 "metadata": {
  "kernelspec": {
   "display_name": "tf_gpu",
   "language": "python",
   "name": "tf_gpu"
  },
  "language_info": {
   "codemirror_mode": {
    "name": "ipython",
    "version": 3
   },
   "file_extension": ".py",
   "mimetype": "text/x-python",
   "name": "python",
   "nbconvert_exporter": "python",
   "pygments_lexer": "ipython3",
   "version": "3.8.20"
  }
 },
 "nbformat": 4,
 "nbformat_minor": 2
}
