{
 "cells": [
  {
   "cell_type": "code",
   "execution_count": null,
   "metadata": {},
   "outputs": [],
   "source": [
    "def dfs(depth):\n",
    "    global ans\n",
    "\n",
    "    if depth == n - 2:\n",
    "        ans = max(ans, check_sum())\n",
    "        return\n",
    "    \n",
    "    for i in range(len(x)):\n",
    "        if x[i] not in perm:\n",
    "            perm.append(x[i])\n",
    "            dfs(depth + 1)\n",
    "            perm.pop()\n",
    "\n",
    "def check_sum():\n",
    "    tmp = w[:]\n",
    "    result = 0\n",
    "\n",
    "    for idx in perm:\n",
    "        tmp[idx] = 0\n",
    "\n",
    "        for prev_idx in range(idx - 1, -1, -1):\n",
    "            if tmp[prev_idx] != 0:\n",
    "                prev_x = tmp[prev_idx]\n",
    "                break\n",
    "\n",
    "        for next_idx in range(idx + 1, n):\n",
    "            if tmp[next_idx] != 0:\n",
    "                next_x = tmp[next_idx]\n",
    "                break\n",
    "        \n",
    "        result += prev_x * next_x\n",
    "    return result\n",
    "\n",
    "n = int(input())\n",
    "w = list(map(int, input().split()))\n",
    "x = [i for i in range(1, n - 1)]\n",
    "\n",
    "ans = 0\n",
    "perm = []\n",
    "dfs(0)\n",
    "\n",
    "print(ans)"
   ]
  },
  {
   "cell_type": "code",
   "execution_count": null,
   "metadata": {},
   "outputs": [],
   "source": [
    "'''\n",
    "1 2 3 4  0\n",
    "1 2 0 4  8\n",
    "1 0 0 4  12\n",
    "\n",
    "100 2 1 3 100  0\n",
    "100 0 1 3 100  100\n",
    "100 0 0 3 100  400\n",
    "100 0 0 0 100  10400\n",
    "\n",
    "2 2 7 6 90 5 9  0\n",
    "2 2 7 6 90 0 9  810\n",
    "2 2 7 0 90 0 9  1440\n",
    "2 2 0 0 90 0 9  1620\n",
    "2 0 0 0 90 0 9  1800\n",
    "2 0 0 0  0 0 9  1818\n",
    "\n",
    "\n",
    "'''"
   ]
  }
 ],
 "metadata": {
  "kernelspec": {
   "display_name": "base",
   "language": "python",
   "name": "python3"
  },
  "language_info": {
   "codemirror_mode": {
    "name": "ipython",
    "version": 3
   },
   "file_extension": ".py",
   "mimetype": "text/x-python",
   "name": "python",
   "nbconvert_exporter": "python",
   "pygments_lexer": "ipython3",
   "version": "3.12.3"
  }
 },
 "nbformat": 4,
 "nbformat_minor": 2
}
