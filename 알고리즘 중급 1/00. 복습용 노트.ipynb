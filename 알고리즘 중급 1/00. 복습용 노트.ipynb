{
 "cells": [
  {
   "cell_type": "code",
   "execution_count": null,
   "metadata": {},
   "outputs": [],
   "source": [
    "from collections import deque\n",
    "\n",
    "def bfs(start, end):\n",
    "    q = deque()\n",
    "    q.append((start, ''))\n",
    "    visited[start] = True\n",
    "\n",
    "    while q:\n",
    "        a, ans = q.popleft()\n",
    "\n",
    "        if a == end:\n",
    "            print(ans)\n",
    "            return\n",
    "        \n",
    "        for c in ('D', 'S', 'L', 'R'):\n",
    "            if c == 'D':\n",
    "                na = a * 2\n",
    "                if na > 9999:\n",
    "                    na %= 10000\n",
    "            if c == 'S':\n",
    "                na = a - 1\n",
    "                if na < 0:\n",
    "                    na = 9999\n",
    "            if c == 'L':\n",
    "                na = (a % 1000) * 10 + a//1000\n",
    "            if c == 'R':\n",
    "                na = (a % 10) * 1000 + a//10\n",
    "\n",
    "            if not visited[na]:\n",
    "                visited[na] = True\n",
    "                q.append((na, ans + c))\n",
    "\n",
    "t = int(input())\n",
    "for _ in range(t):\n",
    "    a, b = map(int, input().split())\n",
    "    visited = [False for _ in range(10000)]\n",
    "\n",
    "    bfs(a, b)"
   ]
  },
  {
   "cell_type": "code",
   "execution_count": null,
   "metadata": {},
   "outputs": [],
   "source": [
    "'''\n",
    "\n",
    "'''"
   ]
  }
 ],
 "metadata": {
  "kernelspec": {
   "display_name": "tf_gpu",
   "language": "python",
   "name": "tf_gpu"
  },
  "language_info": {
   "codemirror_mode": {
    "name": "ipython",
    "version": 3
   },
   "file_extension": ".py",
   "mimetype": "text/x-python",
   "name": "python",
   "nbconvert_exporter": "python",
   "pygments_lexer": "ipython3",
   "version": "3.8.20"
  }
 },
 "nbformat": 4,
 "nbformat_minor": 2
}
