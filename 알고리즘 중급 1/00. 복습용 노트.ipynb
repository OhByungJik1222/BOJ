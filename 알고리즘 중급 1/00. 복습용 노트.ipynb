{
 "cells": [
  {
   "cell_type": "code",
   "execution_count": null,
   "metadata": {},
   "outputs": [],
   "source": [
    "def dfs(depth):\n",
    "    global ans_max, ans_min\n",
    "\n",
    "    if depth == n - 1:\n",
    "        result = check_sum()\n",
    "        ans_max = max(ans_max, result)\n",
    "        ans_min = min(ans_min, result)\n",
    "        return\n",
    "\n",
    "    prev_oper = ''\n",
    "    for i in range(len(oper_list)):\n",
    "        if not visited[i] and oper_list[i] != prev_oper:\n",
    "            visited[i] = True\n",
    "            prev_oper = oper_list[i]\n",
    "            tmp.append(oper_list[i])\n",
    "            dfs(depth + 1)\n",
    "            visited[i] = False\n",
    "            tmp.pop()\n",
    "\n",
    "def check_sum():\n",
    "    result = a[0]\n",
    "    for i in range(len(tmp)):\n",
    "        if tmp[i] == '+':\n",
    "            result += a[i + 1]\n",
    "        elif tmp[i] == '-':\n",
    "            result -= a[i + 1]\n",
    "        elif tmp[i] == '*':\n",
    "            result *= a[i + 1]\n",
    "        elif tmp[i] == '/':\n",
    "            result = int(result / a[i + 1])\n",
    "    return result\n",
    "\n",
    "n = int(input())\n",
    "a = list(map(int, input().split()))\n",
    "oper_cnt = list(map(int, input().split()))\n",
    "oper = ['+', '-', '*', '/']\n",
    "oper_list = []\n",
    "for i in range(4):\n",
    "    for _ in range(oper_cnt[i]):\n",
    "        oper_list.append(oper[i])\n",
    "visited = [False for _ in range(len(oper_list))]\n",
    "\n",
    "ans_max = -1e10\n",
    "ans_min = 1e10\n",
    "tmp = []\n",
    "dfs(0)\n",
    "\n",
    "print(ans_max)\n",
    "print(ans_min)"
   ]
  },
  {
   "cell_type": "code",
   "execution_count": null,
   "metadata": {},
   "outputs": [],
   "source": [
    "'''\n",
    "\n",
    "'''"
   ]
  }
 ],
 "metadata": {
  "kernelspec": {
   "display_name": "base",
   "language": "python",
   "name": "python3"
  },
  "language_info": {
   "codemirror_mode": {
    "name": "ipython",
    "version": 3
   },
   "file_extension": ".py",
   "mimetype": "text/x-python",
   "name": "python",
   "nbconvert_exporter": "python",
   "pygments_lexer": "ipython3",
   "version": "3.12.3"
  }
 },
 "nbformat": 4,
 "nbformat_minor": 2
}
