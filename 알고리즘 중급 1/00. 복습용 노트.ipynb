{
 "cells": [
  {
   "cell_type": "code",
   "execution_count": null,
   "metadata": {},
   "outputs": [],
   "source": [
    "import sys\n",
    "\n",
    "def dfs(depth):\n",
    "    if depth == len(blank):\n",
    "        for i in range(9):\n",
    "            print(*sudoku[i])\n",
    "        sys.exit()\n",
    "\n",
    "    for num in range(1, 10):\n",
    "        i = blank[depth][0]\n",
    "        j = blank[depth][1]\n",
    "        block_idx = get_block_idx(i, j)\n",
    "\n",
    "        if not row[i][num] and not col[j][num] and not block[block_idx][num]:\n",
    "            row[i][num] = True\n",
    "            col[j][num] = True\n",
    "            block[block_idx][num] = True\n",
    "            sudoku[i][j] = num\n",
    "            dfs(depth + 1)\n",
    "            row[i][num] = False\n",
    "            col[j][num] = False\n",
    "            block[block_idx][num] = False\n",
    "            sudoku[i][j] = 0\n",
    "\n",
    "\n",
    "def get_block_idx(x, y):\n",
    "    return (x//3) * 3 + (y//3)\n",
    "\n",
    "sudoku = [list(map(int, input().split())) for _ in range(9)]\n",
    "\n",
    "row = [[False for _ in range(10)] for _ in range(9)]\n",
    "col = [[False for _ in range(10)] for _ in range(9)]\n",
    "block = [[False for _ in range(10)] for _ in range(9)]\n",
    "\n",
    "blank = []\n",
    "for i in range(9):\n",
    "    for j in range(9):\n",
    "        if sudoku[i][j] == 0:\n",
    "            blank.append([i, j])\n",
    "        row[i][sudoku[i][j]] = True\n",
    "        col[j][sudoku[i][j]] = True\n",
    "        block[get_block_idx(i, j)][sudoku[i][j]] = True\n",
    "\n",
    "dfs(0)"
   ]
  },
  {
   "cell_type": "code",
   "execution_count": null,
   "metadata": {},
   "outputs": [],
   "source": [
    "'''\n",
    "\n",
    "'''"
   ]
  }
 ],
 "metadata": {
  "kernelspec": {
   "display_name": "base",
   "language": "python",
   "name": "python3"
  },
  "language_info": {
   "codemirror_mode": {
    "name": "ipython",
    "version": 3
   },
   "file_extension": ".py",
   "mimetype": "text/x-python",
   "name": "python",
   "nbconvert_exporter": "python",
   "pygments_lexer": "ipython3",
   "version": "3.12.3"
  }
 },
 "nbformat": 4,
 "nbformat_minor": 2
}
