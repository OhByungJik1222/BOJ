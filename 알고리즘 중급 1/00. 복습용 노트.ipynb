{
 "cells": [
  {
   "cell_type": "code",
   "execution_count": null,
   "metadata": {},
   "outputs": [
    {
     "name": "stdout",
     "output_type": "stream",
     "text": [
      "-1\n"
     ]
    }
   ],
   "source": [
    "n, m, k = map(int, input().split())\n",
    "ans = [0 for _ in range(m * k)]\n",
    "num = [i for i in range(1, n + 1)]\n",
    "\n",
    "if m * k < n:\n",
    "    print(-1)\n",
    "else:\n",
    "    for i in range(k - 1, m * k, k):\n",
    "        if num:\n",
    "            ans[i] = num.pop(0)\n",
    "\n",
    "    break_flag = False\n",
    "    for i in range(m - 1, -1, -1):\n",
    "        for j in range(k * i, k * (i + 1) - 1):\n",
    "            if num:\n",
    "                ans[j] = num.pop()\n",
    "            else:\n",
    "                if i == m - 1:\n",
    "                    print(-1)\n",
    "                    break_flag = True\n",
    "                    break\n",
    "                else:\n",
    "                    for a in range(len(ans)):\n",
    "                        if ans[a] != 0:\n",
    "                            print(ans[a], end=' ')\n",
    "                    break_flag = True\n",
    "                    break\n",
    "        if break_flag: break\n",
    "    else:\n",
    "        print(*ans, sep=' ')"
   ]
  },
  {
   "cell_type": "code",
   "execution_count": null,
   "metadata": {},
   "outputs": [],
   "source": [
    "'''\n",
    "0 0 0 0 0 0 0 0 0 0 0 0 0 0 0 0 0 0 0 0\n",
    "0 0 0 1 0 0 0 2 0 0 0 3 0 0 0 4 0 0 0 5\n",
    "0 0 0 1 0 0 0 2 0 0 0 3 0 0 0 4 13 12 11 5\n",
    "0 0 0 1 0 0 0 2 0 0 0 3 10 9 8 4 13 12 11 5\n",
    "0 0 0 1 0 0 0 2 7 6 0 3 10 9 8 4 13 12 11 5\n",
    "\n",
    "1 2 7 6 3 10 9 8 4 13 12 11 5\n",
    "\n",
    "0 0 0 0\n",
    "0 1 0 2\n",
    "0 1 4 2\n",
    "3 1 4 2\n",
    "'''"
   ]
  }
 ],
 "metadata": {
  "kernelspec": {
   "display_name": "base",
   "language": "python",
   "name": "python3"
  },
  "language_info": {
   "codemirror_mode": {
    "name": "ipython",
    "version": 3
   },
   "file_extension": ".py",
   "mimetype": "text/x-python",
   "name": "python",
   "nbconvert_exporter": "python",
   "pygments_lexer": "ipython3",
   "version": "3.12.3"
  }
 },
 "nbformat": 4,
 "nbformat_minor": 2
}
