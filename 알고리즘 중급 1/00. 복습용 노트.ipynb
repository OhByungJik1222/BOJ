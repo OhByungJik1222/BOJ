{
 "cells": [
  {
   "cell_type": "code",
   "execution_count": null,
   "metadata": {},
   "outputs": [
    {
     "name": "stdout",
     "output_type": "stream",
     "text": [
      "39\n"
     ]
    }
   ],
   "source": [
    "from collections import deque\n",
    "\n",
    "def bfs():\n",
    "    q = deque()\n",
    "    q.append((shark_x, shark_y))\n",
    "    visited = [[0 for _ in range(n)] for _ in range(n)]\n",
    "    fish = []\n",
    "\n",
    "    while q:\n",
    "        x, y = q.popleft()\n",
    "\n",
    "        for i in range(4):\n",
    "            nx = x + dx[i]\n",
    "            ny = y + dy[i]\n",
    "\n",
    "            if 0 <= nx < n and 0 <= ny < n and visited[nx][ny] == 0:\n",
    "                # 이동 가능한 물고기 중 먹을 수 있는 물고기라면\n",
    "                if 0 < graph[nx][ny] < size[0]:\n",
    "                    visited[nx][ny] = visited[x][y] + 1\n",
    "                    q.append((nx, ny))\n",
    "                    fish.append([visited[nx][ny], nx, ny]) # 먹을 수 있는 물고기 리스트에 append\n",
    "                # 빈칸이거나 같은 크기의 물고기가 있다면\n",
    "                elif graph[nx][ny] == 0 or graph[nx][ny] == size[0]:\n",
    "                    visited[nx][ny] = visited[x][y] + 1 # 방문처리만\n",
    "                    q.append((nx, ny))\n",
    "\n",
    "    return sorted(fish, key=lambda x : (x[0], x[1], x[2])) # 먹을 물고기의 우선순위\n",
    "\n",
    "n = int(input())\n",
    "graph = [list(map(int, input().split())) for _ in range(n)]\n",
    "\n",
    "for i in range(n):\n",
    "    for j in range(n):\n",
    "        if graph[i][j] == 9:\n",
    "            shark_x, shark_y = i, j\n",
    "\n",
    "dx = [-1, 1, 0, 0]\n",
    "dy = [0, 0, -1, 1]\n",
    "\n",
    "ans = 0\n",
    "size = [2, 0]\n",
    "while True:\n",
    "    fish = deque(bfs())\n",
    "\n",
    "    if not fish: break # 더 이상 먹을 수 있는 물고기가 없으면 break\n",
    "\n",
    "    cnt, x, y = fish.popleft()\n",
    "    graph[x][y] = 0 # 물고기를 잡아 먹었으므로 빈칸\n",
    "    ans += cnt # 물고기를 잡아먹는데에 걸리는 시간 +\n",
    "    size[1] += 1\n",
    "\n",
    "    if size[0] == size[1]: # 상어의 크기 갱신\n",
    "        size[0] += 1\n",
    "        size[1] = 0\n",
    "\n",
    "    graph[shark_x][shark_y] = 0 # 물고기가 있는 위치로 상어가 이동했으므로 빈칸\n",
    "    shark_x, shark_y = x, y # 상어의 좌표 갱신\n",
    "\n",
    "print(ans)"
   ]
  },
  {
   "cell_type": "code",
   "execution_count": null,
   "metadata": {},
   "outputs": [],
   "source": [
    "'''\n",
    "\n",
    "'''"
   ]
  }
 ],
 "metadata": {
  "kernelspec": {
   "display_name": "base",
   "language": "python",
   "name": "python3"
  },
  "language_info": {
   "codemirror_mode": {
    "name": "ipython",
    "version": 3
   },
   "file_extension": ".py",
   "mimetype": "text/x-python",
   "name": "python",
   "nbconvert_exporter": "python",
   "pygments_lexer": "ipython3",
   "version": "3.12.3"
  }
 },
 "nbformat": 4,
 "nbformat_minor": 2
}
