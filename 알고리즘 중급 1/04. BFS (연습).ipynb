{
 "cells": [
  {
   "cell_type": "markdown",
   "id": "c5467ae0",
   "metadata": {},
   "source": [
    "16928번 뱀과 사다리 게임 <span style=\"color:green\">성공</span> - 2025.05.04"
   ]
  },
  {
   "cell_type": "code",
   "execution_count": null,
   "id": "295ade1c",
   "metadata": {},
   "outputs": [],
   "source": [
    "# 1. graph에 i에 도착했을 때 이동하는 좌표 저장하기\n",
    "#    연결된 사다리나 뱀이 없으면 자기자신, 있으면 사다리 혹은 뱀의 도착지점\n",
    "# 2. 주사위 1~6을 던져보며 방문하지 않은 지점에 대해서 반복\n",
    "import sys\n",
    "from collections import deque\n",
    "\n",
    "def bfs():\n",
    "    q = deque()\n",
    "    q.append((1, 0))\n",
    "\n",
    "    while q:\n",
    "        pos, cnt = q.popleft()\n",
    "\n",
    "        for dice in range(1, 7): # 2\n",
    "            if pos + dice == 100:\n",
    "                print(cnt + 1)\n",
    "                sys.exit()\n",
    "\n",
    "            if pos + dice <= 100 and not visited[pos + dice] and not visited[graph[pos + dice]]:\n",
    "                visited[pos + dice] = True\n",
    "                visited[graph[pos + dice]] = True\n",
    "                q.append((graph[pos + dice], cnt + 1))\n",
    "\n",
    "n, m = map(int, input().split())\n",
    "graph = [i for i in range(101)]\n",
    "visited = [False for _ in range(101)]\n",
    "visited[0] = visited[1] = True\n",
    "for _ in range(n + m): # 1\n",
    "    start, end = map(int, input().split())\n",
    "    graph[start] = end\n",
    "\n",
    "bfs()"
   ]
  },
  {
   "cell_type": "markdown",
   "id": "d3e832b1",
   "metadata": {},
   "source": [
    "16948번 데스 나이트 <span style=\"color:green\">성공</span> - 2025.05.05"
   ]
  },
  {
   "cell_type": "code",
   "execution_count": null,
   "id": "c1857cba",
   "metadata": {},
   "outputs": [],
   "source": [
    "import sys\n",
    "from collections import deque\n",
    "\n",
    "def bfs():\n",
    "    q = deque()\n",
    "    q.append((start_x, start_y))\n",
    "\n",
    "    dx = [-2, -2, 0, 0, 2, 2]\n",
    "    dy = [-1, 1, -2, 2, -1, 1]\n",
    "\n",
    "    while q:\n",
    "        x, y = q.popleft()\n",
    "\n",
    "        for i in range(6):\n",
    "            nx = x + dx[i]\n",
    "            ny = y + dy[i]\n",
    "\n",
    "            if nx == end_x and ny == end_y:\n",
    "                print(graph[x][y] + 1)\n",
    "                sys.exit()\n",
    "\n",
    "            if 0 <= nx < n and 0 <= ny < n and graph[nx][ny] == 0:\n",
    "                graph[nx][ny] = graph[x][y] + 1\n",
    "                q.append((nx, ny))\n",
    "\n",
    "n = int(input())\n",
    "start_x, start_y, end_x, end_y = map(int, input().split())\n",
    "graph = [[0 for _ in range(n)] for _ in range(n)]\n",
    "\n",
    "bfs()\n",
    "\n",
    "print(-1)"
   ]
  },
  {
   "cell_type": "markdown",
   "id": "2e3c3b62",
   "metadata": {},
   "source": [
    "9019번 DSLR <span style=\"color:green\">성공</span> - 2025.05.06"
   ]
  },
  {
   "cell_type": "code",
   "execution_count": null,
   "id": "6a2bdf9e",
   "metadata": {},
   "outputs": [],
   "source": [
    "# 처음 a를 리스트로 바꾸고 다시 정수로 바꿔서 풀었던 코드(시간초과) 참고하기\n",
    "\n",
    "import sys\n",
    "from collections import deque\n",
    "# input = sys.stdin.readline\n",
    "\n",
    "def bfs(a):\n",
    "    q = deque()\n",
    "    q.append([a, ''])\n",
    "\n",
    "    while q:\n",
    "        a, command = q.popleft()\n",
    "\n",
    "        if a == b:\n",
    "            print(command)\n",
    "            break\n",
    "\n",
    "        for c in ('D', 'S', 'L', 'R'):\n",
    "            if c == 'D':\n",
    "                next_a = a * 2\n",
    "                if next_a > 9999:\n",
    "                    next_a %= 10000\n",
    "            elif c == 'S':\n",
    "                next_a = a - 1\n",
    "                if next_a < 0:\n",
    "                    next_a = 9999\n",
    "            elif c == 'L':\n",
    "                if a != 0:\n",
    "                    next_a = (a % 1000) * 10 + a // 1000\n",
    "            elif c == 'R':\n",
    "                if a != 0:\n",
    "                    next_a = (a % 10) * 1000 + a // 10\n",
    "\n",
    "            if not visited[next_a]:\n",
    "                visited[next_a] = True\n",
    "                q.append([next_a, command + c])\n",
    "\n",
    "t = int(input())\n",
    "\n",
    "for _ in range(t):\n",
    "    a, b = map(int, input().split())\n",
    "    visited = [False for _ in range(10000)]\n",
    "    visited[a] = True\n",
    "\n",
    "    bfs(a)"
   ]
  },
  {
   "cell_type": "markdown",
   "id": "9bb9b43d",
   "metadata": {},
   "source": [
    "14502번 연구소 <span style=\"color:green\"></span> - 2025.05.07"
   ]
  },
  {
   "cell_type": "code",
   "execution_count": null,
   "id": "2022f18b",
   "metadata": {},
   "outputs": [],
   "source": []
  }
 ],
 "metadata": {
  "kernelspec": {
   "display_name": "base",
   "language": "python",
   "name": "python3"
  },
  "language_info": {
   "codemirror_mode": {
    "name": "ipython",
    "version": 3
   },
   "file_extension": ".py",
   "mimetype": "text/x-python",
   "name": "python",
   "nbconvert_exporter": "python",
   "pygments_lexer": "ipython3",
   "version": "3.12.3"
  }
 },
 "nbformat": 4,
 "nbformat_minor": 5
}
