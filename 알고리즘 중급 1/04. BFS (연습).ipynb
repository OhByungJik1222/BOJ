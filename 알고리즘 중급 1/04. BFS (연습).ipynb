{
 "cells": [
  {
   "cell_type": "markdown",
   "id": "c5467ae0",
   "metadata": {},
   "source": [
    "16928번 뱀과 사다리 게임 <span style=\"color:green\">성공</span> - 2025.05.04"
   ]
  },
  {
   "cell_type": "code",
   "execution_count": null,
   "id": "295ade1c",
   "metadata": {},
   "outputs": [],
   "source": [
    "# 1. graph에 i에 도착했을 때 이동하는 좌표 저장하기\n",
    "#    연결된 사다리나 뱀이 없으면 자기자신, 있으면 사다리 혹은 뱀의 도착지점\n",
    "# 2. 주사위 1~6을 던져보며 방문하지 않은 지점에 대해서 반복\n",
    "import sys\n",
    "from collections import deque\n",
    "\n",
    "def bfs():\n",
    "    q = deque()\n",
    "    q.append((1, 0))\n",
    "\n",
    "    while q:\n",
    "        pos, cnt = q.popleft()\n",
    "\n",
    "        for dice in range(1, 7): # 2\n",
    "            if pos + dice == 100:\n",
    "                print(cnt + 1)\n",
    "                sys.exit()\n",
    "\n",
    "            if pos + dice <= 100 and not visited[pos + dice] and not visited[graph[pos + dice]]:\n",
    "                visited[pos + dice] = True\n",
    "                visited[graph[pos + dice]] = True\n",
    "                q.append((graph[pos + dice], cnt + 1))\n",
    "\n",
    "n, m = map(int, input().split())\n",
    "graph = [i for i in range(101)]\n",
    "visited = [False for _ in range(101)]\n",
    "visited[0] = visited[1] = True\n",
    "for _ in range(n + m): # 1\n",
    "    start, end = map(int, input().split())\n",
    "    graph[start] = end\n",
    "\n",
    "bfs()"
   ]
  },
  {
   "cell_type": "markdown",
   "id": "d3e832b1",
   "metadata": {},
   "source": [
    "16948번 데스 나이트 <span style=\"color:green\"></span> - 2025.05.05"
   ]
  },
  {
   "cell_type": "code",
   "execution_count": null,
   "id": "c1857cba",
   "metadata": {},
   "outputs": [],
   "source": []
  }
 ],
 "metadata": {
  "kernelspec": {
   "display_name": "base",
   "language": "python",
   "name": "python3"
  },
  "language_info": {
   "codemirror_mode": {
    "name": "ipython",
    "version": 3
   },
   "file_extension": ".py",
   "mimetype": "text/x-python",
   "name": "python",
   "nbconvert_exporter": "python",
   "pygments_lexer": "ipython3",
   "version": "3.12.3"
  }
 },
 "nbformat": 4,
 "nbformat_minor": 5
}
