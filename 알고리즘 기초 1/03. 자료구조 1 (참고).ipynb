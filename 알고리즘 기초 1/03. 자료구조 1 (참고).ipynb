{
 "cells": [
  {
   "cell_type": "markdown",
   "metadata": {},
   "source": [
    "1935번 후위 표기식2 <span style=\"color:red\">실패</span> - 2025.02.17\n",
    " - 이전에 제출했던 코드 왜 틀렸는지 이해하기 (Type/Index Error)\n",
    " - <span style = \"color:green\">25.02.20 복습</span>\n",
    " - <span style=\"color:green\">25.03.04 16:48</span>"
   ]
  },
  {
   "cell_type": "code",
   "execution_count": null,
   "metadata": {},
   "outputs": [],
   "source": [
    "alph = 'ABCDEFGHIJKLMNOPQRSTUVWXYZ'\n",
    "\n",
    "n = int(input())\n",
    "a = list(input())\n",
    "num = [int(input()) for _ in range(n)]\n",
    "stack = []\n",
    "\n",
    "for i in range(len(a)):\n",
    "    if a[i] in alph:\n",
    "        a[i] = num[alph.index(a[i])]\n",
    "\n",
    "for word in a:\n",
    "    if type(word) is int:\n",
    "        stack.append(word)\n",
    "    else:\n",
    "        back = stack.pop()\n",
    "        front = stack.pop()\n",
    "\n",
    "        if word == '+':\n",
    "            stack.append(front + back)\n",
    "        elif word == '-':\n",
    "            stack.append(front - back)\n",
    "        elif word == '*':\n",
    "            stack.append(front * back)\n",
    "        elif word == '/':\n",
    "            stack.append(front / back)\n",
    "\n",
    "print(format(float(stack[0]), '.2f'))"
   ]
  },
  {
   "cell_type": "markdown",
   "metadata": {},
   "source": [
    "1918번 후위 표기식 <span style=\"color:red\">실패</span> - 2025.02.17\n",
    " - 힌트를 찾아보고 작성했지만 오답\n",
    " - 이전에 제출한 코드 왜 틀렸는지 이해하기 (Index Error)\n",
    " - <span style=\"color:green\">25.02.23 복습</span>"
   ]
  },
  {
   "cell_type": "code",
   "execution_count": null,
   "metadata": {},
   "outputs": [],
   "source": [
    "s = input()\n",
    "\n",
    "stack = []\n",
    "ans = []\n",
    "\n",
    "for word in s:\n",
    "    if ord('A') <= ord(word) <= ord('Z'):\n",
    "        ans.append(word)\n",
    "    else:\n",
    "        if word == \"(\":\n",
    "            stack.append(word)\n",
    "        elif word == \"*\" or word == \"/\":\n",
    "            while stack and (stack[-1] == \"*\" or stack[-1] == '/'):\n",
    "                ans.append(stack.pop())\n",
    "            stack.append(word)\n",
    "        elif word == \"+\" or word == \"-\":\n",
    "            while stack and stack[-1] != '(':\n",
    "                ans.append(stack.pop())\n",
    "            stack.append(word)\n",
    "        elif word == \")\":\n",
    "            while stack and stack[-1] != \"(\":\n",
    "                ans.append(stack.pop())\n",
    "            stack.pop()\n",
    "        \n",
    "ans.extend(stack[::-1])\n",
    "\n",
    "print(*ans, sep=\"\")"
   ]
  },
  {
   "cell_type": "markdown",
   "metadata": {},
   "source": [
    "10808번 알파벳 개수 <span style=\"color:green\">성공</span> - 2025.02.17\n",
    " - <span style=\"color:green\">25.02.23 복습</span>\n",
    " - <span style=\"color:green\">25.03.05 01:44</span>"
   ]
  },
  {
   "cell_type": "code",
   "execution_count": null,
   "metadata": {},
   "outputs": [],
   "source": [
    "s = input()\n",
    "ans = [0] * 26\n",
    "\n",
    "for word in s:\n",
    "    ans[ord(word) - ord('a')] += 1\n",
    "\n",
    "print(*ans)"
   ]
  },
  {
   "cell_type": "markdown",
   "metadata": {},
   "source": [
    "10809번 알파벳 찾기 <span style=\"color:green\">성공</span> - 2025.02.17\n",
    " - <span style=\"color:green\">25.02.23 복습</span>\n",
    " - <span style=\"color:green\">25.03.05 04:05</span>"
   ]
  },
  {
   "cell_type": "code",
   "execution_count": null,
   "metadata": {},
   "outputs": [],
   "source": [
    "alph = \"abcdefghijklmnopqrstuvwxyz\"\n",
    "stack = [-1 for _ in range(len(alph))]\n",
    "\n",
    "s = input()\n",
    "\n",
    "for i in range(len(s)):\n",
    "    idx = alph.index(s[i])\n",
    "    if stack[idx] == -1:\n",
    "        stack[idx] = i\n",
    "\n",
    "print(*stack)\n",
    "\n",
    "# 25.02.23\n",
    "# ans = [-1 for _ in range(26)]\n",
    "\n",
    "# s = input()\n",
    "\n",
    "# for i in range(len(s)):\n",
    "#     if ans[ord(s[i]) - ord('a')] == -1:\n",
    "#         ans[ord(s[i]) - ord('a')] = i\n",
    "\n",
    "# print(*ans)"
   ]
  },
  {
   "cell_type": "markdown",
   "metadata": {},
   "source": [
    "10820번 문자열 분석 <span style=\"color:green\">성공</span> - 2025.02.17\n",
    " - <span style=\"color:green\">25.02.23 복습</span>\n",
    " - <span style=\"color:green\">25.03.05 04:19</span>"
   ]
  },
  {
   "cell_type": "code",
   "execution_count": null,
   "metadata": {},
   "outputs": [],
   "source": [
    "while True:\n",
    "    try:\n",
    "        s = input()\n",
    "\n",
    "        lower_cnt = 0\n",
    "        upper_cnt = 0\n",
    "        number_cnt = 0\n",
    "        blank_cnt = 0\n",
    "\n",
    "        for word in s:\n",
    "            if ord('a') <= ord(word) <= ord('z'):\n",
    "                lower_cnt += 1\n",
    "            elif ord('A') <= ord(word) <= ord('Z'):\n",
    "                upper_cnt += 1\n",
    "            elif word == \" \":\n",
    "                blank_cnt += 1\n",
    "            elif 0 <= int(word) <= 9:\n",
    "                number_cnt += 1\n",
    "\n",
    "        print(lower_cnt, upper_cnt, number_cnt, blank_cnt)\n",
    "\n",
    "    except EOFError:\n",
    "        break    "
   ]
  },
  {
   "cell_type": "markdown",
   "metadata": {},
   "source": [
    "2743번 단어 길이 재기 <span style=\"color:green\">성공</span> - 2025.02.17\n",
    " - <span style=\"color:green\">25.02.23 복습</span>\n",
    " - <span style=\"color:green\">25.03.05 00:23</span>"
   ]
  },
  {
   "cell_type": "code",
   "execution_count": null,
   "metadata": {},
   "outputs": [],
   "source": [
    "s = input()\n",
    "\n",
    "print(len(s))"
   ]
  },
  {
   "cell_type": "markdown",
   "metadata": {},
   "source": [
    "11655번 ROT13 <span style=\"color:green\">성공</span> - 2025.02.17\n",
    " - <span style=\"color:green\">25.02.23 복습</span>\n",
    " - <span style=\"color:green\">25.03.05 10:43</span>"
   ]
  },
  {
   "cell_type": "code",
   "execution_count": null,
   "metadata": {},
   "outputs": [],
   "source": [
    "s = input()\n",
    "ans = ''\n",
    "\n",
    "for word in s:\n",
    "    if word.islower():\n",
    "        if ord(word) + 13 <= ord('z'):\n",
    "            ans += chr(ord(word) + 13)\n",
    "        else:\n",
    "            ans += chr(ord(word) - 13)\n",
    "    elif word.isupper():\n",
    "        if ord(word) + 13 <= ord('Z'):\n",
    "            ans += chr(ord(word) + 13)\n",
    "        else:\n",
    "            ans += chr(ord(word) - 13)\n",
    "    else:\n",
    "        ans += word\n",
    "\n",
    "print(ans)"
   ]
  },
  {
   "cell_type": "markdown",
   "metadata": {},
   "source": [
    "10824번 네 수 <span style=\"color:green\">성공</span> - 2025.02.17\n",
    " - <span style=\"color:green\">25.02.23 복습</span>\n",
    " - <span style=\"color:green\">25.03.05 01:48</span>"
   ]
  },
  {
   "cell_type": "code",
   "execution_count": null,
   "metadata": {},
   "outputs": [],
   "source": [
    "a, b, c, d = input().split()\n",
    "\n",
    "print(int(a + b) + int(c + d))"
   ]
  },
  {
   "cell_type": "markdown",
   "metadata": {},
   "source": [
    "11656번 접미사 배열 <span style=\"color:green\">성공</span> - 2025.02.17\n",
    " - <span style=\"color:green\">25.02.23 복습</span>\n",
    " - <span style=\"color:green\">25.03.05 01:54</span>"
   ]
  },
  {
   "cell_type": "code",
   "execution_count": null,
   "metadata": {},
   "outputs": [],
   "source": [
    "s = input()\n",
    "\n",
    "ans = sorted([s[i:] for i in range(len(s))])\n",
    "print(*ans, sep='\\n')"
   ]
  }
 ],
 "metadata": {
  "kernelspec": {
   "display_name": "base",
   "language": "python",
   "name": "python3"
  },
  "language_info": {
   "codemirror_mode": {
    "name": "ipython",
    "version": 3
   },
   "file_extension": ".py",
   "mimetype": "text/x-python",
   "name": "python",
   "nbconvert_exporter": "python",
   "pygments_lexer": "ipython3",
   "version": "3.12.3"
  }
 },
 "nbformat": 4,
 "nbformat_minor": 2
}
