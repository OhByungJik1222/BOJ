{
 "cells": [
  {
   "cell_type": "markdown",
   "metadata": {},
   "source": [
    "10430번 나머지 <span style=\"color:green\">성공</span> - 2025.02.17\n",
    " - <span style=\"color:green\">25.02.20 복습</span>\n",
    " - <span style=\"color:green\">25.03.03 01:28</span>"
   ]
  },
  {
   "cell_type": "code",
   "execution_count": null,
   "metadata": {},
   "outputs": [],
   "source": [
    "a, b, c = map(int, input().split())\n",
    "\n",
    "print((a+b)%c)\n",
    "print(((a%c)+(b%c))%c)\n",
    "print((a*b)%c)\n",
    "print(((a%c)*(b%c))%c)"
   ]
  },
  {
   "cell_type": "markdown",
   "metadata": {},
   "source": [
    "2609번 최대공약수와 최소공배수 <span style=\"color:green\">성공</span> - 2025.02.17\n",
    " - A * B = GCD(A, B) * LCM(A, B)\n",
    " - math 모듈에 gcd(), lcm() 함수가 내장되어 있다.\n",
    " - <span style=\"color:green\">25.02.20 복습</span>\n",
    " - <span style=\"color:green\">25.03.06 01:00</span>"
   ]
  },
  {
   "cell_type": "code",
   "execution_count": null,
   "metadata": {},
   "outputs": [],
   "source": [
    "a, b = map(int, input().split())\n",
    "\n",
    "if a < b:\n",
    "    temp = a\n",
    "    a = b\n",
    "    b = temp\n",
    "\n",
    "lcm_a = []\n",
    "\n",
    "for i in range(1, a + 1):\n",
    "    if a % i == 0:\n",
    "        lcm_a.append(i)\n",
    "\n",
    "for i in range(1, b + 1):\n",
    "    if b % i == 0 and i in lcm_a:\n",
    "        lcm = i\n",
    "\n",
    "print(lcm)\n",
    "print(int(a * b / lcm))\n",
    "\n",
    "# 내장함수 사용\n",
    "# import math\n",
    "\n",
    "# a, b = map(int, input().split())\n",
    "\n",
    "# print(math.gcd(a, b))\n",
    "# print(math.lcm(a, b))\n",
    "\n",
    "# 함수로 구현 (유클리드 호제법)\n",
    "# def gcd(a, b):\n",
    "#     while b > 0:\n",
    "#         a, b = b, a % b\n",
    "#     return a\n",
    "\n",
    "# def lcm(a, b):\n",
    "#     return a * b // gcd(a, b)"
   ]
  },
  {
   "cell_type": "markdown",
   "metadata": {},
   "source": [
    "1934번 최소공배수 <span style=\"color:green\">성공</span> - 2025.02.17\n",
    " - <span style=\"color:green\">25.02.20 복습</span>\n",
    " - <span style=\"color:green\">25.03.06 00:58</span>"
   ]
  },
  {
   "cell_type": "code",
   "execution_count": null,
   "metadata": {},
   "outputs": [],
   "source": [
    "from math import lcm\n",
    "\n",
    "t = int(input())\n",
    "\n",
    "for _ in range(t):\n",
    "    a, b = map(int, input().split())\n",
    "    print(lcm(a, b))"
   ]
  },
  {
   "cell_type": "markdown",
   "metadata": {},
   "source": [
    "1978번 소수 찾기 <span style=\"color:green\">성공</span> - 2025.02.17\n",
    " - <span style=\"color:green\">25.02.20 복습</span>\n",
    " - <span style=\"color:green\">25.03.06 03:51</span>"
   ]
  },
  {
   "cell_type": "code",
   "execution_count": null,
   "metadata": {},
   "outputs": [],
   "source": [
    "n = int(input())\n",
    "number = list(map(int, input().split()))\n",
    "ans = 0\n",
    "\n",
    "for num in number:\n",
    "    for i in range(2, num+1):\n",
    "        if num % i == 0:\n",
    "            if num == i:\n",
    "                ans += 1\n",
    "            break\n",
    "\n",
    "print(ans)"
   ]
  },
  {
   "cell_type": "markdown",
   "metadata": {},
   "source": [
    "1929번 소수 구하기 <span style=\"color:red\">실패 - 시간초과</span> - 2025.02.18\n",
    " - 에라토스테네스의 체 알고리즘 이해하기\n",
    " - bool 타입 변수도 활용하기\n",
    " - <span style=\"color:green\">25.02.20 복습</span>\n",
    " - <span style=\"color:green\">25.03.06 02:44</span>"
   ]
  },
  {
   "cell_type": "code",
   "execution_count": null,
   "metadata": {},
   "outputs": [],
   "source": [
    "def sieve_of_eratosthenes(n):\n",
    "    is_prime = [True] * (n + 1)\n",
    "    for i in range(2, int(n**0.5) + 1):\n",
    "        if is_prime[i]:\n",
    "            for j in range(i**2, n + 1, i):\n",
    "                is_prime[j] = False\n",
    "    return [i for i in range(2, n + 1) if is_prime[i]]\n",
    "\n",
    "m, n = map(int, input().split())\n",
    "\n",
    "prime = sieve_of_eratosthenes(n)\n",
    "\n",
    "for i in range(len(prime)):\n",
    "    if m <= prime[i] <= n:\n",
    "        print(prime[i])\n",
    "\n",
    "# 문제에 적용\n",
    "# m, n = map(int, input().split())\n",
    "\n",
    "# for i in range(m, n + 1):\n",
    "#     if i == 1:\n",
    "#         continue\n",
    "#     for j in range(2, int(i**0.5) + 1):\n",
    "#         if i % j == 0:\n",
    "#             break\n",
    "#     else:\n",
    "#         print(i)"
   ]
  },
  {
   "cell_type": "markdown",
   "metadata": {},
   "source": [
    "6588번 골드바흐의 추측 <span style=\"color:red\">실패 - 시간초과</span> - 2025.02.18\n",
    " - 에라스토테네스의 체 알고리즘 활용\n",
    " - <span style=\"color:green\">25.03.06 08:19</span>"
   ]
  },
  {
   "cell_type": "code",
   "execution_count": null,
   "metadata": {},
   "outputs": [],
   "source": [
    "import sys\n",
    "\n",
    "def sieve_of_eratosthenes(n):\n",
    "    is_prime = [True] * (n + 1)\n",
    "    for i in range(2, int(n**0.5) + 1):\n",
    "        if is_prime[i]:\n",
    "            for j in range(i**2, n + 1, i):\n",
    "                is_prime[j] = False\n",
    "    return is_prime\n",
    "\n",
    "prime_list = sieve_of_eratosthenes(1000000)\n",
    "\n",
    "while True:\n",
    "    s = int(sys.stdin.readline())\n",
    "\n",
    "    if s == 0:\n",
    "        break\n",
    "    \n",
    "    for i in range(3, s - 2, 2):\n",
    "        if prime_list[i] and prime_list[s - i]:\n",
    "            print(f\"{s} = {i} + {s - i}\")\n",
    "            break\n",
    "    else:\n",
    "        print('\"Goldbach\\'s conjection is wrong.\"')"
   ]
  },
  {
   "cell_type": "markdown",
   "metadata": {},
   "source": [
    "10872번 팩토리얼 <span style=\"color:green\">성공</span> - 2025.02.18\n",
    " - <span style=\"color:green\">25.02.21 복습</span>\n",
    " - Dynamic Programming으로도 구현해보기\n",
    " - <span style=\"color:green\">25.03.06 02:07</span>"
   ]
  },
  {
   "cell_type": "code",
   "execution_count": null,
   "metadata": {},
   "outputs": [],
   "source": [
    "def factorial(n):\n",
    "    if n == 0:\n",
    "        return 1\n",
    "    return n * factorial(n - 1)\n",
    "\n",
    "n = int(input())\n",
    "\n",
    "print(factorial(n))\n",
    "\n",
    "# def factorial(n): # Top-Down\n",
    "#     if n == 0:\n",
    "#         return 1\n",
    "    \n",
    "#     if memo[n] is None:\n",
    "#         memo[n] = n * factorial(n - 1)\n",
    "#     return memo[n]\n",
    "\n",
    "# n = int(input())\n",
    "# memo = [None] * (n + 1)\n",
    "# print(factorial(n))\n",
    "\n",
    "# def factorial(n): # Bottom-Up\n",
    "#     memo = [1]\n",
    "    \n",
    "#     for i in range(1, n + 1):\n",
    "#         memo.append(i * memo[i - 1])\n",
    "#     return memo[-1]\n",
    "\n",
    "# n = int(input())\n",
    "# print(factorial(n))"
   ]
  },
  {
   "cell_type": "markdown",
   "metadata": {},
   "source": [
    "1676번 팩토리얼 0의 개수 <span style=\"color:green\">성공</span> - 2025.02.18\n",
    " - <span style=\"color:green\">25.02.23 복습</span>\n",
    " - 약수 중 5, 25, 125의 배수를 찾는 문제\n",
    " - 팩토리얼의 경우는 무조건 2의 배수의 개수보다 5의 배수의 개수가 적을 수 밖에 없기\n",
    " 때문에 5의 배수의 숫자만 구함\n",
    " - <span style=\"color:green\">25.03.06 00:54</span>"
   ]
  },
  {
   "cell_type": "code",
   "execution_count": null,
   "metadata": {},
   "outputs": [],
   "source": [
    "n = int(input())\n",
    "print(n//5 + n//25 + n//125)\n",
    "\n",
    "# def factorial(n):\n",
    "#     if n == 0:\n",
    "#         return 1\n",
    "#     return n * factorial(n - 1)\n",
    "\n",
    "# n = int(input())\n",
    "# num = factorial(n)\n",
    "\n",
    "# cnt = 0\n",
    "# ten = 1\n",
    "# while True:\n",
    "#     ten *= 10\n",
    "#     if num % ten == 0:\n",
    "#         cnt += 1\n",
    "#     else:\n",
    "#         break\n",
    "\n",
    "# print(cnt)"
   ]
  },
  {
   "cell_type": "markdown",
   "metadata": {},
   "source": [
    "2004번 조합 0의 개수 <span style=\"color:red\">실패</span> - 2025.02.18\n",
    " - 그러나 조합의 경우 입력에 따라 2의 배수의 개수가 5의 배수의 개수보다 적어질 수 있기 때문에 둘 다 고려해야 함"
   ]
  },
  {
   "cell_type": "code",
   "execution_count": null,
   "metadata": {},
   "outputs": [],
   "source": [
    "n, m = map(int, input().split())\n",
    "\n",
    "def count2(n):\n",
    "    cnt = 0\n",
    "    while n != 0:\n",
    "        n = n // 2\n",
    "        cnt += n\n",
    "    return cnt\n",
    "\n",
    "def count5(n):\n",
    "    cnt = 0\n",
    "    while n != 0:\n",
    "        n = n // 5\n",
    "        cnt += n    \n",
    "    return cnt\n",
    "\n",
    "five_cnt = count5(n) - count5(m) - count5(n - m)\n",
    "two_cnt = count2(n) - count2(m) - count2(n - m)\n",
    "\n",
    "print(min(five_cnt, two_cnt))"
   ]
  }
 ],
 "metadata": {
  "kernelspec": {
   "display_name": "base",
   "language": "python",
   "name": "python3"
  },
  "language_info": {
   "codemirror_mode": {
    "name": "ipython",
    "version": 3
   },
   "file_extension": ".py",
   "mimetype": "text/x-python",
   "name": "python",
   "nbconvert_exporter": "python",
   "pygments_lexer": "ipython3",
   "version": "3.12.3"
  }
 },
 "nbformat": 4,
 "nbformat_minor": 2
}
