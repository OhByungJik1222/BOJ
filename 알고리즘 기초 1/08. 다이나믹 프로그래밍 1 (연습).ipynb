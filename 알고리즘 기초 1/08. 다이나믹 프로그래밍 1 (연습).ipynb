{
 "cells": [
  {
   "cell_type": "markdown",
   "metadata": {},
   "source": [
    "15988번 1, 2, 3 더하기 3 <span style=\"color:green\">성공</span> - 2025.03.03\n",
    " - <span style=\"color:green\">25.03.10 복습</span>\n",
    " - <span style=\"color:green\">25.03.12 02:40</span>"
   ]
  },
  {
   "cell_type": "code",
   "execution_count": null,
   "metadata": {},
   "outputs": [],
   "source": [
    "dp = [0, 1, 2, 4]\n",
    "\n",
    "for i in range(4, 1000001):\n",
    "    dp.append((dp[i - 1] + dp[i - 2] + dp[i - 3]) % 1000000009)\n",
    "\n",
    "for _ in range(int(input())):\n",
    "    print(dp[int(input())])"
   ]
  },
  {
   "cell_type": "markdown",
   "metadata": {},
   "source": [
    "1149번 RGB거리 <span style=\"color:green\">성공</span> - 2025.03.04\n",
    " - <span style=\"color:green\">25.03.10 복습</span>\n",
    " - <span style=\"color:green\">25.03.13 03:37</span>"
   ]
  },
  {
   "cell_type": "code",
   "execution_count": null,
   "metadata": {},
   "outputs": [],
   "source": [
    "n = int(input())\n",
    "dp = [[0, 0, 0]] + [list(map(int, input().split())) for _ in range(n)]\n",
    "\n",
    "for i in range(1, n + 1):\n",
    "    dp[i][0] += min(dp[i - 1][1], dp[i - 1][2])\n",
    "    dp[i][1] += min(dp[i - 1][0], dp[i - 1][2])\n",
    "    dp[i][2] += min(dp[i - 1][0], dp[i - 1][1])\n",
    "\n",
    "print(min(dp[n]))"
   ]
  },
  {
   "attachments": {
    "image.png": {
     "image/png": "[encoded data removed]"
    }
   },
   "cell_type": "markdown",
   "metadata": {},
   "source": [
    "1309번 동물원 <span style=\"color:red\">실패</span> - 2025.03.05\n",
    " - 점화식 유도 과정 이해하기\n",
    " - <span style=\"color:green\">25.03.10 복습</span>\n",
    " - <span style=\"color:green\">25.03.13 06:38</span>\n",
    "\n",
    " ![image.png](attachment:image.png)"
   ]
  },
  {
   "cell_type": "code",
   "execution_count": null,
   "metadata": {},
   "outputs": [],
   "source": [
    "n = int(input())\n",
    "\n",
    "dp = [1, 3]\n",
    "\n",
    "for i in range(2, n + 1):\n",
    "    dp.append((2 * dp[i - 1] + dp[i - 2]) % 9901)\n",
    "\n",
    "print(dp[n])\n",
    "\n",
    "# n = int(input()) dp[i][0] -> 사자 배치 x, dp[i][1] -> 사자 왼쪽 배치, dp[i][2] -> 사자 오른쪽 배치치\n",
    "\n",
    "# dp = [[0] * 3 for _ in range(n + 1)]\n",
    "# dp[1] = [1, 1, 1]\n",
    "\n",
    "# for i in range(2, n + 1):\n",
    "#     dp[i][0] = (dp[i - 1][0] + dp[i - 1][1] + dp[i - 1][2]) % 9901\n",
    "#     dp[i][1] = (dp[i - 1][0] + dp[i - 1][2]) % 9901\n",
    "#     dp[i][2] = (dp[i - 1][0] + dp[i - 1][1]) % 9901\n",
    "\n",
    "# print(sum(dp[n]))"
   ]
  },
  {
   "cell_type": "markdown",
   "metadata": {},
   "source": [
    "11057번 오르막 수 <span style=\"color:green\">성공</span> - 2025.03.06\n",
    " - <span style=\"color:green\">25.03.11 복습</span>\n",
    " - <span style=\"color:green\">25.03.13 08:16</span>"
   ]
  },
  {
   "cell_type": "code",
   "execution_count": null,
   "metadata": {},
   "outputs": [],
   "source": [
    "n = int(input())\n",
    "dp = [[1 for _ in range(10)] for _ in range(n)]\n",
    "\n",
    "for i in range(1, n):\n",
    "    for j in range(10):\n",
    "        dp[i][j] = sum(dp[i - 1][j:]) % 10007\n",
    "\n",
    "print(sum(dp[n - 1]) % 10007)\n",
    "\n",
    "# n = int(input())\n",
    "\n",
    "# dp = [1] * 10\n",
    "# for i in range(1, n):\n",
    "#     for j in range(1, 10):\n",
    "#         dp[j] += dp[j - 1]\n",
    "\n",
    "# print(sum(dp) % 10007)"
   ]
  },
  {
   "cell_type": "markdown",
   "metadata": {},
   "source": [
    "9465번 스티커 <span style=\"color:red\">실패 - 시간초과</span> - 2025.03.07\n",
    " - i-1번째 수와 i-2번째 수 비교하기\n",
    " - <span style=\"color:green\">25.03.13 05:57</span>"
   ]
  },
  {
   "cell_type": "code",
   "execution_count": null,
   "metadata": {},
   "outputs": [],
   "source": [
    "t = int(input())\n",
    "\n",
    "for _ in range(t):\n",
    "    n = int(input())\n",
    "    dp = [list(map(int, input().split())) for _ in range(2)]\n",
    "\n",
    "    if n > 1:\n",
    "        dp[0][1] += dp[1][0]\n",
    "        dp[1][1] += dp[0][0]\n",
    "    for i in range(2, n):\n",
    "        dp[0][i] += max(dp[1][i - 1], dp[1][i - 2])\n",
    "        dp[1][i] += max(dp[0][i - 1], dp[0][i - 2])\n",
    "    print(max(dp[0][n - 1], dp[1][n - 1]))"
   ]
  },
  {
   "cell_type": "markdown",
   "metadata": {},
   "source": [
    "2156번 포도주 시식 <span style=\"color:red\">실패</span> - 2025.03.08\n",
    " - 경우의 수 구한 다음 이에 맞춰서 점화식 세우기\n",
    " - <span style=\"color:green\">25.03.13 03:43</span>"
   ]
  },
  {
   "cell_type": "code",
   "execution_count": null,
   "metadata": {},
   "outputs": [],
   "source": [
    "n = int(input())\n",
    "wine = [0] + [int(input()) for _ in range(n)]\n",
    "dp = [0, wine[1]]\n",
    "\n",
    "if n > 1:\n",
    "    dp.append(wine[1] + wine[2])\n",
    "    for i in range(3, n + 1):\n",
    "        dp.append(max(dp[i - 2] + wine[i], dp[i - 1], wine[i - 1] + wine[i] + dp[i - 3]))\n",
    "                # oxo                      oox        xoo\n",
    "print(dp[n])"
   ]
  },
  {
   "cell_type": "markdown",
   "metadata": {},
   "source": [
    "1932번 정수 삼각형 <span style=\"color:green\">성공</span> - 2025.03.09\n",
    " - <span style=\"color:green\">25.03.12 복습</span>\n",
    " - <span style=\"color:green\">25.03.14 04:44</span>"
   ]
  },
  {
   "cell_type": "code",
   "execution_count": null,
   "metadata": {},
   "outputs": [],
   "source": [
    "n = int(input())\n",
    "dp = []\n",
    "for i in range(n):\n",
    "    dp.append(list(map(int, input().split())))\n",
    "\n",
    "for i in range(1, n):\n",
    "    for j in range(i + 1):\n",
    "        if j == 0:\n",
    "            dp[i][j] += dp[i - 1][j]\n",
    "        elif j == i:\n",
    "            dp[i][j] += dp[i - 1][j - 1]\n",
    "        else:\n",
    "            dp[i][j] += max(dp[i - 1][j - 1], dp[i - 1][j])\n",
    "\n",
    "print(max(dp[n - 1]))"
   ]
  },
  {
   "cell_type": "markdown",
   "metadata": {},
   "source": [
    "11055번 가장 큰 증가하는 부분 수열 <span style=\"color:green\">성공</span> - 2025.03.10\n",
    " - 비슷한 유형 문제 이해하고 풀기\n",
    " - 이전 문제들은 수열의 <span style=\"color:red\">길이</span>, 이번 문제는 <span style=\"color:red\">크기</span>\n",
    " - <span style=\"color:green\">25.03.12 복습</span>\n",
    " - <span style=\"color:green\">25.03.14 05:01</span>"
   ]
  },
  {
   "cell_type": "code",
   "execution_count": null,
   "metadata": {},
   "outputs": [],
   "source": [
    "n = int(input())\n",
    "a = list(map(int, input().split()))\n",
    "dp = [a[i] for i in range(n)]\n",
    "\n",
    "for i in range(1, n):\n",
    "    for j in range(i):\n",
    "        if a[i] > a[j]:\n",
    "            dp[i] = max(dp[i], dp[j] + a[i])\n",
    "\n",
    "print(max(dp))"
   ]
  },
  {
   "cell_type": "markdown",
   "metadata": {},
   "source": [
    "11722번 가장 긴 감소하는 부분 수열 <span style=\"color:green\">성공</span> - 2025.03.10\n",
    " - <span style=\"color:green\">25.03.12 복습</span>\n",
    " - <span style=\"color:green\">25.03.14 01:39</span>"
   ]
  },
  {
   "cell_type": "code",
   "execution_count": null,
   "metadata": {},
   "outputs": [],
   "source": [
    "n = int(input())\n",
    "a = list(map(int, input().split()))\n",
    "dp = [1] * n\n",
    "\n",
    "for i in range(1, n):\n",
    "    for j in range(i):\n",
    "        if a[i] < a[j]:\n",
    "            dp[i] = max(dp[i], dp[j] + 1)\n",
    "\n",
    "print(max(dp))"
   ]
  },
  {
   "cell_type": "markdown",
   "metadata": {},
   "source": [
    "11054번 가장 긴 바이토닉 부분 수열 <span style=\"color:green\">성공</span> - 2025.03.10\n",
    " - <span style=\"color:green\">25.03.13 복습</span>\n",
    " - <span style=\"color:green\">25.03.14 08:18</span>"
   ]
  },
  {
   "cell_type": "code",
   "execution_count": null,
   "metadata": {},
   "outputs": [],
   "source": [
    "n = int(input())\n",
    "a1 = list(map(int, input().split()))\n",
    "a2 = a1[::-1]\n",
    "dp1 = [1] * n\n",
    "dp2 = [1] * n\n",
    "\n",
    "for i in range(1, n):\n",
    "    for j in range(i):\n",
    "        if a1[i] > a1[j]:\n",
    "            dp1[i] = max(dp1[i], dp1[j] + 1)\n",
    "    for j in range(i):\n",
    "        if a2[i] > a2[j]:\n",
    "            dp2[i] = max(dp2[i], dp2[j] + 1)\n",
    "\n",
    "dp2 = dp2[::-1]\n",
    "\n",
    "ans = [dp1[i] + dp2[i] - 1 for i in range(n)]\n",
    "\n",
    "print(max(ans))"
   ]
  },
  {
   "cell_type": "markdown",
   "metadata": {},
   "source": [
    "13398번 연속합 2 <span style=\"color:red\">실패</span> - 2025.03.11\n",
    " - 일반적인 연속합도 함께 구해서 결과구하는데 활용해야함\n",
    " - 하나도 건너뛰지 않은 것이 답일 수도 있음.\n",
    " - <span style=\"color:green\">25.03.14 06:38</span>"
   ]
  },
  {
   "cell_type": "code",
   "execution_count": null,
   "metadata": {},
   "outputs": [],
   "source": [
    "n = int(input())\n",
    "a = list(map(int, input().split()))\n",
    "dp = [[a[0]] + [0] * (n - 1) for _ in range(2)]\n",
    "\n",
    "for i in range(1, n):\n",
    "    dp[0][i] = max(dp[0][i - 1] + a[i], a[i])\n",
    "    dp[1][i] = max(dp[0][i - 1], dp[1][i - 1] + a[i])\n",
    "\n",
    "print(max(max(dp[0]), max(dp[1])))"
   ]
  },
  {
   "cell_type": "markdown",
   "metadata": {},
   "source": [
    "2133번 타일 채우기 <span style=\"color:red\">실패</span> - 2025.03.11\n",
    " - n이 커질 때 마다 새로운 패턴 추가되는 것을 생각 못함"
   ]
  },
  {
   "cell_type": "code",
   "execution_count": null,
   "metadata": {},
   "outputs": [],
   "source": [
    "# 점화식: dp[n] = dp[n - 2] * dp[2] + dp[n - 4] * 2 + ... + 2\n",
    "\n",
    "n = int(input())\n",
    "dp = [0, 0, 3]\n",
    "\n",
    "for i in range(3, n + 1):\n",
    "    if i % 2 == 1:\n",
    "        dp.append(0)\n",
    "    else:\n",
    "        dp.append(dp[i - 2] * dp[2] + sum(dp[:i - 2]) * 2 + 2)\n",
    "print(dp[n])"
   ]
  }
 ],
 "metadata": {
  "kernelspec": {
   "display_name": "base",
   "language": "python",
   "name": "python3"
  },
  "language_info": {
   "codemirror_mode": {
    "name": "ipython",
    "version": 3
   },
   "file_extension": ".py",
   "mimetype": "text/x-python",
   "name": "python",
   "nbconvert_exporter": "python",
   "pygments_lexer": "ipython3",
   "version": "3.12.3"
  }
 },
 "nbformat": 4,
 "nbformat_minor": 2
}
