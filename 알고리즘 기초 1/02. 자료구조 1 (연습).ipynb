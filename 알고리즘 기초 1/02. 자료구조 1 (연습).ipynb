{
 "cells": [
  {
   "cell_type": "markdown",
   "metadata": {},
   "source": [
    "17413번 단어 뒤집기2 <span style=\"color:green\">성공</span> - 2025.02.14\n",
    " - 스택의 개념만으로 해결했지만 덱의 개념도 사용하여 다시 풀어보기\n",
    " - <span style=\"color:green\">25.02.19 복습</span>\n",
    " - <span style=\"color:green\">25.03.03 10:44</span>"
   ]
  },
  {
   "cell_type": "code",
   "execution_count": null,
   "metadata": {},
   "outputs": [],
   "source": [
    "s = input()\n",
    "temp = ''\n",
    "ans = ''\n",
    "tag_flag = False\n",
    "\n",
    "for word in s:\n",
    "    if word == '<':\n",
    "        if temp:\n",
    "            ans += temp[::-1]\n",
    "            temp = ''\n",
    "        temp += word\n",
    "        tag_flag = True\n",
    "    elif word == '>':\n",
    "        temp += word\n",
    "        ans += temp\n",
    "        temp = ''\n",
    "        tag_flag = False\n",
    "    \n",
    "    else:\n",
    "        if tag_flag:\n",
    "            temp += (word)\n",
    "        else:\n",
    "            if word == ' ':\n",
    "                ans += temp[::-1] + word\n",
    "                temp = ''\n",
    "            else:\n",
    "                temp += word\n",
    "\n",
    "if temp:\n",
    "    ans += temp[::-1]\n",
    "print(ans)\n"
   ]
  },
  {
   "cell_type": "markdown",
   "metadata": {},
   "source": [
    "10799번 쇠막대기 <span style=\"color:red\">실패</span> - 2025.02.14\n",
    " - 너무 간단하게 생각함.\n",
    " - <span style=\"color:green\">25.02.19 복습</span>\n",
    " - <span style=\"color:green\">25.03.03 04:03</span>"
   ]
  },
  {
   "cell_type": "code",
   "execution_count": null,
   "metadata": {},
   "outputs": [],
   "source": [
    "s = input()\n",
    "\n",
    "stack = []\n",
    "ans = 0\n",
    "for i in range(len(s)):\n",
    "    if s[i] == '(':\n",
    "        stack.append(s[i])\n",
    "    else:\n",
    "        if s[i - 1] == '(':\n",
    "            stack.pop()\n",
    "            ans += len(stack)\n",
    "        else:\n",
    "            stack.pop()\n",
    "            ans += 1\n",
    "\n",
    "print(ans)"
   ]
  },
  {
   "cell_type": "markdown",
   "metadata": {},
   "source": [
    "17298번 오큰수 <span style=\"color:red\">실패 - 시간초과</span> - 2025.02.14\n",
    " - 인덱스를 스택에 저장하는 문제 (반복해서 복습)\n",
    " - <span style=\"color:green\">25.03.03 09:56</span>"
   ]
  },
  {
   "cell_type": "code",
   "execution_count": null,
   "metadata": {},
   "outputs": [],
   "source": [
    "n = int(input())\n",
    "a = list(map(int, input().split()))\n",
    "stack = []\n",
    "nge = [-1] * n\n",
    "\n",
    "for i in range(n):\n",
    "    while stack and a[stack[-1]] < a[i]:\n",
    "        nge[stack.pop()] = a[i]\n",
    "    stack.append(i)\n",
    "\n",
    "print(*nge)"
   ]
  },
  {
   "cell_type": "markdown",
   "metadata": {},
   "source": [
    "17299번 오등큰수 <span style=\"color:green\">성공</span> - 2025.02.16\n",
    " - 시간초과 후 수정\n",
    " - 17298번 오큰수 문제의 연장선\n",
    " - <span style=\"color:green\">25.03.03 14:52</span>"
   ]
  },
  {
   "cell_type": "code",
   "execution_count": null,
   "metadata": {},
   "outputs": [],
   "source": [
    "import sys\n",
    "\n",
    "n = int(input())\n",
    "a_arr = list(map(int, input().split()))\n",
    "\n",
    "f = [0 for _ in range(max(a_arr))]\n",
    "ngf = [-1 for _ in range(n)]\n",
    "stack = [0]\n",
    "\n",
    "for i in range(n):\n",
    "    f[a_arr[i] - 1] += 1\n",
    "\n",
    "for i in range(1, n):\n",
    "    while stack and f[a_arr[stack[-1]] - 1] < f[a_arr[i] - 1]:\n",
    "        ngf[stack.pop()] = a_arr[i]\n",
    "    stack.append(i)\n",
    "\n",
    "print(*ngf)"
   ]
  }
 ],
 "metadata": {
  "kernelspec": {
   "display_name": "base",
   "language": "python",
   "name": "python3"
  },
  "language_info": {
   "codemirror_mode": {
    "name": "ipython",
    "version": 3
   },
   "file_extension": ".py",
   "mimetype": "text/x-python",
   "name": "python",
   "nbconvert_exporter": "python",
   "pygments_lexer": "ipython3",
   "version": "3.12.3"
  }
 },
 "nbformat": 4,
 "nbformat_minor": 2
}
