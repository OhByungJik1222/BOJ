{
 "cells": [
  {
   "cell_type": "markdown",
   "metadata": {},
   "source": [
    " # <span style=\"font-weight:bold\">동적 계획법(Dynamic Programming)</style>\n",
    "  - <span style=\"font-weight:bold\">중복되는 부분 문제</span>가 발생할 때, 그것을 한 번만 계산하고 그 결과를 <span style=\"color:red;font-weight:bold\">메모이제이션(Memoization)</span>하여 다른 비슷한 부분 문제들이 다시 발생할 때, 메모이제이션된 결과를 가져와 재활용\n",
    "  - <span style=\"color:red;font-weight:bold\">적절한 점화식</span>을 도출하는 것이 핵심\n",
    "\n",
    " #### <span style=\"font-weight:bold\">사용 조건</style>\n",
    "  - Overlapping Subproblems (겹치는 부분 문제) - 부분 문제가 중복되어 여러번 반복 계산되어야 한다.\n",
    "  - Optimal Substructure (최적 부분 구조) - 전체 문제의 최적해가 부분 문제의 최적해로부터 구해질 수 있어야 한다.\n",
    " #### <span style=\"font-weight:bold\">구현</style>\n",
    "  - Top-Down (Memoization)\n",
    "    1. 전체 문제를 작은 문제로 나누고, 그 부분 문제들을 해결하기 위해 <span style=\"color:red;font-weight:bold\">재귀적</span>으로 동작\n",
    "    2. 중복되는 부분 문제들을 해결하기 위해 <span style=\"color:red;font-weight:bold\">메모이제이션</span>사용\n",
    "  - Bottom-Up (Tabulation)\n",
    "    1. 재귀적인 호출 없이, <span style=\"color:red;font-weight:bold\">작은 부분 문제들을 먼저 해결</span>하고, 그 결과를 이용해 전체 문제를 해결\n",
    "    2. <span style=\"color:red;font-weight:bold\">이전에 계산한 결과를 저장</span>하고, 그 결과를 이용해 다음 계산 수행"
   ]
  },
  {
   "cell_type": "markdown",
   "metadata": {},
   "source": [
    " # <span style=\"font-weight:bold\">Fibonacci Series - Recursive</span>"
   ]
  },
  {
   "cell_type": "code",
   "execution_count": null,
   "metadata": {},
   "outputs": [],
   "source": [
    "import time\n",
    "start_time = time.time()\n",
    "\n",
    "def fib_recursive(n):\n",
    "    if n < 2:\n",
    "        return n\n",
    "    else:\n",
    "        return fib_recursive(n - 1) + fib_recursive(n - 2)\n",
    "    \n",
    "n = 36    \n",
    "print(fib_recursive(n)) # 14930352\n",
    "print(time.time() - start_time) # 2.007757"
   ]
  },
  {
   "cell_type": "markdown",
   "metadata": {},
   "source": [
    " # <span style=\"font-weight:bold\">Fibonacci Series - Top-Down</span>"
   ]
  },
  {
   "cell_type": "code",
   "execution_count": null,
   "metadata": {},
   "outputs": [],
   "source": [
    "import time\n",
    "start_time = time.time()\n",
    "\n",
    "def fib_top_down(n):\n",
    "    if n < 2:\n",
    "        return n\n",
    "    \n",
    "    if memo[n] is None:\n",
    "        memo[n] = fib_top_down(n - 1) + fib_top_down(n - 2)\n",
    "        # 위에서부터 바로 호출\n",
    "        # 재귀적으로 동작하며 하위 문제의 값을 Memoization\n",
    "    return memo[n]\n",
    "\n",
    "n = 36\n",
    "memo = [None] * (n + 1)\n",
    "print(fib_top_down(n)) # 14930352\n",
    "print(time.time() - start_time) # 0.0"
   ]
  },
  {
   "cell_type": "markdown",
   "metadata": {},
   "source": [
    " # <span style=\"font-weight:bold\">Fibonacci Series - Bottom-Up</span>"
   ]
  },
  {
   "cell_type": "code",
   "execution_count": null,
   "metadata": {},
   "outputs": [],
   "source": [
    "import time\n",
    "start_time = time.time()\n",
    "\n",
    "def fib_bottom_up(n):\n",
    "    memo = [0, 1]\n",
    "\n",
    "    for i in range(2, n + 1):\n",
    "        memo.append(memo[i - 1] + memo[i - 2])\n",
    "        # 하위 문제부터 해결\n",
    "        # 반목문을 통해 동작하며 하위 문제의 값을 Tabulation\n",
    "    return memo[-1]\n",
    "\n",
    "n = 36\n",
    "print(fib_bottom_up(n)) # 14930352\n",
    "print(time.time() - start_time) # 0.0"
   ]
  },
  {
   "cell_type": "markdown",
   "metadata": {},
   "source": [
    "1463번 1로 만들기 <span style=\"color:red\">실패</span> - 2025.02.20\n",
    " - <span style=\"color:green\">25.03.10 05:55</span>"
   ]
  },
  {
   "cell_type": "code",
   "execution_count": null,
   "metadata": {},
   "outputs": [],
   "source": [
    "x = int(input()) # Bottom-Up\n",
    "\n",
    "memo = [0] * (x + 1)\n",
    "for i in range(2, x + 1):\n",
    "    memo[i] = memo[i - 1] + 1\n",
    "    if i % 2 == 0:\n",
    "        memo[i] = min(memo[i], memo[i//2] + 1)\n",
    "    if i % 3 == 0:\n",
    "        memo[i] = min(memo[i], memo[i//3] + 1)\n",
    "\n",
    "print(memo[x])\n",
    "\n",
    "# Top-Down\n",
    "# def make_one(n): \n",
    "#     print(memo)\n",
    "#     if n in memo.keys():\n",
    "#         return memo[n]\n",
    "#     if n % 3 == 0 and n % 2 == 0:\n",
    "#         memo[n] = min(make_one(n//3) + 1, make_one(n//2) + 1)\n",
    "#     elif n % 3 == 0:\n",
    "#         memo[n] = min(make_one(n//3) + 1, make_one(n - 1) + 1)\n",
    "#     elif n % 2 == 0:\n",
    "#         memo[n] = min(make_one(n//2) + 1, make_one(n - 1) + 1)\n",
    "#     else:\n",
    "#         memo[n] = make_one(n - 1) + 1\n",
    "#     return memo[n]\n",
    "\n",
    "# x = int(input())\n",
    "\n",
    "# memo = {1:0}\n",
    "# print(make_one(x))"
   ]
  },
  {
   "cell_type": "markdown",
   "metadata": {},
   "source": [
    "11726번 2Xn 타일링 <span style=\"color:green\">성공</span> - 2025.02.21\n",
    " - 백준에선 RecursionError 발생 (sys.setrecursion() 사용하기) - Top-Down일 때\n",
    " - <span style=\"color:green\">25.03.04 복습</span>\n",
    " - <span style=\"color:green\">25.03.10 04:37</span>"
   ]
  },
  {
   "cell_type": "code",
   "execution_count": null,
   "metadata": {},
   "outputs": [],
   "source": [
    "def Tiling(n): # Bottom-Up\n",
    "    memo = [1, 1]\n",
    "\n",
    "    for i in range(2, n + 1):\n",
    "        memo.append(memo[i - 1] + memo[i - 2])\n",
    "    return memo[-1]\n",
    "\n",
    "n = int(input())\n",
    "print(Tiling(n) % 10007)\n",
    "\n",
    "# Top-Down\n",
    "# import sys \n",
    "# sys.setrecursionlimit(10**6)\n",
    "\n",
    "# def Tiling(n):\n",
    "#     if n < 2:\n",
    "#         return 1\n",
    "    \n",
    "#     if memo[n] is None:\n",
    "#         memo[n] = Tiling(n - 1) + Tiling(n - 2)\n",
    "    \n",
    "#     return memo[n]\n",
    "\n",
    "# n = int(input())\n",
    "# memo = [None] * (n + 1)\n",
    "# print(Tiling(n) % 10007)\n"
   ]
  },
  {
   "cell_type": "markdown",
   "metadata": {},
   "source": [
    "11727번 2Xn 타일링 2 <span style=\"color:green\">성공</span> - 2025.02.21\n",
    " - <span style=\"color:green\">25.03.04 복습</span>\n",
    " - <span style=\"color:green\">25.03.10 04:02</span>"
   ]
  },
  {
   "cell_type": "code",
   "execution_count": null,
   "metadata": {},
   "outputs": [],
   "source": [
    "def Tiling(n): # Bottom-Up\n",
    "    memo = [1, 1]\n",
    "\n",
    "    for i in range(2, n + 1):\n",
    "        memo.append(memo[i - 1] + memo[i - 2] * 2)\n",
    "\n",
    "    return memo[-1]\n",
    "\n",
    "n = int(input())\n",
    "print(Tiling(n) % 10007)\n",
    "\n",
    "# Top-Down\n",
    "# import sys \n",
    "# sys.setrecursionlimit(10**6)\n",
    "\n",
    "# def Tiling(n):\n",
    "#     if n < 2:\n",
    "#         return 1\n",
    "\n",
    "#     if memo[n] is None:\n",
    "#         memo[n] = Tiling(n - 1) + Tiling(n - 2) * 2\n",
    "#     return memo[n]\n",
    "\n",
    "# n = int(input())\n",
    "# memo = [None] * (n + 1)\n",
    "# print(Tiling(n) % 10007)\n"
   ]
  },
  {
   "cell_type": "markdown",
   "metadata": {},
   "source": [
    "9095번 1, 2, 3 더하기 <span style=\"color:green\">성공</span> - 2025.02.21\n",
    " - <span style=\"color:green\">25.03.04 복습</span>\n",
    " - <span style=\"color:green\">25.03.10 02:12</span>"
   ]
  },
  {
   "cell_type": "code",
   "execution_count": null,
   "metadata": {},
   "outputs": [],
   "source": [
    "def one_two_three(n): # Bottom-Up\n",
    "    memo = [1, 1, 2]\n",
    "\n",
    "    for i in range(3, n + 1):\n",
    "        memo.append(memo[i - 1] + memo[i - 2] + memo[i - 3])\n",
    "\n",
    "    return memo[n]\n",
    "\n",
    "t = int(input())\n",
    "for _ in range(t):\n",
    "    print(one_two_three(int(input())))\n",
    "\n",
    "# Top-Down\n",
    "# import sys\n",
    "# sys.setrecursionlimit(10**6)\n",
    "# def one_two_three(n):\n",
    "#     if n < 2:\n",
    "#         return 1\n",
    "#     elif n == 2:\n",
    "#         return 2\n",
    "    \n",
    "#     if memo[n] is None:\n",
    "#         memo[n] = one_two_three(n - 1) + one_two_three(n - 2) + one_two_three(n - 3)\n",
    "#     return memo[n]\n",
    "\n",
    "# t = int(input())\n",
    "# for _ in range(t):\n",
    "#     n = int(input())\n",
    "#     memo = [None] * (n + 1)\n",
    "#     print(one_two_three(n))"
   ]
  },
  {
   "cell_type": "markdown",
   "metadata": {},
   "source": [
    "11052번 카드 구매하기 <span style=\"color:red\">실패</span> - 2025.02.24\n",
    " - 점화식 유도 실패\n",
    " - 점화식을 세울 때 다른 부가적인 리스트 사용도 고려해볼 것\n",
    " - <span style=\"color:green\">25.03.06 복습</span>\n",
    " - <span style=\"color:green\">25.03.10 13:46</span>"
   ]
  },
  {
   "cell_type": "code",
   "execution_count": null,
   "metadata": {},
   "outputs": [],
   "source": [
    "n = int(input()) # Bottom-Up\n",
    "p = [0] + list(map(int, input().split()))\n",
    "dp = [0] * (n + 1)\n",
    "\n",
    "for i in range(1, n + 1):\n",
    "    for j in range(1, i + 1):\n",
    "        dp[i] = max(dp[i], dp[i - j] + p[j])\n",
    "\n",
    "print(dp[n])"
   ]
  },
  {
   "cell_type": "markdown",
   "metadata": {},
   "source": [
    "16194번 카드 구매하기2 <span style=\"color:green\">성공</span> - 2025.02.25\n",
    " - <span style=\"color:green\">25.03.06 복습</span>\n",
    " - <span style=\"color:green\">25.03.11 02:39</span>"
   ]
  },
  {
   "cell_type": "code",
   "execution_count": null,
   "metadata": {},
   "outputs": [],
   "source": [
    "n = int(input())\n",
    "p = [0] + list(map(int, input().split()))\n",
    "\n",
    "dp = [0] * (n + 1)\n",
    "for i in range(1, n + 1):\n",
    "    dp[i] = p[i]\n",
    "    for j in range(1, i):\n",
    "        dp[i] = min(dp[i], dp[i - j] + p[j])\n",
    "\n",
    "print(dp[n])"
   ]
  },
  {
   "cell_type": "markdown",
   "metadata": {},
   "source": [
    "15990번 1, 2, 3 더하기 5 <span style=\"color:red\">실패 - 시간초과</span> - 2025.02.25\n",
    " - 함수를 계속 돌려서 시간초과 한번에 최댓값으로 리스트 생성 후 출력하기\n",
    " - 점화식은 잘 유도 했음\n",
    " - <span style=\"color:green\">25.03.06 복습</span>\n",
    " - <span style=\"color:green\">25.03.11 16:55</span>"
   ]
  },
  {
   "cell_type": "code",
   "execution_count": null,
   "metadata": {},
   "outputs": [],
   "source": [
    "def one_two_three():\n",
    "    dp = [[0, 0, 0], [1, 0, 0], [0, 1, 0], [1, 1, 1]]\n",
    "\n",
    "    for i in range(4, 100001):\n",
    "        temp = []\n",
    "        temp.append(dp[i - 1][1] + dp[i - 1][2] % 1000000009)\n",
    "        temp.append(dp[i - 2][0] + dp[i - 2][2] % 1000000009)\n",
    "        temp.append(dp[i - 3][0] + dp[i - 3][1] % 1000000009)\n",
    "        dp.append(temp)\n",
    "\n",
    "    return dp\n",
    "\n",
    "dp_list = one_two_three()\n",
    "\n",
    "t = int(input())\n",
    "for i in range(t):\n",
    "    print(sum(dp_list[int(input())]) % 1000000009)"
   ]
  },
  {
   "cell_type": "markdown",
   "metadata": {},
   "source": [
    "10844번 쉬운 계단 수 <span style=\"color:red\">실패</span> - 2025.02.26\n",
    " - 점화식 세울 때 억지로 세우지 말고 문제의 패턴을 볼 것\n",
    " - <span style=\"color:green\">25.03.07 복습</span>"
   ]
  },
  {
   "cell_type": "code",
   "execution_count": null,
   "metadata": {},
   "outputs": [],
   "source": [
    "n = int(input())\n",
    "\n",
    "dp = [[0 for _ in range(10)] for _ in range(n + 1)]\n",
    "\n",
    "dp[1] = [0, 1, 1, 1, 1, 1, 1, 1, 1, 1] \n",
    "\n",
    "for i in range(2, n + 1): # i는 자리수, j는 끝 숫자\n",
    "    dp[i][0] = dp[i - 1][1]\n",
    "    dp[i][9] = dp[i - 1][8]\n",
    "\n",
    "    for j in range(1, 9):\n",
    "        dp[i][j] = dp[i - 1][j - 1] + dp[i - 1][j + 1]\n",
    "\n",
    "print(sum(dp[n]) % 1000000000)"
   ]
  },
  {
   "cell_type": "markdown",
   "metadata": {},
   "source": [
    "2193번 이친수 <span style=\"color:green\">성공</span> - 2025.02.26\n",
    " - <span style=\"color:green\">25.03.07 복습</span>\n",
    " - <span style=\"color:green\">25.03.11 05:48</span>"
   ]
  },
  {
   "cell_type": "code",
   "execution_count": null,
   "metadata": {},
   "outputs": [],
   "source": [
    "n = int(input())\n",
    "dp = [0, 1]\n",
    "\n",
    "for i in range(2, n + 1):\n",
    "    dp.append(dp[i - 1] + dp[i - 2])\n",
    "\n",
    "print(dp[n])"
   ]
  },
  {
   "attachments": {
    "image.png": {
     "image/png": "[encoded data removed]"
    }
   },
   "cell_type": "markdown",
   "metadata": {},
   "source": [
    "11053번 가장 긴 증가하는 부분 수열 <span style=\"color:red\">실패</span> - 2025.02.27\n",
    " - LIS(Longest increasing Subsequence) 라고 불리는 유형\n",
    " - 푸는 방법으로는 완전탐색, 다이나믹 프로그래밍, 이진탐색(Best)가 있다.\n",
    " - 문제 접근 실패\n",
    " - <span style=\"color:green\">25.03.11 03:30</span>\n",
    "\n",
    " ![image.png](attachment:image.png)"
   ]
  },
  {
   "cell_type": "code",
   "execution_count": null,
   "metadata": {},
   "outputs": [],
   "source": [
    "n = int(input())\n",
    "a = list(map(int, input().split()))\n",
    "\n",
    "dp = [1] * n\n",
    "\n",
    "for i in range(1, n):\n",
    "    for j in range(i):\n",
    "        if a[j] < a[i]:\n",
    "            dp[i] = max(dp[i], dp[j] + 1)\n",
    "\n",
    "print(max(dp))"
   ]
  },
  {
   "cell_type": "markdown",
   "metadata": {},
   "source": [
    "14002번 가장 긴 증가하는 부분 수열 4 <span style=\"color:red\">실패</span> - 2025.02.27\n",
    " - 풀이법은 생각났지만 구현 실패"
   ]
  },
  {
   "cell_type": "code",
   "execution_count": null,
   "metadata": {},
   "outputs": [],
   "source": [
    "n = int(input())\n",
    "a = list(map(int, input().split()))\n",
    "\n",
    "dp = [1] * n\n",
    "num_dp = [[a[i]] for i in range(n)]\n",
    "\n",
    "for i in range(1, n):\n",
    "    for j in range(i):\n",
    "        if a[i] > a[j] and dp[i] < dp[j] + 1:\n",
    "            dp[i] = dp[j] + 1\n",
    "            num_dp[i] = num_dp[j] + [a[i]]\n",
    "\n",
    "print(max(dp))\n",
    "print(*num_dp[dp.index(max(dp))])\n"
   ]
  },
  {
   "cell_type": "markdown",
   "metadata": {},
   "source": [
    "1912번 연속합 <span style=\"color:red\">실패</span> - 2025.02.28\n",
    " - 조금만 더 고민했으면 풀었을 것 같은 문제\n",
    " - <span style=\"color:green\">25.03.08 복습</span>\n",
    " - <span style=\"color:green\">25.03.12 03:20</span>"
   ]
  },
  {
   "cell_type": "code",
   "execution_count": null,
   "metadata": {},
   "outputs": [],
   "source": [
    "n = int(input())\n",
    "a = list(map(int, input().split()))\n",
    "\n",
    "dp = [0] * n\n",
    "dp[0] = a[0]\n",
    "\n",
    "for i in range(1, n):\n",
    "    dp[i] = max(a[i], a[i] + dp[i - 1])\n",
    "\n",
    "print(max(dp))"
   ]
  },
  {
   "cell_type": "markdown",
   "metadata": {},
   "source": [
    "1699번 제곱수의 합 <span style=\"color:red\">실패</span> - 2025.03.01"
   ]
  },
  {
   "cell_type": "code",
   "execution_count": null,
   "metadata": {},
   "outputs": [],
   "source": [
    "n = int(input())\n",
    "dp = [i for i in range(n + 1)]\n",
    "\n",
    "for i in range(1, n + 1):\n",
    "    for j in range(1, i):\n",
    "        if j * j > i:\n",
    "            break\n",
    "        if dp[i] > dp[i - j * j] + 1:\n",
    "            dp[i] = dp[i - j * j] + 1\n",
    "\n",
    "print(dp[n])"
   ]
  },
  {
   "attachments": {
    "image.png": {
     "image/png": "[encoded data removed]"
    }
   },
   "cell_type": "markdown",
   "metadata": {},
   "source": [
    "2225번 합분해 <span style=\"color:red\">실패</span> - 2025.03.02\n",
    " - <span style=\"color:green\">25.03.09 복습</span>\n",
    " - <span style=\"color:green\">25.03.12 07:55</span>\n",
    "\n",
    "![image.png](attachment:image.png)"
   ]
  },
  {
   "cell_type": "code",
   "execution_count": null,
   "metadata": {},
   "outputs": [],
   "source": [
    "n, k = map(int, input().split())\n",
    "\n",
    "dp = [[i] + [1] * (n - 1) for i in range(1, k + 1)]\n",
    "\n",
    "for i in range(1, k):\n",
    "    for j in range(1, n):\n",
    "        dp[i][j] = dp[i - 1][j] + dp[i][j - 1]\n",
    "\n",
    "print(dp[-1][-1] % 1000000000)"
   ]
  }
 ],
 "metadata": {
  "kernelspec": {
   "display_name": "base",
   "language": "python",
   "name": "python3"
  },
  "language_info": {
   "codemirror_mode": {
    "name": "ipython",
    "version": 3
   },
   "file_extension": ".py",
   "mimetype": "text/x-python",
   "name": "python",
   "nbconvert_exporter": "python",
   "pygments_lexer": "ipython3",
   "version": "3.12.3"
  }
 },
 "nbformat": 4,
 "nbformat_minor": 2
}
