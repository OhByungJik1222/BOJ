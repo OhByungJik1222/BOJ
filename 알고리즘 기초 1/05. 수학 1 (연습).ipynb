{
 "cells": [
  {
   "cell_type": "markdown",
   "metadata": {},
   "source": [
    "9613번 GCD 합 <span style=\"color:green\">성공</span> - 2025.02.18\n",
    " - <span style=\"color:green\">25.02.24 복습</span>\n",
    " - <span style=\"color:green\">25.03.07 08:46</span>"
   ]
  },
  {
   "cell_type": "code",
   "execution_count": null,
   "metadata": {},
   "outputs": [],
   "source": [
    "from math import gcd\n",
    "\n",
    "t = int(input())\n",
    "\n",
    "for _ in range(t):\n",
    "    n, *num = map(int, input().split())\n",
    "    num_gcd = 0\n",
    "    for i in range(n - 1):\n",
    "        for j in range(i + 1, n):\n",
    "            num_gcd += gcd(num[i], num[j])\n",
    "    print(num_gcd)"
   ]
  },
  {
   "cell_type": "markdown",
   "metadata": {},
   "source": [
    "17087번 숨바꼭질 6 <span style=\"color:red\">실패 - ValueError</span> - 2025.02.18\n",
    " - <span style=\"color:green\">25.02.24 복습</span>\n",
    " - 2개 이상의 GCD를 구할 땐 코드와 같이 반복문으로 구현\n",
    " - <span style=\"color:green\">25.03.07 08:26</span>"
   ]
  },
  {
   "cell_type": "code",
   "execution_count": null,
   "metadata": {},
   "outputs": [],
   "source": [
    "from math import gcd\n",
    "\n",
    "n, s = map(int, input().split())\n",
    "a = list(map(int, input().split()))\n",
    "a = [abs(s - num) for num in a]\n",
    "\n",
    "ans = a[0]\n",
    "for i in range(1, n):\n",
    "    ans = gcd(ans, a[i])\n",
    "print(ans)"
   ]
  },
  {
   "cell_type": "markdown",
   "metadata": {},
   "source": [
    "1373번 2진수 8진수 <span style=\"color:green\">성공</span> - 2025.02.18\n",
    " - <span style=\"color:green\">25.02.24 복습</span>\n",
    " - 내장함수 bin(), oct(), hex() 도 활용해보기\n",
    " - <span style=\"color:green\">25.03.07 01:46</span>"
   ]
  },
  {
   "cell_type": "code",
   "execution_count": null,
   "metadata": {},
   "outputs": [],
   "source": [
    "s = input()\n",
    "\n",
    "if len(s) % 3 != 0:\n",
    "    for _ in range(3 - len(s) % 3):\n",
    "        s = '0' + s\n",
    "\n",
    "ans = []\n",
    "for i in range(0, len(s), 3):\n",
    "    pos = 2\n",
    "    sum = 0\n",
    "    for j in range(i, i + 3):\n",
    "        sum += int(s[j]) * (2**(pos))\n",
    "        pos -= 1\n",
    "    ans.append(sum)\n",
    "\n",
    "print(*ans, sep=\"\")\n",
    "\n",
    "# print(oct(int(input(), 2))[2:])\n"
   ]
  },
  {
   "cell_type": "markdown",
   "metadata": {},
   "source": [
    "1212번 8진수 2진수 <span style=\"color:green\">성공</span> - 2025.02.18\n",
    " - <span style=\"color:green\">25.02.24 복습</span>\n",
    " - <span style=\"color:green\">25.03.07 00:46</span>"
   ]
  },
  {
   "cell_type": "code",
   "execution_count": null,
   "metadata": {},
   "outputs": [],
   "source": [
    "print(bin(int(input(), 8))[2:])"
   ]
  },
  {
   "attachments": {
    "image.png": {
     "image/png": "[encoded data removed]"
    }
   },
   "cell_type": "markdown",
   "metadata": {},
   "source": [
    "2089번 -2진수 <span style=\"color:green\">성공</span> - 2025.02.18\n",
    " - 맞췄지만 몫을 이용한 풀이 이해하기\n",
    " - <span style=\"color:green\">25.03.07 08:11</span>\n",
    " \n",
    "![image.png](attachment:image.png)"
   ]
  },
  {
   "cell_type": "code",
   "execution_count": null,
   "metadata": {},
   "outputs": [],
   "source": [
    "n = int(input())\n",
    "\n",
    "if n == 0:\n",
    "   print(0)\n",
    "else:\n",
    "   ans = ''\n",
    "   while n:\n",
    "      if n % -2 == 0:\n",
    "         n /= -2\n",
    "         ans += '0'\n",
    "      elif n % -2 == -1:\n",
    "         n -= 1\n",
    "         n /= -2\n",
    "         ans += '1'\n",
    "      elif n % -2 == 1:\n",
    "         n /= -2\n",
    "         ans += '1'\n",
    "\n",
    "   print(ans[::-1])\n",
    "\n",
    "# 몫을 이용한 풀이\n",
    "# n = int(input())\n",
    "\n",
    "# if n == 0:\n",
    "#     print(0)\n",
    "#     sys.exit()\n",
    "\n",
    "# ans = []\n",
    "# while n != 0:\n",
    "#     ans.append(n % 2)\n",
    "#     n = (n - (n % 2)) // -2\n",
    "\n",
    "# print(*ans[::-1], sep=\"\")"
   ]
  },
  {
   "cell_type": "markdown",
   "metadata": {},
   "source": [
    "17103번 골드바흐 파티션 <span style=\"color:red\">실패</span> - 2025.02.19\n",
    " - 2번째 for문에서 3부터 시작하면 4를 표현 할 수 없다\n",
    " - <span style=\"color:green\">25.03.07 10:21</span>"
   ]
  },
  {
   "cell_type": "code",
   "execution_count": null,
   "metadata": {},
   "outputs": [],
   "source": [
    "def seive_of_erastothenes(n):\n",
    "    is_prime = [False] * 2 + [True] * (n - 1)\n",
    "    for i in range(1, int(n**0.5) + 1):\n",
    "        if is_prime[i]:\n",
    "            for j in range(i**2, n + 1, i):\n",
    "                is_prime[j] = False\n",
    "    return is_prime\n",
    "\n",
    "prime = seive_of_erastothenes(1000000)\n",
    "t = int(input())\n",
    "\n",
    "for _ in range(t):\n",
    "    n = int(input())\n",
    "    cnt = 0\n",
    "    for i in range(2, n//2 + 1):\n",
    "        if prime[i] and prime[n - i]:\n",
    "            cnt += 1\n",
    "\n",
    "    print(cnt)"
   ]
  }
 ],
 "metadata": {
  "kernelspec": {
   "display_name": "base",
   "language": "python",
   "name": "python3"
  },
  "language_info": {
   "codemirror_mode": {
    "name": "ipython",
    "version": 3
   },
   "file_extension": ".py",
   "mimetype": "text/x-python",
   "name": "python",
   "nbconvert_exporter": "python",
   "pygments_lexer": "ipython3",
   "version": "3.12.3"
  }
 },
 "nbformat": 4,
 "nbformat_minor": 2
}
