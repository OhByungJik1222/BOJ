{
 "cells": [
  {
   "cell_type": "markdown",
   "metadata": {},
   "source": [
    "11005번 진법 변환 2 <span style=\"color:green\">성공</span> - 2025.02.19\n",
    " - <span style=\"color:green\">25.02.25 복습</span>\n",
    " - <span style=\"color:green\">25.03.09 09:34</span>"
   ]
  },
  {
   "cell_type": "code",
   "execution_count": null,
   "metadata": {},
   "outputs": [],
   "source": [
    "num = \"0123456789ABCDEFGHIJKLMNOPQRSTUVWXYZ\"\n",
    "\n",
    "n, b = map(int, input().split())\n",
    "\n",
    "ans = []\n",
    "while n:\n",
    "    ans.append(num[n % b])\n",
    "    n //= b\n",
    "\n",
    "print(*ans[::-1], sep=\"\")"
   ]
  },
  {
   "cell_type": "markdown",
   "metadata": {},
   "source": [
    "2745번 진법 변환 <span style=\"color:green\">성공</span> - 2025.02.19\n",
    " - <span style=\"color:green\">25.02.25 복습</span>\n",
    " - <span style=\"color:green\">25.03.09 02:37</span>"
   ]
  },
  {
   "cell_type": "code",
   "execution_count": null,
   "metadata": {},
   "outputs": [],
   "source": [
    "n ,b = input().split()\n",
    "print(int(n, int(b)))\n",
    "\n",
    "# num = \"0123456789ABCDEFGHIJKLMNOPQRSTUVWXYZ\"\n",
    "\n",
    "# n, b = input().split()\n",
    "# b = int(b)\n",
    "\n",
    "# ans = 0\n",
    "# for i in range(len(n) - 1, -1, -1):\n",
    "#     ans += num.index(n[len(n) - 1 - i]) * (b**i)\n",
    "\n",
    "# print(ans)"
   ]
  },
  {
   "cell_type": "markdown",
   "metadata": {},
   "source": [
    "11576번 Base Conversion <span style=\"color:green\">성공</span> - 2025.02.19\n",
    " - <span style=\"color:green\">25.02.25 복습</span>\n",
    " - <span style=\"color:green\">25.03.09 12:07</span>"
   ]
  },
  {
   "cell_type": "code",
   "execution_count": null,
   "metadata": {},
   "outputs": [],
   "source": [
    "a, b = map(int, input().split())\n",
    "m = int(input())\n",
    "num_a = list(map(int, input().split()))\n",
    "num_a = num_a[::-1]\n",
    "num_b = []\n",
    "\n",
    "num = 0\n",
    "for i in range(m):\n",
    "    num += num_a[i] * (a**i)\n",
    "\n",
    "while num != 0:\n",
    "    num_b.append(num % b)\n",
    "    num //= b\n",
    "\n",
    "print(*num_b[::-1])"
   ]
  },
  {
   "cell_type": "markdown",
   "metadata": {},
   "source": [
    "11653번 소인수분해 <span style=\"color:green\">성공</span> - 2025.02.19\n",
    " - <span style=\"color:green\">25.02.25 복습</span>\n",
    " - <span style=\"color:green\">25.03.09 06:06</span>"
   ]
  },
  {
   "cell_type": "code",
   "execution_count": null,
   "metadata": {},
   "outputs": [],
   "source": [
    "def sieve_of_erastothenes(n):\n",
    "    is_prime = [False] * 2 + [True] * (n - 1)\n",
    "    for i in range(2, int(n**0.5) + 1):\n",
    "        if is_prime[i]:\n",
    "            for j in range(i**2, n + 1, i):\n",
    "                is_prime[j] = False\n",
    "    is_prime = [i for i in range(n + 1) if is_prime[i]]\n",
    "    return is_prime\n",
    "\n",
    "n = int(input())\n",
    "\n",
    "prime = sieve_of_erastothenes(n)\n",
    "\n",
    "div = 0\n",
    "while n > 1:\n",
    "    if n % prime[div] == 0:\n",
    "        n //= prime[div]\n",
    "        print(prime[div])\n",
    "    else:\n",
    "        div += 1"
   ]
  }
 ],
 "metadata": {
  "kernelspec": {
   "display_name": "base",
   "language": "python",
   "name": "python3"
  },
  "language_info": {
   "codemirror_mode": {
    "name": "ipython",
    "version": 3
   },
   "file_extension": ".py",
   "mimetype": "text/x-python",
   "name": "python",
   "nbconvert_exporter": "python",
   "pygments_lexer": "ipython3",
   "version": "3.12.3"
  }
 },
 "nbformat": 4,
 "nbformat_minor": 2
}
